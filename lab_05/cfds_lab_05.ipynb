{
 "cells": [
  {
   "cell_type": "code",
   "execution_count": 1,
   "metadata": {},
   "outputs": [],
   "source": [
    "#-*- coding: utf-8 -*-"
   ]
  },
  {
   "cell_type": "markdown",
   "metadata": {},
   "source": [
    "<img align=\"right\" style=\"max-width: 200px; height: auto\" src=\"cfds_logo.png\">\n",
    "\n",
    "###  Lab 05 - \"Unsupervised Machine Learning\"\n",
    "\n",
    "Chartered Financial Data Scientist (CFDS), Autumn Term 2019/20"
   ]
  },
  {
   "cell_type": "markdown",
   "metadata": {},
   "source": [
    "In the last lab you learned about how to utilize two **supervised** learning classification techniques namely (1) the Gaussian Naive-Bayes (Gaussian NB) classifier and (2) the k Nearest-Neighbor (kNN) classifier. \n",
    "\n",
    "In this fourth lab we will learn about an **unsupervised** machine learning technique referred to as **k-Means Clustering**. We will use this technique to classify un-labelled data (i.e., data without defined categories or groups). In general, clustering-based techniques are widely used in unsupervised machine learning.\n",
    "\n",
    "The **k-Means Clustering** algorithm is one of the most popular clustering algorithms used in machine learning. The goal of k-Means Clustering is to find groups (clusters) in a given dataset. It can be used (1) to **confirm business assumptions** about what types of groups exist or (2) to **identify unknown groups** in complex data sets. Some examples of business-related use cases are:\n",
    "\n",
    ">- Segment customers by purchase history;\n",
    ">- Segment users by activities on an application or a website;\n",
    ">- Group inventory by sales activity; or,\n",
    ">- Group inventory by manufacturing metrics.\n",
    "\n",
    "(Source: https://www.datascience.com/blog/k-means-clustering)\n",
    "\n",
    "Once the algorithm has been run and the groups are defined, any new data can be easily assigned to the correct group."
   ]
  },
  {
   "cell_type": "markdown",
   "metadata": {},
   "source": [
    "As always, pls. don't hesitate to ask all your questions either during the lab or send us an email via marco.schreyer@fds.ai or damian.borth@fds.ai."
   ]
  },
  {
   "cell_type": "markdown",
   "metadata": {},
   "source": [
    "### Lab Objectives:"
   ]
  },
  {
   "cell_type": "markdown",
   "metadata": {},
   "source": [
    "After today's lab, you should be able to:\n",
    "\n",
    "> 1. Understand how a **k-Means Clustering** algorithm can be trained and evaluated.\n",
    "> 2. Know how to Python's **sklearn library** to train and evaluate arbitrary classifiers.\n",
    "> 3. Understand how to evaluate the **classification results** of the k-Means algorithm.\n",
    "> 4. Know how to select an **optimal number of clusters** or cluster means."
   ]
  },
  {
   "cell_type": "markdown",
   "metadata": {},
   "source": [
    "### Setup of the Jupyter Notebook Environment"
   ]
  },
  {
   "cell_type": "markdown",
   "metadata": {},
   "source": [
    "Similar to the previous labs, we need to import a couple of Python libraries that allow for data analysis and data visualization. We will be using pandas, numpy, sklearn, matplotlib and seaborn library to conduct this:"
   ]
  },
  {
   "cell_type": "code",
   "execution_count": 1,
   "metadata": {},
   "outputs": [],
   "source": [
    "# import the pandas data science library\n",
    "import pandas as pd\n",
    "import numpy as np\n",
    "\n",
    "# import sklearn data and data pre-processing libraries\n",
    "from sklearn import datasets\n",
    "\n",
    "# import sklearn k-means classifier library\n",
    "from sklearn.cluster import KMeans\n",
    "\n",
    "# import matplotlib data visualization library\n",
    "import matplotlib.pyplot as plt\n",
    "import seaborn as sns\n",
    "\n",
    "# import matplotlibs 3D plotting capabilities\n",
    "from mpl_toolkits.mplot3d import Axes3D"
   ]
  },
  {
   "cell_type": "markdown",
   "metadata": {},
   "source": [
    "Create nice looking plots using the **seaborn** plotting theme:"
   ]
  },
  {
   "cell_type": "code",
   "execution_count": 2,
   "metadata": {},
   "outputs": [],
   "source": [
    "plt.style.use('seaborn')"
   ]
  },
  {
   "cell_type": "markdown",
   "metadata": {},
   "source": [
    "Enable inline Jupyter notebook plotting:"
   ]
  },
  {
   "cell_type": "code",
   "execution_count": 3,
   "metadata": {},
   "outputs": [],
   "source": [
    "%matplotlib inline"
   ]
  },
  {
   "cell_type": "markdown",
   "metadata": {},
   "source": [
    "Suppress potential warnings:"
   ]
  },
  {
   "cell_type": "code",
   "execution_count": 4,
   "metadata": {},
   "outputs": [],
   "source": [
    "import warnings\n",
    "warnings.filterwarnings('ignore')"
   ]
  },
  {
   "cell_type": "markdown",
   "metadata": {},
   "source": [
    "Set random seed of all our experiments:"
   ]
  },
  {
   "cell_type": "code",
   "execution_count": 1,
   "metadata": {},
   "outputs": [],
   "source": [
    "random_seed = 42"
   ]
  },
  {
   "cell_type": "markdown",
   "metadata": {},
   "source": [
    "## Unsupervised Machine Learning: k-Means Clustering"
   ]
  },
  {
   "cell_type": "markdown",
   "metadata": {},
   "source": [
    "### 1.1: Dataset Download and Data Assessment"
   ]
  },
  {
   "cell_type": "markdown",
   "metadata": {},
   "source": [
    "The iris dataset is a classic and very easy multi-class classification dataset. This dataset consists of 3 different types of irises’ (classes),  namely Setosa, Versicolour, and Virginica) as well as their respective petal and sepal length (features). In total, the dataset consists of **150 samples** (50 samples per class) as well as their corresponding **4 different measurements** taken for each sample. "
   ]
  },
  {
   "cell_type": "markdown",
   "metadata": {},
   "source": [
    "<img align=\"center\" style=\"max-width: 700px; height: auto\" src=\"iris_dataset.png\">\n",
    "\n",
    "(Source: http://www.lac.inpe.br/~rafael.santos/Docs/R/CAP394/WholeStory-Iris.html)"
   ]
  },
  {
   "cell_type": "markdown",
   "metadata": {},
   "source": [
    "Please, find below the list of the individual measurements (features):\n",
    "\n",
    ">- `Sepal length (cm)`\n",
    ">- `Sepal width (cm)`\n",
    ">- `Petal length (cm)`\n",
    ">- `Petal width (cm)`\n",
    "\n",
    "Further details on the dataset can be obtained from the following publication: *Fisher, R.A. \"The use of multiple measurements in taxonomic problems\" Annual Eugenics, 7, Part II, 179-188 (1936); also in \"Contributions to Mathematical Statistics\" (John Wiley, NY, 1950).\"*\n",
    "\n",
    "Let's load the dataset and conduct a preliminary data assessment: "
   ]
  },
  {
   "cell_type": "code",
   "execution_count": 5,
   "metadata": {},
   "outputs": [],
   "source": [
    "iris = datasets.load_iris()"
   ]
  },
  {
   "cell_type": "markdown",
   "metadata": {},
   "source": [
    "Print and inspect feature names of the dataset:"
   ]
  },
  {
   "cell_type": "code",
   "execution_count": 6,
   "metadata": {},
   "outputs": [
    {
     "data": {
      "text/plain": [
       "['sepal length (cm)',\n",
       " 'sepal width (cm)',\n",
       " 'petal length (cm)',\n",
       " 'petal width (cm)']"
      ]
     },
     "execution_count": 6,
     "metadata": {},
     "output_type": "execute_result"
    }
   ],
   "source": [
    "iris.feature_names"
   ]
  },
  {
   "cell_type": "markdown",
   "metadata": {},
   "source": [
    "Print and inspect the class names of the dataset:"
   ]
  },
  {
   "cell_type": "code",
   "execution_count": 7,
   "metadata": {},
   "outputs": [
    {
     "data": {
      "text/plain": [
       "array(['setosa', 'versicolor', 'virginica'], dtype='<U10')"
      ]
     },
     "execution_count": 7,
     "metadata": {},
     "output_type": "execute_result"
    }
   ],
   "source": [
    "iris.target_names"
   ]
  },
  {
   "cell_type": "markdown",
   "metadata": {},
   "source": [
    "Print and inspect the top 5 feature rows of the dataset:"
   ]
  },
  {
   "cell_type": "code",
   "execution_count": 8,
   "metadata": {},
   "outputs": [
    {
     "data": {
      "text/html": [
       "<div>\n",
       "<style scoped>\n",
       "    .dataframe tbody tr th:only-of-type {\n",
       "        vertical-align: middle;\n",
       "    }\n",
       "\n",
       "    .dataframe tbody tr th {\n",
       "        vertical-align: top;\n",
       "    }\n",
       "\n",
       "    .dataframe thead th {\n",
       "        text-align: right;\n",
       "    }\n",
       "</style>\n",
       "<table border=\"1\" class=\"dataframe\">\n",
       "  <thead>\n",
       "    <tr style=\"text-align: right;\">\n",
       "      <th></th>\n",
       "      <th>0</th>\n",
       "      <th>1</th>\n",
       "      <th>2</th>\n",
       "      <th>3</th>\n",
       "    </tr>\n",
       "  </thead>\n",
       "  <tbody>\n",
       "    <tr>\n",
       "      <th>0</th>\n",
       "      <td>5.1</td>\n",
       "      <td>3.5</td>\n",
       "      <td>1.4</td>\n",
       "      <td>0.2</td>\n",
       "    </tr>\n",
       "    <tr>\n",
       "      <th>1</th>\n",
       "      <td>4.9</td>\n",
       "      <td>3.0</td>\n",
       "      <td>1.4</td>\n",
       "      <td>0.2</td>\n",
       "    </tr>\n",
       "    <tr>\n",
       "      <th>2</th>\n",
       "      <td>4.7</td>\n",
       "      <td>3.2</td>\n",
       "      <td>1.3</td>\n",
       "      <td>0.2</td>\n",
       "    </tr>\n",
       "    <tr>\n",
       "      <th>3</th>\n",
       "      <td>4.6</td>\n",
       "      <td>3.1</td>\n",
       "      <td>1.5</td>\n",
       "      <td>0.2</td>\n",
       "    </tr>\n",
       "    <tr>\n",
       "      <th>4</th>\n",
       "      <td>5.0</td>\n",
       "      <td>3.6</td>\n",
       "      <td>1.4</td>\n",
       "      <td>0.2</td>\n",
       "    </tr>\n",
       "  </tbody>\n",
       "</table>\n",
       "</div>"
      ],
      "text/plain": [
       "     0    1    2    3\n",
       "0  5.1  3.5  1.4  0.2\n",
       "1  4.9  3.0  1.4  0.2\n",
       "2  4.7  3.2  1.3  0.2\n",
       "3  4.6  3.1  1.5  0.2\n",
       "4  5.0  3.6  1.4  0.2"
      ]
     },
     "execution_count": 8,
     "metadata": {},
     "output_type": "execute_result"
    }
   ],
   "source": [
    "pd.DataFrame(iris.data).head(5)"
   ]
  },
  {
   "cell_type": "markdown",
   "metadata": {},
   "source": [
    "Print and inspect the top 5 labels of the dataset:"
   ]
  },
  {
   "cell_type": "code",
   "execution_count": 9,
   "metadata": {},
   "outputs": [
    {
     "data": {
      "text/html": [
       "<div>\n",
       "<style scoped>\n",
       "    .dataframe tbody tr th:only-of-type {\n",
       "        vertical-align: middle;\n",
       "    }\n",
       "\n",
       "    .dataframe tbody tr th {\n",
       "        vertical-align: top;\n",
       "    }\n",
       "\n",
       "    .dataframe thead th {\n",
       "        text-align: right;\n",
       "    }\n",
       "</style>\n",
       "<table border=\"1\" class=\"dataframe\">\n",
       "  <thead>\n",
       "    <tr style=\"text-align: right;\">\n",
       "      <th></th>\n",
       "      <th>0</th>\n",
       "    </tr>\n",
       "  </thead>\n",
       "  <tbody>\n",
       "    <tr>\n",
       "      <th>0</th>\n",
       "      <td>0</td>\n",
       "    </tr>\n",
       "    <tr>\n",
       "      <th>1</th>\n",
       "      <td>0</td>\n",
       "    </tr>\n",
       "    <tr>\n",
       "      <th>2</th>\n",
       "      <td>0</td>\n",
       "    </tr>\n",
       "    <tr>\n",
       "      <th>3</th>\n",
       "      <td>0</td>\n",
       "    </tr>\n",
       "    <tr>\n",
       "      <th>4</th>\n",
       "      <td>0</td>\n",
       "    </tr>\n",
       "  </tbody>\n",
       "</table>\n",
       "</div>"
      ],
      "text/plain": [
       "   0\n",
       "0  0\n",
       "1  0\n",
       "2  0\n",
       "3  0\n",
       "4  0"
      ]
     },
     "execution_count": 9,
     "metadata": {},
     "output_type": "execute_result"
    }
   ],
   "source": [
    "pd.DataFrame(iris.target).head(5)"
   ]
  },
  {
   "cell_type": "markdown",
   "metadata": {},
   "source": [
    "Determine and print the feature dimensionality of the dataset:"
   ]
  },
  {
   "cell_type": "code",
   "execution_count": 10,
   "metadata": {},
   "outputs": [
    {
     "data": {
      "text/plain": [
       "(150, 4)"
      ]
     },
     "execution_count": 10,
     "metadata": {},
     "output_type": "execute_result"
    }
   ],
   "source": [
    "iris.data.shape"
   ]
  },
  {
   "cell_type": "markdown",
   "metadata": {},
   "source": [
    "Determine and print the label dimensionality of the dataset:"
   ]
  },
  {
   "cell_type": "code",
   "execution_count": 11,
   "metadata": {},
   "outputs": [
    {
     "data": {
      "text/plain": [
       "(150,)"
      ]
     },
     "execution_count": 11,
     "metadata": {},
     "output_type": "execute_result"
    }
   ],
   "source": [
    "iris.target.shape"
   ]
  },
  {
   "cell_type": "markdown",
   "metadata": {},
   "source": [
    "Let's briefly envision how the feature data is collected and recorded in the data:"
   ]
  },
  {
   "cell_type": "markdown",
   "metadata": {},
   "source": [
    "<img align=\"center\" style=\"max-width: 900px; height: auto\" src=\"featurecollection.png\">"
   ]
  },
  {
   "cell_type": "markdown",
   "metadata": {},
   "source": [
    "Plot the data distributions of the distinct features:"
   ]
  },
  {
   "cell_type": "code",
   "execution_count": 12,
   "metadata": {},
   "outputs": [
    {
     "data": {
      "text/plain": [
       "<Figure size 720x720 with 0 Axes>"
      ]
     },
     "metadata": {},
     "output_type": "display_data"
    },
    {
     "data": {
      "image/png": "[encoded data removed]",
      "text/plain": [
       "<Figure size 720x720 with 20 Axes>"
      ]
     },
     "metadata": {
      "needs_background": "light"
     },
     "output_type": "display_data"
    }
   ],
   "source": [
    "plt.figure(figsize=(10, 10))\n",
    "iris_plot = sns.load_dataset(\"iris\")\n",
    "\n",
    "# supervised scenario\n",
    "#sns.pairplot(iris_plot, diag_kind='hist', hue='species');\n",
    "\n",
    "# unsupervised scenario\n",
    "sns.pairplot(iris_plot, diag_kind='hist');"
   ]
  },
  {
   "cell_type": "markdown",
   "metadata": {},
   "source": [
    "### 1.2. k-Means Clustering Introduction"
   ]
  },
  {
   "cell_type": "markdown",
   "metadata": {},
   "source": [
    "As already mentioned the **k-Means Clustering** algorithm is one of the most popular \"first choice\" clustering algorithms to find groups (clusters) in a given dataset $X$. Let's now briefly revisit the distinct step of the algorithm before applying it to the iris dataset. \n",
    "\n",
    "<img align=\"center\" style=\"max-width: 400px; height: auto\" src=\"kmeans.png\">\n",
    "\n",
    "But before that let's assume:\n",
    "\n",
    "- We have dataset $X$ consisting records $x_1, x_2, x_3, ..., x_n \\in \\mathcal{R}^d$; \n",
    "- That samples are clustered around $k$ centers (the \"$k$ means\") denoted by $\\mu_1, \\mu_{2}, ..., \\mu_{k} \\in \\mathcal{R}^d$; and,\n",
    "- Each sample $x_{i}$ belongs to its closest mean $\\mu_{i}$.\n",
    "\n",
    "We can then iteratively perform the following steps that comprise the **k-Means Clustering** algorithm:\n",
    "\n",
    ">- **Step 1** - Pick $k$ random points $\\mu_{i}$ as cluster centres called 'means'.\n",
    ">- **Step 2** - Assign each $x_i$ to its to nearest cluster mean by calculating its distance to each mean.\n",
    ">- **Step 3** - Determine the new cluster centres by calculating the average of the assigned points in each cluster.\n",
    ">- **Step 4** - Repeat Step 2 and 3 until none of the cluster assignments change.\n",
    "\n",
    "Note, that a single execution of all the four steps outlined above is usually referred to as 'iteration'."
   ]
  },
  {
   "cell_type": "markdown",
   "metadata": {},
   "source": [
    "### 1.3 k-Means Clustering in a 2-Dimensional Feature Space"
   ]
  },
  {
   "cell_type": "markdown",
   "metadata": {},
   "source": [
    "Now, let's see how we can apply it to the iris dataset. We will start with an introductory example of detecting the classes of the iris dataset based on two of its features namely the (1) `Petal length (cm)` and `Petal width (cm)`. Let's first gain an intuition of those two features as well as their distribution by visualizing them accordingly:"
   ]
  },
  {
   "cell_type": "code",
   "execution_count": 13,
   "metadata": {},
   "outputs": [
    {
     "data": {
      "image/png": "[encoded data removed]",
      "text/plain": [
       "<Figure size 432x288 with 1 Axes>"
      ]
     },
     "metadata": {
      "needs_background": "light"
     },
     "output_type": "display_data"
    }
   ],
   "source": [
    "# prepare plot\n",
    "fig = plt.figure()\n",
    "ax = fig.add_subplot(111)\n",
    "\n",
    "# add grid\n",
    "ax.grid(linestyle='dotted')\n",
    "\n",
    "# plot petal length (3rd feature in the dataset) vs. petal width (4th feature in the dataset)\n",
    "ax.scatter(iris.data[:,2], iris.data[:,3])\n",
    "\n",
    "# add axis legends\n",
    "ax.set_xlabel(\"[petal_length]\", fontsize=10)\n",
    "ax.set_ylabel(\"[petal_width]\", fontsize=10)\n",
    "\n",
    "# add plot title\n",
    "plt.title('Petal Length vs. Petal Width Feature Distribution', fontsize=10);"
   ]
  },
  {
   "cell_type": "markdown",
   "metadata": {},
   "source": [
    "Let's now define the parameters of the k-Means Clustering. We will start by specifying the number of clusters we aim to detect in the dataset:"
   ]
  },
  {
   "cell_type": "code",
   "execution_count": 14,
   "metadata": {},
   "outputs": [],
   "source": [
    "no_clusters = 3"
   ]
  },
  {
   "cell_type": "markdown",
   "metadata": {},
   "source": [
    "Next, we need to define a corresponding number (in our case 3) random cluster centers or 'means' that will be used in the first iteration of the algorithm:"
   ]
  },
  {
   "cell_type": "code",
   "execution_count": 15,
   "metadata": {},
   "outputs": [],
   "source": [
    "random_means = np.array([[1.0, 3.0], [2.0, 6.0], [1.0, 7.0]])"
   ]
  },
  {
   "cell_type": "markdown",
   "metadata": {},
   "source": [
    "Finally, we will define a maximum number of iterations that we want to run the **k-Means Clustering** algorithm. Please, note that the clustering terminates once there will be no further changes in the cluster assignments. However, it's good practice to define an upper bound:"
   ]
  },
  {
   "cell_type": "code",
   "execution_count": 16,
   "metadata": {},
   "outputs": [],
   "source": [
    "max_iterations = 10"
   ]
  },
  {
   "cell_type": "markdown",
   "metadata": {},
   "source": [
    "Now, we ready to initialize the **k-Means Clustering** algorithm using Python's `sklearn` library of data science algorithms:"
   ]
  },
  {
   "cell_type": "code",
   "execution_count": 17,
   "metadata": {},
   "outputs": [],
   "source": [
    "kmeans = KMeans(n_clusters=no_clusters, init=random_means, max_iter=max_iterations)"
   ]
  },
  {
   "cell_type": "markdown",
   "metadata": {},
   "source": [
    "Train the k-Mains classifier and learn a model of the `Petal length (cm)` and  `Petal width (cm)` features in the iris dataset:"
   ]
  },
  {
   "cell_type": "code",
   "execution_count": 18,
   "metadata": {},
   "outputs": [
    {
     "data": {
      "text/plain": [
       "KMeans(algorithm='auto', copy_x=True,\n",
       "       init=array([[1., 3.],\n",
       "       [2., 6.],\n",
       "       [1., 7.]]), max_iter=10,\n",
       "       n_clusters=3, n_init=10, n_jobs=None, precompute_distances='auto',\n",
       "       random_state=None, tol=0.0001, verbose=0)"
      ]
     },
     "execution_count": 18,
     "metadata": {},
     "output_type": "execute_result"
    }
   ],
   "source": [
    "kmeans.fit(iris.data[:,2:4])"
   ]
  },
  {
   "cell_type": "markdown",
   "metadata": {},
   "source": [
    "Now that we have learned a model of the data, let's inspect the distinct cluster labels that have been assigned to the records of the iris dataset: "
   ]
  },
  {
   "cell_type": "code",
   "execution_count": 19,
   "metadata": {},
   "outputs": [
    {
     "name": "stdout",
     "output_type": "stream",
     "text": [
      "[0 0 0 0 0 0 0 0 0 0 0 0 0 0 0 0 0 0 0 0 0 0 0 0 0 0 0 0 0 0 0 0 0 0 0 0 0\n",
      " 0 0 0 0 0 0 0 0 0 0 0 0 0 2 2 2 2 2 2 2 2 2 2 2 2 2 2 2 2 2 2 2 2 2 2 2 2\n",
      " 2 2 2 1 2 2 2 2 2 1 2 2 2 2 2 2 2 2 2 2 2 2 2 2 2 2 1 1 1 1 1 1 2 1 1 1 1\n",
      " 1 1 1 1 1 1 1 1 2 1 1 1 2 1 1 2 2 1 1 1 1 1 1 1 1 1 1 2 1 1 1 1 1 1 1 1 1\n",
      " 1 1]\n"
     ]
    }
   ],
   "source": [
    "labels = kmeans.labels_\n",
    "print(labels)"
   ]
  },
  {
   "cell_type": "markdown",
   "metadata": {},
   "source": [
    "Furthermore, we want to inspect the coordinates of the cluster centroids assigned by the algorithm:"
   ]
  },
  {
   "cell_type": "code",
   "execution_count": 20,
   "metadata": {},
   "outputs": [
    {
     "name": "stdout",
     "output_type": "stream",
     "text": [
      "[[1.462      0.246     ]\n",
      " [5.63777778 2.06      ]\n",
      " [4.30727273 1.36181818]]\n"
     ]
    }
   ],
   "source": [
    "centers = kmeans.cluster_centers_\n",
    "print(centers)"
   ]
  },
  {
   "cell_type": "markdown",
   "metadata": {},
   "source": [
    "Let's plot the iris dataset records now using the two features `Petal length (cm)`, `Petal width (cm)` and `Petal length (cm)`, their corresponding learned labels as well as the centroids determined by the **k-Means Clustering** algorithm:"
   ]
  },
  {
   "cell_type": "code",
   "execution_count": 21,
   "metadata": {},
   "outputs": [
    {
     "data": {
      "image/png": "[encoded data removed]",
      "text/plain": [
       "<Figure size 432x288 with 1 Axes>"
      ]
     },
     "metadata": {
      "needs_background": "light"
     },
     "output_type": "display_data"
    }
   ],
   "source": [
    "# prepare plot\n",
    "fig = plt.figure()\n",
    "ax = fig.add_subplot(111)\n",
    "\n",
    "# add grid\n",
    "ax.grid(linestyle='dotted')\n",
    "\n",
    "# plot petal length vs. petal width and corresponding classes\n",
    "ax.scatter(iris.data[:,2], iris.data[:,3], c=labels.astype(np.float), cmap=plt.cm.Set1)\n",
    "\n",
    "# plot cluster centers\n",
    "ax.scatter(centers[:,0], centers[:,1], marker='x', c='black', s=100)\n",
    "\n",
    "# add axis legends\n",
    "ax.set_xlabel(\"[petal_length]\", fontsize=10)\n",
    "ax.set_ylabel(\"[petal_width]\", fontsize=10)\n",
    "\n",
    "# add plot title\n",
    "plt.title('Petal Length vs. Petal Width', fontsize=10);"
   ]
  },
  {
   "cell_type": "markdown",
   "metadata": {},
   "source": [
    "In addition, let's inspect the distance of all dataset records $X$ to their nearest means $\\mu_{i}$. Let's recall that k-Means corresponds to a local optimization of the sum of \"squared errors\", as expressed by:\n",
    "\n",
    "\n",
    "$$E(\\mu_{1}, \\mu_{2}, ..., \\mu_{k}) = \\sum_{i=1}^{n}(x_{i}-\\mu_{k(i)})^{2},$$\n",
    "\n",
    "were $x_{i}$ denotes a single observation in the dataset and $\\mu_{k(i)}$ its closest mean in the feature space $\\mathcal{R}^{d}$.\n",
    "\n",
    "We can obtain the sum of those squared distances $E(\\mu_{1}, \\mu_{2}, ..., \\mu_{k})$ by calling the `inertia_` attribute of the k-Means clustering object. It will return the sum of squared distances of each sample to its closest cluster center:"
   ]
  },
  {
   "cell_type": "code",
   "execution_count": 22,
   "metadata": {},
   "outputs": [
    {
     "name": "stdout",
     "output_type": "stream",
     "text": [
      "31.437981063156826\n"
     ]
    }
   ],
   "source": [
    "distances = kmeans.inertia_\n",
    "print(distances)"
   ]
  },
  {
   "cell_type": "markdown",
   "metadata": {},
   "source": [
    "### Exercises:"
   ]
  },
  {
   "cell_type": "markdown",
   "metadata": {},
   "source": [
    "We recommend you try the following exercises as part of the lab:\n",
    "\n",
    "**1. Train and evaluate the k-Means Clustering results and squared distances $E(\\mu_{1}, \\mu_{2}, ..., \\mu_{k})$ for distinct max iterations.**\n",
    "\n",
    "> Continuously increase the number of training iterations $i$ of the k-Means Clustering starting with 1 and up to 5 iterations ($i=1,...,5$) and repeat the clustering accordingly. What can be observed in terms of the cluster means as well as the sum of squared cluster distances with increasing $i$."
   ]
  },
  {
   "cell_type": "code",
   "execution_count": 23,
   "metadata": {},
   "outputs": [],
   "source": [
    "# ***************************************************\n",
    "# INSERT YOUR CODE HERE\n",
    "# ***************************************************"
   ]
  },
  {
   "cell_type": "markdown",
   "metadata": {},
   "source": [
    "**2. Determine if the k-Mean algorithm always converges to the same results.**\n",
    "\n",
    "> Carefully review the k-Means algorithm and answer the question and answer to the following question: Does the k-Means algorithm always converge to the same result? Please, explain your reasoning."
   ]
  },
  {
   "cell_type": "code",
   "execution_count": 24,
   "metadata": {},
   "outputs": [],
   "source": [
    "# ***************************************************\n",
    "# INSERT YOUR CODE HERE\n",
    "# ***************************************************"
   ]
  },
  {
   "cell_type": "markdown",
   "metadata": {},
   "source": [
    "**3. Applicability k-Means clustering to distinct data distributions.**\n",
    "\n",
    "> Consider the following data distributions. Determine which are suitable for a k-Means clustering and what $k$ value should be applied in the clustering. Please, explain your reasoning.\n",
    "\n",
    "<img align=\"center\" style=\"max-width: 600px; height: auto\" src=\"clustering.png\">"
   ]
  },
  {
   "cell_type": "code",
   "execution_count": 25,
   "metadata": {},
   "outputs": [],
   "source": [
    "# ***************************************************\n",
    "# INSERT YOUR CODE HERE\n",
    "# ***************************************************"
   ]
  },
  {
   "cell_type": "markdown",
   "metadata": {},
   "source": [
    "### 1.4 k-Means Clustering in a 3-Dimensional Feature Space"
   ]
  },
  {
   "cell_type": "markdown",
   "metadata": {},
   "source": [
    "Enable interactive 3-dimensional plotting inside of Jupyter notebooks:"
   ]
  },
  {
   "cell_type": "code",
   "execution_count": 29,
   "metadata": {},
   "outputs": [],
   "source": [
    "%matplotlib notebook\n",
    "from importlib import reload\n",
    "reload(plt)\n",
    "\n",
    "# import the seaborn plotting library\n",
    "import seaborn as sns\n",
    "\n",
    "# import matplotlibs 3D plotting capabilities\n",
    "from mpl_toolkits.mplot3d import Axes3D"
   ]
  },
  {
   "cell_type": "markdown",
   "metadata": {},
   "source": [
    "We will now extend the k-Means Clustering that you learned about to a 3-dimensional features space by clustering the first three features, namely `Sepal length (cm)`, `Sepal width (cm)` and `Petal length (cm)`, of the Iris dataset. Let's start by visually inspecting the 3-dimensional feature space:"
   ]
  },
  {
   "cell_type": "code",
   "execution_count": 30,
   "metadata": {},
   "outputs": [
    {
     "data": {
      "application/javascript": [
       "/* Put everything inside the global mpl namespace */\n",
       "window.mpl = {};\n",
       "\n",
       "\n",
       "mpl.get_websocket_type = function() {\n",
       "    if (typeof(WebSocket) !== 'undefined') {\n",
       "        return WebSocket;\n",
       "    } else if (typeof(MozWebSocket) !== 'undefined') {\n",
       "        return MozWebSocket;\n",
       "    } else {\n",
       "        alert('Your browser does not have WebSocket support. ' +\n",
       "              'Please try Chrome, Safari or Firefox ≥ 6. ' +\n",
       "              'Firefox 4 and 5 are also supported but you ' +\n",
       "              'have to enable WebSockets in about:config.');\n",
       "    };\n",
       "}\n",
       "\n",
       "mpl.figure = function(figure_id, websocket, ondownload, parent_element) {\n",
       "    this.id = figure_id;\n",
       "\n",
       "    this.ws = websocket;\n",
       "\n",
       "    this.supports_binary = (this.ws.binaryType != undefined);\n",
       "\n",
       "    if (!this.supports_binary) {\n",
       "        var warnings = document.getElementById(\"mpl-warnings\");\n",
       "        if (warnings) {\n",
       "            warnings.style.display = 'block';\n",
       "            warnings.textContent = (\n",
       "                \"This browser does not support binary websocket messages. \" +\n",
       "                    \"Performance may be slow.\");\n",
       "        }\n",
       "    }\n",
       "\n",
       "    this.imageObj = new Image();\n",
       "\n",
       "    this.context = undefined;\n",
       "    this.message = undefined;\n",
       "    this.canvas = undefined;\n",
       "    this.rubberband_canvas = undefined;\n",
       "    this.rubberband_context = undefined;\n",
       "    this.format_dropdown = undefined;\n",
       "\n",
       "    this.image_mode = 'full';\n",
       "\n",
       "    this.root = $('<div/>');\n",
       "    this._root_extra_style(this.root)\n",
       "    this.root.attr('style', 'display: inline-block');\n",
       "\n",
       "    $(parent_element).append(this.root);\n",
       "\n",
       "    this._init_header(this);\n",
       "    this._init_canvas(this);\n",
       "    this._init_toolbar(this);\n",
       "\n",
       "    var fig = this;\n",
       "\n",
       "    this.waiting = false;\n",
       "\n",
       "    this.ws.onopen =  function () {\n",
       "            fig.send_message(\"supports_binary\", {value: fig.supports_binary});\n",
       "            fig.send_message(\"send_image_mode\", {});\n",
       "            if (mpl.ratio != 1) {\n",
       "                fig.send_message(\"set_dpi_ratio\", {'dpi_ratio': mpl.ratio});\n",
       "            }\n",
       "            fig.send_message(\"refresh\", {});\n",
       "        }\n",
       "\n",
       "    this.imageObj.onload = function() {\n",
       "            if (fig.image_mode == 'full') {\n",
       "                // Full images could contain transparency (where diff images\n",
       "                // almost always do), so we need to clear the canvas so that\n",
       "                // there is no ghosting.\n",
       "                fig.context.clearRect(0, 0, fig.canvas.width, fig.canvas.height);\n",
       "            }\n",
       "            fig.context.drawImage(fig.imageObj, 0, 0);\n",
       "        };\n",
       "\n",
       "    this.imageObj.onunload = function() {\n",
       "        fig.ws.close();\n",
       "    }\n",
       "\n",
       "    this.ws.onmessage = this._make_on_message_function(this);\n",
       "\n",
       "    this.ondownload = ondownload;\n",
       "}\n",
       "\n",
       "mpl.figure.prototype._init_header = function() {\n",
       "    var titlebar = $(\n",
       "        '<div class=\"ui-dialog-titlebar ui-widget-header ui-corner-all ' +\n",
       "        'ui-helper-clearfix\"/>');\n",
       "    var titletext = $(\n",
       "        '<div class=\"ui-dialog-title\" style=\"width: 100%; ' +\n",
       "        'text-align: center; padding: 3px;\"/>');\n",
       "    titlebar.append(titletext)\n",
       "    this.root.append(titlebar);\n",
       "    this.header = titletext[0];\n",
       "}\n",
       "\n",
       "\n",
       "\n",
       "mpl.figure.prototype._canvas_extra_style = function(canvas_div) {\n",
       "\n",
       "}\n",
       "\n",
       "\n",
       "mpl.figure.prototype._root_extra_style = function(canvas_div) {\n",
       "\n",
       "}\n",
       "\n",
       "mpl.figure.prototype._init_canvas = function() {\n",
       "    var fig = this;\n",
       "\n",
       "    var canvas_div = $('<div/>');\n",
       "\n",
       "    canvas_div.attr('style', 'position: relative; clear: both; outline: 0');\n",
       "\n",
       "    function canvas_keyboard_event(event) {\n",
       "        return fig.key_event(event, event['data']);\n",
       "    }\n",
       "\n",
       "    canvas_div.keydown('key_press', canvas_keyboard_event);\n",
       "    canvas_div.keyup('key_release', canvas_keyboard_event);\n",
       "    this.canvas_div = canvas_div\n",
       "    this._canvas_extra_style(canvas_div)\n",
       "    this.root.append(canvas_div);\n",
       "\n",
       "    var canvas = $('<canvas/>');\n",
       "    canvas.addClass('mpl-canvas');\n",
       "    canvas.attr('style', \"left: 0; top: 0; z-index: 0; outline: 0\")\n",
       "\n",
       "    this.canvas = canvas[0];\n",
       "    this.context = canvas[0].getContext(\"2d\");\n",
       "\n",
       "    var backingStore = this.context.backingStorePixelRatio ||\n",
       "\tthis.context.webkitBackingStorePixelRatio ||\n",
       "\tthis.context.mozBackingStorePixelRatio ||\n",
       "\tthis.context.msBackingStorePixelRatio ||\n",
       "\tthis.context.oBackingStorePixelRatio ||\n",
       "\tthis.context.backingStorePixelRatio || 1;\n",
       "\n",
       "    mpl.ratio = (window.devicePixelRatio || 1) / backingStore;\n",
       "\n",
       "    var rubberband = $('<canvas/>');\n",
       "    rubberband.attr('style', \"position: absolute; left: 0; top: 0; z-index: 1;\")\n",
       "\n",
       "    var pass_mouse_events = true;\n",
       "\n",
       "    canvas_div.resizable({\n",
       "        start: function(event, ui) {\n",
       "            pass_mouse_events = false;\n",
       "        },\n",
       "        resize: function(event, ui) {\n",
       "            fig.request_resize(ui.size.width, ui.size.height);\n",
       "        },\n",
       "        stop: function(event, ui) {\n",
       "            pass_mouse_events = true;\n",
       "            fig.request_resize(ui.size.width, ui.size.height);\n",
       "        },\n",
       "    });\n",
       "\n",
       "    function mouse_event_fn(event) {\n",
       "        if (pass_mouse_events)\n",
       "            return fig.mouse_event(event, event['data']);\n",
       "    }\n",
       "\n",
       "    rubberband.mousedown('button_press', mouse_event_fn);\n",
       "    rubberband.mouseup('button_release', mouse_event_fn);\n",
       "    // Throttle sequential mouse events to 1 every 20ms.\n",
       "    rubberband.mousemove('motion_notify', mouse_event_fn);\n",
       "\n",
       "    rubberband.mouseenter('figure_enter', mouse_event_fn);\n",
       "    rubberband.mouseleave('figure_leave', mouse_event_fn);\n",
       "\n",
       "    canvas_div.on(\"wheel\", function (event) {\n",
       "        event = event.originalEvent;\n",
       "        event['data'] = 'scroll'\n",
       "        if (event.deltaY < 0) {\n",
       "            event.step = 1;\n",
       "        } else {\n",
       "            event.step = -1;\n",
       "        }\n",
       "        mouse_event_fn(event);\n",
       "    });\n",
       "\n",
       "    canvas_div.append(canvas);\n",
       "    canvas_div.append(rubberband);\n",
       "\n",
       "    this.rubberband = rubberband;\n",
       "    this.rubberband_canvas = rubberband[0];\n",
       "    this.rubberband_context = rubberband[0].getContext(\"2d\");\n",
       "    this.rubberband_context.strokeStyle = \"#000000\";\n",
       "\n",
       "    this._resize_canvas = function(width, height) {\n",
       "        // Keep the size of the canvas, canvas container, and rubber band\n",
       "        // canvas in synch.\n",
       "        canvas_div.css('width', width)\n",
       "        canvas_div.css('height', height)\n",
       "\n",
       "        canvas.attr('width', width * mpl.ratio);\n",
       "        canvas.attr('height', height * mpl.ratio);\n",
       "        canvas.attr('style', 'width: ' + width + 'px; height: ' + height + 'px;');\n",
       "\n",
       "        rubberband.attr('width', width);\n",
       "        rubberband.attr('height', height);\n",
       "    }\n",
       "\n",
       "    // Set the figure to an initial 600x600px, this will subsequently be updated\n",
       "    // upon first draw.\n",
       "    this._resize_canvas(600, 600);\n",
       "\n",
       "    // Disable right mouse context menu.\n",
       "    $(this.rubberband_canvas).bind(\"contextmenu\",function(e){\n",
       "        return false;\n",
       "    });\n",
       "\n",
       "    function set_focus () {\n",
       "        canvas.focus();\n",
       "        canvas_div.focus();\n",
       "    }\n",
       "\n",
       "    window.setTimeout(set_focus, 100);\n",
       "}\n",
       "\n",
       "mpl.figure.prototype._init_toolbar = function() {\n",
       "    var fig = this;\n",
       "\n",
       "    var nav_element = $('<div/>');\n",
       "    nav_element.attr('style', 'width: 100%');\n",
       "    this.root.append(nav_element);\n",
       "\n",
       "    // Define a callback function for later on.\n",
       "    function toolbar_event(event) {\n",
       "        return fig.toolbar_button_onclick(event['data']);\n",
       "    }\n",
       "    function toolbar_mouse_event(event) {\n",
       "        return fig.toolbar_button_onmouseover(event['data']);\n",
       "    }\n",
       "\n",
       "    for(var toolbar_ind in mpl.toolbar_items) {\n",
       "        var name = mpl.toolbar_items[toolbar_ind][0];\n",
       "        var tooltip = mpl.toolbar_items[toolbar_ind][1];\n",
       "        var image = mpl.toolbar_items[toolbar_ind][2];\n",
       "        var method_name = mpl.toolbar_items[toolbar_ind][3];\n",
       "\n",
       "        if (!name) {\n",
       "            // put a spacer in here.\n",
       "            continue;\n",
       "        }\n",
       "        var button = $('<button/>');\n",
       "        button.addClass('ui-button ui-widget ui-state-default ui-corner-all ' +\n",
       "                        'ui-button-icon-only');\n",
       "        button.attr('role', 'button');\n",
       "        button.attr('aria-disabled', 'false');\n",
       "        button.click(method_name, toolbar_event);\n",
       "        button.mouseover(tooltip, toolbar_mouse_event);\n",
       "\n",
       "        var icon_img = $('<span/>');\n",
       "        icon_img.addClass('ui-button-icon-primary ui-icon');\n",
       "        icon_img.addClass(image);\n",
       "        icon_img.addClass('ui-corner-all');\n",
       "\n",
       "        var tooltip_span = $('<span/>');\n",
       "        tooltip_span.addClass('ui-button-text');\n",
       "        tooltip_span.html(tooltip);\n",
       "\n",
       "        button.append(icon_img);\n",
       "        button.append(tooltip_span);\n",
       "\n",
       "        nav_element.append(button);\n",
       "    }\n",
       "\n",
       "    var fmt_picker_span = $('<span/>');\n",
       "\n",
       "    var fmt_picker = $('<select/>');\n",
       "    fmt_picker.addClass('mpl-toolbar-option ui-widget ui-widget-content');\n",
       "    fmt_picker_span.append(fmt_picker);\n",
       "    nav_element.append(fmt_picker_span);\n",
       "    this.format_dropdown = fmt_picker[0];\n",
       "\n",
       "    for (var ind in mpl.extensions) {\n",
       "        var fmt = mpl.extensions[ind];\n",
       "        var option = $(\n",
       "            '<option/>', {selected: fmt === mpl.default_extension}).html(fmt);\n",
       "        fmt_picker.append(option);\n",
       "    }\n",
       "\n",
       "    // Add hover states to the ui-buttons\n",
       "    $( \".ui-button\" ).hover(\n",
       "        function() { $(this).addClass(\"ui-state-hover\");},\n",
       "        function() { $(this).removeClass(\"ui-state-hover\");}\n",
       "    );\n",
       "\n",
       "    var status_bar = $('<span class=\"mpl-message\"/>');\n",
       "    nav_element.append(status_bar);\n",
       "    this.message = status_bar[0];\n",
       "}\n",
       "\n",
       "mpl.figure.prototype.request_resize = function(x_pixels, y_pixels) {\n",
       "    // Request matplotlib to resize the figure. Matplotlib will then trigger a resize in the client,\n",
       "    // which will in turn request a refresh of the image.\n",
       "    this.send_message('resize', {'width': x_pixels, 'height': y_pixels});\n",
       "}\n",
       "\n",
       "mpl.figure.prototype.send_message = function(type, properties) {\n",
       "    properties['type'] = type;\n",
       "    properties['figure_id'] = this.id;\n",
       "    this.ws.send(JSON.stringify(properties));\n",
       "}\n",
       "\n",
       "mpl.figure.prototype.send_draw_message = function() {\n",
       "    if (!this.waiting) {\n",
       "        this.waiting = true;\n",
       "        this.ws.send(JSON.stringify({type: \"draw\", figure_id: this.id}));\n",
       "    }\n",
       "}\n",
       "\n",
       "\n",
       "mpl.figure.prototype.handle_save = function(fig, msg) {\n",
       "    var format_dropdown = fig.format_dropdown;\n",
       "    var format = format_dropdown.options[format_dropdown.selectedIndex].value;\n",
       "    fig.ondownload(fig, format);\n",
       "}\n",
       "\n",
       "\n",
       "mpl.figure.prototype.handle_resize = function(fig, msg) {\n",
       "    var size = msg['size'];\n",
       "    if (size[0] != fig.canvas.width || size[1] != fig.canvas.height) {\n",
       "        fig._resize_canvas(size[0], size[1]);\n",
       "        fig.send_message(\"refresh\", {});\n",
       "    };\n",
       "}\n",
       "\n",
       "mpl.figure.prototype.handle_rubberband = function(fig, msg) {\n",
       "    var x0 = msg['x0'] / mpl.ratio;\n",
       "    var y0 = (fig.canvas.height - msg['y0']) / mpl.ratio;\n",
       "    var x1 = msg['x1'] / mpl.ratio;\n",
       "    var y1 = (fig.canvas.height - msg['y1']) / mpl.ratio;\n",
       "    x0 = Math.floor(x0) + 0.5;\n",
       "    y0 = Math.floor(y0) + 0.5;\n",
       "    x1 = Math.floor(x1) + 0.5;\n",
       "    y1 = Math.floor(y1) + 0.5;\n",
       "    var min_x = Math.min(x0, x1);\n",
       "    var min_y = Math.min(y0, y1);\n",
       "    var width = Math.abs(x1 - x0);\n",
       "    var height = Math.abs(y1 - y0);\n",
       "\n",
       "    fig.rubberband_context.clearRect(\n",
       "        0, 0, fig.canvas.width / mpl.ratio, fig.canvas.height / mpl.ratio);\n",
       "\n",
       "    fig.rubberband_context.strokeRect(min_x, min_y, width, height);\n",
       "}\n",
       "\n",
       "mpl.figure.prototype.handle_figure_label = function(fig, msg) {\n",
       "    // Updates the figure title.\n",
       "    fig.header.textContent = msg['label'];\n",
       "}\n",
       "\n",
       "mpl.figure.prototype.handle_cursor = function(fig, msg) {\n",
       "    var cursor = msg['cursor'];\n",
       "    switch(cursor)\n",
       "    {\n",
       "    case 0:\n",
       "        cursor = 'pointer';\n",
       "        break;\n",
       "    case 1:\n",
       "        cursor = 'default';\n",
       "        break;\n",
       "    case 2:\n",
       "        cursor = 'crosshair';\n",
       "        break;\n",
       "    case 3:\n",
       "        cursor = 'move';\n",
       "        break;\n",
       "    }\n",
       "    fig.rubberband_canvas.style.cursor = cursor;\n",
       "}\n",
       "\n",
       "mpl.figure.prototype.handle_message = function(fig, msg) {\n",
       "    fig.message.textContent = msg['message'];\n",
       "}\n",
       "\n",
       "mpl.figure.prototype.handle_draw = function(fig, msg) {\n",
       "    // Request the server to send over a new figure.\n",
       "    fig.send_draw_message();\n",
       "}\n",
       "\n",
       "mpl.figure.prototype.handle_image_mode = function(fig, msg) {\n",
       "    fig.image_mode = msg['mode'];\n",
       "}\n",
       "\n",
       "mpl.figure.prototype.updated_canvas_event = function() {\n",
       "    // Called whenever the canvas gets updated.\n",
       "    this.send_message(\"ack\", {});\n",
       "}\n",
       "\n",
       "// A function to construct a web socket function for onmessage handling.\n",
       "// Called in the figure constructor.\n",
       "mpl.figure.prototype._make_on_message_function = function(fig) {\n",
       "    return function socket_on_message(evt) {\n",
       "        if (evt.data instanceof Blob) {\n",
       "            /* FIXME: We get \"Resource interpreted as Image but\n",
       "             * transferred with MIME type text/plain:\" errors on\n",
       "             * Chrome.  But how to set the MIME type?  It doesn't seem\n",
       "             * to be part of the websocket stream */\n",
       "            evt.data.type = \"image/png\";\n",
       "\n",
       "            /* Free the memory for the previous frames */\n",
       "            if (fig.imageObj.src) {\n",
       "                (window.URL || window.webkitURL).revokeObjectURL(\n",
       "                    fig.imageObj.src);\n",
       "            }\n",
       "\n",
       "            fig.imageObj.src = (window.URL || window.webkitURL).createObjectURL(\n",
       "                evt.data);\n",
       "            fig.updated_canvas_event();\n",
       "            fig.waiting = false;\n",
       "            return;\n",
       "        }\n",
       "        else if (typeof evt.data === 'string' && evt.data.slice(0, 21) == \"data:image/png;base64\") {\n",
       "            fig.imageObj.src = evt.data;\n",
       "            fig.updated_canvas_event();\n",
       "            fig.waiting = false;\n",
       "            return;\n",
       "        }\n",
       "\n",
       "        var msg = JSON.parse(evt.data);\n",
       "        var msg_type = msg['type'];\n",
       "\n",
       "        // Call the  \"handle_{type}\" callback, which takes\n",
       "        // the figure and JSON message as its only arguments.\n",
       "        try {\n",
       "            var callback = fig[\"handle_\" + msg_type];\n",
       "        } catch (e) {\n",
       "            console.log(\"No handler for the '\" + msg_type + \"' message type: \", msg);\n",
       "            return;\n",
       "        }\n",
       "\n",
       "        if (callback) {\n",
       "            try {\n",
       "                // console.log(\"Handling '\" + msg_type + \"' message: \", msg);\n",
       "                callback(fig, msg);\n",
       "            } catch (e) {\n",
       "                console.log(\"Exception inside the 'handler_\" + msg_type + \"' callback:\", e, e.stack, msg);\n",
       "            }\n",
       "        }\n",
       "    };\n",
       "}\n",
       "\n",
       "// from http://stackoverflow.com/questions/1114465/getting-mouse-location-in-canvas\n",
       "mpl.findpos = function(e) {\n",
       "    //this section is from http://www.quirksmode.org/js/events_properties.html\n",
       "    var targ;\n",
       "    if (!e)\n",
       "        e = window.event;\n",
       "    if (e.target)\n",
       "        targ = e.target;\n",
       "    else if (e.srcElement)\n",
       "        targ = e.srcElement;\n",
       "    if (targ.nodeType == 3) // defeat Safari bug\n",
       "        targ = targ.parentNode;\n",
       "\n",
       "    // jQuery normalizes the pageX and pageY\n",
       "    // pageX,Y are the mouse positions relative to the document\n",
       "    // offset() returns the position of the element relative to the document\n",
       "    var x = e.pageX - $(targ).offset().left;\n",
       "    var y = e.pageY - $(targ).offset().top;\n",
       "\n",
       "    return {\"x\": x, \"y\": y};\n",
       "};\n",
       "\n",
       "/*\n",
       " * return a copy of an object with only non-object keys\n",
       " * we need this to avoid circular references\n",
       " * http://stackoverflow.com/a/24161582/3208463\n",
       " */\n",
       "function simpleKeys (original) {\n",
       "  return Object.keys(original).reduce(function (obj, key) {\n",
       "    if (typeof original[key] !== 'object')\n",
       "        obj[key] = original[key]\n",
       "    return obj;\n",
       "  }, {});\n",
       "}\n",
       "\n",
       "mpl.figure.prototype.mouse_event = function(event, name) {\n",
       "    var canvas_pos = mpl.findpos(event)\n",
       "\n",
       "    if (name === 'button_press')\n",
       "    {\n",
       "        this.canvas.focus();\n",
       "        this.canvas_div.focus();\n",
       "    }\n",
       "\n",
       "    var x = canvas_pos.x * mpl.ratio;\n",
       "    var y = canvas_pos.y * mpl.ratio;\n",
       "\n",
       "    this.send_message(name, {x: x, y: y, button: event.button,\n",
       "                             step: event.step,\n",
       "                             guiEvent: simpleKeys(event)});\n",
       "\n",
       "    /* This prevents the web browser from automatically changing to\n",
       "     * the text insertion cursor when the button is pressed.  We want\n",
       "     * to control all of the cursor setting manually through the\n",
       "     * 'cursor' event from matplotlib */\n",
       "    event.preventDefault();\n",
       "    return false;\n",
       "}\n",
       "\n",
       "mpl.figure.prototype._key_event_extra = function(event, name) {\n",
       "    // Handle any extra behaviour associated with a key event\n",
       "}\n",
       "\n",
       "mpl.figure.prototype.key_event = function(event, name) {\n",
       "\n",
       "    // Prevent repeat events\n",
       "    if (name == 'key_press')\n",
       "    {\n",
       "        if (event.which === this._key)\n",
       "            return;\n",
       "        else\n",
       "            this._key = event.which;\n",
       "    }\n",
       "    if (name == 'key_release')\n",
       "        this._key = null;\n",
       "\n",
       "    var value = '';\n",
       "    if (event.ctrlKey && event.which != 17)\n",
       "        value += \"ctrl+\";\n",
       "    if (event.altKey && event.which != 18)\n",
       "        value += \"alt+\";\n",
       "    if (event.shiftKey && event.which != 16)\n",
       "        value += \"shift+\";\n",
       "\n",
       "    value += 'k';\n",
       "    value += event.which.toString();\n",
       "\n",
       "    this._key_event_extra(event, name);\n",
       "\n",
       "    this.send_message(name, {key: value,\n",
       "                             guiEvent: simpleKeys(event)});\n",
       "    return false;\n",
       "}\n",
       "\n",
       "mpl.figure.prototype.toolbar_button_onclick = function(name) {\n",
       "    if (name == 'download') {\n",
       "        this.handle_save(this, null);\n",
       "    } else {\n",
       "        this.send_message(\"toolbar_button\", {name: name});\n",
       "    }\n",
       "};\n",
       "\n",
       "mpl.figure.prototype.toolbar_button_onmouseover = function(tooltip) {\n",
       "    this.message.textContent = tooltip;\n",
       "};\n",
       "mpl.toolbar_items = [[\"Home\", \"Reset original view\", \"fa fa-home icon-home\", \"home\"], [\"Back\", \"Back to previous view\", \"fa fa-arrow-left icon-arrow-left\", \"back\"], [\"Forward\", \"Forward to next view\", \"fa fa-arrow-right icon-arrow-right\", \"forward\"], [\"\", \"\", \"\", \"\"], [\"Pan\", \"Pan axes with left mouse, zoom with right\", \"fa fa-arrows icon-move\", \"pan\"], [\"Zoom\", \"Zoom to rectangle\", \"fa fa-square-o icon-check-empty\", \"zoom\"], [\"\", \"\", \"\", \"\"], [\"Download\", \"Download plot\", \"fa fa-floppy-o icon-save\", \"download\"]];\n",
       "\n",
       "mpl.extensions = [\"eps\", \"jpeg\", \"pdf\", \"png\", \"ps\", \"raw\", \"svg\", \"tif\"];\n",
       "\n",
       "mpl.default_extension = \"png\";var comm_websocket_adapter = function(comm) {\n",
       "    // Create a \"websocket\"-like object which calls the given IPython comm\n",
       "    // object with the appropriate methods. Currently this is a non binary\n",
       "    // socket, so there is still some room for performance tuning.\n",
       "    var ws = {};\n",
       "\n",
       "    ws.close = function() {\n",
       "        comm.close()\n",
       "    };\n",
       "    ws.send = function(m) {\n",
       "        //console.log('sending', m);\n",
       "        comm.send(m);\n",
       "    };\n",
       "    // Register the callback with on_msg.\n",
       "    comm.on_msg(function(msg) {\n",
       "        //console.log('receiving', msg['content']['data'], msg);\n",
       "        // Pass the mpl event to the overridden (by mpl) onmessage function.\n",
       "        ws.onmessage(msg['content']['data'])\n",
       "    });\n",
       "    return ws;\n",
       "}\n",
       "\n",
       "mpl.mpl_figure_comm = function(comm, msg) {\n",
       "    // This is the function which gets called when the mpl process\n",
       "    // starts-up an IPython Comm through the \"matplotlib\" channel.\n",
       "\n",
       "    var id = msg.content.data.id;\n",
       "    // Get hold of the div created by the display call when the Comm\n",
       "    // socket was opened in Python.\n",
       "    var element = $(\"#\" + id);\n",
       "    var ws_proxy = comm_websocket_adapter(comm)\n",
       "\n",
       "    function ondownload(figure, format) {\n",
       "        window.open(figure.imageObj.src);\n",
       "    }\n",
       "\n",
       "    var fig = new mpl.figure(id, ws_proxy,\n",
       "                           ondownload,\n",
       "                           element.get(0));\n",
       "\n",
       "    // Call onopen now - mpl needs it, as it is assuming we've passed it a real\n",
       "    // web socket which is closed, not our websocket->open comm proxy.\n",
       "    ws_proxy.onopen();\n",
       "\n",
       "    fig.parent_element = element.get(0);\n",
       "    fig.cell_info = mpl.find_output_cell(\"<div id='\" + id + \"'></div>\");\n",
       "    if (!fig.cell_info) {\n",
       "        console.error(\"Failed to find cell for figure\", id, fig);\n",
       "        return;\n",
       "    }\n",
       "\n",
       "    var output_index = fig.cell_info[2]\n",
       "    var cell = fig.cell_info[0];\n",
       "\n",
       "};\n",
       "\n",
       "mpl.figure.prototype.handle_close = function(fig, msg) {\n",
       "    var width = fig.canvas.width/mpl.ratio\n",
       "    fig.root.unbind('remove')\n",
       "\n",
       "    // Update the output cell to use the data from the current canvas.\n",
       "    fig.push_to_output();\n",
       "    var dataURL = fig.canvas.toDataURL();\n",
       "    // Re-enable the keyboard manager in IPython - without this line, in FF,\n",
       "    // the notebook keyboard shortcuts fail.\n",
       "    IPython.keyboard_manager.enable()\n",
       "    $(fig.parent_element).html('<img src=\"' + dataURL + '\" width=\"' + width + '\">');\n",
       "    fig.close_ws(fig, msg);\n",
       "}\n",
       "\n",
       "mpl.figure.prototype.close_ws = function(fig, msg){\n",
       "    fig.send_message('closing', msg);\n",
       "    // fig.ws.close()\n",
       "}\n",
       "\n",
       "mpl.figure.prototype.push_to_output = function(remove_interactive) {\n",
       "    // Turn the data on the canvas into data in the output cell.\n",
       "    var width = this.canvas.width/mpl.ratio\n",
       "    var dataURL = this.canvas.toDataURL();\n",
       "    this.cell_info[1]['text/html'] = '<img src=\"' + dataURL + '\" width=\"' + width + '\">';\n",
       "}\n",
       "\n",
       "mpl.figure.prototype.updated_canvas_event = function() {\n",
       "    // Tell IPython that the notebook contents must change.\n",
       "    IPython.notebook.set_dirty(true);\n",
       "    this.send_message(\"ack\", {});\n",
       "    var fig = this;\n",
       "    // Wait a second, then push the new image to the DOM so\n",
       "    // that it is saved nicely (might be nice to debounce this).\n",
       "    setTimeout(function () { fig.push_to_output() }, 1000);\n",
       "}\n",
       "\n",
       "mpl.figure.prototype._init_toolbar = function() {\n",
       "    var fig = this;\n",
       "\n",
       "    var nav_element = $('<div/>');\n",
       "    nav_element.attr('style', 'width: 100%');\n",
       "    this.root.append(nav_element);\n",
       "\n",
       "    // Define a callback function for later on.\n",
       "    function toolbar_event(event) {\n",
       "        return fig.toolbar_button_onclick(event['data']);\n",
       "    }\n",
       "    function toolbar_mouse_event(event) {\n",
       "        return fig.toolbar_button_onmouseover(event['data']);\n",
       "    }\n",
       "\n",
       "    for(var toolbar_ind in mpl.toolbar_items){\n",
       "        var name = mpl.toolbar_items[toolbar_ind][0];\n",
       "        var tooltip = mpl.toolbar_items[toolbar_ind][1];\n",
       "        var image = mpl.toolbar_items[toolbar_ind][2];\n",
       "        var method_name = mpl.toolbar_items[toolbar_ind][3];\n",
       "\n",
       "        if (!name) { continue; };\n",
       "\n",
       "        var button = $('<button class=\"btn btn-default\" href=\"#\" title=\"' + name + '\"><i class=\"fa ' + image + ' fa-lg\"></i></button>');\n",
       "        button.click(method_name, toolbar_event);\n",
       "        button.mouseover(tooltip, toolbar_mouse_event);\n",
       "        nav_element.append(button);\n",
       "    }\n",
       "\n",
       "    // Add the status bar.\n",
       "    var status_bar = $('<span class=\"mpl-message\" style=\"text-align:right; float: right;\"/>');\n",
       "    nav_element.append(status_bar);\n",
       "    this.message = status_bar[0];\n",
       "\n",
       "    // Add the close button to the window.\n",
       "    var buttongrp = $('<div class=\"btn-group inline pull-right\"></div>');\n",
       "    var button = $('<button class=\"btn btn-mini btn-primary\" href=\"#\" title=\"Stop Interaction\"><i class=\"fa fa-power-off icon-remove icon-large\"></i></button>');\n",
       "    button.click(function (evt) { fig.handle_close(fig, {}); } );\n",
       "    button.mouseover('Stop Interaction', toolbar_mouse_event);\n",
       "    buttongrp.append(button);\n",
       "    var titlebar = this.root.find($('.ui-dialog-titlebar'));\n",
       "    titlebar.prepend(buttongrp);\n",
       "}\n",
       "\n",
       "mpl.figure.prototype._root_extra_style = function(el){\n",
       "    var fig = this\n",
       "    el.on(\"remove\", function(){\n",
       "\tfig.close_ws(fig, {});\n",
       "    });\n",
       "}\n",
       "\n",
       "mpl.figure.prototype._canvas_extra_style = function(el){\n",
       "    // this is important to make the div 'focusable\n",
       "    el.attr('tabindex', 0)\n",
       "    // reach out to IPython and tell the keyboard manager to turn it's self\n",
       "    // off when our div gets focus\n",
       "\n",
       "    // location in version 3\n",
       "    if (IPython.notebook.keyboard_manager) {\n",
       "        IPython.notebook.keyboard_manager.register_events(el);\n",
       "    }\n",
       "    else {\n",
       "        // location in version 2\n",
       "        IPython.keyboard_manager.register_events(el);\n",
       "    }\n",
       "\n",
       "}\n",
       "\n",
       "mpl.figure.prototype._key_event_extra = function(event, name) {\n",
       "    var manager = IPython.notebook.keyboard_manager;\n",
       "    if (!manager)\n",
       "        manager = IPython.keyboard_manager;\n",
       "\n",
       "    // Check for shift+enter\n",
       "    if (event.shiftKey && event.which == 13) {\n",
       "        this.canvas_div.blur();\n",
       "        event.shiftKey = false;\n",
       "        // Send a \"J\" for go to next cell\n",
       "        event.which = 74;\n",
       "        event.keyCode = 74;\n",
       "        manager.command_mode();\n",
       "        manager.handle_keydown(event);\n",
       "    }\n",
       "}\n",
       "\n",
       "mpl.figure.prototype.handle_save = function(fig, msg) {\n",
       "    fig.ondownload(fig, null);\n",
       "}\n",
       "\n",
       "\n",
       "mpl.find_output_cell = function(html_output) {\n",
       "    // Return the cell and output element which can be found *uniquely* in the notebook.\n",
       "    // Note - this is a bit hacky, but it is done because the \"notebook_saving.Notebook\"\n",
       "    // IPython event is triggered only after the cells have been serialised, which for\n",
       "    // our purposes (turning an active figure into a static one), is too late.\n",
       "    var cells = IPython.notebook.get_cells();\n",
       "    var ncells = cells.length;\n",
       "    for (var i=0; i<ncells; i++) {\n",
       "        var cell = cells[i];\n",
       "        if (cell.cell_type === 'code'){\n",
       "            for (var j=0; j<cell.output_area.outputs.length; j++) {\n",
       "                var data = cell.output_area.outputs[j];\n",
       "                if (data.data) {\n",
       "                    // IPython >= 3 moved mimebundle to data attribute of output\n",
       "                    data = data.data;\n",
       "                }\n",
       "                if (data['text/html'] == html_output) {\n",
       "                    return [cell, data, j];\n",
       "                }\n",
       "            }\n",
       "        }\n",
       "    }\n",
       "}\n",
       "\n",
       "// Register the function which deals with the matplotlib target/channel.\n",
       "// The kernel may be null if the page has been refreshed.\n",
       "if (IPython.notebook.kernel != null) {\n",
       "    IPython.notebook.kernel.comm_manager.register_target('matplotlib', mpl.mpl_figure_comm);\n",
       "}\n"
      ],
      "text/plain": [
       "<IPython.core.display.Javascript object>"
      ]
     },
     "metadata": {},
     "output_type": "display_data"
    },
    {
     "data": {
      "text/html": [
       "<img src=\"data:image/png;base64,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\" width=\"576\">"
      ],
      "text/plain": [
       "<IPython.core.display.HTML object>"
      ]
     },
     "metadata": {},
     "output_type": "display_data"
    }
   ],
   "source": [
    "# prepare plot\n",
    "plt.rcParams['figure.figsize'] = [8, 6]\n",
    "fig = plt.figure()\n",
    "ax = fig.add_subplot(111)\n",
    "\n",
    "# init 3D plotting\n",
    "ax = Axes3D(fig, rect=[0, 0, .95, 1], elev=30, azim=120)\n",
    "\n",
    "# add grid\n",
    "ax.grid(linestyle='dotted')\n",
    "\n",
    "# plot petal length (3rd feature in the dataset) vs. petal width (4th feature in the dataset)\n",
    "ax.scatter(iris.data[:,0], iris.data[:,1], iris.data[:,2], s=40)\n",
    "\n",
    "# add axis legends\n",
    "ax.set_xlabel(\"[sepal_length]\", fontsize=10)\n",
    "ax.set_ylabel(\"[sepal_width]\", fontsize=10)\n",
    "ax.set_zlabel(\"[petal_length]\", fontsize=10)\n",
    "\n",
    "# add plot title\n",
    "plt.title('Sepal Length vs. Sepal Width vs. Petal Length', fontsize=10)\n",
    "\n",
    "# show the 3-dimensional plot\n",
    "plt.show();"
   ]
  },
  {
   "cell_type": "markdown",
   "metadata": {},
   "source": [
    "We will start again by defining a max. number of iterations we aim to run the k-Means algorithm:"
   ]
  },
  {
   "cell_type": "code",
   "execution_count": 31,
   "metadata": {},
   "outputs": [],
   "source": [
    "max_iterations = 10"
   ]
  },
  {
   "cell_type": "markdown",
   "metadata": {},
   "source": [
    "Let's also initialize our initial means randomly:"
   ]
  },
  {
   "cell_type": "code",
   "execution_count": 32,
   "metadata": {},
   "outputs": [],
   "source": [
    "random_means = np.array([[1.0, 3.0, 3.0], [2.0, 6.0, 5.0], [1.0, 7.0, 2.0]])"
   ]
  },
  {
   "cell_type": "markdown",
   "metadata": {},
   "source": [
    "As well as the k-Means clustering algorithm:"
   ]
  },
  {
   "cell_type": "code",
   "execution_count": 33,
   "metadata": {},
   "outputs": [],
   "source": [
    "kmeans = KMeans(n_clusters=no_clusters, init=random_means, max_iter=max_iterations)"
   ]
  },
  {
   "cell_type": "markdown",
   "metadata": {},
   "source": [
    "Let's now fit the 3-dimensional data (instead of the two-dimensional data that we fitted above):"
   ]
  },
  {
   "cell_type": "code",
   "execution_count": 34,
   "metadata": {},
   "outputs": [
    {
     "data": {
      "text/plain": [
       "KMeans(algorithm='auto', copy_x=True,\n",
       "       init=array([[1., 3., 3.],\n",
       "       [2., 6., 5.],\n",
       "       [1., 7., 2.]]),\n",
       "       max_iter=10, n_clusters=3, n_init=10, n_jobs=None,\n",
       "       precompute_distances='auto', random_state=None, tol=0.0001, verbose=0)"
      ]
     },
     "execution_count": 34,
     "metadata": {},
     "output_type": "execute_result"
    }
   ],
   "source": [
    "kmeans.fit(iris.data[:,0:3])"
   ]
  },
  {
   "cell_type": "markdown",
   "metadata": {},
   "source": [
    "Let's further inspect the labels:"
   ]
  },
  {
   "cell_type": "code",
   "execution_count": 35,
   "metadata": {},
   "outputs": [
    {
     "name": "stdout",
     "output_type": "stream",
     "text": [
      "[0 0 0 0 0 0 0 0 0 0 0 0 0 0 0 0 0 0 0 0 0 0 0 0 0 0 0 0 0 0 0 0 0 0 0 0 0\n",
      " 0 0 0 0 0 0 0 0 0 0 0 0 0 2 1 2 1 1 1 1 1 1 1 1 1 1 1 1 1 1 1 1 1 1 1 1 1\n",
      " 1 1 2 2 1 1 1 1 1 1 1 1 1 1 1 1 1 1 1 1 1 1 1 1 1 1 2 1 2 2 2 2 1 2 2 2 2\n",
      " 2 2 1 1 2 2 2 2 1 2 1 2 1 2 2 1 1 2 2 2 2 2 1 2 2 2 2 1 2 2 2 1 2 2 2 1 2\n",
      " 2 1]\n"
     ]
    }
   ],
   "source": [
    "labels = kmeans.labels_\n",
    "print(labels)"
   ]
  },
  {
   "cell_type": "markdown",
   "metadata": {},
   "source": [
    "And the learned cluster centers:"
   ]
  },
  {
   "cell_type": "code",
   "execution_count": 36,
   "metadata": {},
   "outputs": [
    {
     "name": "stdout",
     "output_type": "stream",
     "text": [
      "[[5.006      3.428      1.462     ]\n",
      " [5.86833333 2.74       4.38166667]\n",
      " [6.8525     3.07       5.6925    ]]\n"
     ]
    }
   ],
   "source": [
    "centers = kmeans.cluster_centers_\n",
    "print(centers)"
   ]
  },
  {
   "cell_type": "markdown",
   "metadata": {},
   "source": [
    "Let's plot the iris dataset records now using the three features `Sepal length (cm)`, `Sepal width (cm)` and `Petal length (cm)`, their corresponding learned labels as well as the centroids determined by the **k-Means Clustering** algorithm:"
   ]
  },
  {
   "cell_type": "code",
   "execution_count": 37,
   "metadata": {},
   "outputs": [
    {
     "data": {
      "application/javascript": [
       "/* Put everything inside the global mpl namespace */\n",
       "window.mpl = {};\n",
       "\n",
       "\n",
       "mpl.get_websocket_type = function() {\n",
       "    if (typeof(WebSocket) !== 'undefined') {\n",
       "        return WebSocket;\n",
       "    } else if (typeof(MozWebSocket) !== 'undefined') {\n",
       "        return MozWebSocket;\n",
       "    } else {\n",
       "        alert('Your browser does not have WebSocket support. ' +\n",
       "              'Please try Chrome, Safari or Firefox ≥ 6. ' +\n",
       "              'Firefox 4 and 5 are also supported but you ' +\n",
       "              'have to enable WebSockets in about:config.');\n",
       "    };\n",
       "}\n",
       "\n",
       "mpl.figure = function(figure_id, websocket, ondownload, parent_element) {\n",
       "    this.id = figure_id;\n",
       "\n",
       "    this.ws = websocket;\n",
       "\n",
       "    this.supports_binary = (this.ws.binaryType != undefined);\n",
       "\n",
       "    if (!this.supports_binary) {\n",
       "        var warnings = document.getElementById(\"mpl-warnings\");\n",
       "        if (warnings) {\n",
       "            warnings.style.display = 'block';\n",
       "            warnings.textContent = (\n",
       "                \"This browser does not support binary websocket messages. \" +\n",
       "                    \"Performance may be slow.\");\n",
       "        }\n",
       "    }\n",
       "\n",
       "    this.imageObj = new Image();\n",
       "\n",
       "    this.context = undefined;\n",
       "    this.message = undefined;\n",
       "    this.canvas = undefined;\n",
       "    this.rubberband_canvas = undefined;\n",
       "    this.rubberband_context = undefined;\n",
       "    this.format_dropdown = undefined;\n",
       "\n",
       "    this.image_mode = 'full';\n",
       "\n",
       "    this.root = $('<div/>');\n",
       "    this._root_extra_style(this.root)\n",
       "    this.root.attr('style', 'display: inline-block');\n",
       "\n",
       "    $(parent_element).append(this.root);\n",
       "\n",
       "    this._init_header(this);\n",
       "    this._init_canvas(this);\n",
       "    this._init_toolbar(this);\n",
       "\n",
       "    var fig = this;\n",
       "\n",
       "    this.waiting = false;\n",
       "\n",
       "    this.ws.onopen =  function () {\n",
       "            fig.send_message(\"supports_binary\", {value: fig.supports_binary});\n",
       "            fig.send_message(\"send_image_mode\", {});\n",
       "            if (mpl.ratio != 1) {\n",
       "                fig.send_message(\"set_dpi_ratio\", {'dpi_ratio': mpl.ratio});\n",
       "            }\n",
       "            fig.send_message(\"refresh\", {});\n",
       "        }\n",
       "\n",
       "    this.imageObj.onload = function() {\n",
       "            if (fig.image_mode == 'full') {\n",
       "                // Full images could contain transparency (where diff images\n",
       "                // almost always do), so we need to clear the canvas so that\n",
       "                // there is no ghosting.\n",
       "                fig.context.clearRect(0, 0, fig.canvas.width, fig.canvas.height);\n",
       "            }\n",
       "            fig.context.drawImage(fig.imageObj, 0, 0);\n",
       "        };\n",
       "\n",
       "    this.imageObj.onunload = function() {\n",
       "        fig.ws.close();\n",
       "    }\n",
       "\n",
       "    this.ws.onmessage = this._make_on_message_function(this);\n",
       "\n",
       "    this.ondownload = ondownload;\n",
       "}\n",
       "\n",
       "mpl.figure.prototype._init_header = function() {\n",
       "    var titlebar = $(\n",
       "        '<div class=\"ui-dialog-titlebar ui-widget-header ui-corner-all ' +\n",
       "        'ui-helper-clearfix\"/>');\n",
       "    var titletext = $(\n",
       "        '<div class=\"ui-dialog-title\" style=\"width: 100%; ' +\n",
       "        'text-align: center; padding: 3px;\"/>');\n",
       "    titlebar.append(titletext)\n",
       "    this.root.append(titlebar);\n",
       "    this.header = titletext[0];\n",
       "}\n",
       "\n",
       "\n",
       "\n",
       "mpl.figure.prototype._canvas_extra_style = function(canvas_div) {\n",
       "\n",
       "}\n",
       "\n",
       "\n",
       "mpl.figure.prototype._root_extra_style = function(canvas_div) {\n",
       "\n",
       "}\n",
       "\n",
       "mpl.figure.prototype._init_canvas = function() {\n",
       "    var fig = this;\n",
       "\n",
       "    var canvas_div = $('<div/>');\n",
       "\n",
       "    canvas_div.attr('style', 'position: relative; clear: both; outline: 0');\n",
       "\n",
       "    function canvas_keyboard_event(event) {\n",
       "        return fig.key_event(event, event['data']);\n",
       "    }\n",
       "\n",
       "    canvas_div.keydown('key_press', canvas_keyboard_event);\n",
       "    canvas_div.keyup('key_release', canvas_keyboard_event);\n",
       "    this.canvas_div = canvas_div\n",
       "    this._canvas_extra_style(canvas_div)\n",
       "    this.root.append(canvas_div);\n",
       "\n",
       "    var canvas = $('<canvas/>');\n",
       "    canvas.addClass('mpl-canvas');\n",
       "    canvas.attr('style', \"left: 0; top: 0; z-index: 0; outline: 0\")\n",
       "\n",
       "    this.canvas = canvas[0];\n",
       "    this.context = canvas[0].getContext(\"2d\");\n",
       "\n",
       "    var backingStore = this.context.backingStorePixelRatio ||\n",
       "\tthis.context.webkitBackingStorePixelRatio ||\n",
       "\tthis.context.mozBackingStorePixelRatio ||\n",
       "\tthis.context.msBackingStorePixelRatio ||\n",
       "\tthis.context.oBackingStorePixelRatio ||\n",
       "\tthis.context.backingStorePixelRatio || 1;\n",
       "\n",
       "    mpl.ratio = (window.devicePixelRatio || 1) / backingStore;\n",
       "\n",
       "    var rubberband = $('<canvas/>');\n",
       "    rubberband.attr('style', \"position: absolute; left: 0; top: 0; z-index: 1;\")\n",
       "\n",
       "    var pass_mouse_events = true;\n",
       "\n",
       "    canvas_div.resizable({\n",
       "        start: function(event, ui) {\n",
       "            pass_mouse_events = false;\n",
       "        },\n",
       "        resize: function(event, ui) {\n",
       "            fig.request_resize(ui.size.width, ui.size.height);\n",
       "        },\n",
       "        stop: function(event, ui) {\n",
       "            pass_mouse_events = true;\n",
       "            fig.request_resize(ui.size.width, ui.size.height);\n",
       "        },\n",
       "    });\n",
       "\n",
       "    function mouse_event_fn(event) {\n",
       "        if (pass_mouse_events)\n",
       "            return fig.mouse_event(event, event['data']);\n",
       "    }\n",
       "\n",
       "    rubberband.mousedown('button_press', mouse_event_fn);\n",
       "    rubberband.mouseup('button_release', mouse_event_fn);\n",
       "    // Throttle sequential mouse events to 1 every 20ms.\n",
       "    rubberband.mousemove('motion_notify', mouse_event_fn);\n",
       "\n",
       "    rubberband.mouseenter('figure_enter', mouse_event_fn);\n",
       "    rubberband.mouseleave('figure_leave', mouse_event_fn);\n",
       "\n",
       "    canvas_div.on(\"wheel\", function (event) {\n",
       "        event = event.originalEvent;\n",
       "        event['data'] = 'scroll'\n",
       "        if (event.deltaY < 0) {\n",
       "            event.step = 1;\n",
       "        } else {\n",
       "            event.step = -1;\n",
       "        }\n",
       "        mouse_event_fn(event);\n",
       "    });\n",
       "\n",
       "    canvas_div.append(canvas);\n",
       "    canvas_div.append(rubberband);\n",
       "\n",
       "    this.rubberband = rubberband;\n",
       "    this.rubberband_canvas = rubberband[0];\n",
       "    this.rubberband_context = rubberband[0].getContext(\"2d\");\n",
       "    this.rubberband_context.strokeStyle = \"#000000\";\n",
       "\n",
       "    this._resize_canvas = function(width, height) {\n",
       "        // Keep the size of the canvas, canvas container, and rubber band\n",
       "        // canvas in synch.\n",
       "        canvas_div.css('width', width)\n",
       "        canvas_div.css('height', height)\n",
       "\n",
       "        canvas.attr('width', width * mpl.ratio);\n",
       "        canvas.attr('height', height * mpl.ratio);\n",
       "        canvas.attr('style', 'width: ' + width + 'px; height: ' + height + 'px;');\n",
       "\n",
       "        rubberband.attr('width', width);\n",
       "        rubberband.attr('height', height);\n",
       "    }\n",
       "\n",
       "    // Set the figure to an initial 600x600px, this will subsequently be updated\n",
       "    // upon first draw.\n",
       "    this._resize_canvas(600, 600);\n",
       "\n",
       "    // Disable right mouse context menu.\n",
       "    $(this.rubberband_canvas).bind(\"contextmenu\",function(e){\n",
       "        return false;\n",
       "    });\n",
       "\n",
       "    function set_focus () {\n",
       "        canvas.focus();\n",
       "        canvas_div.focus();\n",
       "    }\n",
       "\n",
       "    window.setTimeout(set_focus, 100);\n",
       "}\n",
       "\n",
       "mpl.figure.prototype._init_toolbar = function() {\n",
       "    var fig = this;\n",
       "\n",
       "    var nav_element = $('<div/>');\n",
       "    nav_element.attr('style', 'width: 100%');\n",
       "    this.root.append(nav_element);\n",
       "\n",
       "    // Define a callback function for later on.\n",
       "    function toolbar_event(event) {\n",
       "        return fig.toolbar_button_onclick(event['data']);\n",
       "    }\n",
       "    function toolbar_mouse_event(event) {\n",
       "        return fig.toolbar_button_onmouseover(event['data']);\n",
       "    }\n",
       "\n",
       "    for(var toolbar_ind in mpl.toolbar_items) {\n",
       "        var name = mpl.toolbar_items[toolbar_ind][0];\n",
       "        var tooltip = mpl.toolbar_items[toolbar_ind][1];\n",
       "        var image = mpl.toolbar_items[toolbar_ind][2];\n",
       "        var method_name = mpl.toolbar_items[toolbar_ind][3];\n",
       "\n",
       "        if (!name) {\n",
       "            // put a spacer in here.\n",
       "            continue;\n",
       "        }\n",
       "        var button = $('<button/>');\n",
       "        button.addClass('ui-button ui-widget ui-state-default ui-corner-all ' +\n",
       "                        'ui-button-icon-only');\n",
       "        button.attr('role', 'button');\n",
       "        button.attr('aria-disabled', 'false');\n",
       "        button.click(method_name, toolbar_event);\n",
       "        button.mouseover(tooltip, toolbar_mouse_event);\n",
       "\n",
       "        var icon_img = $('<span/>');\n",
       "        icon_img.addClass('ui-button-icon-primary ui-icon');\n",
       "        icon_img.addClass(image);\n",
       "        icon_img.addClass('ui-corner-all');\n",
       "\n",
       "        var tooltip_span = $('<span/>');\n",
       "        tooltip_span.addClass('ui-button-text');\n",
       "        tooltip_span.html(tooltip);\n",
       "\n",
       "        button.append(icon_img);\n",
       "        button.append(tooltip_span);\n",
       "\n",
       "        nav_element.append(button);\n",
       "    }\n",
       "\n",
       "    var fmt_picker_span = $('<span/>');\n",
       "\n",
       "    var fmt_picker = $('<select/>');\n",
       "    fmt_picker.addClass('mpl-toolbar-option ui-widget ui-widget-content');\n",
       "    fmt_picker_span.append(fmt_picker);\n",
       "    nav_element.append(fmt_picker_span);\n",
       "    this.format_dropdown = fmt_picker[0];\n",
       "\n",
       "    for (var ind in mpl.extensions) {\n",
       "        var fmt = mpl.extensions[ind];\n",
       "        var option = $(\n",
       "            '<option/>', {selected: fmt === mpl.default_extension}).html(fmt);\n",
       "        fmt_picker.append(option);\n",
       "    }\n",
       "\n",
       "    // Add hover states to the ui-buttons\n",
       "    $( \".ui-button\" ).hover(\n",
       "        function() { $(this).addClass(\"ui-state-hover\");},\n",
       "        function() { $(this).removeClass(\"ui-state-hover\");}\n",
       "    );\n",
       "\n",
       "    var status_bar = $('<span class=\"mpl-message\"/>');\n",
       "    nav_element.append(status_bar);\n",
       "    this.message = status_bar[0];\n",
       "}\n",
       "\n",
       "mpl.figure.prototype.request_resize = function(x_pixels, y_pixels) {\n",
       "    // Request matplotlib to resize the figure. Matplotlib will then trigger a resize in the client,\n",
       "    // which will in turn request a refresh of the image.\n",
       "    this.send_message('resize', {'width': x_pixels, 'height': y_pixels});\n",
       "}\n",
       "\n",
       "mpl.figure.prototype.send_message = function(type, properties) {\n",
       "    properties['type'] = type;\n",
       "    properties['figure_id'] = this.id;\n",
       "    this.ws.send(JSON.stringify(properties));\n",
       "}\n",
       "\n",
       "mpl.figure.prototype.send_draw_message = function() {\n",
       "    if (!this.waiting) {\n",
       "        this.waiting = true;\n",
       "        this.ws.send(JSON.stringify({type: \"draw\", figure_id: this.id}));\n",
       "    }\n",
       "}\n",
       "\n",
       "\n",
       "mpl.figure.prototype.handle_save = function(fig, msg) {\n",
       "    var format_dropdown = fig.format_dropdown;\n",
       "    var format = format_dropdown.options[format_dropdown.selectedIndex].value;\n",
       "    fig.ondownload(fig, format);\n",
       "}\n",
       "\n",
       "\n",
       "mpl.figure.prototype.handle_resize = function(fig, msg) {\n",
       "    var size = msg['size'];\n",
       "    if (size[0] != fig.canvas.width || size[1] != fig.canvas.height) {\n",
       "        fig._resize_canvas(size[0], size[1]);\n",
       "        fig.send_message(\"refresh\", {});\n",
       "    };\n",
       "}\n",
       "\n",
       "mpl.figure.prototype.handle_rubberband = function(fig, msg) {\n",
       "    var x0 = msg['x0'] / mpl.ratio;\n",
       "    var y0 = (fig.canvas.height - msg['y0']) / mpl.ratio;\n",
       "    var x1 = msg['x1'] / mpl.ratio;\n",
       "    var y1 = (fig.canvas.height - msg['y1']) / mpl.ratio;\n",
       "    x0 = Math.floor(x0) + 0.5;\n",
       "    y0 = Math.floor(y0) + 0.5;\n",
       "    x1 = Math.floor(x1) + 0.5;\n",
       "    y1 = Math.floor(y1) + 0.5;\n",
       "    var min_x = Math.min(x0, x1);\n",
       "    var min_y = Math.min(y0, y1);\n",
       "    var width = Math.abs(x1 - x0);\n",
       "    var height = Math.abs(y1 - y0);\n",
       "\n",
       "    fig.rubberband_context.clearRect(\n",
       "        0, 0, fig.canvas.width / mpl.ratio, fig.canvas.height / mpl.ratio);\n",
       "\n",
       "    fig.rubberband_context.strokeRect(min_x, min_y, width, height);\n",
       "}\n",
       "\n",
       "mpl.figure.prototype.handle_figure_label = function(fig, msg) {\n",
       "    // Updates the figure title.\n",
       "    fig.header.textContent = msg['label'];\n",
       "}\n",
       "\n",
       "mpl.figure.prototype.handle_cursor = function(fig, msg) {\n",
       "    var cursor = msg['cursor'];\n",
       "    switch(cursor)\n",
       "    {\n",
       "    case 0:\n",
       "        cursor = 'pointer';\n",
       "        break;\n",
       "    case 1:\n",
       "        cursor = 'default';\n",
       "        break;\n",
       "    case 2:\n",
       "        cursor = 'crosshair';\n",
       "        break;\n",
       "    case 3:\n",
       "        cursor = 'move';\n",
       "        break;\n",
       "    }\n",
       "    fig.rubberband_canvas.style.cursor = cursor;\n",
       "}\n",
       "\n",
       "mpl.figure.prototype.handle_message = function(fig, msg) {\n",
       "    fig.message.textContent = msg['message'];\n",
       "}\n",
       "\n",
       "mpl.figure.prototype.handle_draw = function(fig, msg) {\n",
       "    // Request the server to send over a new figure.\n",
       "    fig.send_draw_message();\n",
       "}\n",
       "\n",
       "mpl.figure.prototype.handle_image_mode = function(fig, msg) {\n",
       "    fig.image_mode = msg['mode'];\n",
       "}\n",
       "\n",
       "mpl.figure.prototype.updated_canvas_event = function() {\n",
       "    // Called whenever the canvas gets updated.\n",
       "    this.send_message(\"ack\", {});\n",
       "}\n",
       "\n",
       "// A function to construct a web socket function for onmessage handling.\n",
       "// Called in the figure constructor.\n",
       "mpl.figure.prototype._make_on_message_function = function(fig) {\n",
       "    return function socket_on_message(evt) {\n",
       "        if (evt.data instanceof Blob) {\n",
       "            /* FIXME: We get \"Resource interpreted as Image but\n",
       "             * transferred with MIME type text/plain:\" errors on\n",
       "             * Chrome.  But how to set the MIME type?  It doesn't seem\n",
       "             * to be part of the websocket stream */\n",
       "            evt.data.type = \"image/png\";\n",
       "\n",
       "            /* Free the memory for the previous frames */\n",
       "            if (fig.imageObj.src) {\n",
       "                (window.URL || window.webkitURL).revokeObjectURL(\n",
       "                    fig.imageObj.src);\n",
       "            }\n",
       "\n",
       "            fig.imageObj.src = (window.URL || window.webkitURL).createObjectURL(\n",
       "                evt.data);\n",
       "            fig.updated_canvas_event();\n",
       "            fig.waiting = false;\n",
       "            return;\n",
       "        }\n",
       "        else if (typeof evt.data === 'string' && evt.data.slice(0, 21) == \"data:image/png;base64\") {\n",
       "            fig.imageObj.src = evt.data;\n",
       "            fig.updated_canvas_event();\n",
       "            fig.waiting = false;\n",
       "            return;\n",
       "        }\n",
       "\n",
       "        var msg = JSON.parse(evt.data);\n",
       "        var msg_type = msg['type'];\n",
       "\n",
       "        // Call the  \"handle_{type}\" callback, which takes\n",
       "        // the figure and JSON message as its only arguments.\n",
       "        try {\n",
       "            var callback = fig[\"handle_\" + msg_type];\n",
       "        } catch (e) {\n",
       "            console.log(\"No handler for the '\" + msg_type + \"' message type: \", msg);\n",
       "            return;\n",
       "        }\n",
       "\n",
       "        if (callback) {\n",
       "            try {\n",
       "                // console.log(\"Handling '\" + msg_type + \"' message: \", msg);\n",
       "                callback(fig, msg);\n",
       "            } catch (e) {\n",
       "                console.log(\"Exception inside the 'handler_\" + msg_type + \"' callback:\", e, e.stack, msg);\n",
       "            }\n",
       "        }\n",
       "    };\n",
       "}\n",
       "\n",
       "// from http://stackoverflow.com/questions/1114465/getting-mouse-location-in-canvas\n",
       "mpl.findpos = function(e) {\n",
       "    //this section is from http://www.quirksmode.org/js/events_properties.html\n",
       "    var targ;\n",
       "    if (!e)\n",
       "        e = window.event;\n",
       "    if (e.target)\n",
       "        targ = e.target;\n",
       "    else if (e.srcElement)\n",
       "        targ = e.srcElement;\n",
       "    if (targ.nodeType == 3) // defeat Safari bug\n",
       "        targ = targ.parentNode;\n",
       "\n",
       "    // jQuery normalizes the pageX and pageY\n",
       "    // pageX,Y are the mouse positions relative to the document\n",
       "    // offset() returns the position of the element relative to the document\n",
       "    var x = e.pageX - $(targ).offset().left;\n",
       "    var y = e.pageY - $(targ).offset().top;\n",
       "\n",
       "    return {\"x\": x, \"y\": y};\n",
       "};\n",
       "\n",
       "/*\n",
       " * return a copy of an object with only non-object keys\n",
       " * we need this to avoid circular references\n",
       " * http://stackoverflow.com/a/24161582/3208463\n",
       " */\n",
       "function simpleKeys (original) {\n",
       "  return Object.keys(original).reduce(function (obj, key) {\n",
       "    if (typeof original[key] !== 'object')\n",
       "        obj[key] = original[key]\n",
       "    return obj;\n",
       "  }, {});\n",
       "}\n",
       "\n",
       "mpl.figure.prototype.mouse_event = function(event, name) {\n",
       "    var canvas_pos = mpl.findpos(event)\n",
       "\n",
       "    if (name === 'button_press')\n",
       "    {\n",
       "        this.canvas.focus();\n",
       "        this.canvas_div.focus();\n",
       "    }\n",
       "\n",
       "    var x = canvas_pos.x * mpl.ratio;\n",
       "    var y = canvas_pos.y * mpl.ratio;\n",
       "\n",
       "    this.send_message(name, {x: x, y: y, button: event.button,\n",
       "                             step: event.step,\n",
       "                             guiEvent: simpleKeys(event)});\n",
       "\n",
       "    /* This prevents the web browser from automatically changing to\n",
       "     * the text insertion cursor when the button is pressed.  We want\n",
       "     * to control all of the cursor setting manually through the\n",
       "     * 'cursor' event from matplotlib */\n",
       "    event.preventDefault();\n",
       "    return false;\n",
       "}\n",
       "\n",
       "mpl.figure.prototype._key_event_extra = function(event, name) {\n",
       "    // Handle any extra behaviour associated with a key event\n",
       "}\n",
       "\n",
       "mpl.figure.prototype.key_event = function(event, name) {\n",
       "\n",
       "    // Prevent repeat events\n",
       "    if (name == 'key_press')\n",
       "    {\n",
       "        if (event.which === this._key)\n",
       "            return;\n",
       "        else\n",
       "            this._key = event.which;\n",
       "    }\n",
       "    if (name == 'key_release')\n",
       "        this._key = null;\n",
       "\n",
       "    var value = '';\n",
       "    if (event.ctrlKey && event.which != 17)\n",
       "        value += \"ctrl+\";\n",
       "    if (event.altKey && event.which != 18)\n",
       "        value += \"alt+\";\n",
       "    if (event.shiftKey && event.which != 16)\n",
       "        value += \"shift+\";\n",
       "\n",
       "    value += 'k';\n",
       "    value += event.which.toString();\n",
       "\n",
       "    this._key_event_extra(event, name);\n",
       "\n",
       "    this.send_message(name, {key: value,\n",
       "                             guiEvent: simpleKeys(event)});\n",
       "    return false;\n",
       "}\n",
       "\n",
       "mpl.figure.prototype.toolbar_button_onclick = function(name) {\n",
       "    if (name == 'download') {\n",
       "        this.handle_save(this, null);\n",
       "    } else {\n",
       "        this.send_message(\"toolbar_button\", {name: name});\n",
       "    }\n",
       "};\n",
       "\n",
       "mpl.figure.prototype.toolbar_button_onmouseover = function(tooltip) {\n",
       "    this.message.textContent = tooltip;\n",
       "};\n",
       "mpl.toolbar_items = [[\"Home\", \"Reset original view\", \"fa fa-home icon-home\", \"home\"], [\"Back\", \"Back to previous view\", \"fa fa-arrow-left icon-arrow-left\", \"back\"], [\"Forward\", \"Forward to next view\", \"fa fa-arrow-right icon-arrow-right\", \"forward\"], [\"\", \"\", \"\", \"\"], [\"Pan\", \"Pan axes with left mouse, zoom with right\", \"fa fa-arrows icon-move\", \"pan\"], [\"Zoom\", \"Zoom to rectangle\", \"fa fa-square-o icon-check-empty\", \"zoom\"], [\"\", \"\", \"\", \"\"], [\"Download\", \"Download plot\", \"fa fa-floppy-o icon-save\", \"download\"]];\n",
       "\n",
       "mpl.extensions = [\"eps\", \"jpeg\", \"pdf\", \"png\", \"ps\", \"raw\", \"svg\", \"tif\"];\n",
       "\n",
       "mpl.default_extension = \"png\";var comm_websocket_adapter = function(comm) {\n",
       "    // Create a \"websocket\"-like object which calls the given IPython comm\n",
       "    // object with the appropriate methods. Currently this is a non binary\n",
       "    // socket, so there is still some room for performance tuning.\n",
       "    var ws = {};\n",
       "\n",
       "    ws.close = function() {\n",
       "        comm.close()\n",
       "    };\n",
       "    ws.send = function(m) {\n",
       "        //console.log('sending', m);\n",
       "        comm.send(m);\n",
       "    };\n",
       "    // Register the callback with on_msg.\n",
       "    comm.on_msg(function(msg) {\n",
       "        //console.log('receiving', msg['content']['data'], msg);\n",
       "        // Pass the mpl event to the overridden (by mpl) onmessage function.\n",
       "        ws.onmessage(msg['content']['data'])\n",
       "    });\n",
       "    return ws;\n",
       "}\n",
       "\n",
       "mpl.mpl_figure_comm = function(comm, msg) {\n",
       "    // This is the function which gets called when the mpl process\n",
       "    // starts-up an IPython Comm through the \"matplotlib\" channel.\n",
       "\n",
       "    var id = msg.content.data.id;\n",
       "    // Get hold of the div created by the display call when the Comm\n",
       "    // socket was opened in Python.\n",
       "    var element = $(\"#\" + id);\n",
       "    var ws_proxy = comm_websocket_adapter(comm)\n",
       "\n",
       "    function ondownload(figure, format) {\n",
       "        window.open(figure.imageObj.src);\n",
       "    }\n",
       "\n",
       "    var fig = new mpl.figure(id, ws_proxy,\n",
       "                           ondownload,\n",
       "                           element.get(0));\n",
       "\n",
       "    // Call onopen now - mpl needs it, as it is assuming we've passed it a real\n",
       "    // web socket which is closed, not our websocket->open comm proxy.\n",
       "    ws_proxy.onopen();\n",
       "\n",
       "    fig.parent_element = element.get(0);\n",
       "    fig.cell_info = mpl.find_output_cell(\"<div id='\" + id + \"'></div>\");\n",
       "    if (!fig.cell_info) {\n",
       "        console.error(\"Failed to find cell for figure\", id, fig);\n",
       "        return;\n",
       "    }\n",
       "\n",
       "    var output_index = fig.cell_info[2]\n",
       "    var cell = fig.cell_info[0];\n",
       "\n",
       "};\n",
       "\n",
       "mpl.figure.prototype.handle_close = function(fig, msg) {\n",
       "    var width = fig.canvas.width/mpl.ratio\n",
       "    fig.root.unbind('remove')\n",
       "\n",
       "    // Update the output cell to use the data from the current canvas.\n",
       "    fig.push_to_output();\n",
       "    var dataURL = fig.canvas.toDataURL();\n",
       "    // Re-enable the keyboard manager in IPython - without this line, in FF,\n",
       "    // the notebook keyboard shortcuts fail.\n",
       "    IPython.keyboard_manager.enable()\n",
       "    $(fig.parent_element).html('<img src=\"' + dataURL + '\" width=\"' + width + '\">');\n",
       "    fig.close_ws(fig, msg);\n",
       "}\n",
       "\n",
       "mpl.figure.prototype.close_ws = function(fig, msg){\n",
       "    fig.send_message('closing', msg);\n",
       "    // fig.ws.close()\n",
       "}\n",
       "\n",
       "mpl.figure.prototype.push_to_output = function(remove_interactive) {\n",
       "    // Turn the data on the canvas into data in the output cell.\n",
       "    var width = this.canvas.width/mpl.ratio\n",
       "    var dataURL = this.canvas.toDataURL();\n",
       "    this.cell_info[1]['text/html'] = '<img src=\"' + dataURL + '\" width=\"' + width + '\">';\n",
       "}\n",
       "\n",
       "mpl.figure.prototype.updated_canvas_event = function() {\n",
       "    // Tell IPython that the notebook contents must change.\n",
       "    IPython.notebook.set_dirty(true);\n",
       "    this.send_message(\"ack\", {});\n",
       "    var fig = this;\n",
       "    // Wait a second, then push the new image to the DOM so\n",
       "    // that it is saved nicely (might be nice to debounce this).\n",
       "    setTimeout(function () { fig.push_to_output() }, 1000);\n",
       "}\n",
       "\n",
       "mpl.figure.prototype._init_toolbar = function() {\n",
       "    var fig = this;\n",
       "\n",
       "    var nav_element = $('<div/>');\n",
       "    nav_element.attr('style', 'width: 100%');\n",
       "    this.root.append(nav_element);\n",
       "\n",
       "    // Define a callback function for later on.\n",
       "    function toolbar_event(event) {\n",
       "        return fig.toolbar_button_onclick(event['data']);\n",
       "    }\n",
       "    function toolbar_mouse_event(event) {\n",
       "        return fig.toolbar_button_onmouseover(event['data']);\n",
       "    }\n",
       "\n",
       "    for(var toolbar_ind in mpl.toolbar_items){\n",
       "        var name = mpl.toolbar_items[toolbar_ind][0];\n",
       "        var tooltip = mpl.toolbar_items[toolbar_ind][1];\n",
       "        var image = mpl.toolbar_items[toolbar_ind][2];\n",
       "        var method_name = mpl.toolbar_items[toolbar_ind][3];\n",
       "\n",
       "        if (!name) { continue; };\n",
       "\n",
       "        var button = $('<button class=\"btn btn-default\" href=\"#\" title=\"' + name + '\"><i class=\"fa ' + image + ' fa-lg\"></i></button>');\n",
       "        button.click(method_name, toolbar_event);\n",
       "        button.mouseover(tooltip, toolbar_mouse_event);\n",
       "        nav_element.append(button);\n",
       "    }\n",
       "\n",
       "    // Add the status bar.\n",
       "    var status_bar = $('<span class=\"mpl-message\" style=\"text-align:right; float: right;\"/>');\n",
       "    nav_element.append(status_bar);\n",
       "    this.message = status_bar[0];\n",
       "\n",
       "    // Add the close button to the window.\n",
       "    var buttongrp = $('<div class=\"btn-group inline pull-right\"></div>');\n",
       "    var button = $('<button class=\"btn btn-mini btn-primary\" href=\"#\" title=\"Stop Interaction\"><i class=\"fa fa-power-off icon-remove icon-large\"></i></button>');\n",
       "    button.click(function (evt) { fig.handle_close(fig, {}); } );\n",
       "    button.mouseover('Stop Interaction', toolbar_mouse_event);\n",
       "    buttongrp.append(button);\n",
       "    var titlebar = this.root.find($('.ui-dialog-titlebar'));\n",
       "    titlebar.prepend(buttongrp);\n",
       "}\n",
       "\n",
       "mpl.figure.prototype._root_extra_style = function(el){\n",
       "    var fig = this\n",
       "    el.on(\"remove\", function(){\n",
       "\tfig.close_ws(fig, {});\n",
       "    });\n",
       "}\n",
       "\n",
       "mpl.figure.prototype._canvas_extra_style = function(el){\n",
       "    // this is important to make the div 'focusable\n",
       "    el.attr('tabindex', 0)\n",
       "    // reach out to IPython and tell the keyboard manager to turn it's self\n",
       "    // off when our div gets focus\n",
       "\n",
       "    // location in version 3\n",
       "    if (IPython.notebook.keyboard_manager) {\n",
       "        IPython.notebook.keyboard_manager.register_events(el);\n",
       "    }\n",
       "    else {\n",
       "        // location in version 2\n",
       "        IPython.keyboard_manager.register_events(el);\n",
       "    }\n",
       "\n",
       "}\n",
       "\n",
       "mpl.figure.prototype._key_event_extra = function(event, name) {\n",
       "    var manager = IPython.notebook.keyboard_manager;\n",
       "    if (!manager)\n",
       "        manager = IPython.keyboard_manager;\n",
       "\n",
       "    // Check for shift+enter\n",
       "    if (event.shiftKey && event.which == 13) {\n",
       "        this.canvas_div.blur();\n",
       "        event.shiftKey = false;\n",
       "        // Send a \"J\" for go to next cell\n",
       "        event.which = 74;\n",
       "        event.keyCode = 74;\n",
       "        manager.command_mode();\n",
       "        manager.handle_keydown(event);\n",
       "    }\n",
       "}\n",
       "\n",
       "mpl.figure.prototype.handle_save = function(fig, msg) {\n",
       "    fig.ondownload(fig, null);\n",
       "}\n",
       "\n",
       "\n",
       "mpl.find_output_cell = function(html_output) {\n",
       "    // Return the cell and output element which can be found *uniquely* in the notebook.\n",
       "    // Note - this is a bit hacky, but it is done because the \"notebook_saving.Notebook\"\n",
       "    // IPython event is triggered only after the cells have been serialised, which for\n",
       "    // our purposes (turning an active figure into a static one), is too late.\n",
       "    var cells = IPython.notebook.get_cells();\n",
       "    var ncells = cells.length;\n",
       "    for (var i=0; i<ncells; i++) {\n",
       "        var cell = cells[i];\n",
       "        if (cell.cell_type === 'code'){\n",
       "            for (var j=0; j<cell.output_area.outputs.length; j++) {\n",
       "                var data = cell.output_area.outputs[j];\n",
       "                if (data.data) {\n",
       "                    // IPython >= 3 moved mimebundle to data attribute of output\n",
       "                    data = data.data;\n",
       "                }\n",
       "                if (data['text/html'] == html_output) {\n",
       "                    return [cell, data, j];\n",
       "                }\n",
       "            }\n",
       "        }\n",
       "    }\n",
       "}\n",
       "\n",
       "// Register the function which deals with the matplotlib target/channel.\n",
       "// The kernel may be null if the page has been refreshed.\n",
       "if (IPython.notebook.kernel != null) {\n",
       "    IPython.notebook.kernel.comm_manager.register_target('matplotlib', mpl.mpl_figure_comm);\n",
       "}\n"
      ],
      "text/plain": [
       "<IPython.core.display.Javascript object>"
      ]
     },
     "metadata": {},
     "output_type": "display_data"
    },
    {
     "data": {
      "text/html": [
       "<img src=\"data:image/png;base64,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\" width=\"576\">"
      ],
      "text/plain": [
       "<IPython.core.display.HTML object>"
      ]
     },
     "metadata": {},
     "output_type": "display_data"
    }
   ],
   "source": [
    "# prepare plot\n",
    "plt.rcParams['figure.figsize'] = [8, 6]\n",
    "fig = plt.figure()\n",
    "ax = fig.add_subplot(111)\n",
    "\n",
    "# init 3D plotting\n",
    "ax = Axes3D(fig, rect=[0, 0, .95, 1], elev=30, azim=120)\n",
    "\n",
    "# add grid\n",
    "ax.grid(linestyle='dotted')\n",
    "\n",
    "# plot petal length vs. petal width and corresponding classes\n",
    "ax.scatter(iris.data[:,0], iris.data[:,1], iris.data[:,2], c=labels.astype(np.float), cmap=plt.cm.Set1, s=40)\n",
    "\n",
    "# plot cluster centers\n",
    "ax.scatter(centers[:,0], centers[:,1], centers[:,2], marker='x', c='black', s=100)\n",
    "\n",
    "# add axis legends\n",
    "ax.set_xlabel(\"[sepal_length]\", fontsize=10)\n",
    "ax.set_ylabel(\"[sepal_width]\", fontsize=10)\n",
    "ax.set_zlabel(\"[petal_length]\", fontsize=10)\n",
    "\n",
    "# add plot title\n",
    "plt.title('Sepal Length vs. Sepal Width vs. Petal Length', fontsize=10);\n",
    "\n",
    "# show the 3-dimensional plot\n",
    "plt.show();"
   ]
  },
  {
   "cell_type": "markdown",
   "metadata": {},
   "source": [
    "Finally, let's again inspect the distance of each dataset record to its nearest means calling the `inertia_` attribute of the k-Means clustering object:"
   ]
  },
  {
   "cell_type": "code",
   "execution_count": 38,
   "metadata": {},
   "outputs": [
    {
     "name": "stdout",
     "output_type": "stream",
     "text": [
      "69.44196666666667\n"
     ]
    }
   ],
   "source": [
    "distances = kmeans.inertia_\n",
    "print(distances)"
   ]
  },
  {
   "cell_type": "markdown",
   "metadata": {},
   "source": [
    "### 1.5 Optimal Cluster Number Detection"
   ]
  },
  {
   "cell_type": "markdown",
   "metadata": {},
   "source": [
    "Enable inline Jupyter notebook plotting:"
   ]
  },
  {
   "cell_type": "code",
   "execution_count": 39,
   "metadata": {},
   "outputs": [],
   "source": [
    "%matplotlib inline"
   ]
  },
  {
   "cell_type": "markdown",
   "metadata": {},
   "source": [
    "Recall that, one of the basic ideas behind unsupervised machine learning methods, such as **k-Means clustering**, is to define clusters such that the total intra-cluster variation (usually measured by the total sum of squared distances) is minimized:"
   ]
  },
  {
   "cell_type": "markdown",
   "metadata": {},
   "source": [
    "$$k^{*} =\\underset{k}{\\arg \\min} \\sum_{i=1}^{n}(x_{i}-\\mu_{k(i)})^{2},$$"
   ]
  },
  {
   "cell_type": "markdown",
   "metadata": {},
   "source": [
    "were $x_{i}$ denotes a single observation in the dataset and $\\mu_{k(i)}$ its closest mean in the feature space $\\mathcal{R}^{d}$. Challenge: What is the optimal number of clusters $k$ for a given dataset? Selection of the right $k$ may result in the following issues:\n",
    "\n",
    "- if $k$ too small (under-segmentation), then the clusters are too diverse; and;\n",
    "- if $k$ too high (over-segmentation), then the clusters are too fine-grain.\n",
    "\n",
    "Examples: "
   ]
  },
  {
   "cell_type": "markdown",
   "metadata": {},
   "source": [
    "<img align=\"center\" style=\"max-width: 800px; height: auto\" src=\"kselection.png\">"
   ]
  },
  {
   "cell_type": "markdown",
   "metadata": {},
   "source": [
    "Solution: We can then use the sum of \"squared errors\" $E(\\mu_{1}, \\mu_{2}, ..., \\mu_{k})$ metric to find an optimal number of clusters $k$! This can be achieved by the execution of the so-called **'elbow'** technique defined by the following algorithm:\n",
    "\n",
    ">- **Step 1** - Compute the k-Means clustering algorithm for different number of clusters $k$.\n",
    ">- **Step 2** - For each $k$ calculate the sum of the within-cluster sum of squared distances $E(\\mu_{1}, \\mu_{2}, ..., \\mu_{k})$.\n",
    ">- **Step 3** - For each $k$ plot the $k$ value vs. its corresponding sum of within-cluster sum of squared distances $E$. \n",
    ">- **Step 4** - Inspect the plot and determine the location of a bend (appropriate number of clusters)."
   ]
  },
  {
   "cell_type": "markdown",
   "metadata": {},
   "source": [
    "Let's utilize the **'elbow'** technique by first defining a max. number of iterations that we aim to apply at each k-Means clustering run:"
   ]
  },
  {
   "cell_type": "code",
   "execution_count": 41,
   "metadata": {},
   "outputs": [],
   "source": [
    "max_iterations = 100"
   ]
  },
  {
   "cell_type": "markdown",
   "metadata": {},
   "source": [
    "Now we can implement the and run the 'elbow' technique:"
   ]
  },
  {
   "cell_type": "code",
   "execution_count": 42,
   "metadata": {},
   "outputs": [],
   "source": [
    "# init the list of squared distances\n",
    "sum_of_squared_distances = []\n",
    "\n",
    "# define the range of k-values to investigate\n",
    "K = range(1,30)\n",
    "\n",
    "# iterate over all k-values\n",
    "for k in K:\n",
    "    \n",
    "    # init the k-Means clustering algorithm of the current k-value\n",
    "    kmeans = KMeans(n_clusters=k, init='random', max_iter=max_iterations)\n",
    "    \n",
    "    # run the k-Means clustering of sepal-length and sepal-width features\n",
    "    kmeans = kmeans.fit(iris.data[:,0:2])\n",
    "    \n",
    "    # collect the sum of within squared distances of the current k-value\n",
    "    sum_of_squared_distances.append(kmeans.inertia_)"
   ]
  },
  {
   "cell_type": "markdown",
   "metadata": {},
   "source": [
    "Upon completion of the loop above let's inspect the distinct within-cluster sum of squared distances $E$:"
   ]
  },
  {
   "cell_type": "code",
   "execution_count": 43,
   "metadata": {},
   "outputs": [
    {
     "data": {
      "text/plain": [
       "[130.47526666666667,\n",
       " 58.20409278906671,\n",
       " 37.05070212765958,\n",
       " 27.9902120383037,\n",
       " 21.152607843137258,\n",
       " 17.42559768907563,\n",
       " 14.882762299688517,\n",
       " 12.725500174793279,\n",
       " 12.062813915553047,\n",
       " 9.995049422799424,\n",
       " 8.709732764305365,\n",
       " 8.342906162464987,\n",
       " 7.327931984681987,\n",
       " 6.9752964968038516,\n",
       " 5.962005883005885,\n",
       " 5.720599206349206,\n",
       " 5.256557112478167,\n",
       " 5.00875700280112,\n",
       " 4.443033189033189,\n",
       " 4.216704670329671,\n",
       " 3.997910533910534,\n",
       " 4.059914682539684,\n",
       " 3.735253607503609,\n",
       " 3.6108849206349216,\n",
       " 3.3644617604617597,\n",
       " 3.10856018981019,\n",
       " 3.0476529581529572,\n",
       " 2.9814877899877903,\n",
       " 2.645398268398269]"
      ]
     },
     "execution_count": 43,
     "metadata": {},
     "output_type": "execute_result"
    }
   ],
   "source": [
    "# print the collected sum of squared distances of each k\n",
    "sum_of_squared_distances"
   ]
  },
  {
   "cell_type": "markdown",
   "metadata": {},
   "source": [
    "Furthermore, let's plot the cluster number $k$ vs. the within-cluster sum of squared distances $E$:"
   ]
  },
  {
   "cell_type": "code",
   "execution_count": 44,
   "metadata": {},
   "outputs": [
    {
     "data": {
      "image/png": "[encoded data removed]",
      "text/plain": [
       "<Figure size 432x288 with 1 Axes>"
      ]
     },
     "metadata": {
      "needs_background": "light"
     },
     "output_type": "display_data"
    }
   ],
   "source": [
    "# prepare plot\n",
    "fig = plt.figure()\n",
    "ax = fig.add_subplot(111)\n",
    "\n",
    "# add grid\n",
    "ax.grid(linestyle='dotted')\n",
    "\n",
    "# plot petal length (3rd feature in the dataset) vs. petal width (4th feature in the dataset)\n",
    "ax.plot(K, sum_of_squared_distances)\n",
    "\n",
    "# add axis legends\n",
    "ax.set_xlabel(\"$k$\", fontsize=10)\n",
    "ax.set_ylabel(\"Sum Within-Cluster Distance $E$\", fontsize=10)\n",
    "\n",
    "# add plot title\n",
    "plt.title('Cluster number $k$ vs. Within-Cluster $E$', fontsize=10);"
   ]
  },
  {
   "cell_type": "markdown",
   "metadata": {},
   "source": [
    "### Exercises:"
   ]
  },
  {
   "cell_type": "markdown",
   "metadata": {},
   "source": [
    "We recommend you to try the following exercises as part of the lab:\n",
    "\n",
    "**1. Apply k-Means clustering to all four features contained in the Iris dataset.**\n",
    "\n",
    "> Use the k-Means classifier to learn a model of all four features contained in the Iris dataset, namely `Sepal length (cm)`, `Sepal width (cm)`, `Petal length (cm)` and `Petal width (cm)`."
   ]
  },
  {
   "cell_type": "code",
   "execution_count": null,
   "metadata": {},
   "outputs": [],
   "source": [
    "# ***************************************************\n",
    "# INSERT YOUR CODE HERE\n",
    "# ***************************************************"
   ]
  },
  {
   "cell_type": "markdown",
   "metadata": {},
   "source": [
    "**2. Determine the optimal number of cluster values $k$ of all four features contained in the iris dataset.**\n",
    "\n",
    "> Determine the optimal number of clusters $k$ needed to cluster the observations of all four features contained in the iris dataset using the **'elbow'** technique outlined above."
   ]
  },
  {
   "cell_type": "code",
   "execution_count": null,
   "metadata": {},
   "outputs": [],
   "source": [
    "# ***************************************************\n",
    "# INSERT YOUR CODE HERE\n",
    "# ***************************************************"
   ]
  },
  {
   "cell_type": "markdown",
   "metadata": {},
   "source": [
    "### Lab Summary:"
   ]
  },
  {
   "cell_type": "markdown",
   "metadata": {},
   "source": [
    "In this fourth lab, a step by step introduction into the unsupervised **k-Means Clustering** machine learning algorithm was presented. The code and exercises presented in this lab may serve as a starting point for more complex and tailored programs."
   ]
  },
  {
   "cell_type": "markdown",
   "metadata": {},
   "source": [
    "You may want to execute the content of your lab outside of the Jupyter notebook environment, e.g. on a compute node or a server. The cell below converts the lab notebook into a standalone and executable python script. Pls. note that to convert the notebook, you need to install Python's **nbconvert** library and its extensions:"
   ]
  },
  {
   "cell_type": "code",
   "execution_count": 2,
   "metadata": {},
   "outputs": [
    {
     "name": "stdout",
     "output_type": "stream",
     "text": [
      "/bin/sh: pip: command not found\n",
      "/bin/sh: pip: command not found\n"
     ]
    }
   ],
   "source": [
    "# installing the nbconvert library\n",
    "!pip install nbconvert\n",
    "!pip install jupyter_contrib_nbextensions"
   ]
  },
  {
   "cell_type": "markdown",
   "metadata": {},
   "source": [
    "Let's now convert the Jupyter notebook into a plain Python script:"
   ]
  },
  {
   "cell_type": "code",
   "execution_count": 3,
   "metadata": {},
   "outputs": [
    {
     "name": "stdout",
     "output_type": "stream",
     "text": [
      "[NbConvertApp] Converting notebook cfds_lab_05.ipynb to script\n",
      "[NbConvertApp] Writing 21028 bytes to cfds_lab_05.py\n"
     ]
    }
   ],
   "source": [
    "!jupyter nbconvert --to script cfds_lab_05.ipynb"
   ]
  }
 ],
 "metadata": {
  "kernelspec": {
   "display_name": "Python 3",
   "language": "python",
   "name": "python3"
  },
  "language_info": {
   "codemirror_mode": {
    "name": "ipython",
    "version": 3
   },
   "file_extension": ".py",
   "mimetype": "text/x-python",
   "name": "python",
   "nbconvert_exporter": "python",
   "pygments_lexer": "ipython3",
   "version": "3.7.4"
  },
  "toc": {
   "base_numbering": 1,
   "nav_menu": {},
   "number_sections": true,
   "sideBar": true,
   "skip_h1_title": false,
   "title_cell": "Table of Contents",
   "title_sidebar": "Contents",
   "toc_cell": false,
   "toc_position": {
    "height": "calc(100% - 180px)",
    "left": "10px",
    "top": "150px",
    "width": "292.1875px"
   },
   "toc_section_display": true,
   "toc_window_display": true
  }
 },
 "nbformat": 4,
 "nbformat_minor": 2
}
