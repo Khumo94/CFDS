{
 "cells": [
  {
   "cell_type": "code",
   "execution_count": 1,
   "metadata": {},
   "outputs": [],
   "source": [
    "#-*- coding: utf-8 -*-"
   ]
  },
  {
   "cell_type": "markdown",
   "metadata": {},
   "source": [
    "<img align=\"right\" style=\"max-width: 200px; height: auto\" src=\"cfds_logo.png\">\n",
    "\n",
    "###  Lab 08 - \"Supervised Deep Learning - Long Short-Term Memory Neural Networks\"\n",
    "\n",
    "Chartered Financial Data Scientist (CFDS), Autumn Term 2019/20"
   ]
  },
  {
   "cell_type": "markdown",
   "metadata": {},
   "source": [
    "In the last lab you learned about how to utilize an **unsupervised** (deep) learning technique namely **Convolutional Neural Networks (CNNs)** to classify tiny images of objects contained in the CIFAR-10 dataset.\n",
    "\n",
    "In this lab, we will learn how to apply another type of deep learning technique referred to as **Long-Short-Term-Memory (LSTM)** neural networks. Unlike standard feedforward neural networks, LSTMs encompass feedback connections that make it a \"general-purpose computer\". LSTMs are designed to process not only a single data point (such as images), but also entire sequences of data, e.g., such as speech, video, or financial time series.\n",
    "\n",
    "\n",
    "We will again use the functionality of the **'PyTorch'** library to implement and train an LSTM based neural network. The network will be trained on the historic daily (in-sample) returns of an exemplary financial stock. Once the network is trained, we will use the learned model to predict future (out-of-sample) returns. Finally, we will convert the predictions into tradable signals and the backtest the signals accordingly. \n",
    "\n",
    "The figure below illustrates a high-level view on the machine learning process we aim to establish in this lab."
   ]
  },
  {
   "cell_type": "markdown",
   "metadata": {},
   "source": [
    "<img align=\"center\" style=\"max-width: 700px\" src=\"process.png\">"
   ]
  },
  {
   "cell_type": "markdown",
   "metadata": {},
   "source": [
    "As always, pls. don't hesitate to ask all your questions either during the lab or send us an email via marco.schreyer@fds.ai or damian.borth@fds.ai."
   ]
  },
  {
   "cell_type": "markdown",
   "metadata": {},
   "source": [
    "### Lab Objectives:"
   ]
  },
  {
   "cell_type": "markdown",
   "metadata": {},
   "source": [
    "After today's lab, you should be able to:\n",
    "\n",
    "> 1. Understand the basic concepts, intuition and major building blocks of **Long-Short Term Memory (LSTM) Neural Networks**.\n",
    "> 2. Know how to **implement and to train an LSTM** to learn a model of financial time-series data.\n",
    "> 3. Understand how to apply such a learned model to **predict future data points of a time-series**.\n",
    "> 4. Know how to **interpret the model's prediction results** and backtest the predictions. "
   ]
  },
  {
   "cell_type": "markdown",
   "metadata": {},
   "source": [
    "### Setup of the Jupyter Notebook Environment"
   ]
  },
  {
   "cell_type": "markdown",
   "metadata": {},
   "source": [
    "Prior to importing the needed lab libraries, let's install the `Quandl`, `Bt`, and `Urllib` libraries which are not available in the off the shelf CoLab instance. This can be accomplished, as always, by using the Python package installer `pip`:"
   ]
  },
  {
   "cell_type": "code",
   "execution_count": 2,
   "metadata": {},
   "outputs": [
    {
     "name": "stdout",
     "output_type": "stream",
     "text": [
      "/bin/sh: pip: command not found\n",
      "/bin/sh: pip: command not found\n",
      "/bin/sh: pip: command not found\n"
     ]
    }
   ],
   "source": [
    "!pip install quandl # library to retreive financial data\n",
    "!pip install bt # library to backtest the trading signals\n",
    "!pip install urllib # library to open and read URLs"
   ]
  },
  {
   "cell_type": "markdown",
   "metadata": {},
   "source": [
    "Similar to the previous labs, we need to import a couple of Python libraries that allow for data analysis and data visualization. We will mostly use the `PyTorch`, `Numpy`, `Sklearn`, `Matplotlib`, `Seaborn`, `BT` and a few utility libraries throughout the lab:"
   ]
  },
  {
   "cell_type": "code",
   "execution_count": 3,
   "metadata": {},
   "outputs": [],
   "source": [
    "# import python data science libraries\n",
    "import os, io, urllib, itertools\n",
    "import datetime as dt\n",
    "import pandas as pd\n",
    "import numpy as np"
   ]
  },
  {
   "cell_type": "markdown",
   "metadata": {},
   "source": [
    "Import the financial data science libraries:"
   ]
  },
  {
   "cell_type": "code",
   "execution_count": 4,
   "metadata": {},
   "outputs": [],
   "source": [
    "import quandl as ql # library to retreive financial data\n",
    "import bt as bt # library to backtest trading signals"
   ]
  },
  {
   "cell_type": "markdown",
   "metadata": {},
   "source": [
    "Import the Python machine / deep learning libraries:"
   ]
  },
  {
   "cell_type": "code",
   "execution_count": 5,
   "metadata": {},
   "outputs": [],
   "source": [
    "# pytorch libraries\n",
    "import torch\n",
    "import torch.nn as nn\n",
    "import torch.optim as optim\n",
    "from torch.utils import data\n",
    "from torch.utils.data import dataloader"
   ]
  },
  {
   "cell_type": "markdown",
   "metadata": {},
   "source": [
    "Import the data pre-processing functions:"
   ]
  },
  {
   "cell_type": "code",
   "execution_count": 6,
   "metadata": {},
   "outputs": [],
   "source": [
    "# sklearn libraries\n",
    "from sklearn import preprocessing"
   ]
  },
  {
   "cell_type": "markdown",
   "metadata": {},
   "source": [
    "Import Python plotting libraries and set general plotting parameters:"
   ]
  },
  {
   "cell_type": "code",
   "execution_count": 7,
   "metadata": {},
   "outputs": [],
   "source": [
    "import matplotlib.pyplot as plt\n",
    "plt.style.use('seaborn')\n",
    "plt.rcParams['figure.figsize'] = [10, 5]\n",
    "plt.rcParams['figure.dpi']= 150"
   ]
  },
  {
   "cell_type": "markdown",
   "metadata": {},
   "source": [
    "Enable notebook matplotlib inline plotting:"
   ]
  },
  {
   "cell_type": "code",
   "execution_count": 8,
   "metadata": {},
   "outputs": [],
   "source": [
    "%matplotlib inline"
   ]
  },
  {
   "cell_type": "markdown",
   "metadata": {},
   "source": [
    "Suppress potential warnings:"
   ]
  },
  {
   "cell_type": "code",
   "execution_count": 9,
   "metadata": {},
   "outputs": [],
   "source": [
    "import warnings\n",
    "warnings.filterwarnings('ignore')"
   ]
  },
  {
   "cell_type": "markdown",
   "metadata": {},
   "source": [
    "Create notebook folder structure to store the data as well as the trained neural network models:"
   ]
  },
  {
   "cell_type": "code",
   "execution_count": 10,
   "metadata": {},
   "outputs": [],
   "source": [
    "if not os.path.exists('./data'): os.makedirs('./data')  # create data directory\n",
    "if not os.path.exists('./models'): os.makedirs('./models')  # create trained models directory"
   ]
  },
  {
   "cell_type": "markdown",
   "metadata": {},
   "source": [
    "Set random seed value to obtain reproducable results:"
   ]
  },
  {
   "cell_type": "code",
   "execution_count": 11,
   "metadata": {},
   "outputs": [],
   "source": [
    "# init deterministic seed\n",
    "seed_value = 1234\n",
    "np.random.seed(seed_value) # set numpy seed\n",
    "torch.manual_seed(seed_value); # set pytorch seed CPU"
   ]
  },
  {
   "cell_type": "markdown",
   "metadata": {},
   "source": [
    "### 1. Dataset Download and Data Assessment"
   ]
  },
  {
   "cell_type": "markdown",
   "metadata": {},
   "source": [
    "In this section of the lab notebook, we will download and access historic daily stock market data ranging from **01/01/2000** to **31/12/2017** of the **\"International Business Machines\" (IBM)** corporation (ticker symbol: \"IBM\"). To start the data download, let's initialize the \"quandl\" financial data download API and set an API key:"
   ]
  },
  {
   "cell_type": "code",
   "execution_count": 12,
   "metadata": {},
   "outputs": [],
   "source": [
    "#ql.ApiConfig.api_key = '<enter you own quandl api code here>'\n",
    "ql.ApiConfig.api_key = 'xn6g-K_ebmMgSJRTCSUk'"
   ]
  },
  {
   "cell_type": "markdown",
   "metadata": {},
   "source": [
    "Furthermore, let's specify the start and end date of the stock market data download:"
   ]
  },
  {
   "cell_type": "code",
   "execution_count": 13,
   "metadata": {},
   "outputs": [],
   "source": [
    "start_date = dt.datetime(2000, 1, 1)\n",
    "end_date = dt.datetime(2017, 12, 31)"
   ]
  },
  {
   "cell_type": "markdown",
   "metadata": {},
   "source": [
    "Download the daily \"International Business Machines\" (IBM) stock market data:"
   ]
  },
  {
   "cell_type": "code",
   "execution_count": 14,
   "metadata": {},
   "outputs": [],
   "source": [
    "stock_data = ql.get('WIKI/IBM', start_date=start_date, end_date=end_date, collapse='daily')"
   ]
  },
  {
   "cell_type": "markdown",
   "metadata": {},
   "source": [
    "Inspect the top 10 records of the retreived IBM stock market data:"
   ]
  },
  {
   "cell_type": "code",
   "execution_count": 15,
   "metadata": {},
   "outputs": [
    {
     "data": {
      "text/html": [
       "<div>\n",
       "<style scoped>\n",
       "    .dataframe tbody tr th:only-of-type {\n",
       "        vertical-align: middle;\n",
       "    }\n",
       "\n",
       "    .dataframe tbody tr th {\n",
       "        vertical-align: top;\n",
       "    }\n",
       "\n",
       "    .dataframe thead th {\n",
       "        text-align: right;\n",
       "    }\n",
       "</style>\n",
       "<table border=\"1\" class=\"dataframe\">\n",
       "  <thead>\n",
       "    <tr style=\"text-align: right;\">\n",
       "      <th></th>\n",
       "      <th>Open</th>\n",
       "      <th>High</th>\n",
       "      <th>Low</th>\n",
       "      <th>Close</th>\n",
       "      <th>Volume</th>\n",
       "      <th>Ex-Dividend</th>\n",
       "      <th>Split Ratio</th>\n",
       "      <th>Adj. Open</th>\n",
       "      <th>Adj. High</th>\n",
       "      <th>Adj. Low</th>\n",
       "      <th>Adj. Close</th>\n",
       "      <th>Adj. Volume</th>\n",
       "    </tr>\n",
       "    <tr>\n",
       "      <th>Date</th>\n",
       "      <th></th>\n",
       "      <th></th>\n",
       "      <th></th>\n",
       "      <th></th>\n",
       "      <th></th>\n",
       "      <th></th>\n",
       "      <th></th>\n",
       "      <th></th>\n",
       "      <th></th>\n",
       "      <th></th>\n",
       "      <th></th>\n",
       "      <th></th>\n",
       "    </tr>\n",
       "  </thead>\n",
       "  <tbody>\n",
       "    <tr>\n",
       "      <th>2000-01-03</th>\n",
       "      <td>112.44</td>\n",
       "      <td>116.00</td>\n",
       "      <td>111.87</td>\n",
       "      <td>116.00</td>\n",
       "      <td>10347700.0</td>\n",
       "      <td>0.0</td>\n",
       "      <td>1.0</td>\n",
       "      <td>82.542051</td>\n",
       "      <td>85.155442</td>\n",
       "      <td>82.123614</td>\n",
       "      <td>85.155442</td>\n",
       "      <td>10347700.0</td>\n",
       "    </tr>\n",
       "    <tr>\n",
       "      <th>2000-01-04</th>\n",
       "      <td>114.00</td>\n",
       "      <td>114.50</td>\n",
       "      <td>110.87</td>\n",
       "      <td>112.06</td>\n",
       "      <td>8227800.0</td>\n",
       "      <td>0.0</td>\n",
       "      <td>1.0</td>\n",
       "      <td>83.687245</td>\n",
       "      <td>84.054294</td>\n",
       "      <td>81.389516</td>\n",
       "      <td>82.263093</td>\n",
       "      <td>8227800.0</td>\n",
       "    </tr>\n",
       "    <tr>\n",
       "      <th>2000-01-05</th>\n",
       "      <td>112.94</td>\n",
       "      <td>119.75</td>\n",
       "      <td>112.12</td>\n",
       "      <td>116.00</td>\n",
       "      <td>12733200.0</td>\n",
       "      <td>0.0</td>\n",
       "      <td>1.0</td>\n",
       "      <td>82.909100</td>\n",
       "      <td>87.908312</td>\n",
       "      <td>82.307139</td>\n",
       "      <td>85.155442</td>\n",
       "      <td>12733200.0</td>\n",
       "    </tr>\n",
       "    <tr>\n",
       "      <th>2000-01-06</th>\n",
       "      <td>118.00</td>\n",
       "      <td>118.94</td>\n",
       "      <td>113.50</td>\n",
       "      <td>114.00</td>\n",
       "      <td>7971900.0</td>\n",
       "      <td>0.0</td>\n",
       "      <td>1.0</td>\n",
       "      <td>86.623639</td>\n",
       "      <td>87.313692</td>\n",
       "      <td>83.320195</td>\n",
       "      <td>83.687245</td>\n",
       "      <td>7971900.0</td>\n",
       "    </tr>\n",
       "    <tr>\n",
       "      <th>2000-01-07</th>\n",
       "      <td>117.25</td>\n",
       "      <td>117.94</td>\n",
       "      <td>110.62</td>\n",
       "      <td>113.50</td>\n",
       "      <td>11856700.0</td>\n",
       "      <td>0.0</td>\n",
       "      <td>1.0</td>\n",
       "      <td>86.073065</td>\n",
       "      <td>86.579593</td>\n",
       "      <td>81.205991</td>\n",
       "      <td>83.320195</td>\n",
       "      <td>11856700.0</td>\n",
       "    </tr>\n",
       "    <tr>\n",
       "      <th>2000-01-10</th>\n",
       "      <td>117.25</td>\n",
       "      <td>119.37</td>\n",
       "      <td>115.37</td>\n",
       "      <td>118.00</td>\n",
       "      <td>8540500.0</td>\n",
       "      <td>0.0</td>\n",
       "      <td>1.0</td>\n",
       "      <td>86.073065</td>\n",
       "      <td>87.629354</td>\n",
       "      <td>84.692960</td>\n",
       "      <td>86.623639</td>\n",
       "      <td>8540500.0</td>\n",
       "    </tr>\n",
       "    <tr>\n",
       "      <th>2000-01-11</th>\n",
       "      <td>117.87</td>\n",
       "      <td>121.12</td>\n",
       "      <td>116.62</td>\n",
       "      <td>119.00</td>\n",
       "      <td>7873300.0</td>\n",
       "      <td>0.0</td>\n",
       "      <td>1.0</td>\n",
       "      <td>86.528206</td>\n",
       "      <td>88.914027</td>\n",
       "      <td>85.610583</td>\n",
       "      <td>87.357738</td>\n",
       "      <td>7873300.0</td>\n",
       "    </tr>\n",
       "    <tr>\n",
       "      <th>2000-01-12</th>\n",
       "      <td>119.62</td>\n",
       "      <td>122.00</td>\n",
       "      <td>118.25</td>\n",
       "      <td>119.50</td>\n",
       "      <td>6803800.0</td>\n",
       "      <td>0.0</td>\n",
       "      <td>1.0</td>\n",
       "      <td>87.812879</td>\n",
       "      <td>89.560034</td>\n",
       "      <td>86.807164</td>\n",
       "      <td>87.724787</td>\n",
       "      <td>6803800.0</td>\n",
       "    </tr>\n",
       "    <tr>\n",
       "      <th>2000-01-13</th>\n",
       "      <td>119.94</td>\n",
       "      <td>121.00</td>\n",
       "      <td>115.75</td>\n",
       "      <td>118.25</td>\n",
       "      <td>8489700.0</td>\n",
       "      <td>0.0</td>\n",
       "      <td>1.0</td>\n",
       "      <td>88.047790</td>\n",
       "      <td>88.825935</td>\n",
       "      <td>84.971917</td>\n",
       "      <td>86.807164</td>\n",
       "      <td>8489700.0</td>\n",
       "    </tr>\n",
       "    <tr>\n",
       "      <th>2000-01-14</th>\n",
       "      <td>120.94</td>\n",
       "      <td>123.31</td>\n",
       "      <td>117.50</td>\n",
       "      <td>119.62</td>\n",
       "      <td>10956600.0</td>\n",
       "      <td>0.0</td>\n",
       "      <td>1.0</td>\n",
       "      <td>88.781889</td>\n",
       "      <td>90.521703</td>\n",
       "      <td>86.256590</td>\n",
       "      <td>87.812879</td>\n",
       "      <td>10956600.0</td>\n",
       "    </tr>\n",
       "  </tbody>\n",
       "</table>\n",
       "</div>"
      ],
      "text/plain": [
       "              Open    High     Low   Close      Volume  Ex-Dividend  \\\n",
       "Date                                                                  \n",
       "2000-01-03  112.44  116.00  111.87  116.00  10347700.0          0.0   \n",
       "2000-01-04  114.00  114.50  110.87  112.06   8227800.0          0.0   \n",
       "2000-01-05  112.94  119.75  112.12  116.00  12733200.0          0.0   \n",
       "2000-01-06  118.00  118.94  113.50  114.00   7971900.0          0.0   \n",
       "2000-01-07  117.25  117.94  110.62  113.50  11856700.0          0.0   \n",
       "2000-01-10  117.25  119.37  115.37  118.00   8540500.0          0.0   \n",
       "2000-01-11  117.87  121.12  116.62  119.00   7873300.0          0.0   \n",
       "2000-01-12  119.62  122.00  118.25  119.50   6803800.0          0.0   \n",
       "2000-01-13  119.94  121.00  115.75  118.25   8489700.0          0.0   \n",
       "2000-01-14  120.94  123.31  117.50  119.62  10956600.0          0.0   \n",
       "\n",
       "            Split Ratio  Adj. Open  Adj. High   Adj. Low  Adj. Close  \\\n",
       "Date                                                                   \n",
       "2000-01-03          1.0  82.542051  85.155442  82.123614   85.155442   \n",
       "2000-01-04          1.0  83.687245  84.054294  81.389516   82.263093   \n",
       "2000-01-05          1.0  82.909100  87.908312  82.307139   85.155442   \n",
       "2000-01-06          1.0  86.623639  87.313692  83.320195   83.687245   \n",
       "2000-01-07          1.0  86.073065  86.579593  81.205991   83.320195   \n",
       "2000-01-10          1.0  86.073065  87.629354  84.692960   86.623639   \n",
       "2000-01-11          1.0  86.528206  88.914027  85.610583   87.357738   \n",
       "2000-01-12          1.0  87.812879  89.560034  86.807164   87.724787   \n",
       "2000-01-13          1.0  88.047790  88.825935  84.971917   86.807164   \n",
       "2000-01-14          1.0  88.781889  90.521703  86.256590   87.812879   \n",
       "\n",
       "            Adj. Volume  \n",
       "Date                     \n",
       "2000-01-03   10347700.0  \n",
       "2000-01-04    8227800.0  \n",
       "2000-01-05   12733200.0  \n",
       "2000-01-06    7971900.0  \n",
       "2000-01-07   11856700.0  \n",
       "2000-01-10    8540500.0  \n",
       "2000-01-11    7873300.0  \n",
       "2000-01-12    6803800.0  \n",
       "2000-01-13    8489700.0  \n",
       "2000-01-14   10956600.0  "
      ]
     },
     "execution_count": 15,
     "metadata": {},
     "output_type": "execute_result"
    }
   ],
   "source": [
    "stock_data.head(10)"
   ]
  },
  {
   "cell_type": "markdown",
   "metadata": {},
   "source": [
    "Let's also evaluate the data quality of the download by creating a set of summary statistics of the retrieved data:"
   ]
  },
  {
   "cell_type": "code",
   "execution_count": 16,
   "metadata": {},
   "outputs": [
    {
     "data": {
      "text/html": [
       "<div>\n",
       "<style scoped>\n",
       "    .dataframe tbody tr th:only-of-type {\n",
       "        vertical-align: middle;\n",
       "    }\n",
       "\n",
       "    .dataframe tbody tr th {\n",
       "        vertical-align: top;\n",
       "    }\n",
       "\n",
       "    .dataframe thead th {\n",
       "        text-align: right;\n",
       "    }\n",
       "</style>\n",
       "<table border=\"1\" class=\"dataframe\">\n",
       "  <thead>\n",
       "    <tr style=\"text-align: right;\">\n",
       "      <th></th>\n",
       "      <th>Open</th>\n",
       "      <th>High</th>\n",
       "      <th>Low</th>\n",
       "      <th>Close</th>\n",
       "      <th>Volume</th>\n",
       "      <th>Ex-Dividend</th>\n",
       "      <th>Split Ratio</th>\n",
       "      <th>Adj. Open</th>\n",
       "      <th>Adj. High</th>\n",
       "      <th>Adj. Low</th>\n",
       "      <th>Adj. Close</th>\n",
       "      <th>Adj. Volume</th>\n",
       "    </tr>\n",
       "  </thead>\n",
       "  <tbody>\n",
       "    <tr>\n",
       "      <th>count</th>\n",
       "      <td>4527.000000</td>\n",
       "      <td>4527.000000</td>\n",
       "      <td>4527.000000</td>\n",
       "      <td>4527.000000</td>\n",
       "      <td>4.527000e+03</td>\n",
       "      <td>4527.000000</td>\n",
       "      <td>4527.0</td>\n",
       "      <td>4527.000000</td>\n",
       "      <td>4527.000000</td>\n",
       "      <td>4527.000000</td>\n",
       "      <td>4527.000000</td>\n",
       "      <td>4.527000e+03</td>\n",
       "    </tr>\n",
       "    <tr>\n",
       "      <th>mean</th>\n",
       "      <td>128.222709</td>\n",
       "      <td>129.396728</td>\n",
       "      <td>127.159447</td>\n",
       "      <td>128.298614</td>\n",
       "      <td>6.278760e+06</td>\n",
       "      <td>0.009600</td>\n",
       "      <td>1.0</td>\n",
       "      <td>107.207865</td>\n",
       "      <td>108.166503</td>\n",
       "      <td>106.338592</td>\n",
       "      <td>107.269724</td>\n",
       "      <td>6.278760e+06</td>\n",
       "    </tr>\n",
       "    <tr>\n",
       "      <th>std</th>\n",
       "      <td>40.122937</td>\n",
       "      <td>40.198267</td>\n",
       "      <td>40.057692</td>\n",
       "      <td>40.137144</td>\n",
       "      <td>3.314386e+06</td>\n",
       "      <td>0.094086</td>\n",
       "      <td>0.0</td>\n",
       "      <td>40.589963</td>\n",
       "      <td>40.694568</td>\n",
       "      <td>40.490652</td>\n",
       "      <td>40.598655</td>\n",
       "      <td>3.314386e+06</td>\n",
       "    </tr>\n",
       "    <tr>\n",
       "      <th>min</th>\n",
       "      <td>54.650000</td>\n",
       "      <td>56.700000</td>\n",
       "      <td>54.010000</td>\n",
       "      <td>55.070000</td>\n",
       "      <td>1.027500e+06</td>\n",
       "      <td>0.000000</td>\n",
       "      <td>1.0</td>\n",
       "      <td>40.714758</td>\n",
       "      <td>42.242027</td>\n",
       "      <td>40.237952</td>\n",
       "      <td>41.027662</td>\n",
       "      <td>1.027500e+06</td>\n",
       "    </tr>\n",
       "    <tr>\n",
       "      <th>25%</th>\n",
       "      <td>92.270000</td>\n",
       "      <td>93.180000</td>\n",
       "      <td>91.500000</td>\n",
       "      <td>92.385000</td>\n",
       "      <td>4.023725e+06</td>\n",
       "      <td>0.000000</td>\n",
       "      <td>1.0</td>\n",
       "      <td>70.101463</td>\n",
       "      <td>70.880441</td>\n",
       "      <td>69.417812</td>\n",
       "      <td>70.119535</td>\n",
       "      <td>4.023725e+06</td>\n",
       "    </tr>\n",
       "    <tr>\n",
       "      <th>50%</th>\n",
       "      <td>119.310000</td>\n",
       "      <td>120.550000</td>\n",
       "      <td>117.850000</td>\n",
       "      <td>119.370000</td>\n",
       "      <td>5.502900e+06</td>\n",
       "      <td>0.000000</td>\n",
       "      <td>1.0</td>\n",
       "      <td>92.441676</td>\n",
       "      <td>93.664367</td>\n",
       "      <td>91.575772</td>\n",
       "      <td>92.473450</td>\n",
       "      <td>5.502900e+06</td>\n",
       "    </tr>\n",
       "    <tr>\n",
       "      <th>75%</th>\n",
       "      <td>161.935000</td>\n",
       "      <td>162.985000</td>\n",
       "      <td>160.845000</td>\n",
       "      <td>161.950000</td>\n",
       "      <td>7.644000e+06</td>\n",
       "      <td>0.000000</td>\n",
       "      <td>1.0</td>\n",
       "      <td>147.825960</td>\n",
       "      <td>148.985000</td>\n",
       "      <td>146.896456</td>\n",
       "      <td>147.799857</td>\n",
       "      <td>7.644000e+06</td>\n",
       "    </tr>\n",
       "    <tr>\n",
       "      <th>max</th>\n",
       "      <td>215.380000</td>\n",
       "      <td>215.900000</td>\n",
       "      <td>214.300000</td>\n",
       "      <td>215.800000</td>\n",
       "      <td>4.120730e+07</td>\n",
       "      <td>1.500000</td>\n",
       "      <td>1.0</td>\n",
       "      <td>186.042617</td>\n",
       "      <td>186.491787</td>\n",
       "      <td>185.109726</td>\n",
       "      <td>186.405408</td>\n",
       "      <td>4.120730e+07</td>\n",
       "    </tr>\n",
       "  </tbody>\n",
       "</table>\n",
       "</div>"
      ],
      "text/plain": [
       "              Open         High          Low        Close        Volume  \\\n",
       "count  4527.000000  4527.000000  4527.000000  4527.000000  4.527000e+03   \n",
       "mean    128.222709   129.396728   127.159447   128.298614  6.278760e+06   \n",
       "std      40.122937    40.198267    40.057692    40.137144  3.314386e+06   \n",
       "min      54.650000    56.700000    54.010000    55.070000  1.027500e+06   \n",
       "25%      92.270000    93.180000    91.500000    92.385000  4.023725e+06   \n",
       "50%     119.310000   120.550000   117.850000   119.370000  5.502900e+06   \n",
       "75%     161.935000   162.985000   160.845000   161.950000  7.644000e+06   \n",
       "max     215.380000   215.900000   214.300000   215.800000  4.120730e+07   \n",
       "\n",
       "       Ex-Dividend  Split Ratio    Adj. Open    Adj. High     Adj. Low  \\\n",
       "count  4527.000000       4527.0  4527.000000  4527.000000  4527.000000   \n",
       "mean      0.009600          1.0   107.207865   108.166503   106.338592   \n",
       "std       0.094086          0.0    40.589963    40.694568    40.490652   \n",
       "min       0.000000          1.0    40.714758    42.242027    40.237952   \n",
       "25%       0.000000          1.0    70.101463    70.880441    69.417812   \n",
       "50%       0.000000          1.0    92.441676    93.664367    91.575772   \n",
       "75%       0.000000          1.0   147.825960   148.985000   146.896456   \n",
       "max       1.500000          1.0   186.042617   186.491787   185.109726   \n",
       "\n",
       "        Adj. Close   Adj. Volume  \n",
       "count  4527.000000  4.527000e+03  \n",
       "mean    107.269724  6.278760e+06  \n",
       "std      40.598655  3.314386e+06  \n",
       "min      41.027662  1.027500e+06  \n",
       "25%      70.119535  4.023725e+06  \n",
       "50%      92.473450  5.502900e+06  \n",
       "75%     147.799857  7.644000e+06  \n",
       "max     186.405408  4.120730e+07  "
      ]
     },
     "execution_count": 16,
     "metadata": {},
     "output_type": "execute_result"
    }
   ],
   "source": [
    "stock_data.describe()"
   ]
  },
  {
   "cell_type": "markdown",
   "metadata": {},
   "source": [
    "Visually inspect the daily adjusted closing prices of the \"International Business Machines\" (IBM) stock market data:"
   ]
  },
  {
   "cell_type": "code",
   "execution_count": 17,
   "metadata": {},
   "outputs": [
    {
     "data": {
      "text/plain": [
       "Text(0.5, 1.0, 'International Business Machines (IBM) - Daily Adjusted Historical Stock Closing Prices')"
      ]
     },
     "execution_count": 17,
     "metadata": {},
     "output_type": "execute_result"
    },
    {
     "data": {
      "image/png": "[encoded data removed]",
      "text/plain": [
       "<Figure size 1080x360 with 1 Axes>"
      ]
     },
     "metadata": {
      "needs_background": "light"
     },
     "output_type": "display_data"
    }
   ],
   "source": [
    "plt.rcParams['figure.figsize'] = [15, 5]\n",
    "fig = plt.figure()\n",
    "ax = fig.add_subplot(111)\n",
    "\n",
    "# plot reconstruction error scatter plot\n",
    "ax.plot(stock_data.index, stock_data['Adj. Close'], color='#9b59b6')\n",
    "\n",
    "for tick in ax.get_xticklabels():\n",
    "    tick.set_rotation(45)\n",
    "\n",
    "# set x-axis labels and limits\n",
    "ax.set_xlabel('[time]', fontsize=10)\n",
    "ax.set_xlim([pd.to_datetime('01-01-2000'), pd.to_datetime('31-12-2017')])\n",
    "\n",
    "# set y-axis labels and limits\n",
    "ax.set_ylabel('[stock adj. closing price]', fontsize=10)\n",
    "ax.set_ylim(50, 220)\n",
    "\n",
    "# set plot title\n",
    "plt.title('International Business Machines (IBM) - Daily Adjusted Historical Stock Closing Prices', fontsize=10)"
   ]
  },
  {
   "cell_type": "markdown",
   "metadata": {},
   "source": [
    "Pls. note that we plotted the \"adjusted\" daily closing prices of the IBM stock. The stock prices are adjusted by the quandl team by several types of regular corporate actions, e.g., stock dividends, stock splits. For further details on the applied adjustments pls. refer to the following reference: https://blog.quandl.com/guide-to-stock-price-calculation"
   ]
  },
  {
   "cell_type": "markdown",
   "metadata": {},
   "source": [
    "Save the obtained and validated stock market data to the local data directory:"
   ]
  },
  {
   "cell_type": "code",
   "execution_count": 18,
   "metadata": {},
   "outputs": [],
   "source": [
    "# save retrieved data to local data directory\n",
    "stock_data.to_csv('data/ibm_data_2010_2017_daily.csv', sep=';', encoding='utf-8')"
   ]
  },
  {
   "cell_type": "markdown",
   "metadata": {},
   "source": [
    "### 2. Data Pre-Processing"
   ]
  },
  {
   "cell_type": "markdown",
   "metadata": {},
   "source": [
    "In this section, we will obtain daily returns of the retrieved daily adjusted closing prices. Also, we will convert the time-series of daily returns into a set of sequences $s$ of $n$ time steps respectively. The created sequences will then be used to learn a model using an LSTM based neural network."
   ]
  },
  {
   "cell_type": "markdown",
   "metadata": {},
   "source": [
    "#### 2.1. Daily Returns Calculation"
   ]
  },
  {
   "cell_type": "markdown",
   "metadata": {},
   "source": [
    "Determine the daily returns of the \"International Business Machines\" (IBM) daily adjusted closing prices:"
   ]
  },
  {
   "cell_type": "code",
   "execution_count": 19,
   "metadata": {},
   "outputs": [],
   "source": [
    "stock_data['RETURN'] = stock_data['Adj. Close'].pct_change()"
   ]
  },
  {
   "cell_type": "markdown",
   "metadata": {},
   "source": [
    "Inspect the daily returns of the daily closing prices:"
   ]
  },
  {
   "cell_type": "code",
   "execution_count": 20,
   "metadata": {},
   "outputs": [
    {
     "data": {
      "text/plain": [
       "Date\n",
       "2000-01-03         NaN\n",
       "2000-01-04   -0.033966\n",
       "2000-01-05    0.035160\n",
       "2000-01-06   -0.017241\n",
       "2000-01-07   -0.004386\n",
       "                ...   \n",
       "2017-12-22    0.006601\n",
       "2017-12-26    0.002164\n",
       "2017-12-27    0.001963\n",
       "2017-12-28    0.005943\n",
       "2017-12-29   -0.004025\n",
       "Name: RETURN, Length: 4527, dtype: float64"
      ]
     },
     "execution_count": 20,
     "metadata": {},
     "output_type": "execute_result"
    }
   ],
   "source": [
    "stock_data['RETURN']"
   ]
  },
  {
   "cell_type": "markdown",
   "metadata": {},
   "source": [
    "Visually inspect the obtained daily returns:"
   ]
  },
  {
   "cell_type": "code",
   "execution_count": 21,
   "metadata": {},
   "outputs": [
    {
     "data": {
      "text/plain": [
       "Text(0.5, 1.0, 'International Business Machines (IBM) - Daily Historical Stock Closing Prices')"
      ]
     },
     "execution_count": 21,
     "metadata": {},
     "output_type": "execute_result"
    },
    {
     "data": {
      "image/png": "[encoded data removed]",
      "text/plain": [
       "<Figure size 1080x360 with 1 Axes>"
      ]
     },
     "metadata": {
      "needs_background": "light"
     },
     "output_type": "display_data"
    }
   ],
   "source": [
    "plt.rcParams['figure.figsize'] = [15, 5]\n",
    "fig = plt.figure()\n",
    "ax = fig.add_subplot(111)\n",
    "\n",
    "# plot reconstruction error scatter plot\n",
    "ax.plot(stock_data.index, stock_data['RETURN'], color='#9b59b6')\n",
    "\n",
    "for tick in ax.get_xticklabels():\n",
    "    tick.set_rotation(45)\n",
    "\n",
    "# set axis labels and limits\n",
    "ax.set_xlabel('[time]', fontsize=10)\n",
    "ax.set_xlim([pd.to_datetime('01-01-2000'), pd.to_datetime('31-12-2017')])\n",
    "ax.set_ylabel('[daily stock returns]', fontsize=10)\n",
    "\n",
    "# set plot title\n",
    "plt.title('International Business Machines (IBM) - Daily Historical Stock Closing Prices', fontsize=10)"
   ]
  },
  {
   "cell_type": "markdown",
   "metadata": {},
   "source": [
    "#### 2.2 Transform Time-Series Into Sequences"
   ]
  },
  {
   "cell_type": "markdown",
   "metadata": {},
   "source": [
    "In the following, we determine the number of return time-steps $n$ each individual sequence $s^{i}$ should be comprised of. Each sequence is thereby determined by the number of predictor (return) time-steps $t$ and the prediction (return) horizon $h = t+1$."
   ]
  },
  {
   "cell_type": "markdown",
   "metadata": {},
   "source": [
    "<img align=\"center\" style=\"max-width: 500px\" src=\"timesteps.png\">"
   ]
  },
  {
   "cell_type": "markdown",
   "metadata": {},
   "source": [
    "In this example, we will set the number of predictor (return) time-steps to $t$=4. This indicates that the input sequence of each sample is a vector of 4 sequential daily stock returns (pls. note, the choice of $t$=4 is arbitrary and should be selected through experimentation). Furthermore, we set the predicted return horizon to 1, which specifies that we aim to forecast a single future time-step."
   ]
  },
  {
   "cell_type": "code",
   "execution_count": 22,
   "metadata": {},
   "outputs": [],
   "source": [
    "time_steps = 4 # number of predictor timesteps\n",
    "horizon = 1 # number of timesteps to be predicted\n",
    "sequence_length = time_steps + horizon # determine sequence length"
   ]
  },
  {
   "cell_type": "markdown",
   "metadata": {},
   "source": [
    "Remove the initial return of the return time-series which is usually not applicable and therefore `'nan'`:"
   ]
  },
  {
   "cell_type": "code",
   "execution_count": 23,
   "metadata": {},
   "outputs": [],
   "source": [
    "stock_daily_returns = stock_data['RETURN'][1:len(stock_data['RETURN'])]"
   ]
  },
  {
   "cell_type": "markdown",
   "metadata": {},
   "source": [
    "Inspect the \"cleaned\" daily returns of the daily closing prices:"
   ]
  },
  {
   "cell_type": "code",
   "execution_count": 24,
   "metadata": {},
   "outputs": [
    {
     "data": {
      "text/plain": [
       "Date\n",
       "2000-01-04   -0.033966\n",
       "2000-01-05    0.035160\n",
       "2000-01-06   -0.017241\n",
       "2000-01-07   -0.004386\n",
       "2000-01-10    0.039648\n",
       "                ...   \n",
       "2017-12-22    0.006601\n",
       "2017-12-26    0.002164\n",
       "2017-12-27    0.001963\n",
       "2017-12-28    0.005943\n",
       "2017-12-29   -0.004025\n",
       "Name: RETURN, Length: 4526, dtype: float64"
      ]
     },
     "execution_count": 24,
     "metadata": {},
     "output_type": "execute_result"
    }
   ],
   "source": [
    "stock_daily_returns"
   ]
  },
  {
   "cell_type": "markdown",
   "metadata": {},
   "source": [
    "Next, we extract the sequences $s^i$ of $n$ time-steps. Thereby, we will step-wise iterate (\"rolling window\") over the entire sequence of daily stock returns $r_i$. In each iteration step, we extract an individual sequence of stock returns consisting of $n$ time-steps. The extracted individual sequences of adjusted daily closing prices are then collected in a single data frame."
   ]
  },
  {
   "cell_type": "markdown",
   "metadata": {},
   "source": [
    "<img align=\"center\" style=\"max-width: 900px\" src=\"sequences.png\">"
   ]
  },
  {
   "cell_type": "markdown",
   "metadata": {},
   "source": [
    "Extract individual time sequences of length $n$ from the obtained daily returns:"
   ]
  },
  {
   "cell_type": "code",
   "execution_count": 25,
   "metadata": {},
   "outputs": [],
   "source": [
    "# iterate over distinct adjusted closing prices\n",
    "for i in range(0, stock_daily_returns.shape[0] - sequence_length):\n",
    "\n",
    "    # extract normalized closing price sequence \n",
    "    single_stock_sequence_data = stock_daily_returns[i:i + sequence_length].T\n",
    "\n",
    "    # case: initial sequence\n",
    "    if i == 0:\n",
    "\n",
    "        # convert to numpy array and collect sequence of adjusted closing prices\n",
    "        stock_sequence_data = np.array(single_stock_sequence_data)\n",
    "\n",
    "    # case: non-initial sequence\n",
    "    else:\n",
    "\n",
    "        # convert to numpy array and collect sequence of adjusted closing prices\n",
    "        stock_sequence_data  = np.vstack((stock_sequence_data , np.array(single_stock_sequence_data)))"
   ]
  },
  {
   "cell_type": "markdown",
   "metadata": {},
   "source": [
    "Inspect the top five collected adjusted daily closing prices sequences:"
   ]
  },
  {
   "cell_type": "code",
   "execution_count": 26,
   "metadata": {},
   "outputs": [
    {
     "data": {
      "text/plain": [
       "array([[-0.03396552,  0.03515974, -0.01724138, -0.00438596,  0.03964758],\n",
       "       [ 0.03515974, -0.01724138, -0.00438596,  0.03964758,  0.00847458],\n",
       "       [-0.01724138, -0.00438596,  0.03964758,  0.00847458,  0.00420168],\n",
       "       [-0.00438596,  0.03964758,  0.00847458,  0.00420168, -0.01046025],\n",
       "       [ 0.03964758,  0.00847458,  0.00420168, -0.01046025,  0.01158562]])"
      ]
     },
     "execution_count": 26,
     "metadata": {},
     "output_type": "execute_result"
    }
   ],
   "source": [
    "stock_sequence_data[0:5,]"
   ]
  },
  {
   "cell_type": "markdown",
   "metadata": {},
   "source": [
    "#### 2.3 Conduct Train-Test Split for Neural Network Training"
   ]
  },
  {
   "cell_type": "markdown",
   "metadata": {},
   "source": [
    "To understand and evaluate the performance of any trained **supervised machine learning** model, it is good practice, to divide the dataset into a **training set** or **\"in-sample\"** data (the fraction of data records solely used for training purposes) and a **evaluation set** or **\"out-of-sample\"** data (the fraction of data records solely used for evaluation purposes). Pls. note, the **evaluation set** will never be shown to the model as part of the training process."
   ]
  },
  {
   "cell_type": "markdown",
   "metadata": {},
   "source": [
    "<img align=\"center\" style=\"max-width: 500px\" src=\"traintestsplit.png\">"
   ]
  },
  {
   "cell_type": "markdown",
   "metadata": {},
   "source": [
    "We set the split fraction of training sequences to **90%** of the total number of obtained sequences:"
   ]
  },
  {
   "cell_type": "code",
   "execution_count": 27,
   "metadata": {},
   "outputs": [],
   "source": [
    "split_fraction = 0.9\n",
    "split_row = int(stock_sequence_data.shape[0] * split_fraction)"
   ]
  },
  {
   "cell_type": "markdown",
   "metadata": {},
   "source": [
    "Split obtained return sequences into training (in-sample) sequences $s^{i}_{train}$ and validation (out-of-sample) sequences $s^{i}_{valid}$:"
   ]
  },
  {
   "cell_type": "code",
   "execution_count": 28,
   "metadata": {},
   "outputs": [],
   "source": [
    "train_sequences = stock_sequence_data[:split_row,]\n",
    "valid_sequences = stock_sequence_data[split_row:,]"
   ]
  },
  {
   "cell_type": "markdown",
   "metadata": {},
   "source": [
    "Visually inspect the obtained train and validation sequences:"
   ]
  },
  {
   "cell_type": "code",
   "execution_count": 29,
   "metadata": {},
   "outputs": [
    {
     "data": {
      "text/plain": [
       "Text(0.5, 1.0, 'International Business Machines (IBM) - Daily Historical Stock Returns')"
      ]
     },
     "execution_count": 29,
     "metadata": {},
     "output_type": "execute_result"
    },
    {
     "data": {
      "image/png": "[encoded data removed]",
      "text/plain": [
       "<Figure size 1080x360 with 1 Axes>"
      ]
     },
     "metadata": {
      "needs_background": "light"
     },
     "output_type": "display_data"
    }
   ],
   "source": [
    "plt.rcParams['figure.figsize'] = [15, 5]\n",
    "fig = plt.figure()\n",
    "ax = fig.add_subplot(111)\n",
    "\n",
    "# plot daily stock returns\n",
    "ax.plot(stock_data.index[:split_row,], train_sequences[:,0], c='C0', label='train')\n",
    "ax.plot(stock_data.index[split_row+6:,], valid_sequences[:,0], c='C1', label='valid')\n",
    "\n",
    "# rotate x-labels 45 degree angle\n",
    "for tick in ax.get_xticklabels():\n",
    "    tick.set_rotation(45)\n",
    "\n",
    "# set axis labels and limits\n",
    "ax.set_xlabel('[time]', fontsize=10)\n",
    "ax.set_xlim([pd.to_datetime('01-01-2000'), pd.to_datetime('31-12-2017')])\n",
    "ax.set_ylabel('[daily stock returns]', fontsize=10)\n",
    "\n",
    "# set plot legend\n",
    "plt.legend(loc=\"lower right\", numpoints=1, fancybox=True)\n",
    "\n",
    "# set plot title\n",
    "plt.title('International Business Machines (IBM) - Daily Historical Stock Returns', fontsize=10)"
   ]
  },
  {
   "cell_type": "markdown",
   "metadata": {},
   "source": [
    "Determine count (shape) of adjusted daily return train sequences $s^{i}_{train}$:"
   ]
  },
  {
   "cell_type": "code",
   "execution_count": 30,
   "metadata": {},
   "outputs": [
    {
     "data": {
      "text/plain": [
       "(4068, 5)"
      ]
     },
     "execution_count": 30,
     "metadata": {},
     "output_type": "execute_result"
    }
   ],
   "source": [
    "train_sequences.shape"
   ]
  },
  {
   "cell_type": "markdown",
   "metadata": {},
   "source": [
    "Determine count (shape) of adjusted daily return train sequences $s^{i}_{valid}$:"
   ]
  },
  {
   "cell_type": "code",
   "execution_count": 31,
   "metadata": {},
   "outputs": [
    {
     "data": {
      "text/plain": [
       "(453, 5)"
      ]
     },
     "execution_count": 31,
     "metadata": {},
     "output_type": "execute_result"
    }
   ],
   "source": [
    "valid_sequences.shape"
   ]
  },
  {
   "cell_type": "markdown",
   "metadata": {},
   "source": [
    "#### 2.4 Conduct Input-Target Split for Neural Network Training"
   ]
  },
  {
   "cell_type": "markdown",
   "metadata": {},
   "source": [
    "Before we continue the date pre-processing, let's briefly revisit how RNN's or, more specifically, LSTM based NN's can be trained to predict the next element of an input sequence. The cartoon below is derived from the \"Next Word Predictor\" Example that we also discussed in the course. For each **input return** $r_{i}$ of the input return training sequence $s^i$ the LSTM is supposed to learn to **predict the return** of the next time-step $\\hat{r}_{i+1}$. In order to make such a future return $\\hat{r}_{i+1}$ prediction the LSTM uses it's learned hidden state information $h_{i}$ as well as the current return $r_{i}$ as an input. \n",
    "\n",
    "For each time-step the predicted return $\\hat{r}_{i+1}$ is then compared to the **target return** $r_{i+1}$. The discrepancy between both is collected as a loss $\\mathcal{L}$ for the distinct timesteps. The accumulation of the individual time-step losses is accumulated as the total loss of a sequence $\\mathcal{L}_{All}$."
   ]
  },
  {
   "cell_type": "markdown",
   "metadata": {},
   "source": [
    "<img align=\"center\" style=\"max-width: 600px\" src=\"training.png\">"
   ]
  },
  {
   "cell_type": "markdown",
   "metadata": {},
   "source": [
    "Seperate each training sequence $s^{i}$ into time-steps of input returns denoted by $s^{i}_{train, input}=\\{r_{t-n-1}, ..., r_{t-1}, r_{t}\\}$ and the time-step of the to be predicted target return denoted by $s^{i}_{train, target}=r_{t+1}$."
   ]
  },
  {
   "cell_type": "markdown",
   "metadata": {},
   "source": [
    "<img align=\"center\" style=\"max-width: 700px\" src=\"sequencesplit.png\">"
   ]
  },
  {
   "cell_type": "markdown",
   "metadata": {},
   "source": [
    "In addition, we convert both the input returns as well as the target returns to PyTorch tensors:"
   ]
  },
  {
   "cell_type": "code",
   "execution_count": 32,
   "metadata": {},
   "outputs": [],
   "source": [
    "train_sequences_input = torch.from_numpy(train_sequences[:, :-1]).float()\n",
    "train_sequences_target = torch.from_numpy(train_sequences[:, 1:]).float()"
   ]
  },
  {
   "cell_type": "markdown",
   "metadata": {},
   "source": [
    "Seperate each validation sequence $s^{i}$ into time-steps of input returns denoted by $s^{i}_{valid, input}=\\{r_{t-n-1}, ..., r_{t-1}, r_{t}\\}$ and the time-step of the to be predicted target return denoted by $s^{i}_{valid, target}=r_{t+1}$. In addition, we convert both the input returns as well as the target returns to PyTorch tensors:"
   ]
  },
  {
   "cell_type": "code",
   "execution_count": 33,
   "metadata": {},
   "outputs": [],
   "source": [
    "valid_sequences_input = torch.from_numpy(valid_sequences[:, :-1]).float()\n",
    "valid_sequences_target = torch.from_numpy(valid_sequences[:, 1:]).float()"
   ]
  },
  {
   "cell_type": "markdown",
   "metadata": {},
   "source": [
    "To train an LSTM neural network, we tailor the dataset class provided by the PyTorch library. We overwrite the individual functions of the dataset class. So that our dataset will supply the neural network with the individual training sequences $s^{i}_{train, input}$ and corresponding targets $s^{i}_{train, target}$ throughout the training process:"
   ]
  },
  {
   "cell_type": "code",
   "execution_count": 34,
   "metadata": {},
   "outputs": [],
   "source": [
    "# define daily returns dataset\n",
    "class DailyReturnsDataset(data.Dataset):\n",
    "\n",
    "    # define the class constructor\n",
    "    def __init__(self, sequences, targets):\n",
    "\n",
    "        # init sequences and corresponding targets\n",
    "        self.sequences = sequences\n",
    "        self.targets = targets\n",
    "\n",
    "    # define the length method \n",
    "    def __len__(self):\n",
    "\n",
    "        # returns the number of samples\n",
    "        return len(self.targets)\n",
    "\n",
    "    # define the get item method\n",
    "    def __getitem__(self, index):\n",
    "\n",
    "        # determine single sequence and corresponding target\n",
    "        sequence = self.sequences[index, :]\n",
    "        target = self.targets[index, :]\n",
    "\n",
    "        # return sequences and target\n",
    "        return sequence, target"
   ]
  },
  {
   "cell_type": "markdown",
   "metadata": {},
   "source": [
    "Once we have specified the daily returns dataset class we instantiate it using the new daily closing dataset using the prepared training input sequences $s^{i}_{train, input}$ and corresponding targets $s^{i}_{train, target}$: "
   ]
  },
  {
   "cell_type": "code",
   "execution_count": 35,
   "metadata": {},
   "outputs": [],
   "source": [
    "train_dataset = DailyReturnsDataset(train_sequences_input, train_sequences_target)"
   ]
  },
  {
   "cell_type": "markdown",
   "metadata": {},
   "source": [
    "Let's see how it works by getting the 10th sequence and its corresponding targets:"
   ]
  },
  {
   "cell_type": "code",
   "execution_count": 36,
   "metadata": {},
   "outputs": [
    {
     "data": {
      "text/plain": [
       "(tensor([ 0.0324, -0.0042,  0.0210,  0.0000]),\n",
       " tensor([-0.0042,  0.0210,  0.0000, -0.0196]))"
      ]
     },
     "execution_count": 36,
     "metadata": {},
     "output_type": "execute_result"
    }
   ],
   "source": [
    "train_dataset.__getitem__(10)"
   ]
  },
  {
   "cell_type": "markdown",
   "metadata": {},
   "source": [
    "### 3. Neural Network Implementation and Loss Function"
   ]
  },
  {
   "cell_type": "markdown",
   "metadata": {},
   "source": [
    "In this section, we will implement the LSTM architecture of the to be learned time series model. Furthermore, we will specify the loss-function, learning-rate and optimization technique used in the network training."
   ]
  },
  {
   "cell_type": "markdown",
   "metadata": {},
   "source": [
    "#### 3.1. Implementation of the LSTM Architecture"
   ]
  },
  {
   "cell_type": "markdown",
   "metadata": {},
   "source": [
    "In this section, we will implement the architecture of the LSTM neural network utilized to predict future returns of financial time series data, e.g. as in this example, the future returns of a given stock. The neural network, which we name **'LSTMNet'** consists in total of three layers. The first two layers correspond to LSTM cells, while the third layer corresponds to a fully-connected linear layer."
   ]
  },
  {
   "cell_type": "markdown",
   "metadata": {},
   "source": [
    "<img align=\"center\" style=\"max-width: 400px\" src=\"lstmnet.png\">"
   ]
  },
  {
   "cell_type": "markdown",
   "metadata": {},
   "source": [
    "The general LSTM cell structure as well as the formal definition of its individual gate functions are shown in the following (not considering the bias of each layer for simplicity):"
   ]
  },
  {
   "cell_type": "markdown",
   "metadata": {},
   "source": [
    "<img align=\"center\" style=\"max-width: 700px\" src=\"lstmcell.png\">"
   ]
  },
  {
   "cell_type": "markdown",
   "metadata": {},
   "source": [
    "(Source: https://pytorch.org/docs/stable/nn.html)"
   ]
  },
  {
   "cell_type": "markdown",
   "metadata": {},
   "source": [
    "Each LSTM layer consits of a LSTM cell exhibiting a hidden state of 51 dimensions. The third linear squeezes the 51 hidden state dimensions of the second LSTM cell into a single output dimension. The single output signal of the linear layer refers to the return of the next time-step predicted by the neural network. Please note, that the choice of the implemented architecture and network hyperparameters is arbitrary and should in a real-world scenario be evaluated and selected thoroughly through experimentation."
   ]
  },
  {
   "cell_type": "code",
   "execution_count": 37,
   "metadata": {},
   "outputs": [],
   "source": [
    "# implement the LSTMNet network architecture\n",
    "class LSTMNet(nn.Module):\n",
    "\n",
    "    # define class constructor\n",
    "    def __init__(self):\n",
    "\n",
    "        super(LSTMNet, self).__init__()\n",
    "\n",
    "        # define lstm nn architecture\n",
    "        self.lstm1 = nn.LSTMCell(1, 51)  # first lstm layer\n",
    "        self.lstm2 = nn.LSTMCell(51, 51)  # second lstm layer\n",
    "        self.linear = nn.Linear(51, 1)  # final linear layer\n",
    "\n",
    "    # define network forward pass\n",
    "    def forward(self, input):\n",
    "\n",
    "        # init predictions\n",
    "        predictions = []\n",
    "\n",
    "        # init the lstm hidden states\n",
    "        h_t = torch.zeros(input.size(0), 51, dtype=torch.float)\n",
    "        h_t2 = torch.zeros(input.size(0), 51, dtype=torch.float)\n",
    "\n",
    "        # init the lstm cell states\n",
    "        c_t = torch.zeros(input.size(0), 51, dtype=torch.float)\n",
    "        c_t2 = torch.zeros(input.size(0), 51, dtype=torch.float)\n",
    "        \n",
    "        # iterate over distinct time steps\n",
    "        for i, input_t in enumerate(input.chunk(input.size(1), dim=1)):\n",
    "\n",
    "            # propagate through time step data\n",
    "            h_t, c_t = self.lstm1(input_t, (h_t, c_t))\n",
    "            h_t2, c_t2 = self.lstm2(h_t, (h_t2, c_t2))\n",
    "            prediction = self.linear(h_t2)\n",
    "            \n",
    "            # collect predictions\n",
    "            predictions += [prediction]\n",
    "\n",
    "        # stack predictions\n",
    "        predictions = torch.stack(predictions, 1).squeeze(2)\n",
    "\n",
    "        # return predictions\n",
    "        return predictions"
   ]
  },
  {
   "cell_type": "markdown",
   "metadata": {},
   "source": [
    "Now, that we have implemented our first LSTM neural network we are ready to instantiate a model to be trained:"
   ]
  },
  {
   "cell_type": "code",
   "execution_count": 38,
   "metadata": {},
   "outputs": [],
   "source": [
    "lstm_model = LSTMNet()"
   ]
  },
  {
   "cell_type": "markdown",
   "metadata": {},
   "source": [
    "Once the model is initialized, we can visualize the model structure and review the implemented network architecture by execution of the following cell:"
   ]
  },
  {
   "cell_type": "code",
   "execution_count": 39,
   "metadata": {},
   "outputs": [
    {
     "name": "stdout",
     "output_type": "stream",
     "text": [
      "[LOG] LSTMNet architecture:\n",
      "\n",
      "LSTMNet(\n",
      "  (lstm1): LSTMCell(1, 51)\n",
      "  (lstm2): LSTMCell(51, 51)\n",
      "  (linear): Linear(in_features=51, out_features=1, bias=True)\n",
      ")\n",
      "\n"
     ]
    }
   ],
   "source": [
    "# print the initialized architectures\n",
    "print('[LOG] LSTMNet architecture:\\n\\n{}\\n'.format(lstm_model))"
   ]
  },
  {
   "cell_type": "markdown",
   "metadata": {},
   "source": [
    "Looks like intended? Great! Finally, let's have a look into the number of model parameters that we aim to train in the next steps of the notebook:"
   ]
  },
  {
   "cell_type": "code",
   "execution_count": 40,
   "metadata": {},
   "outputs": [
    {
     "name": "stdout",
     "output_type": "stream",
     "text": [
      "[LOG] Number of to be trained LSTMNet model parameters: 32284.\n"
     ]
    }
   ],
   "source": [
    "# init the number of model parameters\n",
    "num_params = 0\n",
    "\n",
    "# iterate over the distinct parameters\n",
    "for param in lstm_model.parameters():\n",
    "\n",
    "    # collect number of parameters\n",
    "    num_params += param.numel()\n",
    "    \n",
    "# print the number of model paramters\n",
    "print('[LOG] Number of to be trained LSTMNet model parameters: {}.'.format(num_params))"
   ]
  },
  {
   "cell_type": "markdown",
   "metadata": {},
   "source": [
    "Ok, our \"simple\" `LSTMNet` model already encompasses an impressive number **32'284 model parameters** to be trained."
   ]
  },
  {
   "cell_type": "markdown",
   "metadata": {},
   "source": [
    "#### 3.2. Definition of the Training Loss Function and Learning Rate"
   ]
  },
  {
   "cell_type": "markdown",
   "metadata": {},
   "source": [
    "We are now good to train the network. However, prior to starting the training, we need to define an appropriate loss function. Remember, we aim to train our model to learn a set of model parameters $\\theta$ that minimize the prediction error of the true return $r_{t+1}$ and the by the model predicted return $\\hat{r}_{t+1}$ at a given time-step $t+1$ of sequence $s^{i}$. In other words, for a given sequence of historic returns, we aim to learn a function $f_\\theta$ that is capable to predicts the return of the next timestep as faithfully as possible, as expressed by:"
   ]
  },
  {
   "cell_type": "markdown",
   "metadata": {},
   "source": [
    "<center> $\\hat{r}_{t+1} = f_\\theta(r_{t}, r_{t-1}, ..., r_{t-n})$. </center>"
   ]
  },
  {
   "cell_type": "markdown",
   "metadata": {},
   "source": [
    "Thereby, the training objective is to learn a set of optimal model parameters $\\theta^*$ that optimize $\\min_{\\theta} \\|r_{t+1} - f_\\theta(r_{t}, r_{t-1}, ..., r_{t-n})\\|$ over all time-steps $t$ contained in the set of training sequences $s_{train}$. To achieve this optimization objective, one typically minimizes a loss function $\\mathcal{L_{\\theta}}$ while training the neural network. In this lab we use the **'Mean Squared Error (MSE)'** loss, as denoted by:"
   ]
  },
  {
   "cell_type": "markdown",
   "metadata": {},
   "source": [
    "<center> $\\mathcal{L}^{MSE}_{\\theta} (r_{t+1}, \\hat{r}_{t+1}) = \\frac{1}{N} \\sum_{i=1}^N \\| r_{t+1} - \\hat{r}_{t+1}\\|^{2}$, </center>"
   ]
  },
  {
   "cell_type": "code",
   "execution_count": 41,
   "metadata": {},
   "outputs": [],
   "source": [
    "loss_function = nn.MSELoss()"
   ]
  },
  {
   "cell_type": "markdown",
   "metadata": {},
   "source": [
    "Throughout the training process, the PyTorch library will automatically calculate the loss magnitude, compute the gradient, and update the parameters $\\theta$ of the LSTM neural network. We will use the **\"Adaptive Moment Estimation Optimization\" (ADAM)** technique to optimize the network parameters. Furthermore, we specify a constant learning rate of $l = 1e-06$. For each training step, the optimizer will update the model parameters $\\theta$ values according to the degree of prediction error (the MSE loss)."
   ]
  },
  {
   "cell_type": "code",
   "execution_count": 42,
   "metadata": {},
   "outputs": [],
   "source": [
    "learning_rate = 1e-06 # set constant learning rate\n",
    "optimizer = optim.Adam(lstm_model.parameters(), lr=learning_rate) # define optimization technique"
   ]
  },
  {
   "cell_type": "markdown",
   "metadata": {},
   "source": [
    "Now that we have successfully implemented and defined the three ANN building blocks, let's take some time to review the `LSTMNet` model definition as well as the `MSE loss` function. Please, read the above code and comments carefully, and don't hesitate to let us know any questions you might have."
   ]
  },
  {
   "cell_type": "markdown",
   "metadata": {},
   "source": [
    "### 4. Training the Neural Network Model"
   ]
  },
  {
   "cell_type": "markdown",
   "metadata": {},
   "source": [
    "In this section, we will train the LSTM neural network model (as implemented in the section above) using the prepared dataset of daily return sequences. Therefore, we will have a detailed look into the distinct training steps and monitor the training progress."
   ]
  },
  {
   "cell_type": "markdown",
   "metadata": {},
   "source": [
    "#### 4.1. Preparing the Network Training"
   ]
  },
  {
   "cell_type": "markdown",
   "metadata": {},
   "source": [
    "Let's now start to learn a model by training the NN for **200 epochs** in mini-batches of the size of **128  sequences** per batch. This implies that the whole dataset will be fed to the network **200 times** in chunks of 128 sequences yielding to **32 mini-batches** (4'068 training sequences / 128 sequences per mini-batch) per epoch:"
   ]
  },
  {
   "cell_type": "code",
   "execution_count": 43,
   "metadata": {},
   "outputs": [],
   "source": [
    "# specify the training parameters\n",
    "num_epochs = 200 # number of training epochs\n",
    "mini_batch_size = 128 # size of the mini-batches"
   ]
  },
  {
   "cell_type": "markdown",
   "metadata": {},
   "source": [
    "Furthermore, let's specify and instantiate a corresponding `PyTorch`data loader that feeds the image tensors to our neural network:"
   ]
  },
  {
   "cell_type": "code",
   "execution_count": 44,
   "metadata": {},
   "outputs": [],
   "source": [
    "dl = dataloader.DataLoader(train_dataset, batch_size=mini_batch_size, shuffle=True)"
   ]
  },
  {
   "cell_type": "markdown",
   "metadata": {},
   "source": [
    "#### 4.2. Running the Network Training"
   ]
  },
  {
   "cell_type": "markdown",
   "metadata": {},
   "source": [
    "Finally, we start training the model. The training procedure of each mini-batch is performed as follows: \n",
    "\n",
    ">1. do a forward pass through the LSTMNet network, \n",
    ">2. compute the mean-squared prediction error $\\mathcal{L}^{MSE}_{\\theta} (r_{t+1}, \\hat{r}_{t+1}) = \\frac{1}{N} \\sum_{i=1}^N \\| r_{t+1} - \\hat{r}_{t+1}\\|^{2}$, \n",
    ">3. do a backward pass through the LSTMNet network, and \n",
    ">4. update the parameters of the network $f_\\theta(\\cdot)$.\n",
    "\n",
    "To ensure learning while training the LSTM model, we will monitor whether the loss decreases with progressing training. Therefore, we obtain and evaluate the mean prediction performance over all mini-batches in each training epoch. Based on this evaluation, we can conclude the training progress and whether the loss is converging (indicating that the model might not improve any further).\n",
    "\n",
    "The following elements of the network training code below should be given particular attention:\n",
    " \n",
    ">- `loss.backward()` computes the gradients based on the magnitude of the reconstruction loss,\n",
    ">- `optimizer.step()` updates the network parameters based on the gradient."
   ]
  },
  {
   "cell_type": "code",
   "execution_count": 45,
   "metadata": {
    "scrolled": true
   },
   "outputs": [
    {
     "name": "stdout",
     "output_type": "stream",
     "text": [
      "[LOG 20200127-15:06:03] epoch: 0 train-loss: 0.003695010265801102\n",
      "[LOG 20200127-15:06:04] epoch: 1 train-loss: 0.003644442251243163\n",
      "[LOG 20200127-15:06:04] epoch: 2 train-loss: 0.003587580496969167\n",
      "[LOG 20200127-15:06:04] epoch: 3 train-loss: 0.0035264926482341252\n",
      "[LOG 20200127-15:06:04] epoch: 4 train-loss: 0.003466226553427987\n",
      "[LOG 20200127-15:06:05] epoch: 5 train-loss: 0.0034046353539451957\n",
      "[LOG 20200127-15:06:05] epoch: 6 train-loss: 0.0033436808807891794\n",
      "[LOG 20200127-15:06:05] epoch: 7 train-loss: 0.0032837437611306086\n",
      "[LOG 20200127-15:06:05] epoch: 8 train-loss: 0.003223346888262313\n",
      "[LOG 20200127-15:06:06] epoch: 9 train-loss: 0.003165444031765219\n",
      "[LOG 20200127-15:06:06] epoch: 10 train-loss: 0.0031069393444340676\n",
      "[LOG 20200127-15:06:06] epoch: 10 new best train-loss: 0.0031069393444340676 found\n",
      "[LOG 20200127-15:06:06] epoch: 11 train-loss: 0.00304861076438101\n",
      "[LOG 20200127-15:06:06] epoch: 12 train-loss: 0.0029920029410277493\n",
      "[LOG 20200127-15:06:07] epoch: 13 train-loss: 0.0029359028339968063\n",
      "[LOG 20200127-15:06:07] epoch: 14 train-loss: 0.0028793032761313953\n",
      "[LOG 20200127-15:06:07] epoch: 15 train-loss: 0.002826190524501726\n",
      "[LOG 20200127-15:06:07] epoch: 16 train-loss: 0.0027736561678466387\n",
      "[LOG 20200127-15:06:08] epoch: 17 train-loss: 0.002720173535635695\n",
      "[LOG 20200127-15:06:08] epoch: 18 train-loss: 0.0026684031763579696\n",
      "[LOG 20200127-15:06:08] epoch: 19 train-loss: 0.002617986021505203\n",
      "[LOG 20200127-15:06:08] epoch: 20 train-loss: 0.0025672316987765953\n",
      "[LOG 20200127-15:06:08] epoch: 20 new best train-loss: 0.0025672316987765953 found\n",
      "[LOG 20200127-15:06:09] epoch: 21 train-loss: 0.002518446017347742\n",
      "[LOG 20200127-15:06:09] epoch: 22 train-loss: 0.0024703158051124774\n",
      "[LOG 20200127-15:06:09] epoch: 23 train-loss: 0.00242285082640592\n",
      "[LOG 20200127-15:06:10] epoch: 24 train-loss: 0.00237508140708087\n",
      "[LOG 20200127-15:06:10] epoch: 25 train-loss: 0.0023294213679037057\n",
      "[LOG 20200127-15:06:10] epoch: 26 train-loss: 0.002285599119204562\n",
      "[LOG 20200127-15:06:10] epoch: 27 train-loss: 0.002240727080788929\n",
      "[LOG 20200127-15:06:11] epoch: 28 train-loss: 0.002196129411458969\n",
      "[LOG 20200127-15:06:11] epoch: 29 train-loss: 0.002151830842194613\n",
      "[LOG 20200127-15:06:11] epoch: 30 train-loss: 0.002110073583025951\n",
      "[LOG 20200127-15:06:11] epoch: 30 new best train-loss: 0.002110073583025951 found\n",
      "[LOG 20200127-15:06:11] epoch: 31 train-loss: 0.0020682045396824833\n",
      "[LOG 20200127-15:06:12] epoch: 32 train-loss: 0.002027978356636595\n",
      "[LOG 20200127-15:06:12] epoch: 33 train-loss: 0.0019882249980582856\n",
      "[LOG 20200127-15:06:12] epoch: 34 train-loss: 0.0019487170029606204\n",
      "[LOG 20200127-15:06:12] epoch: 35 train-loss: 0.0019097913718724158\n",
      "[LOG 20200127-15:06:13] epoch: 36 train-loss: 0.0018727439892245457\n",
      "[LOG 20200127-15:06:13] epoch: 37 train-loss: 0.001834679176681675\n",
      "[LOG 20200127-15:06:13] epoch: 38 train-loss: 0.0017992807152040768\n",
      "[LOG 20200127-15:06:13] epoch: 39 train-loss: 0.0017629162321100011\n",
      "[LOG 20200127-15:06:13] epoch: 40 train-loss: 0.0017277203514822759\n",
      "[LOG 20200127-15:06:13] epoch: 40 new best train-loss: 0.0017277203514822759 found\n",
      "[LOG 20200127-15:06:14] epoch: 41 train-loss: 0.0016925670970522333\n",
      "[LOG 20200127-15:06:14] epoch: 42 train-loss: 0.0016590442101005465\n",
      "[LOG 20200127-15:06:14] epoch: 43 train-loss: 0.0016266443781205453\n",
      "[LOG 20200127-15:06:14] epoch: 44 train-loss: 0.0015941196070343722\n",
      "[LOG 20200127-15:06:15] epoch: 45 train-loss: 0.001561724282510113\n",
      "[LOG 20200127-15:06:15] epoch: 46 train-loss: 0.0015301282837754115\n",
      "[LOG 20200127-15:06:15] epoch: 47 train-loss: 0.0014993800614320207\n",
      "[LOG 20200127-15:06:15] epoch: 48 train-loss: 0.001469065926357871\n",
      "[LOG 20200127-15:06:16] epoch: 49 train-loss: 0.0014398493403859902\n",
      "[LOG 20200127-15:06:16] epoch: 50 train-loss: 0.0014111622513155453\n",
      "[LOG 20200127-15:06:16] epoch: 50 new best train-loss: 0.0014111622513155453 found\n",
      "[LOG 20200127-15:06:16] epoch: 51 train-loss: 0.0013829498457198497\n",
      "[LOG 20200127-15:06:16] epoch: 52 train-loss: 0.0013557743150158785\n",
      "[LOG 20200127-15:06:17] epoch: 53 train-loss: 0.0013283602638693992\n",
      "[LOG 20200127-15:06:17] epoch: 54 train-loss: 0.0013029065376031213\n",
      "[LOG 20200127-15:06:17] epoch: 55 train-loss: 0.0012771434958267491\n",
      "[LOG 20200127-15:06:17] epoch: 56 train-loss: 0.0012508453073678538\n",
      "[LOG 20200127-15:06:18] epoch: 57 train-loss: 0.001226133739692159\n",
      "[LOG 20200127-15:06:18] epoch: 58 train-loss: 0.001202673516672803\n",
      "[LOG 20200127-15:06:18] epoch: 59 train-loss: 0.0011796087965194602\n",
      "[LOG 20200127-15:06:18] epoch: 60 train-loss: 0.0011558036057977006\n",
      "[LOG 20200127-15:06:18] epoch: 60 new best train-loss: 0.0011558036057977006 found\n",
      "[LOG 20200127-15:06:19] epoch: 61 train-loss: 0.001133717829361558\n",
      "[LOG 20200127-15:06:19] epoch: 62 train-loss: 0.0011117853464384098\n",
      "[LOG 20200127-15:06:19] epoch: 63 train-loss: 0.001091476382498513\n",
      "[LOG 20200127-15:06:19] epoch: 64 train-loss: 0.0010689676801121095\n",
      "[LOG 20200127-15:06:20] epoch: 65 train-loss: 0.0010491742395970505\n",
      "[LOG 20200127-15:06:20] epoch: 66 train-loss: 0.0010291748785675736\n",
      "[LOG 20200127-15:06:20] epoch: 67 train-loss: 0.0010110110415553208\n",
      "[LOG 20200127-15:06:20] epoch: 68 train-loss: 0.0009915108676068485\n",
      "[LOG 20200127-15:06:21] epoch: 69 train-loss: 0.0009729744506330462\n",
      "[LOG 20200127-15:06:21] epoch: 70 train-loss: 0.0009554864664096385\n",
      "[LOG 20200127-15:06:21] epoch: 70 new best train-loss: 0.0009554864664096385 found\n",
      "[LOG 20200127-15:06:21] epoch: 71 train-loss: 0.0009378811682836385\n",
      "[LOG 20200127-15:06:21] epoch: 72 train-loss: 0.0009216288981406251\n",
      "[LOG 20200127-15:06:21] epoch: 73 train-loss: 0.000905698132555699\n",
      "[LOG 20200127-15:06:22] epoch: 74 train-loss: 0.0008903674515750026\n",
      "[LOG 20200127-15:06:22] epoch: 75 train-loss: 0.0008747476495045703\n",
      "[LOG 20200127-15:06:22] epoch: 76 train-loss: 0.0008590602592448704\n",
      "[LOG 20200127-15:06:22] epoch: 77 train-loss: 0.0008463867907266831\n",
      "[LOG 20200127-15:06:23] epoch: 78 train-loss: 0.0008321751847688574\n",
      "[LOG 20200127-15:06:23] epoch: 79 train-loss: 0.0008180042532330845\n",
      "[LOG 20200127-15:06:23] epoch: 80 train-loss: 0.0008052661396504845\n",
      "[LOG 20200127-15:06:23] epoch: 80 new best train-loss: 0.0008052661396504845 found\n",
      "[LOG 20200127-15:06:23] epoch: 81 train-loss: 0.0007932084499771008\n",
      "[LOG 20200127-15:06:24] epoch: 82 train-loss: 0.0007808698392182123\n",
      "[LOG 20200127-15:06:24] epoch: 83 train-loss: 0.000769911823226721\n",
      "[LOG 20200127-15:06:24] epoch: 84 train-loss: 0.0007587211384816328\n",
      "[LOG 20200127-15:06:24] epoch: 85 train-loss: 0.0007476922455680324\n",
      "[LOG 20200127-15:06:25] epoch: 86 train-loss: 0.0007371366209554253\n",
      "[LOG 20200127-15:06:25] epoch: 87 train-loss: 0.0007279739420482656\n",
      "[LOG 20200127-15:06:25] epoch: 88 train-loss: 0.0007186728034866974\n",
      "[LOG 20200127-15:06:26] epoch: 89 train-loss: 0.0007103971820470178\n",
      "[LOG 20200127-15:06:26] epoch: 90 train-loss: 0.0007017302650638158\n",
      "[LOG 20200127-15:06:26] epoch: 90 new best train-loss: 0.0007017302650638158 found\n",
      "[LOG 20200127-15:06:26] epoch: 91 train-loss: 0.0006937205598660512\n",
      "[LOG 20200127-15:06:26] epoch: 92 train-loss: 0.0006860408448119415\n",
      "[LOG 20200127-15:06:27] epoch: 93 train-loss: 0.0006784583420085255\n",
      "[LOG 20200127-15:06:27] epoch: 94 train-loss: 0.000671915842758608\n",
      "[LOG 20200127-15:06:27] epoch: 95 train-loss: 0.0006664589272986632\n",
      "[LOG 20200127-15:06:27] epoch: 96 train-loss: 0.0006594283950107638\n",
      "[LOG 20200127-15:06:28] epoch: 97 train-loss: 0.0006534941403515404\n",
      "[LOG 20200127-15:06:28] epoch: 98 train-loss: 0.0006487898990599206\n",
      "[LOG 20200127-15:06:28] epoch: 99 train-loss: 0.0006447941486840136\n",
      "[LOG 20200127-15:06:29] epoch: 100 train-loss: 0.0006396295430022292\n",
      "[LOG 20200127-15:06:29] epoch: 100 new best train-loss: 0.0006396295430022292 found\n",
      "[LOG 20200127-15:06:29] epoch: 101 train-loss: 0.0006353073640639195\n",
      "[LOG 20200127-15:06:29] epoch: 102 train-loss: 0.0006314028614724521\n",
      "[LOG 20200127-15:06:30] epoch: 103 train-loss: 0.0006283594084379729\n",
      "[LOG 20200127-15:06:30] epoch: 104 train-loss: 0.0006257804125198163\n",
      "[LOG 20200127-15:06:30] epoch: 105 train-loss: 0.0006228551374078961\n",
      "[LOG 20200127-15:06:30] epoch: 106 train-loss: 0.0006203837165230652\n",
      "[LOG 20200127-15:06:31] epoch: 107 train-loss: 0.0006187927010614658\n",
      "[LOG 20200127-15:06:31] epoch: 108 train-loss: 0.0006178031817398733\n"
     ]
    },
    {
     "name": "stdout",
     "output_type": "stream",
     "text": [
      "[LOG 20200127-15:06:31] epoch: 109 train-loss: 0.0006164917795103975\n",
      "[LOG 20200127-15:06:32] epoch: 110 train-loss: 0.0006153171434561955\n",
      "[LOG 20200127-15:06:32] epoch: 110 new best train-loss: 0.0006153171434561955 found\n",
      "[LOG 20200127-15:06:32] epoch: 111 train-loss: 0.0006147264157334575\n",
      "[LOG 20200127-15:06:32] epoch: 112 train-loss: 0.0006150983062980231\n",
      "[LOG 20200127-15:06:33] epoch: 113 train-loss: 0.000615410983300535\n",
      "[LOG 20200127-15:06:33] epoch: 114 train-loss: 0.0006158481119200587\n",
      "[LOG 20200127-15:06:33] epoch: 115 train-loss: 0.0006170079414005158\n",
      "[LOG 20200127-15:06:33] epoch: 116 train-loss: 0.0006183871355460724\n",
      "[LOG 20200127-15:06:34] epoch: 117 train-loss: 0.0006197437724040356\n",
      "[LOG 20200127-15:06:34] epoch: 118 train-loss: 0.0006222448228072608\n",
      "[LOG 20200127-15:06:34] epoch: 119 train-loss: 0.0006241938754101284\n",
      "[LOG 20200127-15:06:35] epoch: 120 train-loss: 0.0006264335934247356\n",
      "[LOG 20200127-15:06:35] epoch: 121 train-loss: 0.0006286196967266733\n",
      "[LOG 20200127-15:06:35] epoch: 122 train-loss: 0.000633145642495947\n",
      "[LOG 20200127-15:06:35] epoch: 123 train-loss: 0.0006354588822432561\n",
      "[LOG 20200127-15:06:36] epoch: 124 train-loss: 0.0006397523266059579\n",
      "[LOG 20200127-15:06:36] epoch: 125 train-loss: 0.0006433552316593705\n",
      "[LOG 20200127-15:06:36] epoch: 126 train-loss: 0.0006471070391853573\n",
      "[LOG 20200127-15:06:36] epoch: 127 train-loss: 0.0006515400073112687\n",
      "[LOG 20200127-15:06:37] epoch: 128 train-loss: 0.0006571961203007959\n",
      "[LOG 20200127-15:06:37] epoch: 129 train-loss: 0.0006621040138270473\n",
      "[LOG 20200127-15:06:37] epoch: 130 train-loss: 0.0006673452244285727\n",
      "[LOG 20200127-15:06:37] epoch: 131 train-loss: 0.000672691960062366\n",
      "[LOG 20200127-15:06:37] epoch: 132 train-loss: 0.000678822087138542\n",
      "[LOG 20200127-15:06:38] epoch: 133 train-loss: 0.0006849463406979339\n",
      "[LOG 20200127-15:06:38] epoch: 134 train-loss: 0.0006921822496224195\n",
      "[LOG 20200127-15:06:38] epoch: 135 train-loss: 0.0006979108111409005\n",
      "[LOG 20200127-15:06:38] epoch: 136 train-loss: 0.000704842927007121\n",
      "[LOG 20200127-15:06:39] epoch: 137 train-loss: 0.000711903630872257\n",
      "[LOG 20200127-15:06:39] epoch: 138 train-loss: 0.0007200116615422303\n",
      "[LOG 20200127-15:06:39] epoch: 139 train-loss: 0.0007275543721334543\n",
      "[LOG 20200127-15:06:39] epoch: 140 train-loss: 0.0007358183265750995\n",
      "[LOG 20200127-15:06:40] epoch: 141 train-loss: 0.0007428241824527504\n",
      "[LOG 20200127-15:06:40] epoch: 142 train-loss: 0.0007513921991630923\n",
      "[LOG 20200127-15:06:40] epoch: 143 train-loss: 0.0007596892119181575\n",
      "[LOG 20200127-15:06:40] epoch: 144 train-loss: 0.0007677154499106109\n",
      "[LOG 20200127-15:06:41] epoch: 145 train-loss: 0.0007768036102788756\n",
      "[LOG 20200127-15:06:41] epoch: 146 train-loss: 0.0007864719136705389\n",
      "[LOG 20200127-15:06:41] epoch: 147 train-loss: 0.000795617104813573\n",
      "[LOG 20200127-15:06:42] epoch: 148 train-loss: 0.0008055259477259824\n",
      "[LOG 20200127-15:06:42] epoch: 149 train-loss: 0.0008135299322020728\n",
      "[LOG 20200127-15:06:42] epoch: 150 train-loss: 0.0008238332648033975\n",
      "[LOG 20200127-15:06:42] epoch: 151 train-loss: 0.0008337452291016234\n",
      "[LOG 20200127-15:06:43] epoch: 152 train-loss: 0.000843584895847016\n",
      "[LOG 20200127-15:06:43] epoch: 153 train-loss: 0.0008534061253158143\n",
      "[LOG 20200127-15:06:43] epoch: 154 train-loss: 0.0008630603133497061\n",
      "[LOG 20200127-15:06:43] epoch: 155 train-loss: 0.0008749194057600107\n",
      "[LOG 20200127-15:06:44] epoch: 156 train-loss: 0.0008846903074299917\n",
      "[LOG 20200127-15:06:44] epoch: 157 train-loss: 0.0008946063408075133\n",
      "[LOG 20200127-15:06:44] epoch: 158 train-loss: 0.0009065723552339477\n",
      "[LOG 20200127-15:06:44] epoch: 159 train-loss: 0.0009177716347039677\n",
      "[LOG 20200127-15:06:45] epoch: 160 train-loss: 0.0009287364773626905\n",
      "[LOG 20200127-15:06:45] epoch: 161 train-loss: 0.0009386785968672484\n",
      "[LOG 20200127-15:06:45] epoch: 162 train-loss: 0.0009509073079243535\n",
      "[LOG 20200127-15:06:46] epoch: 163 train-loss: 0.0009611362529540202\n",
      "[LOG 20200127-15:06:46] epoch: 164 train-loss: 0.000972799634837429\n",
      "[LOG 20200127-15:06:46] epoch: 165 train-loss: 0.0009851828563114395\n",
      "[LOG 20200127-15:06:46] epoch: 166 train-loss: 0.0009958073096640874\n",
      "[LOG 20200127-15:06:47] epoch: 167 train-loss: 0.0010081066338898381\n",
      "[LOG 20200127-15:06:47] epoch: 168 train-loss: 0.0010189170970988926\n",
      "[LOG 20200127-15:06:47] epoch: 169 train-loss: 0.0010304715069651138\n",
      "[LOG 20200127-15:06:48] epoch: 170 train-loss: 0.0010423002458992414\n",
      "[LOG 20200127-15:06:48] epoch: 171 train-loss: 0.0010530622166697867\n",
      "[LOG 20200127-15:06:48] epoch: 172 train-loss: 0.0010651093452906935\n",
      "[LOG 20200127-15:06:48] epoch: 173 train-loss: 0.0010771033739729319\n",
      "[LOG 20200127-15:06:49] epoch: 174 train-loss: 0.001088450208044378\n",
      "[LOG 20200127-15:06:49] epoch: 175 train-loss: 0.0011005314809153788\n",
      "[LOG 20200127-15:06:49] epoch: 176 train-loss: 0.001111861041863449\n",
      "[LOG 20200127-15:06:49] epoch: 177 train-loss: 0.0011230573072680272\n",
      "[LOG 20200127-15:06:50] epoch: 178 train-loss: 0.0011352708243066445\n",
      "[LOG 20200127-15:06:50] epoch: 179 train-loss: 0.0011458635381131899\n",
      "[LOG 20200127-15:06:50] epoch: 180 train-loss: 0.0011571426875889301\n",
      "[LOG 20200127-15:06:50] epoch: 181 train-loss: 0.0011688380473060533\n",
      "[LOG 20200127-15:06:51] epoch: 182 train-loss: 0.0011802214103227016\n",
      "[LOG 20200127-15:06:51] epoch: 183 train-loss: 0.001190382448839955\n",
      "[LOG 20200127-15:06:51] epoch: 184 train-loss: 0.0012016448999929707\n",
      "[LOG 20200127-15:06:52] epoch: 185 train-loss: 0.0012129435199312866\n",
      "[LOG 20200127-15:06:52] epoch: 186 train-loss: 0.001222830564074684\n",
      "[LOG 20200127-15:06:52] epoch: 187 train-loss: 0.001234457791724708\n",
      "[LOG 20200127-15:06:52] epoch: 188 train-loss: 0.001245286166522419\n",
      "[LOG 20200127-15:06:53] epoch: 189 train-loss: 0.0012547500300570391\n",
      "[LOG 20200127-15:06:53] epoch: 190 train-loss: 0.0012657513361773454\n",
      "[LOG 20200127-15:06:53] epoch: 191 train-loss: 0.0012746777647407725\n",
      "[LOG 20200127-15:06:54] epoch: 192 train-loss: 0.0012857212968810927\n",
      "[LOG 20200127-15:06:54] epoch: 193 train-loss: 0.001294334178965073\n",
      "[LOG 20200127-15:06:54] epoch: 194 train-loss: 0.0013032977185503114\n",
      "[LOG 20200127-15:06:54] epoch: 195 train-loss: 0.0013126029189152177\n",
      "[LOG 20200127-15:06:55] epoch: 196 train-loss: 0.0013209380776970647\n",
      "[LOG 20200127-15:06:55] epoch: 197 train-loss: 0.0013299394740897696\n",
      "[LOG 20200127-15:06:55] epoch: 198 train-loss: 0.0013387968792812899\n",
      "[LOG 20200127-15:06:55] epoch: 199 train-loss: 0.0013468316901708022\n"
     ]
    }
   ],
   "source": [
    "# init collection of training epoch losses\n",
    "train_epoch_losses = []\n",
    "\n",
    "# set the model in training mode\n",
    "lstm_model.train()\n",
    "\n",
    "# init the best loss\n",
    "best_loss = 100.00\n",
    "\n",
    "# iterate over epochs\n",
    "for epoch in range(0, num_epochs):\n",
    "\n",
    "    # init collection of mini-batch losses\n",
    "    train_mini_batch_losses = []\n",
    "            \n",
    "    # iterate over mini-batches\n",
    "    for sequence_batch, target_batch in dl:\n",
    "\n",
    "        # predict sequence output\n",
    "        prediction_batch = lstm_model(sequence_batch)\n",
    "\n",
    "        # calculate batch loss\n",
    "        batch_loss = loss_function(prediction_batch, target_batch)\n",
    "\n",
    "        # run backward gradient calculation\n",
    "        batch_loss.backward()\n",
    "\n",
    "        # update network parameters\n",
    "        optimizer.step()\n",
    "        \n",
    "        # collect mini-batch loss\n",
    "        train_mini_batch_losses.append(batch_loss.data.item())\n",
    "            \n",
    "    # determine mean min-batch loss of epoch\n",
    "    train_epoch_loss = np.mean(train_mini_batch_losses)\n",
    "    \n",
    "    # print epoch loss\n",
    "    now = dt.datetime.utcnow().strftime(\"%Y%m%d-%H:%M:%S\")\n",
    "    print('[LOG {}] epoch: {} train-loss: {}'.format(str(now), str(epoch), str(train_epoch_loss)))\n",
    "    \n",
    "    # determine mean min-batch loss of epoch\n",
    "    train_epoch_losses.append(train_epoch_loss)\n",
    "        \n",
    "    # print epoch and save models\n",
    "    if epoch % 10 == 0 and epoch > 0:\n",
    "        \n",
    "        # case: new best model trained\n",
    "        if train_epoch_loss < best_loss:\n",
    "                        \n",
    "            # store new best model\n",
    "            model_name = 'awsome_lstm_model_{}.pth'.format(str(epoch))\n",
    "            torch.save(lstm_model.state_dict(), os.path.join(\"./models\", model_name))\n",
    "            \n",
    "            # update best loss\n",
    "            best_loss = train_epoch_loss\n",
    "            \n",
    "            # print epoch loss\n",
    "            now = dt.datetime.utcnow().strftime(\"%Y%m%d-%H:%M:%S\")\n",
    "            print('[LOG {}] epoch: {} new best train-loss: {} found'.format(str(now), str(epoch), str(train_epoch_loss)))\n"
   ]
  },
  {
   "cell_type": "markdown",
   "metadata": {},
   "source": [
    "Upon successful training let's visualize and inspect the training loss per epoch:"
   ]
  },
  {
   "cell_type": "code",
   "execution_count": 46,
   "metadata": {},
   "outputs": [
    {
     "data": {
      "image/png": "[encoded data removed]",
      "text/plain": [
       "<Figure size 1080x360 with 1 Axes>"
      ]
     },
     "metadata": {
      "needs_background": "light"
     },
     "output_type": "display_data"
    }
   ],
   "source": [
    "# prepare plot\n",
    "fig = plt.figure()\n",
    "ax = fig.add_subplot(111)\n",
    "\n",
    "# add grid\n",
    "ax.grid(linestyle='dotted')\n",
    "\n",
    "# plot the training epochs vs. the epochs' prediction error\n",
    "ax.plot(np.array(range(1, len(train_epoch_losses)+1)), train_epoch_losses, label='epoch loss (blue)')\n",
    "\n",
    "# add axis legends\n",
    "ax.set_xlabel(\"[training epoch $e_i$]\", fontsize=10)\n",
    "ax.set_ylabel(\"[Prediction Error $\\mathcal{L}^{MSE}$]\", fontsize=10)\n",
    "\n",
    "# set plot legend\n",
    "plt.legend(loc=\"upper right\", numpoints=1, fancybox=True)\n",
    "\n",
    "# add plot title\n",
    "plt.title('Training Epochs $e_i$ vs. Prediction Error $L^{MSE}$', fontsize=10);"
   ]
  },
  {
   "cell_type": "markdown",
   "metadata": {},
   "source": [
    "Ok, fantastic. The training error is nicely going down. We could train the network a couple more epochs until the error converges. But let's stay with the 200 training epochs for now and continue with evaluating our trained model."
   ]
  },
  {
   "cell_type": "markdown",
   "metadata": {},
   "source": [
    "### 5. Evaluation of the Trained Neural Network Model"
   ]
  },
  {
   "cell_type": "markdown",
   "metadata": {},
   "source": [
    "In this section, we will conduct a visual comparison of the predicted daily returns to the actual ('true') daily returns. The comparison will encompass the daily returns of the in-sample period as well as the returns of the out-of-sample period."
   ]
  },
  {
   "cell_type": "markdown",
   "metadata": {},
   "source": [
    "#### 5.1. In-Sample Evaluation of the Trained Neural Network Model"
   ]
  },
  {
   "cell_type": "markdown",
   "metadata": {},
   "source": [
    "Before evaluating our model, let's load the best performing model or an already pre-trained model (as done below). Remember, that we stored a snapshot of the model after each training epoch to our local model directory. We will now load one of the (hopefully well-performing) snapshots saved. "
   ]
  },
  {
   "cell_type": "code",
   "execution_count": 47,
   "metadata": {},
   "outputs": [],
   "source": [
    "# init the pre-trained model architecture\n",
    "lstm_model_pretrained = LSTMNet()\n",
    "\n",
    "# set the pre-trained model name we aim to load\n",
    "model_name_pretrained = 'awsome_lstm_model_12250.pth'\n",
    "\n",
    "# restore pretrained model checkpoint\n",
    "github_model_path = 'https://raw.githubusercontent.com/financial-data-science/CFDS-4/master/lab_08/models/'\n",
    "lstm_model_name_pretrained = 'awsome_lstm_model_12250.pth'\n",
    "\n",
    "# Read stored model from the remote location\n",
    "lstm_bytes = urllib.request.urlopen(os.path.join(github_model_path, lstm_model_name_pretrained))\n",
    "\n",
    "# Load tensor from io.BytesIO object\n",
    "lstm_buffer = io.BytesIO(lstm_bytes.read())\n",
    "\n",
    "# load trained models\n",
    "lstm_model_pretrained.load_state_dict(torch.load(lstm_buffer, map_location='cpu'));"
   ]
  },
  {
   "cell_type": "markdown",
   "metadata": {},
   "source": [
    "Let's inspect if the model was loaded successfully: "
   ]
  },
  {
   "cell_type": "code",
   "execution_count": 48,
   "metadata": {},
   "outputs": [
    {
     "data": {
      "text/plain": [
       "LSTMNet(\n",
       "  (lstm1): LSTMCell(1, 51)\n",
       "  (lstm2): LSTMCell(51, 51)\n",
       "  (linear): Linear(in_features=51, out_features=1, bias=True)\n",
       ")"
      ]
     },
     "execution_count": 48,
     "metadata": {},
     "output_type": "execute_result"
    }
   ],
   "source": [
    "# set model in evaluation mode\n",
    "lstm_model_pretrained.eval()"
   ]
  },
  {
   "cell_type": "markdown",
   "metadata": {},
   "source": [
    "Use the pre-trained model to determine the adjusted daily return predictions of the **in-sample** sequence population:"
   ]
  },
  {
   "cell_type": "code",
   "execution_count": 49,
   "metadata": {},
   "outputs": [],
   "source": [
    "# don't calculate gradients\n",
    "with torch.no_grad():\n",
    "\n",
    "    # predict in-sample sequence output\n",
    "    predictions = lstm_model_pretrained(train_sequences_input)\n",
    "\n",
    "    # collect prediction batch results\n",
    "    predictions_list = predictions.detach().numpy()[:, -1].tolist()\n",
    "\n",
    "    # collect target batch results\n",
    "    targets_list = train_sequences_target.numpy()[:, -1].tolist()"
   ]
  },
  {
   "cell_type": "markdown",
   "metadata": {},
   "source": [
    "Plot the pre-trained `LSTMNet` adjusted daily **in-sample** predictions vs. the target (\"ground-truth\") adjusted daily returns:"
   ]
  },
  {
   "cell_type": "code",
   "execution_count": 50,
   "metadata": {},
   "outputs": [
    {
     "data": {
      "image/png": "[encoded data removed]",
      "text/plain": [
       "<Figure size 1080x360 with 1 Axes>"
      ]
     },
     "metadata": {},
     "output_type": "display_data"
    }
   ],
   "source": [
    "# plot the prediction results\n",
    "plt.style.use('seaborn')\n",
    "plt.rcParams['figure.figsize'] = [15, 5]\n",
    "\n",
    "fig = plt.figure()\n",
    "ax = fig.add_subplot(111)\n",
    "\n",
    "ax.plot(pd.to_datetime(stock_data.index).values[0:train_sequences.shape[0],], targets_list, color='C1', label='groundtruth (green)')\n",
    "ax.plot(pd.to_datetime(stock_data.index).values[0:train_sequences.shape[0],], predictions_list, color='C0', label='predictions (blue)')\n",
    "\n",
    "# set y-axis limits\n",
    "ax.set_xlim(pd.to_datetime(stock_data.index).values[0], pd.to_datetime(stock_data.index).values[train_sequences.shape[0]])\n",
    "\n",
    "# set plot legend\n",
    "plt.legend(loc=\"lower right\", numpoints=1, fancybox=True)\n",
    "\n",
    "# set plot title\n",
    "plt.title('LSTM NN In-Sample Prediction vs. Ground-Truth Market Prices', fontsize=10)\n",
    "\n",
    "# set axis labels\n",
    "plt.xlabel('[time]', fontsize=8)\n",
    "plt.ylabel('[market price]', fontsize=8)\n",
    "\n",
    "# set axis ticks fontsize\n",
    "plt.xticks(fontsize=8)\n",
    "plt.yticks(fontsize=8);"
   ]
  },
  {
   "cell_type": "markdown",
   "metadata": {},
   "source": [
    "#### 5.2. Out-of-Sample Evaluation of the Trained Neural Network Model"
   ]
  },
  {
   "cell_type": "markdown",
   "metadata": {},
   "source": [
    "Use the pre-trained model to determine the adjusted daily return predictions of the **out-of-sample** sequence population:"
   ]
  },
  {
   "cell_type": "code",
   "execution_count": 51,
   "metadata": {},
   "outputs": [],
   "source": [
    "# don't calculate gradients\n",
    "with torch.no_grad():\n",
    "\n",
    "    # predict out-of-sample sequence output\n",
    "    predictions = lstm_model_pretrained(valid_sequences_input)\n",
    "\n",
    "    # collect prediction batch results\n",
    "    predictions_list = predictions.detach().numpy()[:, -1].tolist()\n",
    "\n",
    "    # collect target batch results\n",
    "    targets_list = valid_sequences_target.numpy()[:, -1].tolist()"
   ]
  },
  {
   "cell_type": "markdown",
   "metadata": {},
   "source": [
    "Plot the pre-trained `LSTMNet` adjusted daily **out-of-sample** predictions vs. the target (\"ground-truth\") adjusted daily returns:"
   ]
  },
  {
   "cell_type": "code",
   "execution_count": 52,
   "metadata": {},
   "outputs": [
    {
     "data": {
      "image/png": "[encoded data removed]",
      "text/plain": [
       "<Figure size 1080x360 with 1 Axes>"
      ]
     },
     "metadata": {},
     "output_type": "display_data"
    }
   ],
   "source": [
    "# plot the prediction results\n",
    "plt.style.use('seaborn')\n",
    "plt.rcParams['figure.figsize'] = [15, 5]\n",
    "\n",
    "fig = plt.figure()\n",
    "ax = fig.add_subplot(111)\n",
    "\n",
    "ax.plot(pd.to_datetime(stock_data.index).values[train_sequences.shape[0]:train_sequences.shape[0]+valid_sequences.shape[0],], targets_list, color='C1', label='groundtruth (green)')\n",
    "ax.plot(pd.to_datetime(stock_data.index).values[train_sequences.shape[0]:train_sequences.shape[0]+valid_sequences.shape[0],], predictions_list, color='C0', label='predictions (blue)')\n",
    "\n",
    "# set y-axis limits\n",
    "ax.set_xlim(pd.to_datetime(stock_data.index).values[train_sequences.shape[0]], pd.to_datetime(stock_data.index).values[train_sequences.shape[0]+valid_sequences.shape[0]])\n",
    "#ax.set_ylim(0.0, 1.0)\n",
    "\n",
    "# set plot legend\n",
    "plt.legend(loc=\"lower right\", numpoints=1, fancybox=True)\n",
    "\n",
    "# set plot title\n",
    "plt.title('LSTM NN Out-of-Sample Prediction vs. Ground-Truth Market Prices', fontsize=10)\n",
    "\n",
    "# set axis labels\n",
    "plt.xlabel('[time]', fontsize=8)\n",
    "plt.ylabel('[market price]', fontsize=8)\n",
    "\n",
    "# set axis ticks fontsize\n",
    "plt.xticks(fontsize=8)\n",
    "plt.yticks(fontsize=8);"
   ]
  },
  {
   "cell_type": "markdown",
   "metadata": {},
   "source": [
    "### 6. Backtest of the Trained Neural Network Model"
   ]
  },
  {
   "cell_type": "markdown",
   "metadata": {},
   "source": [
    "In this section, we will backtest the python `bt` library. Python `bt` is a flexible, backtest framework that can be used to test quantitative trading strategies. In general, backtesting is the process of testing a strategy over a given data set (more details about the `bt` library can be found via: https://pmorissette.github.io/bt/). \n",
    "\n",
    "In order to test the predictions derived from the LSTM model we will view its predictions $\\hat{r}_{i+1}$ as trade signals $\\phi$. Thereby, we will interpret any positive future return prediction $r_{t+1} > 0.0$ of a sequence $s^i$ as a \"long\" (buy) signal. Likewise, we will interpret any negative future return prediction $r_{t+1} < 0.0$ of a sequence $s$ as a \"short\" (sell) signal."
   ]
  },
  {
   "cell_type": "markdown",
   "metadata": {},
   "source": [
    "#### 6.1. LSTM Trading Signal Preparation"
   ]
  },
  {
   "cell_type": "markdown",
   "metadata": {},
   "source": [
    "Let's start by converting the out-of-sample model predictions into a trading signal, as described above. Therefore, we first convert the obtained predictions into a data frame that contains (1) the **date of the predicted returns** as well as (2) the **predicted returns $r_{t+1}$** itself:"
   ]
  },
  {
   "cell_type": "code",
   "execution_count": 53,
   "metadata": {},
   "outputs": [],
   "source": [
    "stock_daily_predictions = pd.DataFrame(predictions_list, columns=['PREDICTIONS'])\n",
    "stock_daily_predictions = stock_daily_predictions.set_index(pd.to_datetime(stock_data.index).values[train_sequences.shape[0]:train_sequences.shape[0]+valid_sequences.shape[0],])"
   ]
  },
  {
   "cell_type": "markdown",
   "metadata": {},
   "source": [
    "Furthermore, let's briefly ensure the successful conversion by inspecting the top 10 rows of the created data frame:"
   ]
  },
  {
   "cell_type": "code",
   "execution_count": 54,
   "metadata": {},
   "outputs": [
    {
     "data": {
      "text/html": [
       "<div>\n",
       "<style scoped>\n",
       "    .dataframe tbody tr th:only-of-type {\n",
       "        vertical-align: middle;\n",
       "    }\n",
       "\n",
       "    .dataframe tbody tr th {\n",
       "        vertical-align: top;\n",
       "    }\n",
       "\n",
       "    .dataframe thead th {\n",
       "        text-align: right;\n",
       "    }\n",
       "</style>\n",
       "<table border=\"1\" class=\"dataframe\">\n",
       "  <thead>\n",
       "    <tr style=\"text-align: right;\">\n",
       "      <th></th>\n",
       "      <th>PREDICTIONS</th>\n",
       "    </tr>\n",
       "  </thead>\n",
       "  <tbody>\n",
       "    <tr>\n",
       "      <th>2016-03-07</th>\n",
       "      <td>-0.000208</td>\n",
       "    </tr>\n",
       "    <tr>\n",
       "      <th>2016-03-08</th>\n",
       "      <td>0.000183</td>\n",
       "    </tr>\n",
       "    <tr>\n",
       "      <th>2016-03-09</th>\n",
       "      <td>0.000474</td>\n",
       "    </tr>\n",
       "    <tr>\n",
       "      <th>2016-03-10</th>\n",
       "      <td>0.000090</td>\n",
       "    </tr>\n",
       "    <tr>\n",
       "      <th>2016-03-11</th>\n",
       "      <td>-0.000333</td>\n",
       "    </tr>\n",
       "    <tr>\n",
       "      <th>2016-03-14</th>\n",
       "      <td>0.000384</td>\n",
       "    </tr>\n",
       "    <tr>\n",
       "      <th>2016-03-15</th>\n",
       "      <td>0.000342</td>\n",
       "    </tr>\n",
       "    <tr>\n",
       "      <th>2016-03-16</th>\n",
       "      <td>0.000599</td>\n",
       "    </tr>\n",
       "    <tr>\n",
       "      <th>2016-03-17</th>\n",
       "      <td>0.001254</td>\n",
       "    </tr>\n",
       "    <tr>\n",
       "      <th>2016-03-18</th>\n",
       "      <td>-0.000068</td>\n",
       "    </tr>\n",
       "  </tbody>\n",
       "</table>\n",
       "</div>"
      ],
      "text/plain": [
       "            PREDICTIONS\n",
       "2016-03-07    -0.000208\n",
       "2016-03-08     0.000183\n",
       "2016-03-09     0.000474\n",
       "2016-03-10     0.000090\n",
       "2016-03-11    -0.000333\n",
       "2016-03-14     0.000384\n",
       "2016-03-15     0.000342\n",
       "2016-03-16     0.000599\n",
       "2016-03-17     0.001254\n",
       "2016-03-18    -0.000068"
      ]
     },
     "execution_count": 54,
     "metadata": {},
     "output_type": "execute_result"
    }
   ],
   "source": [
    "stock_daily_predictions.head(10)"
   ]
  },
  {
   "cell_type": "markdown",
   "metadata": {},
   "source": [
    "Now, let's derive a trading signal from the converted predictions. As already described, we will generate the trading signal $\\phi$ according to the following function:"
   ]
  },
  {
   "cell_type": "markdown",
   "metadata": {},
   "source": [
    "<center>\n",
    "$\n",
    "\\\\\n",
    "\\phi(\\hat{r}_{t+1})=\n",
    "\\begin{cases}\n",
    "1.0, & for & \\hat{r}_{t+1} > 0.0\\\\\n",
    "-1.0, & for & \\hat{r}_{t+1} < 0.0\\\\\n",
    "\\end{cases}\n",
    "$\n",
    "</center>"
   ]
  },
  {
   "cell_type": "markdown",
   "metadata": {},
   "source": [
    "where $\\hat{r}_{t+1}$ denotes a by the model predicted future return at time $t+1$."
   ]
  },
  {
   "cell_type": "code",
   "execution_count": 55,
   "metadata": {},
   "outputs": [],
   "source": [
    "signal_data = pd.DataFrame(np.where(stock_daily_predictions['PREDICTIONS'] > 0.0, 1.0, -1.0), columns=['SIGNAL'])\n",
    "signal_data = signal_data.set_index(pd.to_datetime(stock_data.index).values[train_sequences.shape[0]:train_sequences.shape[0]+valid_sequences.shape[0],])"
   ]
  },
  {
   "cell_type": "markdown",
   "metadata": {},
   "source": [
    "Let's inspect the top 5 rows of the prepared trading signals:"
   ]
  },
  {
   "cell_type": "code",
   "execution_count": 56,
   "metadata": {},
   "outputs": [
    {
     "data": {
      "text/html": [
       "<div>\n",
       "<style scoped>\n",
       "    .dataframe tbody tr th:only-of-type {\n",
       "        vertical-align: middle;\n",
       "    }\n",
       "\n",
       "    .dataframe tbody tr th {\n",
       "        vertical-align: top;\n",
       "    }\n",
       "\n",
       "    .dataframe thead th {\n",
       "        text-align: right;\n",
       "    }\n",
       "</style>\n",
       "<table border=\"1\" class=\"dataframe\">\n",
       "  <thead>\n",
       "    <tr style=\"text-align: right;\">\n",
       "      <th></th>\n",
       "      <th>SIGNAL</th>\n",
       "    </tr>\n",
       "  </thead>\n",
       "  <tbody>\n",
       "    <tr>\n",
       "      <th>2016-03-07</th>\n",
       "      <td>-1.0</td>\n",
       "    </tr>\n",
       "    <tr>\n",
       "      <th>2016-03-08</th>\n",
       "      <td>1.0</td>\n",
       "    </tr>\n",
       "    <tr>\n",
       "      <th>2016-03-09</th>\n",
       "      <td>1.0</td>\n",
       "    </tr>\n",
       "    <tr>\n",
       "      <th>2016-03-10</th>\n",
       "      <td>1.0</td>\n",
       "    </tr>\n",
       "    <tr>\n",
       "      <th>2016-03-11</th>\n",
       "      <td>-1.0</td>\n",
       "    </tr>\n",
       "  </tbody>\n",
       "</table>\n",
       "</div>"
      ],
      "text/plain": [
       "            SIGNAL\n",
       "2016-03-07    -1.0\n",
       "2016-03-08     1.0\n",
       "2016-03-09     1.0\n",
       "2016-03-10     1.0\n",
       "2016-03-11    -1.0"
      ]
     },
     "execution_count": 56,
     "metadata": {},
     "output_type": "execute_result"
    }
   ],
   "source": [
    "signal_data.head(5)"
   ]
  },
  {
   "cell_type": "markdown",
   "metadata": {},
   "source": [
    "Visualize the prepared trading signals:"
   ]
  },
  {
   "cell_type": "code",
   "execution_count": 57,
   "metadata": {},
   "outputs": [
    {
     "data": {
      "image/png": "[encoded data removed]",
      "text/plain": [
       "<Figure size 1080x360 with 1 Axes>"
      ]
     },
     "metadata": {},
     "output_type": "display_data"
    }
   ],
   "source": [
    "plt.rcParams['figure.figsize'] = [15, 5]\n",
    "fig = plt.figure()\n",
    "ax = fig.add_subplot(111)\n",
    "\n",
    "ax.plot(signal_data['SIGNAL'], lw=1.0, color='C3', label='LSTM trade signals')\n",
    "    \n",
    "# set axis ranges\n",
    "ax.set_xlim([signal_data.index[0], signal_data.index[-1]])\n",
    "ax.set_ylim([-1.0, 1.0])\n",
    "\n",
    "# set axis labels\n",
    "ax.set_xlabel('[time]', fontsize=10)\n",
    "ax.set_ylabel('[lstm tade signal]', fontsize=10)\n",
    "\n",
    "# rotate x-axis ticks\n",
    "for tick in ax.get_xticklabels():\n",
    "    tick.set_rotation(45)\n",
    "\n",
    "# set plot title\n",
    "ax.set_title('International Business Machines Corporation (IBM) - LSTM Trading Signals', fontsize=10);"
   ]
  },
  {
   "cell_type": "markdown",
   "metadata": {},
   "source": [
    "Determine the number of trade signal changes (trades to be executed):"
   ]
  },
  {
   "cell_type": "code",
   "execution_count": 58,
   "metadata": {},
   "outputs": [
    {
     "data": {
      "text/plain": [
       "120"
      ]
     },
     "execution_count": 58,
     "metadata": {},
     "output_type": "execute_result"
    }
   ],
   "source": [
    "# determine number of signal changes\n",
    "len(list(itertools.groupby(signal_data['SIGNAL'], lambda x: x > 0)))"
   ]
  },
  {
   "cell_type": "markdown",
   "metadata": {},
   "source": [
    "#### 6.2. Stock Market Data Preperation"
   ]
  },
  {
   "cell_type": "markdown",
   "metadata": {},
   "source": [
    "Now, let's prepare the daily adjusted closing prices so that they can be utilized in the backtest:"
   ]
  },
  {
   "cell_type": "code",
   "execution_count": 59,
   "metadata": {},
   "outputs": [],
   "source": [
    "stock_market_data = pd.DataFrame(stock_data['Adj. Close'])\n",
    "stock_market_data = stock_market_data.rename(columns={'Adj. Close': 'PRICE'})\n",
    "stock_market_data = stock_market_data.set_index(pd.to_datetime(stock_data.index))"
   ]
  },
  {
   "cell_type": "markdown",
   "metadata": {},
   "source": [
    "Let's inspect the top 5 rows of the prepared adjusted closing prices:"
   ]
  },
  {
   "cell_type": "code",
   "execution_count": 60,
   "metadata": {},
   "outputs": [
    {
     "data": {
      "text/html": [
       "<div>\n",
       "<style scoped>\n",
       "    .dataframe tbody tr th:only-of-type {\n",
       "        vertical-align: middle;\n",
       "    }\n",
       "\n",
       "    .dataframe tbody tr th {\n",
       "        vertical-align: top;\n",
       "    }\n",
       "\n",
       "    .dataframe thead th {\n",
       "        text-align: right;\n",
       "    }\n",
       "</style>\n",
       "<table border=\"1\" class=\"dataframe\">\n",
       "  <thead>\n",
       "    <tr style=\"text-align: right;\">\n",
       "      <th></th>\n",
       "      <th>PRICE</th>\n",
       "    </tr>\n",
       "    <tr>\n",
       "      <th>Date</th>\n",
       "      <th></th>\n",
       "    </tr>\n",
       "  </thead>\n",
       "  <tbody>\n",
       "    <tr>\n",
       "      <th>2000-01-03</th>\n",
       "      <td>85.155442</td>\n",
       "    </tr>\n",
       "    <tr>\n",
       "      <th>2000-01-04</th>\n",
       "      <td>82.263093</td>\n",
       "    </tr>\n",
       "    <tr>\n",
       "      <th>2000-01-05</th>\n",
       "      <td>85.155442</td>\n",
       "    </tr>\n",
       "    <tr>\n",
       "      <th>2000-01-06</th>\n",
       "      <td>83.687245</td>\n",
       "    </tr>\n",
       "    <tr>\n",
       "      <th>2000-01-07</th>\n",
       "      <td>83.320195</td>\n",
       "    </tr>\n",
       "  </tbody>\n",
       "</table>\n",
       "</div>"
      ],
      "text/plain": [
       "                PRICE\n",
       "Date                 \n",
       "2000-01-03  85.155442\n",
       "2000-01-04  82.263093\n",
       "2000-01-05  85.155442\n",
       "2000-01-06  83.687245\n",
       "2000-01-07  83.320195"
      ]
     },
     "execution_count": 60,
     "metadata": {},
     "output_type": "execute_result"
    }
   ],
   "source": [
    "stock_market_data.head(5)"
   ]
  },
  {
   "cell_type": "markdown",
   "metadata": {},
   "source": [
    "Sub-sample the prepared daily adjusted closing prices to the out-of-sample time period:"
   ]
  },
  {
   "cell_type": "code",
   "execution_count": 61,
   "metadata": {},
   "outputs": [],
   "source": [
    "stock_market_data = stock_market_data[stock_market_data.index >= stock_daily_predictions.index[0]]\n",
    "stock_market_data = stock_market_data[stock_market_data.index <= stock_daily_predictions.index[-1]]"
   ]
  },
  {
   "cell_type": "markdown",
   "metadata": {},
   "source": [
    "Visualize the out-of-sample daily adjusted closing prices:"
   ]
  },
  {
   "cell_type": "code",
   "execution_count": 62,
   "metadata": {},
   "outputs": [
    {
     "data": {
      "text/plain": [
       "Text(0.5, 1.0, 'International Business Machines Corporation (IBM) - Daily Historical Stock Closing Prices')"
      ]
     },
     "execution_count": 62,
     "metadata": {},
     "output_type": "execute_result"
    },
    {
     "data": {
      "image/png": "[encoded data removed]",
      "text/plain": [
       "<Figure size 1080x360 with 1 Axes>"
      ]
     },
     "metadata": {},
     "output_type": "display_data"
    }
   ],
   "source": [
    "plt.rcParams['figure.figsize'] = [15, 5]\n",
    "fig = plt.figure()\n",
    "ax = fig.add_subplot(111)\n",
    "\n",
    "ax.plot(stock_market_data['PRICE'], color='#9b59b6')\n",
    "\n",
    "for tick in ax.get_xticklabels():\n",
    "    tick.set_rotation(45)\n",
    "    \n",
    "# set axis labels\n",
    "ax.set_xlabel('[time]', fontsize=10)\n",
    "ax.set_ylabel('[equity %]', fontsize=10)\n",
    "\n",
    "for tick in ax.get_xticklabels():\n",
    "    tick.set_rotation(45)\n",
    "\n",
    "# set axis labels\n",
    "ax.set_xlabel('[time]', fontsize=10)\n",
    "ax.set_xlim([stock_market_data.index[0], stock_market_data.index[-1]])\n",
    "ax.set_ylabel('[adj. closing price]', fontsize=10)\n",
    "\n",
    "# set plot title\n",
    "plt.title('International Business Machines Corporation (IBM) - Daily Historical Stock Closing Prices', fontsize=10)"
   ]
  },
  {
   "cell_type": "markdown",
   "metadata": {},
   "source": [
    "Let's calculate the potentially gained return by the application of a simple **\"buy and hold\"** strategy:"
   ]
  },
  {
   "cell_type": "code",
   "execution_count": 63,
   "metadata": {},
   "outputs": [
    {
     "data": {
      "text/plain": [
       "0.16479229590099914"
      ]
     },
     "execution_count": 63,
     "metadata": {},
     "output_type": "execute_result"
    }
   ],
   "source": [
    "np.abs(stock_market_data.iloc[0]['PRICE'] - stock_market_data.iloc[-1]['PRICE']) / stock_market_data.iloc[0]['PRICE']"
   ]
  },
  {
   "cell_type": "markdown",
   "metadata": {},
   "source": [
    "Ok, with such a simple strategy we would have been able to yield a total return of approx. **16.47%**."
   ]
  },
  {
   "cell_type": "markdown",
   "metadata": {},
   "source": [
    "#### 6.3. Backtest Preparation"
   ]
  },
  {
   "cell_type": "markdown",
   "metadata": {},
   "source": [
    "Now that we have trading signals as well as the market data let's implement the LSTM based trading strategy which we name `LSTMStrategy`:"
   ]
  },
  {
   "cell_type": "code",
   "execution_count": 64,
   "metadata": {},
   "outputs": [],
   "source": [
    "class LSTMStrategy(bt.Algo):\n",
    "    \n",
    "    def __init__(self, signals):\n",
    "        \n",
    "        # set class signals\n",
    "        self.signals = signals\n",
    "        \n",
    "    def __call__(self, target):\n",
    "        \n",
    "        if target.now in self.signals.index[1:]:\n",
    "            \n",
    "            # get actual signal\n",
    "            signal = self.signals.ix[target.now]\n",
    "            \n",
    "            # set target weights according to signal\n",
    "            target.temp['weights'] = dict(PRICE=signal)\n",
    "            \n",
    "        # return True since we want to move on to the next timestep\n",
    "        return True"
   ]
  },
  {
   "cell_type": "markdown",
   "metadata": {},
   "source": [
    "Let's instantiate our LSTM based trading strategy:"
   ]
  },
  {
   "cell_type": "code",
   "execution_count": 65,
   "metadata": {},
   "outputs": [],
   "source": [
    "lstm_strategy = bt.Strategy('lstm', [bt.algos.SelectAll(), LSTMStrategy(signal_data['SIGNAL']), bt.algos.Rebalance()])"
   ]
  },
  {
   "cell_type": "markdown",
   "metadata": {},
   "source": [
    "Initialize the backtest of our LSTM based trading strategy using the strategy and prepared market data:"
   ]
  },
  {
   "cell_type": "code",
   "execution_count": 66,
   "metadata": {},
   "outputs": [],
   "source": [
    "backtest_lstm = bt.Backtest(strategy=lstm_strategy, data=stock_market_data, name='stock_lstm_backtest')"
   ]
  },
  {
   "cell_type": "markdown",
   "metadata": {},
   "source": [
    "In addition, let's also prepare a backtest of a **\"baseline\"** buy-and-hold trading strategy for comparison purposes. Our buy-and-hold strategy sends a \"long\" (+1.0) signal at each time step of the out-of-sample time frame: "
   ]
  },
  {
   "cell_type": "code",
   "execution_count": 67,
   "metadata": {},
   "outputs": [],
   "source": [
    "signal_data_base = signal_data.copy(deep=True) \n",
    "signal_data_base['SIGNAL'] = 1.0"
   ]
  },
  {
   "cell_type": "markdown",
   "metadata": {},
   "source": [
    "Init the buy-and-hold (\"base\") strategy as well as the corresponding backtest:"
   ]
  },
  {
   "cell_type": "code",
   "execution_count": 68,
   "metadata": {},
   "outputs": [],
   "source": [
    "base_strategy = bt.Strategy('base', [bt.algos.SelectAll(), LSTMStrategy(signal_data_base['SIGNAL']), bt.algos.Rebalance()])\n",
    "backtest_base = bt.Backtest(strategy=base_strategy, data=stock_market_data, name='stock_base_backtest')"
   ]
  },
  {
   "cell_type": "markdown",
   "metadata": {},
   "source": [
    "#### 6.4. Running the Backtest and Evaluate Results"
   ]
  },
  {
   "cell_type": "markdown",
   "metadata": {},
   "source": [
    "Run the backtest for both trading strategies: "
   ]
  },
  {
   "cell_type": "code",
   "execution_count": 69,
   "metadata": {},
   "outputs": [
    {
     "name": "stdout",
     "output_type": "stream",
     "text": [
      "stock_lstm_backtest\n",
      "0% [############################# ] 100% | ETA: 00:00:00stock_base_backtest\n",
      "0% [############################# ] 100% | ETA: 00:00:00"
     ]
    }
   ],
   "source": [
    "backtest_results = bt.run(backtest_lstm, backtest_base)"
   ]
  },
  {
   "cell_type": "markdown",
   "metadata": {},
   "source": [
    "Inspect the individual backtest results and performance measures:"
   ]
  },
  {
   "cell_type": "code",
   "execution_count": 70,
   "metadata": {},
   "outputs": [
    {
     "name": "stdout",
     "output_type": "stream",
     "text": [
      "Stat                 stock_lstm_backtest    stock_base_backtest\n",
      "-------------------  ---------------------  ---------------------\n",
      "Start                2016-03-06             2016-03-06\n",
      "End                  2017-12-20             2017-12-20\n",
      "Risk-free rate       0.00%                  0.00%\n",
      "\n",
      "Total Return         143.78%                17.38%\n",
      "Daily Sharpe         3.13                   0.62\n",
      "Daily Sortino        7.03                   1.01\n",
      "CAGR                 64.49%                 9.36%\n",
      "Max Drawdown         -8.31%                 -21.65%\n",
      "Calmar Ratio         7.76                   0.43\n",
      "\n",
      "MTD                  6.16%                  -0.66%\n",
      "3m                   35.03%                 5.89%\n",
      "6m                   35.80%                 0.75%\n",
      "YTD                  53.18%                 -4.28%\n",
      "1Y                   50.96%                 -5.20%\n",
      "3Y (ann.)            64.49%                 9.36%\n",
      "5Y (ann.)            -                      -\n",
      "10Y (ann.)           -                      -\n",
      "Since Incep. (ann.)  64.49%                 9.36%\n",
      "\n",
      "Daily Sharpe         3.13                   0.62\n",
      "Daily Sortino        7.03                   1.01\n",
      "Daily Mean (ann.)    50.92%                 10.28%\n",
      "Daily Vol (ann.)     16.25%                 16.55%\n",
      "Daily Skew           2.05                   0.40\n",
      "Daily Kurt           15.50                  15.86\n",
      "Best Day             8.86%                  8.86%\n",
      "Worst Day            -4.20%                 -5.64%\n",
      "\n",
      "Monthly Sharpe       2.78                   0.37\n",
      "Monthly Sortino      13.04                  0.66\n",
      "Monthly Mean (ann.)  50.70%                 5.29%\n",
      "Monthly Vol (ann.)   18.21%                 14.50%\n",
      "Monthly Skew         0.86                   -0.13\n",
      "Monthly Kurt         1.39                   -0.70\n",
      "Best Month           18.19%                 6.50%\n",
      "Worst Month          -4.86%                 -7.95%\n",
      "\n",
      "Yearly Sharpe        -                      -\n",
      "Yearly Sortino       -                      -\n",
      "Yearly Mean          53.18%                 -4.28%\n",
      "Yearly Vol           -                      -\n",
      "Yearly Skew          -                      -\n",
      "Yearly Kurt          -                      -\n",
      "Best Year            53.18%                 -4.28%\n",
      "Worst Year           53.18%                 -4.28%\n",
      "\n",
      "Avg. Drawdown        -1.45%                 -2.92%\n",
      "Avg. Drawdown Days   10.50                  25.26\n",
      "Avg. Up Month        6.14%                  3.93%\n",
      "Avg. Down Month      -1.92%                 -2.73%\n",
      "Win Year %           100.00%                0.00%\n",
      "Win 12m %            100.00%                36.36%\n"
     ]
    }
   ],
   "source": [
    "backtest_results.display()"
   ]
  },
  {
   "cell_type": "markdown",
   "metadata": {},
   "source": [
    "Collect the LSTM trading strategy backtest details:"
   ]
  },
  {
   "cell_type": "code",
   "execution_count": 71,
   "metadata": {},
   "outputs": [],
   "source": [
    "backtest_lstm_details = backtest_lstm.strategy.data\n",
    "backtest_lstm_details.columns = ['% EQUITY', 'EQUITY', 'CASH', 'FEES']"
   ]
  },
  {
   "cell_type": "markdown",
   "metadata": {},
   "source": [
    "Inspect the LSTM trading strategy backtest details:"
   ]
  },
  {
   "cell_type": "code",
   "execution_count": 72,
   "metadata": {},
   "outputs": [
    {
     "data": {
      "text/html": [
       "<div>\n",
       "<style scoped>\n",
       "    .dataframe tbody tr th:only-of-type {\n",
       "        vertical-align: middle;\n",
       "    }\n",
       "\n",
       "    .dataframe tbody tr th {\n",
       "        vertical-align: top;\n",
       "    }\n",
       "\n",
       "    .dataframe thead th {\n",
       "        text-align: right;\n",
       "    }\n",
       "</style>\n",
       "<table border=\"1\" class=\"dataframe\">\n",
       "  <thead>\n",
       "    <tr style=\"text-align: right;\">\n",
       "      <th></th>\n",
       "      <th>% EQUITY</th>\n",
       "      <th>EQUITY</th>\n",
       "      <th>CASH</th>\n",
       "      <th>FEES</th>\n",
       "    </tr>\n",
       "  </thead>\n",
       "  <tbody>\n",
       "    <tr>\n",
       "      <th>2016-03-06</th>\n",
       "      <td>100.000000</td>\n",
       "      <td>1.000000e+06</td>\n",
       "      <td>1.000000e+06</td>\n",
       "      <td>0.0</td>\n",
       "    </tr>\n",
       "    <tr>\n",
       "      <th>2016-03-07</th>\n",
       "      <td>100.000000</td>\n",
       "      <td>1.000000e+06</td>\n",
       "      <td>1.000000e+06</td>\n",
       "      <td>0.0</td>\n",
       "    </tr>\n",
       "    <tr>\n",
       "      <th>2016-03-08</th>\n",
       "      <td>100.000000</td>\n",
       "      <td>1.000000e+06</td>\n",
       "      <td>8.487142e+01</td>\n",
       "      <td>0.0</td>\n",
       "    </tr>\n",
       "    <tr>\n",
       "      <th>2016-03-09</th>\n",
       "      <td>100.963462</td>\n",
       "      <td>1.009635e+06</td>\n",
       "      <td>8.487142e+01</td>\n",
       "      <td>0.0</td>\n",
       "    </tr>\n",
       "    <tr>\n",
       "      <th>2016-03-10</th>\n",
       "      <td>100.805281</td>\n",
       "      <td>1.008053e+06</td>\n",
       "      <td>8.487142e+01</td>\n",
       "      <td>0.0</td>\n",
       "    </tr>\n",
       "    <tr>\n",
       "      <th>2016-03-11</th>\n",
       "      <td>102.365514</td>\n",
       "      <td>1.023655e+06</td>\n",
       "      <td>2.047359e+06</td>\n",
       "      <td>0.0</td>\n",
       "    </tr>\n",
       "    <tr>\n",
       "      <th>2016-03-14</th>\n",
       "      <td>102.063494</td>\n",
       "      <td>1.020635e+06</td>\n",
       "      <td>6.474613e+01</td>\n",
       "      <td>0.0</td>\n",
       "    </tr>\n",
       "    <tr>\n",
       "      <th>2016-03-15</th>\n",
       "      <td>102.192156</td>\n",
       "      <td>1.021922e+06</td>\n",
       "      <td>6.474613e+01</td>\n",
       "      <td>0.0</td>\n",
       "    </tr>\n",
       "    <tr>\n",
       "      <th>2016-03-16</th>\n",
       "      <td>103.500213</td>\n",
       "      <td>1.035002e+06</td>\n",
       "      <td>6.474613e+01</td>\n",
       "      <td>0.0</td>\n",
       "    </tr>\n",
       "    <tr>\n",
       "      <th>2016-03-17</th>\n",
       "      <td>105.108479</td>\n",
       "      <td>1.051085e+06</td>\n",
       "      <td>6.474613e+01</td>\n",
       "      <td>0.0</td>\n",
       "    </tr>\n",
       "  </tbody>\n",
       "</table>\n",
       "</div>"
      ],
      "text/plain": [
       "              % EQUITY        EQUITY          CASH  FEES\n",
       "2016-03-06  100.000000  1.000000e+06  1.000000e+06   0.0\n",
       "2016-03-07  100.000000  1.000000e+06  1.000000e+06   0.0\n",
       "2016-03-08  100.000000  1.000000e+06  8.487142e+01   0.0\n",
       "2016-03-09  100.963462  1.009635e+06  8.487142e+01   0.0\n",
       "2016-03-10  100.805281  1.008053e+06  8.487142e+01   0.0\n",
       "2016-03-11  102.365514  1.023655e+06  2.047359e+06   0.0\n",
       "2016-03-14  102.063494  1.020635e+06  6.474613e+01   0.0\n",
       "2016-03-15  102.192156  1.021922e+06  6.474613e+01   0.0\n",
       "2016-03-16  103.500213  1.035002e+06  6.474613e+01   0.0\n",
       "2016-03-17  105.108479  1.051085e+06  6.474613e+01   0.0"
      ]
     },
     "execution_count": 72,
     "metadata": {},
     "output_type": "execute_result"
    }
   ],
   "source": [
    "backtest_lstm_details.head(10)"
   ]
  },
  {
   "cell_type": "markdown",
   "metadata": {},
   "source": [
    "Collect the \"buy-and-hold\" trading strategy backtest details:"
   ]
  },
  {
   "cell_type": "code",
   "execution_count": 73,
   "metadata": {},
   "outputs": [],
   "source": [
    "backtest_base_details = backtest_base.strategy.data\n",
    "backtest_base_details.columns = ['% EQUITY', 'EQUITY', 'CASH', 'FEES']"
   ]
  },
  {
   "cell_type": "markdown",
   "metadata": {},
   "source": [
    "Inspect the \"buy-and-hold\" trading strategy backtest details:"
   ]
  },
  {
   "cell_type": "code",
   "execution_count": 74,
   "metadata": {},
   "outputs": [
    {
     "data": {
      "text/html": [
       "<div>\n",
       "<style scoped>\n",
       "    .dataframe tbody tr th:only-of-type {\n",
       "        vertical-align: middle;\n",
       "    }\n",
       "\n",
       "    .dataframe tbody tr th {\n",
       "        vertical-align: top;\n",
       "    }\n",
       "\n",
       "    .dataframe thead th {\n",
       "        text-align: right;\n",
       "    }\n",
       "</style>\n",
       "<table border=\"1\" class=\"dataframe\">\n",
       "  <thead>\n",
       "    <tr style=\"text-align: right;\">\n",
       "      <th></th>\n",
       "      <th>% EQUITY</th>\n",
       "      <th>EQUITY</th>\n",
       "      <th>CASH</th>\n",
       "      <th>FEES</th>\n",
       "    </tr>\n",
       "  </thead>\n",
       "  <tbody>\n",
       "    <tr>\n",
       "      <th>2016-03-06</th>\n",
       "      <td>100.000000</td>\n",
       "      <td>1.000000e+06</td>\n",
       "      <td>1000000.000000</td>\n",
       "      <td>0.0</td>\n",
       "    </tr>\n",
       "    <tr>\n",
       "      <th>2016-03-07</th>\n",
       "      <td>100.000000</td>\n",
       "      <td>1.000000e+06</td>\n",
       "      <td>1000000.000000</td>\n",
       "      <td>0.0</td>\n",
       "    </tr>\n",
       "    <tr>\n",
       "      <th>2016-03-08</th>\n",
       "      <td>100.000000</td>\n",
       "      <td>1.000000e+06</td>\n",
       "      <td>84.871421</td>\n",
       "      <td>0.0</td>\n",
       "    </tr>\n",
       "    <tr>\n",
       "      <th>2016-03-09</th>\n",
       "      <td>100.963462</td>\n",
       "      <td>1.009635e+06</td>\n",
       "      <td>84.871421</td>\n",
       "      <td>0.0</td>\n",
       "    </tr>\n",
       "    <tr>\n",
       "      <th>2016-03-10</th>\n",
       "      <td>100.805281</td>\n",
       "      <td>1.008053e+06</td>\n",
       "      <td>84.871421</td>\n",
       "      <td>0.0</td>\n",
       "    </tr>\n",
       "    <tr>\n",
       "      <th>2016-03-11</th>\n",
       "      <td>102.365514</td>\n",
       "      <td>1.023655e+06</td>\n",
       "      <td>84.871421</td>\n",
       "      <td>0.0</td>\n",
       "    </tr>\n",
       "    <tr>\n",
       "      <th>2016-03-14</th>\n",
       "      <td>102.667495</td>\n",
       "      <td>1.026675e+06</td>\n",
       "      <td>84.871421</td>\n",
       "      <td>0.0</td>\n",
       "    </tr>\n",
       "    <tr>\n",
       "      <th>2016-03-15</th>\n",
       "      <td>102.796915</td>\n",
       "      <td>1.027969e+06</td>\n",
       "      <td>84.871421</td>\n",
       "      <td>0.0</td>\n",
       "    </tr>\n",
       "    <tr>\n",
       "      <th>2016-03-16</th>\n",
       "      <td>104.112688</td>\n",
       "      <td>1.041127e+06</td>\n",
       "      <td>84.871421</td>\n",
       "      <td>0.0</td>\n",
       "    </tr>\n",
       "    <tr>\n",
       "      <th>2016-03-17</th>\n",
       "      <td>105.730440</td>\n",
       "      <td>1.057304e+06</td>\n",
       "      <td>84.871421</td>\n",
       "      <td>0.0</td>\n",
       "    </tr>\n",
       "  </tbody>\n",
       "</table>\n",
       "</div>"
      ],
      "text/plain": [
       "              % EQUITY        EQUITY            CASH  FEES\n",
       "2016-03-06  100.000000  1.000000e+06  1000000.000000   0.0\n",
       "2016-03-07  100.000000  1.000000e+06  1000000.000000   0.0\n",
       "2016-03-08  100.000000  1.000000e+06       84.871421   0.0\n",
       "2016-03-09  100.963462  1.009635e+06       84.871421   0.0\n",
       "2016-03-10  100.805281  1.008053e+06       84.871421   0.0\n",
       "2016-03-11  102.365514  1.023655e+06       84.871421   0.0\n",
       "2016-03-14  102.667495  1.026675e+06       84.871421   0.0\n",
       "2016-03-15  102.796915  1.027969e+06       84.871421   0.0\n",
       "2016-03-16  104.112688  1.041127e+06       84.871421   0.0\n",
       "2016-03-17  105.730440  1.057304e+06       84.871421   0.0"
      ]
     },
     "execution_count": 74,
     "metadata": {},
     "output_type": "execute_result"
    }
   ],
   "source": [
    "backtest_base_details.head(10)"
   ]
  },
  {
   "cell_type": "markdown",
   "metadata": {},
   "source": [
    "Visualize the equity progression of both strategies over time:"
   ]
  },
  {
   "cell_type": "code",
   "execution_count": 75,
   "metadata": {},
   "outputs": [
    {
     "data": {
      "text/plain": [
       "Text(0.5, 1.0, 'International Business Machines Corporation (IBM) - Backtest % Equity Progression')"
      ]
     },
     "execution_count": 75,
     "metadata": {},
     "output_type": "execute_result"
    },
    {
     "data": {
      "image/png": "[encoded data removed]",
      "text/plain": [
       "<Figure size 1080x360 with 1 Axes>"
      ]
     },
     "metadata": {},
     "output_type": "display_data"
    }
   ],
   "source": [
    "plt.rcParams['figure.figsize'] = [15, 5]\n",
    "fig = plt.figure()\n",
    "ax = fig.add_subplot(111)\n",
    "\n",
    "ax.plot(backtest_lstm_details['% EQUITY'], color='C1',lw=1.0, label='lstm strategy (green)')\n",
    "ax.plot(backtest_base_details['% EQUITY'], color='C2',lw=1.0, label='base strategy (red)')\n",
    "\n",
    "for tick in ax.get_xticklabels():\n",
    "    tick.set_rotation(45)\n",
    "    \n",
    "# set axis labels\n",
    "ax.set_xlabel('[time]', fontsize=10)\n",
    "ax.set_xlim(pd.to_datetime(stock_data.index).values[train_sequences.shape[0]], pd.to_datetime(stock_data.index).values[train_sequences.shape[0]+valid_sequences.shape[0]])\n",
    "ax.set_ylabel('[equity %]', fontsize=10)\n",
    "\n",
    "# set plot legend\n",
    "plt.legend(loc=\"upper right\", numpoints=1, fancybox=True)\n",
    "\n",
    "# set plot title\n",
    "plt.title('International Business Machines Corporation (IBM) - Backtest % Equity Progression', fontsize=10)"
   ]
  },
  {
   "cell_type": "markdown",
   "metadata": {},
   "source": [
    "### Exercises:"
   ]
  },
  {
   "cell_type": "markdown",
   "metadata": {},
   "source": [
    "We recommend you to try the following exercises as part of the lab:\n",
    "\n",
    "**1. Evaluation of Shallow vs. Deep RNN Models.**\n",
    "\n",
    "> Download the daily adjusted closing prices of the IBM stock within the time frame starting from 01/01/1990 until 05/31/2019. In addition to the architecture of the lab notebook, evaluate further (more shallow as well as more deep) RNN architectures by (1) either re-moving/adding layers of LSTM cells and/or (2) increasing/decreasing the dimensionality of the LSTM cells hidden state. Train your model (using architectures you selected) for at least 20'000 training epochs but keep the following parameters unchanged (a) sequence length: 5 time-steps (days) and (b) train vs. test fraction: 0.9.\n",
    "\n",
    "> Analyze the prediction performance of the trained models in terms of training time and prediction accuracy. Furthermore, backtest the out-of-sample signals predicted by each of your models and evaluate them in terms of total return and equity progression. Which of your architecture results in the best performing model, and why?"
   ]
  },
  {
   "cell_type": "code",
   "execution_count": 76,
   "metadata": {},
   "outputs": [],
   "source": [
    "# ***************************************************\n",
    "# INSERT YOUR CODE HERE\n",
    "# ***************************************************"
   ]
  },
  {
   "cell_type": "markdown",
   "metadata": {},
   "source": [
    "**2. Training and Evaluation of Models Learned from Additional Stocks.**\n",
    "\n",
    "> Download the daily adjusted closing prices of at least two additional stocks (e.g., Alphabet, Deutsche Bank) within the time frame starting from 01/01/1990 until 05/31/2017. Pls. select two stocks that you are interested in to investigate ( e.g. stocks that you may occasionally trade yourself). Learn an ’optimal’ RNN model of both stocks and backtest their corresponding trade signals by following the approach outlined in the lab notebook regarding the IBM stock. Pls. keep the train vs. test dataset fraction fixed to 0.9, all other parameters of the data preparation and model training can be changed.\n",
    "\n",
    "> Analyse the performance of the learned models in terms of their prediction accuracy as well as their out-of-sample backtest performance (e. g. the total return and equity progression). What architectures and corresponding training parameters result in the best performing models?"
   ]
  },
  {
   "cell_type": "code",
   "execution_count": 77,
   "metadata": {},
   "outputs": [],
   "source": [
    "# ***************************************************\n",
    "# INSERT YOUR CODE HERE\n",
    "# ***************************************************"
   ]
  },
  {
   "cell_type": "markdown",
   "metadata": {},
   "source": [
    "**3. Training and Evaluation of Models Learned from Augmented Data.**\n",
    "\n",
    "> In the prior exercises, we used the historical daily adjusted returns of a single stock to learn a model that can predict the stocks’ future adjusted closing price (log- return) movement. However, one of the advantages of NN’s lies in their capability to learn a model from multiple sources of input data.\n",
    "For each of the two stocks (’target stocks’) that you selected in exercise 2. learn an ’optimal’ RNN model using the daily returns as a target label. However, before training your models augment the training data of each stock by the return sequences of at least three additional stocks. The additional stocks, used for data augmentation, should exhibit a high correlation to the historical adjusted closing prices of the target stock price movement you aim to model.\n",
    "\n",
    "> Analyse the performance of the learned models in terms of their prediction accuracy as well as their out-of-sample backtest performance (e. g. the total return and equity progression). Do you observe an improvement of the trained model in terms of out-of-sample backtest performance comparison to exercise 1.?"
   ]
  },
  {
   "cell_type": "code",
   "execution_count": 78,
   "metadata": {},
   "outputs": [],
   "source": [
    "# ***************************************************\n",
    "# INSERT YOUR CODE HERE\n",
    "# ***************************************************"
   ]
  },
  {
   "cell_type": "markdown",
   "metadata": {},
   "source": [
    "### Lab Summary:"
   ]
  },
  {
   "cell_type": "markdown",
   "metadata": {},
   "source": [
    "In this lab, a step by step introduction into **design, implementation, training and evaluation** of a LSTM neural network based trading strategy is presented. \n",
    "\n",
    "The strategy trades a specific financial instrument based on its historical adjusted daily market prices. The degree of success of the implemented strategy is evaluated based in its backtest performance with particular focus on (1) the strategy's **total return** as well as (2) its **equity progression** over time. \n",
    "\n",
    "The code provided in this lab provides a blueprint for the development and testing of more complex trading strategies."
   ]
  },
  {
   "cell_type": "markdown",
   "metadata": {},
   "source": [
    "You may want to execute the content of your lab outside of the Jupyter notebook environment, e.g. on a compute node or a server. The cell below converts the lab notebook into a standalone and executable python script. Pls. note that to convert the notebook, you need to install Python's **nbconvert** library and its extensions:"
   ]
  },
  {
   "cell_type": "code",
   "execution_count": 79,
   "metadata": {},
   "outputs": [
    {
     "name": "stdout",
     "output_type": "stream",
     "text": [
      "/bin/sh: pip: command not found\n",
      "/bin/sh: pip: command not found\n"
     ]
    }
   ],
   "source": [
    "# installing the nbconvert library\n",
    "!pip install nbconvert\n",
    "!pip install jupyter_contrib_nbextensions"
   ]
  },
  {
   "cell_type": "markdown",
   "metadata": {},
   "source": [
    "Let's now convert the Jupyter notebook into a plain Python script:"
   ]
  }
 ],
 "metadata": {
  "kernelspec": {
   "display_name": "Python 3",
   "language": "python",
   "name": "python3"
  },
  "language_info": {
   "codemirror_mode": {
    "name": "ipython",
    "version": 3
   },
   "file_extension": ".py",
   "mimetype": "text/x-python",
   "name": "python",
   "nbconvert_exporter": "python",
   "pygments_lexer": "ipython3",
   "version": "3.7.4"
  },
  "toc": {
   "base_numbering": 1,
   "nav_menu": {},
   "number_sections": false,
   "sideBar": true,
   "skip_h1_title": false,
   "title_cell": "Table of Contents",
   "title_sidebar": "Contents",
   "toc_cell": false,
   "toc_position": {
    "height": "calc(100% - 180px)",
    "left": "10px",
    "top": "150px",
    "width": "380.67498779296875px"
   },
   "toc_section_display": true,
   "toc_window_display": true
  }
 },
 "nbformat": 4,
 "nbformat_minor": 2
}
