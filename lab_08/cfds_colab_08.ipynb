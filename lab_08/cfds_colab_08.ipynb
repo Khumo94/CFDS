{
 "cells": [
  {
   "cell_type": "code",
   "execution_count": 1,
   "metadata": {},
   "outputs": [],
   "source": [
    "#-*- coding: utf-8 -*-"
   ]
  },
  {
   "cell_type": "markdown",
   "metadata": {},
   "source": [
    "<img align=\"right\" style=\"max-width: 200px; height: auto\" src=\"cfds_logo.png\">\n",
    "\n",
    "###  Lab 08 - \"Supervised Deep Learning - Long Short-Term Memory Neural Networks\"\n",
    "\n",
    "Chartered Financial Data Scientist (CFDS), Autumn Term 2019/20"
   ]
  },
  {
   "cell_type": "markdown",
   "metadata": {},
   "source": [
    "In the last lab you learned about how to utilize an **unsupervised** (deep) learning technique namely **Convolutional Neural Networks (CNNs)** to classify tiny images of objects contained in the CIFAR-10 dataset.\n",
    "\n",
    "In this seventh lab, we will learn how to apply another type of deep learning technique referred to as **Long-Short-Term-Memory (LSTM)** neural networks. Unlike standard feedforward neural networks, LSTMs encompass feedback connections that make it a \"general-purpose computer\". LSTMs are designed to process not only a single data point (such as images), but also entire sequences of data, e.g., such as speech, video, or financial time series.\n",
    "\n",
    "\n",
    "We will again use the functionality of the **'PyTorch'** library to implement and train an LSTM based neural network. The network will be trained on the historic daily (in-sample) returns of an exemplary financial stock. Once the network is trained, we will use the learned model to predict future (out-of-sample) returns. Finally, we will convert the predictions into tradable signals and the backtest the signals accordingly. \n",
    "\n",
    "The figure below illustrates a high-level eye view on the machine learning process we aim to establish in this lab."
   ]
  },
  {
   "cell_type": "markdown",
   "metadata": {},
   "source": [
    "<img align=\"center\" style=\"max-width: 700px\" src=\"process.png\">"
   ]
  },
  {
   "cell_type": "markdown",
   "metadata": {},
   "source": [
    "As always, pls. don't hesitate to ask all your questions either during the lab or send us an email via marco.schreyer@fds.ai or damian.borth@fds.ai."
   ]
  },
  {
   "cell_type": "markdown",
   "metadata": {},
   "source": [
    "### Lab Objectives:"
   ]
  },
  {
   "cell_type": "markdown",
   "metadata": {},
   "source": [
    "After today's lab, you should be able to:\n",
    "\n",
    "> 1. Understand the basic concepts, intuitions and major building blocks of **Long-Short Term Memory (LSTM) Neural Networks**.\n",
    "> 2. Know how to **implement and to train an LSTM** to learn a model of financial time-series data.\n",
    "> 3. Understand how to apply such a learned model to **predict future data points of a time-series**.\n",
    "> 4. Know how to **interpret the model's prediction results** and backtest the predictions. "
   ]
  },
  {
   "cell_type": "markdown",
   "metadata": {},
   "source": [
    "### Setup of the Jupyter Notebook Environment"
   ]
  },
  {
   "cell_type": "markdown",
   "metadata": {},
   "source": [
    "Similar to the previous labs, we need to import a couple of Python libraries that allow for data analysis and data visualization. We will mostly use the PyTorch, Numpy, Sklearn, Matplotlib, Seaborn, BT and a few utility libraries throughout the lab:"
   ]
  },
  {
   "cell_type": "code",
   "execution_count": 2,
   "metadata": {},
   "outputs": [],
   "source": [
    "# import python data science libraries\n",
    "import os\n",
    "import datetime as dt\n",
    "import pandas as pd\n",
    "import numpy as np"
   ]
  },
  {
   "cell_type": "markdown",
   "metadata": {},
   "source": [
    "Import financial data science libraries:"
   ]
  },
  {
   "cell_type": "code",
   "execution_count": 3,
   "metadata": {},
   "outputs": [],
   "source": [
    "import quandl as ql # library to retreive financial data\n",
    "import bt as bt # library to backtest trading signals"
   ]
  },
  {
   "cell_type": "markdown",
   "metadata": {},
   "source": [
    "Import Python machine / deep learning libraries:"
   ]
  },
  {
   "cell_type": "code",
   "execution_count": 4,
   "metadata": {},
   "outputs": [],
   "source": [
    "# pytorch libraries\n",
    "import torch\n",
    "import torch.nn as nn\n",
    "import torch.optim as optim\n",
    "from torch.utils import data\n",
    "from torch.utils.data import dataloader"
   ]
  },
  {
   "cell_type": "markdown",
   "metadata": {},
   "source": [
    "Import the sklearn pre-processing functions:"
   ]
  },
  {
   "cell_type": "code",
   "execution_count": 5,
   "metadata": {},
   "outputs": [],
   "source": [
    "# sklearn libraries\n",
    "from sklearn import preprocessing"
   ]
  },
  {
   "cell_type": "markdown",
   "metadata": {},
   "source": [
    "Import Python plotting libraries and set general plotting parameters:"
   ]
  },
  {
   "cell_type": "code",
   "execution_count": 6,
   "metadata": {},
   "outputs": [],
   "source": [
    "import matplotlib.pyplot as plt\n",
    "plt.style.use('seaborn')\n",
    "plt.rcParams['figure.figsize'] = [10, 5]\n",
    "plt.rcParams['figure.dpi']= 150"
   ]
  },
  {
   "cell_type": "markdown",
   "metadata": {},
   "source": [
    "Enable notebook matplotlib inline plotting:"
   ]
  },
  {
   "cell_type": "code",
   "execution_count": 7,
   "metadata": {},
   "outputs": [],
   "source": [
    "%matplotlib inline"
   ]
  },
  {
   "cell_type": "markdown",
   "metadata": {},
   "source": [
    "Suppress potential warnings:"
   ]
  },
  {
   "cell_type": "code",
   "execution_count": 8,
   "metadata": {},
   "outputs": [],
   "source": [
    "import warnings\n",
    "warnings.filterwarnings('ignore')"
   ]
  },
  {
   "cell_type": "markdown",
   "metadata": {},
   "source": [
    "Create notebook folder structure to store the data as well as the trained neural network models:"
   ]
  },
  {
   "cell_type": "code",
   "execution_count": 9,
   "metadata": {},
   "outputs": [],
   "source": [
    "if not os.path.exists('./data'): os.makedirs('./data')  # create data directory\n",
    "if not os.path.exists('./models'): os.makedirs('./models')  # create trained models directory"
   ]
  },
  {
   "cell_type": "markdown",
   "metadata": {},
   "source": [
    "Set random seed value to obtain reproducable results:"
   ]
  },
  {
   "cell_type": "code",
   "execution_count": 10,
   "metadata": {},
   "outputs": [
    {
     "data": {
      "text/plain": [
       "<torch._C.Generator at 0x13b95d710>"
      ]
     },
     "execution_count": 10,
     "metadata": {},
     "output_type": "execute_result"
    }
   ],
   "source": [
    "# init deterministic seed\n",
    "seed_value = 1234\n",
    "np.random.seed(seed_value) # set numpy seed\n",
    "torch.manual_seed(seed_value) # set pytorch seed CPU"
   ]
  },
  {
   "cell_type": "markdown",
   "metadata": {},
   "source": [
    "### 1. Dataset Download and Data Assessment"
   ]
  },
  {
   "cell_type": "markdown",
   "metadata": {},
   "source": [
    "In this section of the lab notebook we will download and access historic daily stock market data ranging from **01/01/2000** to **31/12/2017** of the **\"International Business Machines\" (IBM)** corporation (ticker symbol: \"IBM\"). To start the data download, let's initialize the \"quandl\" financial data download API and set an API key:"
   ]
  },
  {
   "cell_type": "code",
   "execution_count": 11,
   "metadata": {},
   "outputs": [],
   "source": [
    "#ql.ApiConfig.api_key = '<enter you own quandl api code here>'\n",
    "ql.ApiConfig.api_key = 'xn6g-K_ebmMgSJRTCSUk'"
   ]
  },
  {
   "cell_type": "markdown",
   "metadata": {},
   "source": [
    "Furthermore, let's specify the start and end date of the stock market data download:"
   ]
  },
  {
   "cell_type": "code",
   "execution_count": 12,
   "metadata": {},
   "outputs": [],
   "source": [
    "start_date = dt.datetime(2000, 1, 1)\n",
    "end_date = dt.datetime(2017, 12, 31)"
   ]
  },
  {
   "cell_type": "markdown",
   "metadata": {},
   "source": [
    "Download the daily \"International Business Machines\" (IBM) stock market data:"
   ]
  },
  {
   "cell_type": "code",
   "execution_count": 13,
   "metadata": {},
   "outputs": [],
   "source": [
    "stock_data = ql.get('WIKI/IBM', start_date=start_date, end_date=end_date, collapse='daily')"
   ]
  },
  {
   "cell_type": "markdown",
   "metadata": {},
   "source": [
    "Inspect top 10 records of the retreived IBM stock market data:"
   ]
  },
  {
   "cell_type": "code",
   "execution_count": 14,
   "metadata": {},
   "outputs": [
    {
     "data": {
      "text/html": [
       "<div>\n",
       "<style scoped>\n",
       "    .dataframe tbody tr th:only-of-type {\n",
       "        vertical-align: middle;\n",
       "    }\n",
       "\n",
       "    .dataframe tbody tr th {\n",
       "        vertical-align: top;\n",
       "    }\n",
       "\n",
       "    .dataframe thead th {\n",
       "        text-align: right;\n",
       "    }\n",
       "</style>\n",
       "<table border=\"1\" class=\"dataframe\">\n",
       "  <thead>\n",
       "    <tr style=\"text-align: right;\">\n",
       "      <th></th>\n",
       "      <th>Open</th>\n",
       "      <th>High</th>\n",
       "      <th>Low</th>\n",
       "      <th>Close</th>\n",
       "      <th>Volume</th>\n",
       "      <th>Ex-Dividend</th>\n",
       "      <th>Split Ratio</th>\n",
       "      <th>Adj. Open</th>\n",
       "      <th>Adj. High</th>\n",
       "      <th>Adj. Low</th>\n",
       "      <th>Adj. Close</th>\n",
       "      <th>Adj. Volume</th>\n",
       "    </tr>\n",
       "    <tr>\n",
       "      <th>Date</th>\n",
       "      <th></th>\n",
       "      <th></th>\n",
       "      <th></th>\n",
       "      <th></th>\n",
       "      <th></th>\n",
       "      <th></th>\n",
       "      <th></th>\n",
       "      <th></th>\n",
       "      <th></th>\n",
       "      <th></th>\n",
       "      <th></th>\n",
       "      <th></th>\n",
       "    </tr>\n",
       "  </thead>\n",
       "  <tbody>\n",
       "    <tr>\n",
       "      <th>2000-01-03</th>\n",
       "      <td>112.44</td>\n",
       "      <td>116.00</td>\n",
       "      <td>111.87</td>\n",
       "      <td>116.00</td>\n",
       "      <td>10347700.0</td>\n",
       "      <td>0.0</td>\n",
       "      <td>1.0</td>\n",
       "      <td>82.542051</td>\n",
       "      <td>85.155442</td>\n",
       "      <td>82.123614</td>\n",
       "      <td>85.155442</td>\n",
       "      <td>10347700.0</td>\n",
       "    </tr>\n",
       "    <tr>\n",
       "      <th>2000-01-04</th>\n",
       "      <td>114.00</td>\n",
       "      <td>114.50</td>\n",
       "      <td>110.87</td>\n",
       "      <td>112.06</td>\n",
       "      <td>8227800.0</td>\n",
       "      <td>0.0</td>\n",
       "      <td>1.0</td>\n",
       "      <td>83.687245</td>\n",
       "      <td>84.054294</td>\n",
       "      <td>81.389516</td>\n",
       "      <td>82.263093</td>\n",
       "      <td>8227800.0</td>\n",
       "    </tr>\n",
       "    <tr>\n",
       "      <th>2000-01-05</th>\n",
       "      <td>112.94</td>\n",
       "      <td>119.75</td>\n",
       "      <td>112.12</td>\n",
       "      <td>116.00</td>\n",
       "      <td>12733200.0</td>\n",
       "      <td>0.0</td>\n",
       "      <td>1.0</td>\n",
       "      <td>82.909100</td>\n",
       "      <td>87.908312</td>\n",
       "      <td>82.307139</td>\n",
       "      <td>85.155442</td>\n",
       "      <td>12733200.0</td>\n",
       "    </tr>\n",
       "    <tr>\n",
       "      <th>2000-01-06</th>\n",
       "      <td>118.00</td>\n",
       "      <td>118.94</td>\n",
       "      <td>113.50</td>\n",
       "      <td>114.00</td>\n",
       "      <td>7971900.0</td>\n",
       "      <td>0.0</td>\n",
       "      <td>1.0</td>\n",
       "      <td>86.623639</td>\n",
       "      <td>87.313692</td>\n",
       "      <td>83.320195</td>\n",
       "      <td>83.687245</td>\n",
       "      <td>7971900.0</td>\n",
       "    </tr>\n",
       "    <tr>\n",
       "      <th>2000-01-07</th>\n",
       "      <td>117.25</td>\n",
       "      <td>117.94</td>\n",
       "      <td>110.62</td>\n",
       "      <td>113.50</td>\n",
       "      <td>11856700.0</td>\n",
       "      <td>0.0</td>\n",
       "      <td>1.0</td>\n",
       "      <td>86.073065</td>\n",
       "      <td>86.579593</td>\n",
       "      <td>81.205991</td>\n",
       "      <td>83.320195</td>\n",
       "      <td>11856700.0</td>\n",
       "    </tr>\n",
       "    <tr>\n",
       "      <th>2000-01-10</th>\n",
       "      <td>117.25</td>\n",
       "      <td>119.37</td>\n",
       "      <td>115.37</td>\n",
       "      <td>118.00</td>\n",
       "      <td>8540500.0</td>\n",
       "      <td>0.0</td>\n",
       "      <td>1.0</td>\n",
       "      <td>86.073065</td>\n",
       "      <td>87.629354</td>\n",
       "      <td>84.692960</td>\n",
       "      <td>86.623639</td>\n",
       "      <td>8540500.0</td>\n",
       "    </tr>\n",
       "    <tr>\n",
       "      <th>2000-01-11</th>\n",
       "      <td>117.87</td>\n",
       "      <td>121.12</td>\n",
       "      <td>116.62</td>\n",
       "      <td>119.00</td>\n",
       "      <td>7873300.0</td>\n",
       "      <td>0.0</td>\n",
       "      <td>1.0</td>\n",
       "      <td>86.528206</td>\n",
       "      <td>88.914027</td>\n",
       "      <td>85.610583</td>\n",
       "      <td>87.357738</td>\n",
       "      <td>7873300.0</td>\n",
       "    </tr>\n",
       "    <tr>\n",
       "      <th>2000-01-12</th>\n",
       "      <td>119.62</td>\n",
       "      <td>122.00</td>\n",
       "      <td>118.25</td>\n",
       "      <td>119.50</td>\n",
       "      <td>6803800.0</td>\n",
       "      <td>0.0</td>\n",
       "      <td>1.0</td>\n",
       "      <td>87.812879</td>\n",
       "      <td>89.560034</td>\n",
       "      <td>86.807164</td>\n",
       "      <td>87.724787</td>\n",
       "      <td>6803800.0</td>\n",
       "    </tr>\n",
       "    <tr>\n",
       "      <th>2000-01-13</th>\n",
       "      <td>119.94</td>\n",
       "      <td>121.00</td>\n",
       "      <td>115.75</td>\n",
       "      <td>118.25</td>\n",
       "      <td>8489700.0</td>\n",
       "      <td>0.0</td>\n",
       "      <td>1.0</td>\n",
       "      <td>88.047790</td>\n",
       "      <td>88.825935</td>\n",
       "      <td>84.971917</td>\n",
       "      <td>86.807164</td>\n",
       "      <td>8489700.0</td>\n",
       "    </tr>\n",
       "    <tr>\n",
       "      <th>2000-01-14</th>\n",
       "      <td>120.94</td>\n",
       "      <td>123.31</td>\n",
       "      <td>117.50</td>\n",
       "      <td>119.62</td>\n",
       "      <td>10956600.0</td>\n",
       "      <td>0.0</td>\n",
       "      <td>1.0</td>\n",
       "      <td>88.781889</td>\n",
       "      <td>90.521703</td>\n",
       "      <td>86.256590</td>\n",
       "      <td>87.812879</td>\n",
       "      <td>10956600.0</td>\n",
       "    </tr>\n",
       "  </tbody>\n",
       "</table>\n",
       "</div>"
      ],
      "text/plain": [
       "              Open    High     Low   Close      Volume  Ex-Dividend  \\\n",
       "Date                                                                  \n",
       "2000-01-03  112.44  116.00  111.87  116.00  10347700.0          0.0   \n",
       "2000-01-04  114.00  114.50  110.87  112.06   8227800.0          0.0   \n",
       "2000-01-05  112.94  119.75  112.12  116.00  12733200.0          0.0   \n",
       "2000-01-06  118.00  118.94  113.50  114.00   7971900.0          0.0   \n",
       "2000-01-07  117.25  117.94  110.62  113.50  11856700.0          0.0   \n",
       "2000-01-10  117.25  119.37  115.37  118.00   8540500.0          0.0   \n",
       "2000-01-11  117.87  121.12  116.62  119.00   7873300.0          0.0   \n",
       "2000-01-12  119.62  122.00  118.25  119.50   6803800.0          0.0   \n",
       "2000-01-13  119.94  121.00  115.75  118.25   8489700.0          0.0   \n",
       "2000-01-14  120.94  123.31  117.50  119.62  10956600.0          0.0   \n",
       "\n",
       "            Split Ratio  Adj. Open  Adj. High   Adj. Low  Adj. Close  \\\n",
       "Date                                                                   \n",
       "2000-01-03          1.0  82.542051  85.155442  82.123614   85.155442   \n",
       "2000-01-04          1.0  83.687245  84.054294  81.389516   82.263093   \n",
       "2000-01-05          1.0  82.909100  87.908312  82.307139   85.155442   \n",
       "2000-01-06          1.0  86.623639  87.313692  83.320195   83.687245   \n",
       "2000-01-07          1.0  86.073065  86.579593  81.205991   83.320195   \n",
       "2000-01-10          1.0  86.073065  87.629354  84.692960   86.623639   \n",
       "2000-01-11          1.0  86.528206  88.914027  85.610583   87.357738   \n",
       "2000-01-12          1.0  87.812879  89.560034  86.807164   87.724787   \n",
       "2000-01-13          1.0  88.047790  88.825935  84.971917   86.807164   \n",
       "2000-01-14          1.0  88.781889  90.521703  86.256590   87.812879   \n",
       "\n",
       "            Adj. Volume  \n",
       "Date                     \n",
       "2000-01-03   10347700.0  \n",
       "2000-01-04    8227800.0  \n",
       "2000-01-05   12733200.0  \n",
       "2000-01-06    7971900.0  \n",
       "2000-01-07   11856700.0  \n",
       "2000-01-10    8540500.0  \n",
       "2000-01-11    7873300.0  \n",
       "2000-01-12    6803800.0  \n",
       "2000-01-13    8489700.0  \n",
       "2000-01-14   10956600.0  "
      ]
     },
     "execution_count": 14,
     "metadata": {},
     "output_type": "execute_result"
    }
   ],
   "source": [
    "stock_data.head(10)"
   ]
  },
  {
   "cell_type": "markdown",
   "metadata": {},
   "source": [
    "Let's also evaluate the data quality of the download by creating a set of summary statistics of the retrieved data:"
   ]
  },
  {
   "cell_type": "code",
   "execution_count": 15,
   "metadata": {},
   "outputs": [
    {
     "data": {
      "text/html": [
       "<div>\n",
       "<style scoped>\n",
       "    .dataframe tbody tr th:only-of-type {\n",
       "        vertical-align: middle;\n",
       "    }\n",
       "\n",
       "    .dataframe tbody tr th {\n",
       "        vertical-align: top;\n",
       "    }\n",
       "\n",
       "    .dataframe thead th {\n",
       "        text-align: right;\n",
       "    }\n",
       "</style>\n",
       "<table border=\"1\" class=\"dataframe\">\n",
       "  <thead>\n",
       "    <tr style=\"text-align: right;\">\n",
       "      <th></th>\n",
       "      <th>Open</th>\n",
       "      <th>High</th>\n",
       "      <th>Low</th>\n",
       "      <th>Close</th>\n",
       "      <th>Volume</th>\n",
       "      <th>Ex-Dividend</th>\n",
       "      <th>Split Ratio</th>\n",
       "      <th>Adj. Open</th>\n",
       "      <th>Adj. High</th>\n",
       "      <th>Adj. Low</th>\n",
       "      <th>Adj. Close</th>\n",
       "      <th>Adj. Volume</th>\n",
       "    </tr>\n",
       "  </thead>\n",
       "  <tbody>\n",
       "    <tr>\n",
       "      <th>count</th>\n",
       "      <td>4527.000000</td>\n",
       "      <td>4527.000000</td>\n",
       "      <td>4527.000000</td>\n",
       "      <td>4527.000000</td>\n",
       "      <td>4.527000e+03</td>\n",
       "      <td>4527.000000</td>\n",
       "      <td>4527.0</td>\n",
       "      <td>4527.000000</td>\n",
       "      <td>4527.000000</td>\n",
       "      <td>4527.000000</td>\n",
       "      <td>4527.000000</td>\n",
       "      <td>4.527000e+03</td>\n",
       "    </tr>\n",
       "    <tr>\n",
       "      <th>mean</th>\n",
       "      <td>128.222709</td>\n",
       "      <td>129.396728</td>\n",
       "      <td>127.159447</td>\n",
       "      <td>128.298614</td>\n",
       "      <td>6.278760e+06</td>\n",
       "      <td>0.009600</td>\n",
       "      <td>1.0</td>\n",
       "      <td>107.207865</td>\n",
       "      <td>108.166503</td>\n",
       "      <td>106.338592</td>\n",
       "      <td>107.269724</td>\n",
       "      <td>6.278760e+06</td>\n",
       "    </tr>\n",
       "    <tr>\n",
       "      <th>std</th>\n",
       "      <td>40.122937</td>\n",
       "      <td>40.198267</td>\n",
       "      <td>40.057692</td>\n",
       "      <td>40.137144</td>\n",
       "      <td>3.314386e+06</td>\n",
       "      <td>0.094086</td>\n",
       "      <td>0.0</td>\n",
       "      <td>40.589963</td>\n",
       "      <td>40.694568</td>\n",
       "      <td>40.490652</td>\n",
       "      <td>40.598655</td>\n",
       "      <td>3.314386e+06</td>\n",
       "    </tr>\n",
       "    <tr>\n",
       "      <th>min</th>\n",
       "      <td>54.650000</td>\n",
       "      <td>56.700000</td>\n",
       "      <td>54.010000</td>\n",
       "      <td>55.070000</td>\n",
       "      <td>1.027500e+06</td>\n",
       "      <td>0.000000</td>\n",
       "      <td>1.0</td>\n",
       "      <td>40.714758</td>\n",
       "      <td>42.242027</td>\n",
       "      <td>40.237952</td>\n",
       "      <td>41.027662</td>\n",
       "      <td>1.027500e+06</td>\n",
       "    </tr>\n",
       "    <tr>\n",
       "      <th>25%</th>\n",
       "      <td>92.270000</td>\n",
       "      <td>93.180000</td>\n",
       "      <td>91.500000</td>\n",
       "      <td>92.385000</td>\n",
       "      <td>4.023725e+06</td>\n",
       "      <td>0.000000</td>\n",
       "      <td>1.0</td>\n",
       "      <td>70.101463</td>\n",
       "      <td>70.880441</td>\n",
       "      <td>69.417812</td>\n",
       "      <td>70.119535</td>\n",
       "      <td>4.023725e+06</td>\n",
       "    </tr>\n",
       "    <tr>\n",
       "      <th>50%</th>\n",
       "      <td>119.310000</td>\n",
       "      <td>120.550000</td>\n",
       "      <td>117.850000</td>\n",
       "      <td>119.370000</td>\n",
       "      <td>5.502900e+06</td>\n",
       "      <td>0.000000</td>\n",
       "      <td>1.0</td>\n",
       "      <td>92.441676</td>\n",
       "      <td>93.664367</td>\n",
       "      <td>91.575772</td>\n",
       "      <td>92.473450</td>\n",
       "      <td>5.502900e+06</td>\n",
       "    </tr>\n",
       "    <tr>\n",
       "      <th>75%</th>\n",
       "      <td>161.935000</td>\n",
       "      <td>162.985000</td>\n",
       "      <td>160.845000</td>\n",
       "      <td>161.950000</td>\n",
       "      <td>7.644000e+06</td>\n",
       "      <td>0.000000</td>\n",
       "      <td>1.0</td>\n",
       "      <td>147.825960</td>\n",
       "      <td>148.985000</td>\n",
       "      <td>146.896456</td>\n",
       "      <td>147.799857</td>\n",
       "      <td>7.644000e+06</td>\n",
       "    </tr>\n",
       "    <tr>\n",
       "      <th>max</th>\n",
       "      <td>215.380000</td>\n",
       "      <td>215.900000</td>\n",
       "      <td>214.300000</td>\n",
       "      <td>215.800000</td>\n",
       "      <td>4.120730e+07</td>\n",
       "      <td>1.500000</td>\n",
       "      <td>1.0</td>\n",
       "      <td>186.042617</td>\n",
       "      <td>186.491787</td>\n",
       "      <td>185.109726</td>\n",
       "      <td>186.405408</td>\n",
       "      <td>4.120730e+07</td>\n",
       "    </tr>\n",
       "  </tbody>\n",
       "</table>\n",
       "</div>"
      ],
      "text/plain": [
       "              Open         High          Low        Close        Volume  \\\n",
       "count  4527.000000  4527.000000  4527.000000  4527.000000  4.527000e+03   \n",
       "mean    128.222709   129.396728   127.159447   128.298614  6.278760e+06   \n",
       "std      40.122937    40.198267    40.057692    40.137144  3.314386e+06   \n",
       "min      54.650000    56.700000    54.010000    55.070000  1.027500e+06   \n",
       "25%      92.270000    93.180000    91.500000    92.385000  4.023725e+06   \n",
       "50%     119.310000   120.550000   117.850000   119.370000  5.502900e+06   \n",
       "75%     161.935000   162.985000   160.845000   161.950000  7.644000e+06   \n",
       "max     215.380000   215.900000   214.300000   215.800000  4.120730e+07   \n",
       "\n",
       "       Ex-Dividend  Split Ratio    Adj. Open    Adj. High     Adj. Low  \\\n",
       "count  4527.000000       4527.0  4527.000000  4527.000000  4527.000000   \n",
       "mean      0.009600          1.0   107.207865   108.166503   106.338592   \n",
       "std       0.094086          0.0    40.589963    40.694568    40.490652   \n",
       "min       0.000000          1.0    40.714758    42.242027    40.237952   \n",
       "25%       0.000000          1.0    70.101463    70.880441    69.417812   \n",
       "50%       0.000000          1.0    92.441676    93.664367    91.575772   \n",
       "75%       0.000000          1.0   147.825960   148.985000   146.896456   \n",
       "max       1.500000          1.0   186.042617   186.491787   185.109726   \n",
       "\n",
       "        Adj. Close   Adj. Volume  \n",
       "count  4527.000000  4.527000e+03  \n",
       "mean    107.269724  6.278760e+06  \n",
       "std      40.598655  3.314386e+06  \n",
       "min      41.027662  1.027500e+06  \n",
       "25%      70.119535  4.023725e+06  \n",
       "50%      92.473450  5.502900e+06  \n",
       "75%     147.799857  7.644000e+06  \n",
       "max     186.405408  4.120730e+07  "
      ]
     },
     "execution_count": 15,
     "metadata": {},
     "output_type": "execute_result"
    }
   ],
   "source": [
    "stock_data.describe()"
   ]
  },
  {
   "cell_type": "markdown",
   "metadata": {},
   "source": [
    "Visually inspect the daily adjusted closing prices of the \"International Business Machines\" (IBM) stock market data:"
   ]
  },
  {
   "cell_type": "code",
   "execution_count": 16,
   "metadata": {},
   "outputs": [
    {
     "data": {
      "text/plain": [
       "Text(0.5, 1.0, 'International Business Machines (IBM) - Daily Adjusted Historical Stock Closing Prices')"
      ]
     },
     "execution_count": 16,
     "metadata": {},
     "output_type": "execute_result"
    },
    {
     "data": {
      "image/png": "[encoded data removed]",
      "text/plain": [
       "<Figure size 1080x360 with 1 Axes>"
      ]
     },
     "metadata": {
      "needs_background": "light"
     },
     "output_type": "display_data"
    }
   ],
   "source": [
    "plt.rcParams['figure.figsize'] = [15, 5]\n",
    "fig = plt.figure()\n",
    "ax = fig.add_subplot(111)\n",
    "\n",
    "# plot reconstruction error scatter plot\n",
    "ax.plot(stock_data.index, stock_data['Adj. Close'], color='#9b59b6')\n",
    "\n",
    "for tick in ax.get_xticklabels():\n",
    "    tick.set_rotation(45)\n",
    "\n",
    "# set axis labels\n",
    "ax.set_xlabel('[time]', fontsize=10)\n",
    "ax.set_xlim([pd.to_datetime('01-01-2000'), pd.to_datetime('31-12-2017')])\n",
    "ax.set_ylabel('[stock adj. closing price]', fontsize=10)\n",
    "ax.set_ylim(50, 220)\n",
    "\n",
    "# set plot title\n",
    "plt.title('International Business Machines (IBM) - Daily Adjusted Historical Stock Closing Prices', fontsize=10)"
   ]
  },
  {
   "cell_type": "markdown",
   "metadata": {},
   "source": [
    "Pls. note that we plotted the \"adjusted\" daily closing prices of the IBM stock. The stock prices are adjusted by the quandl team by several types of regular corporate actions, e.g., stock dividends, stock splits. For further details on the applied adjustments pls. refer to the following reference: https://blog.quandl.com/guide-to-stock-price-calculation"
   ]
  },
  {
   "cell_type": "markdown",
   "metadata": {},
   "source": [
    "Save the obtained and validated stock market data to the local data directory:"
   ]
  },
  {
   "cell_type": "code",
   "execution_count": 17,
   "metadata": {},
   "outputs": [],
   "source": [
    "# save retrieved data to local data directory\n",
    "stock_data.to_csv('data/ibm_data_2010_2017_daily.csv', sep=';', encoding='utf-8')"
   ]
  },
  {
   "cell_type": "markdown",
   "metadata": {},
   "source": [
    "### 2. Data Pre-Processing"
   ]
  },
  {
   "cell_type": "markdown",
   "metadata": {},
   "source": [
    "In this section, we will obtain daily returns of the retrieved daily adjusted closing prices. Also, we will convert the time-series of daily returns into a set of sequences $s$ of $n$ time steps respectively. The created sequences will then be used to learn a model using an LSTM based neural network."
   ]
  },
  {
   "cell_type": "markdown",
   "metadata": {},
   "source": [
    "#### 2.1. Daily Returns Calculation"
   ]
  },
  {
   "cell_type": "markdown",
   "metadata": {},
   "source": [
    "Determine the daily returns of the \"International Business Machines\" (IBM) daily adjusted closing prices:"
   ]
  },
  {
   "cell_type": "code",
   "execution_count": 18,
   "metadata": {},
   "outputs": [],
   "source": [
    "stock_data['RETURN'] = stock_data['Adj. Close'].pct_change()"
   ]
  },
  {
   "cell_type": "markdown",
   "metadata": {},
   "source": [
    "Visually inspect the obtained daily returns:"
   ]
  },
  {
   "cell_type": "code",
   "execution_count": 19,
   "metadata": {},
   "outputs": [
    {
     "data": {
      "text/plain": [
       "Text(0.5, 1.0, 'International Business Machines (IBM) - Daily Historical Stock Closing Prices')"
      ]
     },
     "execution_count": 19,
     "metadata": {},
     "output_type": "execute_result"
    },
    {
     "data": {
      "image/png": "[encoded data removed]",
      "text/plain": [
       "<Figure size 1080x360 with 1 Axes>"
      ]
     },
     "metadata": {
      "needs_background": "light"
     },
     "output_type": "display_data"
    }
   ],
   "source": [
    "plt.rcParams['figure.figsize'] = [15, 5]\n",
    "fig = plt.figure()\n",
    "ax = fig.add_subplot(111)\n",
    "\n",
    "# plot reconstruction error scatter plot\n",
    "ax.plot(stock_data.index, stock_data['RETURN'], color='#9b59b6')\n",
    "\n",
    "for tick in ax.get_xticklabels():\n",
    "    tick.set_rotation(45)\n",
    "\n",
    "# set axis labels and limits\n",
    "ax.set_xlabel('[time]', fontsize=10)\n",
    "ax.set_xlim([pd.to_datetime('01-01-2000'), pd.to_datetime('31-12-2017')])\n",
    "ax.set_ylabel('[daily stock returns]', fontsize=10)\n",
    "\n",
    "# set plot title\n",
    "plt.title('International Business Machines (IBM) - Daily Historical Stock Closing Prices', fontsize=10)"
   ]
  },
  {
   "cell_type": "markdown",
   "metadata": {},
   "source": [
    "#### 2.2 Transform Time-Series Into Sequences"
   ]
  },
  {
   "cell_type": "markdown",
   "metadata": {},
   "source": [
    "Set the number of time-steps $n$ each individual sequence $s^{i}$ should be comprised of:"
   ]
  },
  {
   "cell_type": "code",
   "execution_count": 20,
   "metadata": {},
   "outputs": [],
   "source": [
    "# number of timesteps\n",
    "sequence_length = 5"
   ]
  },
  {
   "cell_type": "markdown",
   "metadata": {},
   "source": [
    "Remove the initial return of the return time-series which is usually not applicable and therefore 'nan':"
   ]
  },
  {
   "cell_type": "code",
   "execution_count": 21,
   "metadata": {},
   "outputs": [],
   "source": [
    "stock_daily_returns = stock_data['RETURN'][1:len(stock_data['RETURN'])]"
   ]
  },
  {
   "cell_type": "markdown",
   "metadata": {},
   "source": [
    "Extract individual time sequences of length $n$ from the obtained daily returns:"
   ]
  },
  {
   "cell_type": "code",
   "execution_count": 22,
   "metadata": {},
   "outputs": [],
   "source": [
    "# iterate over distinct normalized closing prices\n",
    "for i in range(0, stock_daily_returns.shape[0] - sequence_length):\n",
    "\n",
    "    # extract normalized closing price sequence \n",
    "    single_stock_sequence_data = stock_daily_returns[i:i + sequence_length].T\n",
    "\n",
    "    # case: initial sequence\n",
    "    if i == 0:\n",
    "\n",
    "        # convert to numpy array and collect sequence of normalized closing prices\n",
    "        stock_sequence_data = np.array(single_stock_sequence_data)\n",
    "\n",
    "    # case: non-initial sequence\n",
    "    else:\n",
    "\n",
    "        # convert to numpy array and collect sequence of normalized closing prices\n",
    "        stock_sequence_data  = np.vstack((stock_sequence_data , np.array(single_stock_sequence_data)))"
   ]
  },
  {
   "cell_type": "markdown",
   "metadata": {},
   "source": [
    "Inspect the top five collected normalized daily closing prices sequences:"
   ]
  },
  {
   "cell_type": "code",
   "execution_count": 23,
   "metadata": {},
   "outputs": [
    {
     "data": {
      "text/plain": [
       "array([[-0.03396552,  0.03515974, -0.01724138, -0.00438596,  0.03964758],\n",
       "       [ 0.03515974, -0.01724138, -0.00438596,  0.03964758,  0.00847458],\n",
       "       [-0.01724138, -0.00438596,  0.03964758,  0.00847458,  0.00420168],\n",
       "       [-0.00438596,  0.03964758,  0.00847458,  0.00420168, -0.01046025],\n",
       "       [ 0.03964758,  0.00847458,  0.00420168, -0.01046025,  0.01158562]])"
      ]
     },
     "execution_count": 23,
     "metadata": {},
     "output_type": "execute_result"
    }
   ],
   "source": [
    "stock_sequence_data[0:5,]"
   ]
  },
  {
   "cell_type": "markdown",
   "metadata": {},
   "source": [
    "#### 2.3 Prepare Sequences for Neural Network Training"
   ]
  },
  {
   "cell_type": "markdown",
   "metadata": {},
   "source": [
    "Set split fraction to split return sequences into training (in-sample) and validation (out-of-sample) sequences:"
   ]
  },
  {
   "cell_type": "code",
   "execution_count": 24,
   "metadata": {},
   "outputs": [],
   "source": [
    "split_fraction = 0.9\n",
    "split_row = int(stock_sequence_data.shape[0] * split_fraction)"
   ]
  },
  {
   "cell_type": "markdown",
   "metadata": {},
   "source": [
    "Split obtained return sequences into training (in-sample) sequences $s^{i}_{train}$ and validation (out-of-sample) sequences $s^{i}_{valid}$:"
   ]
  },
  {
   "cell_type": "code",
   "execution_count": 25,
   "metadata": {},
   "outputs": [],
   "source": [
    "train_sequences = stock_sequence_data[:split_row,]\n",
    "valid_sequences = stock_sequence_data[split_row:,]"
   ]
  },
  {
   "cell_type": "markdown",
   "metadata": {},
   "source": [
    "Determine count (shape) of adjusted daily return train sequences $s^{i}_{train}$:"
   ]
  },
  {
   "cell_type": "code",
   "execution_count": 26,
   "metadata": {},
   "outputs": [
    {
     "data": {
      "text/plain": [
       "(4068, 5)"
      ]
     },
     "execution_count": 26,
     "metadata": {},
     "output_type": "execute_result"
    }
   ],
   "source": [
    "train_sequences.shape"
   ]
  },
  {
   "cell_type": "markdown",
   "metadata": {},
   "source": [
    "Determine count (shape) of adjusted daily return train sequences $s^{i}_{valid}$:"
   ]
  },
  {
   "cell_type": "code",
   "execution_count": 27,
   "metadata": {},
   "outputs": [
    {
     "data": {
      "text/plain": [
       "(453, 5)"
      ]
     },
     "execution_count": 27,
     "metadata": {},
     "output_type": "execute_result"
    }
   ],
   "source": [
    "valid_sequences.shape"
   ]
  },
  {
   "cell_type": "markdown",
   "metadata": {},
   "source": [
    "Seperate each training sequence $s^{i}$ into time-steps of input returns denoted by $s^{i}_{train, input}=\\{r_{t-n-1}, ..., r_{t-1}, r_{t}\\}$ and the time-step of the to be predicted target return denoted by $s^{i}_{train, target}=r_{t+1}$. In addition, we convert both the input returns as well as the target returns to PyTorch tensors:"
   ]
  },
  {
   "cell_type": "code",
   "execution_count": 28,
   "metadata": {},
   "outputs": [],
   "source": [
    "train_sequences_input = torch.from_numpy(train_sequences[:, :-1]).float()\n",
    "train_sequences_target = torch.from_numpy(train_sequences[:, 1:]).float()"
   ]
  },
  {
   "cell_type": "markdown",
   "metadata": {},
   "source": [
    "Seperate each validation sequence $s^{i}$ into time-steps of input returns denoted by $s^{i}_{valid, input}=\\{r_{t-n-1}, ..., r_{t-1}, r_{t}\\}$ and the time-step of the to be predicted target return denoted by $s^{i}_{valid, target}=r_{t+1}$. In addition, we convert both the input returns as well as the target returns to PyTorch tensors:"
   ]
  },
  {
   "cell_type": "code",
   "execution_count": 29,
   "metadata": {},
   "outputs": [],
   "source": [
    "valid_sequences_input = torch.from_numpy(valid_sequences[:, :-1]).float()\n",
    "valid_sequences_target = torch.from_numpy(valid_sequences[:, 1:]).float()"
   ]
  },
  {
   "cell_type": "markdown",
   "metadata": {},
   "source": [
    "To train an LSTM neural network, we tailor the dataset class provided by the PyTorch library. We overwrite the individual functions of the dataset class. So that our dataset will supply the neural network with the individual training sequences $s^{i}_{train, input}$ and corresponding targets $s^{i}_{train, target}$ throughout the training process:"
   ]
  },
  {
   "cell_type": "code",
   "execution_count": 30,
   "metadata": {},
   "outputs": [],
   "source": [
    "# define daily returns dataset\n",
    "class DailyReturnsDataset(data.Dataset):\n",
    "\n",
    "    # define the class constructor\n",
    "    def __init__(self, sequences, targets):\n",
    "\n",
    "        # init sequences and corresponding targets\n",
    "        self.sequences = sequences\n",
    "        self.targets = targets\n",
    "\n",
    "    # define the length method \n",
    "    def __len__(self):\n",
    "\n",
    "        # returns the number of samples\n",
    "        return len(self.targets)\n",
    "\n",
    "    # define the get item method\n",
    "    def __getitem__(self, index):\n",
    "\n",
    "        # determine single sequence and corresponding target\n",
    "        sequence = self.sequences[index, :]\n",
    "        target = self.targets[index, :]\n",
    "\n",
    "        # return sequences and target\n",
    "        return sequence, target"
   ]
  },
  {
   "cell_type": "markdown",
   "metadata": {},
   "source": [
    "Once we have specified the daily returns dataset class we instantiate it using the new daily closing dataset using the prepared training input sequences $s^{i}_{train, input}$ and corresponding targets $s^{i}_{train, target}$: "
   ]
  },
  {
   "cell_type": "code",
   "execution_count": 31,
   "metadata": {},
   "outputs": [],
   "source": [
    "train_dataset = DailyReturnsDataset(train_sequences_input, train_sequences_target)"
   ]
  },
  {
   "cell_type": "markdown",
   "metadata": {},
   "source": [
    "Let's see how it works by getting the 10th sequence and its corresponding targets:"
   ]
  },
  {
   "cell_type": "code",
   "execution_count": 32,
   "metadata": {},
   "outputs": [
    {
     "data": {
      "text/plain": [
       "(tensor([ 0.0324, -0.0042,  0.0210,  0.0000]),\n",
       " tensor([-0.0042,  0.0210,  0.0000, -0.0196]))"
      ]
     },
     "execution_count": 32,
     "metadata": {},
     "output_type": "execute_result"
    }
   ],
   "source": [
    "train_dataset.__getitem__(10)"
   ]
  },
  {
   "cell_type": "markdown",
   "metadata": {},
   "source": [
    "### 3. Neural Network Implementation and Loss Function"
   ]
  },
  {
   "cell_type": "markdown",
   "metadata": {},
   "source": [
    "In this section, we will implement the LSTM architecture of the to be learned time series model. Furthermore, we will specify the loss-function, learning-rate and optimization technique used in the network training."
   ]
  },
  {
   "cell_type": "markdown",
   "metadata": {},
   "source": [
    "#### 3.1. Implementation of the LSTM Architecture"
   ]
  },
  {
   "cell_type": "markdown",
   "metadata": {},
   "source": [
    "In this section we will implement the architecture of the LSTM neural network we want to utilize in order to predict future returns of our financial time series data. The neural network, which we name **'LSTM_NN'** consists in total of three layers. The first two layers correspond to LSTM cells while the third layer corresponds to a fully-connected linear layer. The individual gates of the LSTM cell are calculated according to the following functions:"
   ]
  },
  {
   "cell_type": "markdown",
   "metadata": {},
   "source": [
    "<center> \n",
    "$i=σ(W_{ii}x+b_{ii}+W_{hi}h+b_{hi}), \\\\\n",
    "f=σ(W_{if}x+b_{if}+W_{hf}h+b_{hf}), \\\\\n",
    "g=tanh(W_{ig}x+b_{ig}+W_{hg}h+b_{hg}), \\\\\n",
    "o=σ(W_{io}x+b_{io}+W_{ho}h+b_{ho}), \\\\\n",
    "c′=f∗c+i∗g, \\\\\n",
    "h′=o∗tanh(c′).$ \n",
    "</center>\n",
    "\n",
    "(Source: https://pytorch.org/docs/stable/nn.html)"
   ]
  },
  {
   "cell_type": "markdown",
   "metadata": {},
   "source": [
    "Each of the two LSTM cells exhibits a hidden state consisting of 51 dimensions. The third linear layer squeezes the 51 hidden state dimensions of the second (last) LSTM cell into a one-dimensional output signal. This output signal refers to the by the neural network predicted return of the next timestep. "
   ]
  },
  {
   "cell_type": "code",
   "execution_count": 33,
   "metadata": {},
   "outputs": [],
   "source": [
    "# implement the LSTMNet network architecture\n",
    "class LSTMNet(nn.Module):\n",
    "\n",
    "    # define class constructor\n",
    "    def __init__(self):\n",
    "\n",
    "        super(LSTMNet, self).__init__()\n",
    "\n",
    "        # define lstm nn architecture\n",
    "        self.lstm1 = nn.LSTMCell(1, 51)  # first lstm layer\n",
    "        self.lstm2 = nn.LSTMCell(51, 51)  # second lstm layer\n",
    "        self.linear = nn.Linear(51, 1)  # final linear layer\n",
    "\n",
    "    # define network forward pass\n",
    "    def forward(self, input):\n",
    "\n",
    "        # init predictions\n",
    "        predictions = []\n",
    "\n",
    "        # init the lstm hidden states\n",
    "        h_t = torch.zeros(input.size(0), 51, dtype=torch.float)\n",
    "        h_t2 = torch.zeros(input.size(0), 51, dtype=torch.float)\n",
    "\n",
    "        # init the lstm cell states\n",
    "        c_t = torch.zeros(input.size(0), 51, dtype=torch.float)\n",
    "        c_t2 = torch.zeros(input.size(0), 51, dtype=torch.float)\n",
    "        \n",
    "        # iterate over distinct time steps\n",
    "        for i, input_t in enumerate(input.chunk(input.size(1), dim=1)):\n",
    "\n",
    "            # propagate through time step data\n",
    "            h_t, c_t = self.lstm1(input_t, (h_t, c_t))\n",
    "            h_t2, c_t2 = self.lstm2(h_t, (h_t2, c_t2))\n",
    "            prediction = self.linear(h_t2)\n",
    "            \n",
    "            # collect predictions\n",
    "            predictions += [prediction]\n",
    "\n",
    "        # stack predictions\n",
    "        predictions = torch.stack(predictions, 1).squeeze(2)\n",
    "\n",
    "        # return predictions\n",
    "        return predictions"
   ]
  },
  {
   "cell_type": "markdown",
   "metadata": {},
   "source": [
    "Now, that we have implemented our first LSTM neural network we are ready to instantiate a model to be trained:"
   ]
  },
  {
   "cell_type": "code",
   "execution_count": 34,
   "metadata": {},
   "outputs": [],
   "source": [
    "lstm_model = LSTMNet()"
   ]
  },
  {
   "cell_type": "markdown",
   "metadata": {},
   "source": [
    "Once the model is initialized, we can visualize the model structure and review the implemented network architecture by execution of the following cell:"
   ]
  },
  {
   "cell_type": "code",
   "execution_count": 35,
   "metadata": {},
   "outputs": [
    {
     "name": "stdout",
     "output_type": "stream",
     "text": [
      "[LOG] MNISTNet architecture:\n",
      "\n",
      "LSTMNet(\n",
      "  (lstm1): LSTMCell(1, 51)\n",
      "  (lstm2): LSTMCell(51, 51)\n",
      "  (linear): Linear(in_features=51, out_features=1, bias=True)\n",
      ")\n",
      "\n"
     ]
    }
   ],
   "source": [
    "# print the initialized architectures\n",
    "print('[LOG] MNISTNet architecture:\\n\\n{}\\n'.format(lstm_model))"
   ]
  },
  {
   "cell_type": "markdown",
   "metadata": {},
   "source": [
    "Looks like intended? Great!"
   ]
  },
  {
   "cell_type": "markdown",
   "metadata": {},
   "source": [
    "#### 3.2. Definition of the Training Loss Function and Learning Rate"
   ]
  },
  {
   "cell_type": "markdown",
   "metadata": {},
   "source": [
    "We are now good to train the network. However, prior to starting the training, we need to define an appropriate loss function. Remember, we aim to train our model to learn a set of model parameters $\\theta$ that minimize the prediction error of the true return $r_{t+1}$ and the by the model predicted return $\\hat{r}_{t+1}$ at a given time-step $t+1$ of sequence $s^{i}$. In other words, for a given sequence of historic returns we aim to learn a function $f_\\theta$ that is capable to predicts the return of the next timestep as faithfully as possible, as expressed by:"
   ]
  },
  {
   "cell_type": "markdown",
   "metadata": {},
   "source": [
    "<center> $\\hat{r}_{t+1} = f_\\theta(r_{t}, r_{t-1}, ..., r_{t-n})$. </center>"
   ]
  },
  {
   "cell_type": "markdown",
   "metadata": {},
   "source": [
    "Thereby, the training objective is to learn a set of optimal model parameters $\\theta^*$ that optimize $\\min_{\\theta} \\|r_{t+1} - f_\\theta(r_{t}, r_{t-1}, ..., r_{t-n})\\|$ over all time-steps $t$ contained in the set of training sequences $s_{train}$. To achieve this optimization objective, one typically minimizes a loss function $\\mathcal{L_{\\theta}}$ while training the neural network. In this lab we use the **'Mean Squared Error (MSE)'** loss, as denoted by:"
   ]
  },
  {
   "cell_type": "markdown",
   "metadata": {},
   "source": [
    "<center> $\\mathcal{L}^{MSE}_{\\theta} (r_{t+1}, \\hat{r}_{t+1}) = \\frac{1}{N} \\sum_{i=1}^N \\| r_{t+1} - \\hat{r}_{t+1}\\|^{2}$, </center>"
   ]
  },
  {
   "cell_type": "code",
   "execution_count": 36,
   "metadata": {},
   "outputs": [],
   "source": [
    "loss_function = nn.MSELoss()"
   ]
  },
  {
   "cell_type": "markdown",
   "metadata": {},
   "source": [
    "Throughout the training process, the PyTorch library will automatically calculate the loss magnitude, compute the gradient, and update the parameters $\\theta$ of the LSTM neural network. We will use the **\"Adaptive Moment Estimation Optimization\" (ADAM)** technique to optimize the network parameters. Furthermore, we specify a constant learning rate of $l = 1e-06$. For each training step, the optimizer will update the model parameters $\\theta$ values according to the degree of prediction error (the MSE loss)."
   ]
  },
  {
   "cell_type": "code",
   "execution_count": 37,
   "metadata": {},
   "outputs": [],
   "source": [
    "learning_rate = 1e-06 # set constant learning rate\n",
    "optimizer = optim.Adam(lstm_model.parameters(), lr=learning_rate) # define optimization technique"
   ]
  },
  {
   "cell_type": "markdown",
   "metadata": {},
   "source": [
    "Now that we have successfully implemented and defined the three ANN building blocks let's take some time to review the `LSTMNet` model definition as well as the `MSE loss` function. Please, read the above code and comments carefully and don't hesitate to let us know any questions you might have."
   ]
  },
  {
   "cell_type": "markdown",
   "metadata": {},
   "source": [
    "### 4. Training the Neural Network Model"
   ]
  },
  {
   "cell_type": "markdown",
   "metadata": {},
   "source": [
    "In this section, we will train the LSTM neural network model (as implemented in the section above) using the prepared dataset of daily return sequences. Therefore, we will have a detailed look into the distinct training steps and monitor the training progress."
   ]
  },
  {
   "cell_type": "markdown",
   "metadata": {},
   "source": [
    "#### 4.1. Preparing the Network Training"
   ]
  },
  {
   "cell_type": "markdown",
   "metadata": {},
   "source": [
    "Let's now start to learn a model by training the NN for **2,000 epochs** in mini-batches of the size of **128  sequences** per batch. This implies that the whole dataset will be fed to the NN 2'000 times in chunks of 128 sequences yielding to **32 mini-batches** (4'068 training sequences / 128 sequences per mini-batch) per epoch:"
   ]
  },
  {
   "cell_type": "code",
   "execution_count": 38,
   "metadata": {},
   "outputs": [],
   "source": [
    "# specify the training parameters\n",
    "num_epochs = 2000 # number of training epochs\n",
    "mini_batch_size = 128 # size of the mini-batches"
   ]
  },
  {
   "cell_type": "markdown",
   "metadata": {},
   "source": [
    "Furthermore, lets specify and instantiate a corresponding PyTorch data loader that feeds the image tensors to our neural network:"
   ]
  },
  {
   "cell_type": "code",
   "execution_count": 39,
   "metadata": {},
   "outputs": [],
   "source": [
    "dataloader = dataloader.DataLoader(train_dataset, batch_size=mini_batch_size, shuffle=False, num_workers=1)"
   ]
  },
  {
   "cell_type": "markdown",
   "metadata": {},
   "source": [
    "#### 4.2. Running the Network Training"
   ]
  },
  {
   "cell_type": "markdown",
   "metadata": {},
   "source": [
    "Finally, we start training the model. The training procedure of each mini-batch is performed as follows: \n",
    "\n",
    ">1. do a forward pass through the LSTMNet network, \n",
    ">2. compute the mean-squared prediction error $\\mathcal{L}^{MSE}_{\\theta} (r_{t+1}, \\hat{r}_{t+1}) = \\frac{1}{N} \\sum_{i=1}^N \\| r_{t+1} - \\hat{r}_{t+1}\\|^{2}$, \n",
    ">3. do a backward pass through the LSTMNet network, and \n",
    ">4. update the parameters of the network $f_\\theta(\\cdot)$.\n",
    "\n",
    "To ensure learning while training the LSTM model we will monitor whether the loss decreases with progressing training. Therefore, we obtain and evaluate the mean prediction performance over all mini-batches in each training epoch. Based on this evaluation we can conclude on the training progress and whether the loss is converging (indicating that the model might not improve any further).\n",
    "\n",
    "The following elements of the network training code below should be given particular attention:\n",
    " \n",
    ">- `loss.backward()` computes the gradients based on the magnitude of the reconstruction loss,\n",
    ">- `optimizer.step()` updates the network parameters based on the gradient."
   ]
  },
  {
   "cell_type": "code",
   "execution_count": 40,
   "metadata": {
    "scrolled": true
   },
   "outputs": [
    {
     "name": "stdout",
     "output_type": "stream",
     "text": [
      "[LOG 20191027-17:48:55] epoch: 0 train-loss: 0.0036956439653295092\n",
      "[LOG 20191027-17:48:55] epoch: 1 train-loss: 0.0036453486827667803\n",
      "[LOG 20191027-17:48:56] epoch: 2 train-loss: 0.0035876172623829916\n",
      "[LOG 20191027-17:48:56] epoch: 3 train-loss: 0.0035272282257210463\n",
      "[LOG 20191027-17:48:56] epoch: 4 train-loss: 0.003466034075245261\n",
      "[LOG 20191027-17:48:56] epoch: 5 train-loss: 0.003404784918529913\n",
      "[LOG 20191027-17:48:57] epoch: 6 train-loss: 0.003343850803503301\n",
      "[LOG 20191027-17:48:57] epoch: 7 train-loss: 0.0032834291487233713\n",
      "[LOG 20191027-17:48:57] epoch: 8 train-loss: 0.003223641040676739\n",
      "[LOG 20191027-17:48:57] epoch: 9 train-loss: 0.003164556903357152\n",
      "[LOG 20191027-17:48:58] epoch: 10 train-loss: 0.003106229138211347\n",
      "[LOG 20191027-17:48:58] epoch: 10 new best train-loss: 0.003106229138211347 found\n",
      "[LOG 20191027-17:48:58] epoch: 11 train-loss: 0.003048688915441744\n",
      "[LOG 20191027-17:48:58] epoch: 12 train-loss: 0.0029919592416263185\n",
      "[LOG 20191027-17:48:58] epoch: 13 train-loss: 0.0029360501503106207\n",
      "[LOG 20191027-17:48:59] epoch: 14 train-loss: 0.0028809713330701925\n",
      "[LOG 20191027-17:48:59] epoch: 15 train-loss: 0.0028267292291275226\n",
      "[LOG 20191027-17:48:59] epoch: 16 train-loss: 0.0027733197130146436\n",
      "[LOG 20191027-17:48:59] epoch: 17 train-loss: 0.0027207464881939813\n",
      "[LOG 20191027-17:49:00] epoch: 18 train-loss: 0.0026690028025768697\n",
      "[LOG 20191027-17:49:00] epoch: 19 train-loss: 0.002618085898575373\n",
      "[LOG 20191027-17:49:00] epoch: 20 train-loss: 0.0025679924146970734\n",
      "[LOG 20191027-17:49:00] epoch: 20 new best train-loss: 0.0025679924146970734 found\n",
      "[LOG 20191027-17:49:01] epoch: 21 train-loss: 0.0025187141145579517\n",
      "[LOG 20191027-17:49:01] epoch: 22 train-loss: 0.002470246748998761\n",
      "[LOG 20191027-17:49:01] epoch: 23 train-loss: 0.002422580888378434\n",
      "[LOG 20191027-17:49:01] epoch: 24 train-loss: 0.0023757115923217498\n",
      "[LOG 20191027-17:49:02] epoch: 25 train-loss: 0.002329630369786173\n",
      "[LOG 20191027-17:49:02] epoch: 26 train-loss: 0.0022843296319479123\n",
      "[LOG 20191027-17:49:02] epoch: 27 train-loss: 0.002239802859548945\n",
      "[LOG 20191027-17:49:02] epoch: 28 train-loss: 0.0021960396952636074\n",
      "[LOG 20191027-17:49:03] epoch: 29 train-loss: 0.00215303443474113\n",
      "[LOG 20191027-17:49:03] epoch: 30 train-loss: 0.002110777742927894\n",
      "[LOG 20191027-17:49:03] epoch: 30 new best train-loss: 0.002110777742927894 found\n",
      "[LOG 20191027-17:49:03] epoch: 31 train-loss: 0.002069262041914044\n",
      "[LOG 20191027-17:49:03] epoch: 32 train-loss: 0.0020284798556531314\n",
      "[LOG 20191027-17:49:04] epoch: 33 train-loss: 0.0019884222238033544\n",
      "[LOG 20191027-17:49:04] epoch: 34 train-loss: 0.0019490830673021264\n",
      "[LOG 20191027-17:49:04] epoch: 35 train-loss: 0.0019104534876532853\n",
      "[LOG 20191027-17:49:04] epoch: 36 train-loss: 0.0018725272748270072\n",
      "[LOG 20191027-17:49:05] epoch: 37 train-loss: 0.0018352972838329151\n",
      "[LOG 20191027-17:49:05] epoch: 38 train-loss: 0.001798755820345832\n",
      "[LOG 20191027-17:49:05] epoch: 39 train-loss: 0.0017628970454097725\n",
      "[LOG 20191027-17:49:06] epoch: 40 train-loss: 0.001727713108266471\n",
      "[LOG 20191027-17:49:06] epoch: 40 new best train-loss: 0.001727713108266471 found\n",
      "[LOG 20191027-17:49:06] epoch: 41 train-loss: 0.0016931978425418492\n",
      "[LOG 20191027-17:49:06] epoch: 42 train-loss: 0.0016593442669545766\n",
      "[LOG 20191027-17:49:06] epoch: 43 train-loss: 0.0016261457712971605\n",
      "[LOG 20191027-17:49:07] epoch: 44 train-loss: 0.0015935969204292633\n",
      "[LOG 20191027-17:49:07] epoch: 45 train-loss: 0.0015616900491295382\n",
      "[LOG 20191027-17:49:07] epoch: 46 train-loss: 0.0015304184416891076\n",
      "[LOG 20191027-17:49:07] epoch: 47 train-loss: 0.0014997772341303062\n",
      "[LOG 20191027-17:49:08] epoch: 48 train-loss: 0.001469759674364468\n",
      "[LOG 20191027-17:49:08] epoch: 49 train-loss: 0.0014403589739231393\n",
      "[LOG 20191027-17:49:08] epoch: 50 train-loss: 0.001411570017808117\n",
      "[LOG 20191027-17:49:08] epoch: 50 new best train-loss: 0.001411570017808117 found\n",
      "[LOG 20191027-17:49:08] epoch: 51 train-loss: 0.0013833864395564888\n",
      "[LOG 20191027-17:49:09] epoch: 52 train-loss: 0.0013558024584199302\n",
      "[LOG 20191027-17:49:09] epoch: 53 train-loss: 0.0013288119735079817\n",
      "[LOG 20191027-17:49:09] epoch: 54 train-loss: 0.0013024095969740301\n",
      "[LOG 20191027-17:49:09] epoch: 55 train-loss: 0.0012765900864906143\n",
      "[LOG 20191027-17:49:10] epoch: 56 train-loss: 0.0012513469973782776\n",
      "[LOG 20191027-17:49:10] epoch: 57 train-loss: 0.0012266752873983933\n",
      "[LOG 20191027-17:49:10] epoch: 58 train-loss: 0.0012025703144900035\n",
      "[LOG 20191027-17:49:10] epoch: 59 train-loss: 0.0011790254775405629\n",
      "[LOG 20191027-17:49:11] epoch: 60 train-loss: 0.0011560364546312485\n",
      "[LOG 20191027-17:49:11] epoch: 60 new best train-loss: 0.0011560364546312485 found\n",
      "[LOG 20191027-17:49:11] epoch: 61 train-loss: 0.001133598492742749\n",
      "[LOG 20191027-17:49:11] epoch: 62 train-loss: 0.0011117050107714022\n",
      "[LOG 20191027-17:49:12] epoch: 63 train-loss: 0.0010903520396823296\n",
      "[LOG 20191027-17:49:12] epoch: 64 train-loss: 0.0010695346809370676\n",
      "[LOG 20191027-17:49:12] epoch: 65 train-loss: 0.0010492474411876174\n",
      "[LOG 20191027-17:49:12] epoch: 66 train-loss: 0.0010294860057911137\n",
      "[LOG 20191027-17:49:13] epoch: 67 train-loss: 0.0010102454161824426\n",
      "[LOG 20191027-17:49:13] epoch: 68 train-loss: 0.0009915211121551692\n",
      "[LOG 20191027-17:49:13] epoch: 69 train-loss: 0.0009733081569720525\n",
      "[LOG 20191027-17:49:13] epoch: 70 train-loss: 0.0009556021432217676\n",
      "[LOG 20191027-17:49:13] epoch: 70 new best train-loss: 0.0009556021432217676 found\n",
      "[LOG 20191027-17:49:14] epoch: 71 train-loss: 0.0009383991837239591\n",
      "[LOG 20191027-17:49:14] epoch: 72 train-loss: 0.0009216933540301397\n",
      "[LOG 20191027-17:49:14] epoch: 73 train-loss: 0.0009054814363480546\n",
      "[LOG 20191027-17:49:14] epoch: 74 train-loss: 0.0008897589905245695\n",
      "[LOG 20191027-17:49:15] epoch: 75 train-loss: 0.0008745209997869097\n",
      "[LOG 20191027-17:49:15] epoch: 76 train-loss: 0.0008597638516221195\n",
      "[LOG 20191027-17:49:15] epoch: 77 train-loss: 0.00084548306040233\n",
      "[LOG 20191027-17:49:15] epoch: 78 train-loss: 0.0008316747498611221\n",
      "[LOG 20191027-17:49:16] epoch: 79 train-loss: 0.0008183339396055089\n",
      "[LOG 20191027-17:49:16] epoch: 80 train-loss: 0.0008054575373535044\n",
      "[LOG 20191027-17:49:16] epoch: 80 new best train-loss: 0.0008054575373535044 found\n",
      "[LOG 20191027-17:49:16] epoch: 81 train-loss: 0.0007930414449219825\n",
      "[LOG 20191027-17:49:17] epoch: 82 train-loss: 0.0007810806164343376\n",
      "[LOG 20191027-17:49:17] epoch: 83 train-loss: 0.0007695719104958698\n",
      "[LOG 20191027-17:49:17] epoch: 84 train-loss: 0.000758511521780747\n",
      "[LOG 20191027-17:49:17] epoch: 85 train-loss: 0.0007478948718926404\n",
      "[LOG 20191027-17:49:18] epoch: 86 train-loss: 0.0007377179608738516\n",
      "[LOG 20191027-17:49:18] epoch: 87 train-loss: 0.000727978176655597\n",
      "[LOG 20191027-17:49:18] epoch: 88 train-loss: 0.0007186707262007985\n",
      "[LOG 20191027-17:49:18] epoch: 89 train-loss: 0.0007097915931808529\n",
      "[LOG 20191027-17:49:19] epoch: 90 train-loss: 0.000701337064128893\n",
      "[LOG 20191027-17:49:19] epoch: 90 new best train-loss: 0.000701337064128893 found\n",
      "[LOG 20191027-17:49:19] epoch: 91 train-loss: 0.0006933043396202265\n",
      "[LOG 20191027-17:49:19] epoch: 92 train-loss: 0.00068568836832128\n",
      "[LOG 20191027-17:49:19] epoch: 93 train-loss: 0.0006784857350794482\n",
      "[LOG 20191027-17:49:20] epoch: 94 train-loss: 0.0006716929501635605\n",
      "[LOG 20191027-17:49:20] epoch: 95 train-loss: 0.0006653061473116395\n",
      "[LOG 20191027-17:49:20] epoch: 96 train-loss: 0.0006593213574888068\n",
      "[LOG 20191027-17:49:20] epoch: 97 train-loss: 0.0006537347753692302\n",
      "[LOG 20191027-17:49:21] epoch: 98 train-loss: 0.0006485429712483892\n",
      "[LOG 20191027-17:49:21] epoch: 99 train-loss: 0.0006437413785533863\n",
      "[LOG 20191027-17:49:21] epoch: 100 train-loss: 0.0006393270286935149\n",
      "[LOG 20191027-17:49:21] epoch: 100 new best train-loss: 0.0006393270286935149 found\n",
      "[LOG 20191027-17:49:21] epoch: 101 train-loss: 0.0006352955197144183\n",
      "[LOG 20191027-17:49:22] epoch: 102 train-loss: 0.0006316433755273465\n",
      "[LOG 20191027-17:49:22] epoch: 103 train-loss: 0.0006283658631218714\n",
      "[LOG 20191027-17:49:22] epoch: 104 train-loss: 0.0006254599584281095\n",
      "[LOG 20191027-17:49:22] epoch: 105 train-loss: 0.0006229214286577189\n",
      "[LOG 20191027-17:49:23] epoch: 106 train-loss: 0.0006207462920428952\n",
      "[LOG 20191027-17:49:23] epoch: 107 train-loss: 0.0006189304649524274\n",
      "[LOG 20191027-17:49:23] epoch: 108 train-loss: 0.0006174703112264979\n"
     ]
    },
    {
     "name": "stdout",
     "output_type": "stream",
     "text": [
      "[LOG 20191027-17:49:23] epoch: 109 train-loss: 0.0006163620346342213\n",
      "[LOG 20191027-17:49:24] epoch: 110 train-loss: 0.0006156018444016809\n",
      "[LOG 20191027-17:49:24] epoch: 110 new best train-loss: 0.0006156018444016809 found\n",
      "[LOG 20191027-17:49:24] epoch: 111 train-loss: 0.0006151856441647396\n",
      "[LOG 20191027-17:49:24] epoch: 112 train-loss: 0.0006151097877591383\n",
      "[LOG 20191027-17:49:25] epoch: 113 train-loss: 0.0006153704462121823\n",
      "[LOG 20191027-17:49:25] epoch: 114 train-loss: 0.0006159639433462871\n",
      "[LOG 20191027-17:49:25] epoch: 115 train-loss: 0.0006168863437778782\n",
      "[LOG 20191027-17:49:25] epoch: 116 train-loss: 0.0006181337766975048\n",
      "[LOG 20191027-17:49:26] epoch: 117 train-loss: 0.0006197021575644612\n",
      "[LOG 20191027-17:49:26] epoch: 118 train-loss: 0.0006215876355781802\n",
      "[LOG 20191027-17:49:26] epoch: 119 train-loss: 0.00062378603797697\n",
      "[LOG 20191027-17:49:26] epoch: 120 train-loss: 0.000626293429377256\n",
      "[LOG 20191027-17:49:27] epoch: 121 train-loss: 0.0006291056424743147\n",
      "[LOG 20191027-17:49:27] epoch: 122 train-loss: 0.0006322182471194537\n",
      "[LOG 20191027-17:49:27] epoch: 123 train-loss: 0.0006356275007419754\n",
      "[LOG 20191027-17:49:27] epoch: 124 train-loss: 0.0006393288649633178\n",
      "[LOG 20191027-17:49:28] epoch: 125 train-loss: 0.0006433182597902487\n",
      "[LOG 20191027-17:49:28] epoch: 126 train-loss: 0.0006475909367509303\n",
      "[LOG 20191027-17:49:28] epoch: 127 train-loss: 0.0006521433115267428\n",
      "[LOG 20191027-17:49:28] epoch: 128 train-loss: 0.0006569708912138594\n",
      "[LOG 20191027-17:49:29] epoch: 129 train-loss: 0.0006620689591727569\n",
      "[LOG 20191027-17:49:29] epoch: 130 train-loss: 0.0006674333444607328\n",
      "[LOG 20191027-17:49:29] epoch: 131 train-loss: 0.0006730595378030557\n",
      "[LOG 20191027-17:49:29] epoch: 132 train-loss: 0.0006789435637983843\n",
      "[LOG 20191027-17:49:30] epoch: 133 train-loss: 0.0006850805884823785\n",
      "[LOG 20191027-17:49:30] epoch: 134 train-loss: 0.000691465755153331\n",
      "[LOG 20191027-17:49:30] epoch: 135 train-loss: 0.0006980948173804791\n",
      "[LOG 20191027-17:49:31] epoch: 136 train-loss: 0.0007049633732094662\n",
      "[LOG 20191027-17:49:31] epoch: 137 train-loss: 0.0007120662012312096\n",
      "[LOG 20191027-17:49:31] epoch: 138 train-loss: 0.0007193985966296168\n",
      "[LOG 20191027-17:49:31] epoch: 139 train-loss: 0.0007269556572282454\n",
      "[LOG 20191027-17:49:32] epoch: 140 train-loss: 0.0007347329337790143\n",
      "[LOG 20191027-17:49:32] epoch: 141 train-loss: 0.0007427247073792387\n",
      "[LOG 20191027-17:49:32] epoch: 142 train-loss: 0.0007509263723477488\n",
      "[LOG 20191027-17:49:32] epoch: 143 train-loss: 0.0007593328537041089\n",
      "[LOG 20191027-17:49:33] epoch: 144 train-loss: 0.0007679385507799452\n",
      "[LOG 20191027-17:49:33] epoch: 145 train-loss: 0.0007767381121084327\n",
      "[LOG 20191027-17:49:33] epoch: 146 train-loss: 0.0007857265245547751\n",
      "[LOG 20191027-17:49:33] epoch: 147 train-loss: 0.0007948985421535326\n",
      "[LOG 20191027-17:49:34] epoch: 148 train-loss: 0.0008042476511036512\n",
      "[LOG 20191027-17:49:34] epoch: 149 train-loss: 0.0008137681743392022\n",
      "[LOG 20191027-17:49:34] epoch: 150 train-loss: 0.0008234548331529368\n",
      "[LOG 20191027-17:49:34] epoch: 151 train-loss: 0.0008333021942235064\n",
      "[LOG 20191027-17:49:35] epoch: 152 train-loss: 0.0008433026778220665\n",
      "[LOG 20191027-17:49:35] epoch: 153 train-loss: 0.0008534505923307734\n",
      "[LOG 20191027-17:49:35] epoch: 154 train-loss: 0.0008637400133011397\n",
      "[LOG 20191027-17:49:35] epoch: 155 train-loss: 0.0008741648107388755\n",
      "[LOG 20191027-17:49:36] epoch: 156 train-loss: 0.0008847167446219828\n",
      "[LOG 20191027-17:49:36] epoch: 157 train-loss: 0.0008953903416113462\n",
      "[LOG 20191027-17:49:36] epoch: 158 train-loss: 0.0009061791060958058\n",
      "[LOG 20191027-17:49:37] epoch: 159 train-loss: 0.0009170751945930533\n",
      "[LOG 20191027-17:49:37] epoch: 160 train-loss: 0.0009280721187678864\n",
      "[LOG 20191027-17:49:37] epoch: 161 train-loss: 0.0009391622079419903\n",
      "[LOG 20191027-17:49:38] epoch: 162 train-loss: 0.0009503386954747839\n",
      "[LOG 20191027-17:49:38] epoch: 163 train-loss: 0.000961593237661873\n",
      "[LOG 20191027-17:49:38] epoch: 164 train-loss: 0.0009729192315717228\n",
      "[LOG 20191027-17:49:38] epoch: 165 train-loss: 0.0009843091174843721\n",
      "[LOG 20191027-17:49:39] epoch: 166 train-loss: 0.0009957542752090376\n",
      "[LOG 20191027-17:49:39] epoch: 167 train-loss: 0.001007247987217852\n",
      "[LOG 20191027-17:49:39] epoch: 168 train-loss: 0.0010187819843849866\n",
      "[LOG 20191027-17:49:40] epoch: 169 train-loss: 0.0010303476537956158\n",
      "[LOG 20191027-17:49:40] epoch: 170 train-loss: 0.0010419372520118486\n",
      "[LOG 20191027-17:49:40] epoch: 171 train-loss: 0.0010535419896768872\n",
      "[LOG 20191027-17:49:40] epoch: 172 train-loss: 0.0010651544289430603\n",
      "[LOG 20191027-17:49:41] epoch: 173 train-loss: 0.0010767659932753304\n",
      "[LOG 20191027-17:49:41] epoch: 174 train-loss: 0.001088366561816656\n",
      "[LOG 20191027-17:49:41] epoch: 175 train-loss: 0.0010999475216522114\n",
      "[LOG 20191027-17:49:42] epoch: 176 train-loss: 0.0011115025790786603\n",
      "[LOG 20191027-17:49:42] epoch: 177 train-loss: 0.001123018366342876\n",
      "[LOG 20191027-17:49:42] epoch: 178 train-loss: 0.0011344875765644247\n",
      "[LOG 20191027-17:49:43] epoch: 179 train-loss: 0.0011459012239356525\n",
      "[LOG 20191027-17:49:43] epoch: 180 train-loss: 0.0011572477469599107\n",
      "[LOG 20191027-17:49:43] epoch: 181 train-loss: 0.0011685184999805642\n",
      "[LOG 20191027-17:49:44] epoch: 182 train-loss: 0.0011797037041105796\n",
      "[LOG 20191027-17:49:44] epoch: 183 train-loss: 0.001190790793771157\n",
      "[LOG 20191027-17:49:44] epoch: 184 train-loss: 0.0012017713033856126\n",
      "[LOG 20191027-17:49:44] epoch: 185 train-loss: 0.0012126341516704997\n",
      "[LOG 20191027-17:49:45] epoch: 186 train-loss: 0.0012233685356477508\n",
      "[LOG 20191027-17:49:45] epoch: 187 train-loss: 0.0012339626428001793\n",
      "[LOG 20191027-17:49:45] epoch: 188 train-loss: 0.0012444077401596587\n",
      "[LOG 20191027-17:49:46] epoch: 189 train-loss: 0.00125469113845611\n",
      "[LOG 20191027-17:49:46] epoch: 190 train-loss: 0.001264802624064032\n",
      "[LOG 20191027-17:49:46] epoch: 191 train-loss: 0.001274731974262977\n",
      "[LOG 20191027-17:49:46] epoch: 192 train-loss: 0.0012844669472542591\n",
      "[LOG 20191027-17:49:47] epoch: 193 train-loss: 0.001293998215260217\n",
      "[LOG 20191027-17:49:47] epoch: 194 train-loss: 0.001303314304095693\n",
      "[LOG 20191027-17:49:47] epoch: 195 train-loss: 0.001312405369390035\n",
      "[LOG 20191027-17:49:48] epoch: 196 train-loss: 0.0013212618105171714\n",
      "[LOG 20191027-17:49:48] epoch: 197 train-loss: 0.001329872728092596\n",
      "[LOG 20191027-17:49:48] epoch: 198 train-loss: 0.0013382286888372619\n",
      "[LOG 20191027-17:49:48] epoch: 199 train-loss: 0.001346320455922978\n",
      "[LOG 20191027-17:49:49] epoch: 200 train-loss: 0.0013541379303205758\n",
      "[LOG 20191027-17:49:49] epoch: 201 train-loss: 0.001361673614155734\n",
      "[LOG 20191027-17:49:49] epoch: 202 train-loss: 0.00136891772490344\n",
      "[LOG 20191027-17:49:49] epoch: 203 train-loss: 0.0013758639179286547\n",
      "[LOG 20191027-17:49:50] epoch: 204 train-loss: 0.0013825030837324448\n",
      "[LOG 20191027-17:49:50] epoch: 205 train-loss: 0.001388826931361109\n",
      "[LOG 20191027-17:49:50] epoch: 206 train-loss: 0.0013948313790024258\n",
      "[LOG 20191027-17:49:51] epoch: 207 train-loss: 0.0014005063858348876\n",
      "[LOG 20191027-17:49:51] epoch: 208 train-loss: 0.0014058486340218224\n",
      "[LOG 20191027-17:49:51] epoch: 209 train-loss: 0.0014108505201875232\n",
      "[LOG 20191027-17:49:51] epoch: 210 train-loss: 0.0014155088938423432\n",
      "[LOG 20191027-17:49:52] epoch: 211 train-loss: 0.0014198166209098417\n",
      "[LOG 20191027-17:49:52] epoch: 212 train-loss: 0.0014237717368814629\n",
      "[LOG 20191027-17:49:52] epoch: 213 train-loss: 0.001427369745215401\n",
      "[LOG 20191027-17:49:53] epoch: 214 train-loss: 0.001430607069778489\n",
      "[LOG 20191027-17:49:53] epoch: 215 train-loss: 0.0014334810657601338\n",
      "[LOG 20191027-17:49:53] epoch: 216 train-loss: 0.0014359905253513716\n",
      "[LOG 20191027-17:49:53] epoch: 217 train-loss: 0.0014381323417183012\n",
      "[LOG 20191027-17:49:54] epoch: 218 train-loss: 0.0014399067149497569\n",
      "[LOG 20191027-17:49:54] epoch: 219 train-loss: 0.0014413128556043375\n",
      "[LOG 20191027-17:49:54] epoch: 220 train-loss: 0.001442350618162891\n",
      "[LOG 20191027-17:49:55] epoch: 221 train-loss: 0.0014430196788453031\n",
      "[LOG 20191027-17:49:55] epoch: 222 train-loss: 0.0014433221986109857\n",
      "[LOG 20191027-17:49:55] epoch: 223 train-loss: 0.0014432580828724895\n",
      "[LOG 20191027-17:49:56] epoch: 224 train-loss: 0.0014428294271056075\n",
      "[LOG 20191027-17:49:56] epoch: 225 train-loss: 0.0014420386360143311\n",
      "[LOG 20191027-17:49:56] epoch: 226 train-loss: 0.0014408876631932799\n"
     ]
    },
    {
     "name": "stdout",
     "output_type": "stream",
     "text": [
      "[LOG 20191027-17:49:57] epoch: 227 train-loss: 0.0014393800774996635\n",
      "[LOG 20191027-17:49:57] epoch: 228 train-loss: 0.0014375186219695024\n",
      "[LOG 20191027-17:49:57] epoch: 229 train-loss: 0.001435306083294563\n",
      "[LOG 20191027-17:49:57] epoch: 230 train-loss: 0.0014327465833048336\n",
      "[LOG 20191027-17:49:58] epoch: 231 train-loss: 0.0014298442438303027\n",
      "[LOG 20191027-17:49:58] epoch: 232 train-loss: 0.0014266024772950914\n",
      "[LOG 20191027-17:49:58] epoch: 233 train-loss: 0.0014230258348106872\n",
      "[LOG 20191027-17:49:59] epoch: 234 train-loss: 0.0014191190421115607\n",
      "[LOG 20191027-17:49:59] epoch: 235 train-loss: 0.0014148867412586696\n",
      "[LOG 20191027-17:49:59] epoch: 236 train-loss: 0.0014103337889537215\n",
      "[LOG 20191027-17:49:59] epoch: 237 train-loss: 0.0014054650528123602\n",
      "[LOG 20191027-17:50:00] epoch: 238 train-loss: 0.001400286600983236\n",
      "[LOG 20191027-17:50:00] epoch: 239 train-loss: 0.0013948032501502894\n",
      "[LOG 20191027-17:50:00] epoch: 240 train-loss: 0.0013890208392695058\n",
      "[LOG 20191027-17:50:01] epoch: 241 train-loss: 0.0013829450981575064\n",
      "[LOG 20191027-17:50:01] epoch: 242 train-loss: 0.0013765816984232515\n",
      "[LOG 20191027-17:50:01] epoch: 243 train-loss: 0.0013699370756512508\n",
      "[LOG 20191027-17:50:01] epoch: 244 train-loss: 0.0013630188223032746\n",
      "[LOG 20191027-17:50:02] epoch: 245 train-loss: 0.0013558329847001005\n",
      "[LOG 20191027-17:50:02] epoch: 246 train-loss: 0.001348386187601136\n",
      "[LOG 20191027-17:50:02] epoch: 247 train-loss: 0.0013406846846919507\n",
      "[LOG 20191027-17:50:03] epoch: 248 train-loss: 0.0013327366214070935\n",
      "[LOG 20191027-17:50:03] epoch: 249 train-loss: 0.001324548644333845\n",
      "[LOG 20191027-17:50:03] epoch: 250 train-loss: 0.0013161282295186538\n",
      "[LOG 20191027-17:50:03] epoch: 251 train-loss: 0.0013074837916065007\n",
      "[LOG 20191027-17:50:04] epoch: 252 train-loss: 0.0012986212350369897\n",
      "[LOG 20191027-17:50:04] epoch: 253 train-loss: 0.0012895500294689555\n",
      "[LOG 20191027-17:50:04] epoch: 254 train-loss: 0.0012802752025891095\n",
      "[LOG 20191027-17:50:04] epoch: 255 train-loss: 0.0012708067042694893\n",
      "[LOG 20191027-17:50:05] epoch: 256 train-loss: 0.001261151846847497\n",
      "[LOG 20191027-17:50:05] epoch: 257 train-loss: 0.0012513174151536077\n",
      "[LOG 20191027-17:50:05] epoch: 258 train-loss: 0.0012413123586156871\n",
      "[LOG 20191027-17:50:06] epoch: 259 train-loss: 0.001231143298355164\n",
      "[LOG 20191027-17:50:06] epoch: 260 train-loss: 0.0012208184889459517\n",
      "[LOG 20191027-17:50:06] epoch: 261 train-loss: 0.0012103449680580525\n",
      "[LOG 20191027-17:50:06] epoch: 262 train-loss: 0.0011997302681265865\n",
      "[LOG 20191027-17:50:07] epoch: 263 train-loss: 0.0011889830566360615\n",
      "[LOG 20191027-17:50:07] epoch: 264 train-loss: 0.001178110069304239\n",
      "[LOG 20191027-17:50:07] epoch: 265 train-loss: 0.0011671195843518944\n",
      "[LOG 20191027-17:50:08] epoch: 266 train-loss: 0.0011560184375412064\n",
      "[LOG 20191027-17:50:08] epoch: 267 train-loss: 0.0011448151744843926\n",
      "[LOG 20191027-17:50:08] epoch: 268 train-loss: 0.0011335165800119285\n",
      "[LOG 20191027-17:50:09] epoch: 269 train-loss: 0.0011221305048820795\n",
      "[LOG 20191027-17:50:09] epoch: 270 train-loss: 0.0011106637175544165\n",
      "[LOG 20191027-17:50:09] epoch: 271 train-loss: 0.0010991238505084766\n",
      "[LOG 20191027-17:50:10] epoch: 272 train-loss: 0.0010875189273065189\n",
      "[LOG 20191027-17:50:10] epoch: 273 train-loss: 0.0010758562839328079\n",
      "[LOG 20191027-17:50:10] epoch: 274 train-loss: 0.0010641448934620712\n",
      "[LOG 20191027-17:50:10] epoch: 275 train-loss: 0.0010523916771489894\n",
      "[LOG 20191027-17:50:11] epoch: 276 train-loss: 0.0010406037654320244\n",
      "[LOG 20191027-17:50:11] epoch: 277 train-loss: 0.001028788816256565\n",
      "[LOG 20191027-17:50:11] epoch: 278 train-loss: 0.0010169552679144545\n",
      "[LOG 20191027-17:50:12] epoch: 279 train-loss: 0.0010051100580312777\n",
      "[LOG 20191027-17:50:12] epoch: 280 train-loss: 0.000993261426629033\n",
      "[LOG 20191027-17:50:12] epoch: 281 train-loss: 0.0009814175100473221\n",
      "[LOG 20191027-17:50:13] epoch: 282 train-loss: 0.0009695846656541107\n",
      "[LOG 20191027-17:50:13] epoch: 283 train-loss: 0.0009577709934092127\n",
      "[LOG 20191027-17:50:13] epoch: 284 train-loss: 0.0009459845132369082\n",
      "[LOG 20191027-17:50:14] epoch: 285 train-loss: 0.0009342322264274117\n",
      "[LOG 20191027-17:50:14] epoch: 286 train-loss: 0.000922521439861157\n",
      "[LOG 20191027-17:50:14] epoch: 287 train-loss: 0.0009108594076678855\n",
      "[LOG 20191027-17:50:15] epoch: 288 train-loss: 0.0008992533039418049\n",
      "[LOG 20191027-17:50:15] epoch: 289 train-loss: 0.0008877096934156725\n",
      "[LOG 20191027-17:50:15] epoch: 290 train-loss: 0.0008762350080360193\n",
      "[LOG 20191027-17:50:15] epoch: 291 train-loss: 0.0008648361090308754\n",
      "[LOG 20191027-17:50:16] epoch: 292 train-loss: 0.0008535195283911889\n",
      "[LOG 20191027-17:50:16] epoch: 293 train-loss: 0.0008422908158536302\n",
      "[LOG 20191027-17:50:16] epoch: 294 train-loss: 0.0008311557339766296\n",
      "[LOG 20191027-17:50:17] epoch: 295 train-loss: 0.0008201199725590413\n",
      "[LOG 20191027-17:50:17] epoch: 296 train-loss: 0.0008091888430499239\n",
      "[LOG 20191027-17:50:17] epoch: 297 train-loss: 0.0007983675968716852\n",
      "[LOG 20191027-17:50:18] epoch: 298 train-loss: 0.0007876606377976714\n",
      "[LOG 20191027-17:50:18] epoch: 299 train-loss: 0.0007770729134790599\n",
      "[LOG 20191027-17:50:18] epoch: 300 train-loss: 0.0007666077217436396\n",
      "[LOG 20191027-17:50:19] epoch: 301 train-loss: 0.0007562693826912437\n",
      "[LOG 20191027-17:50:19] epoch: 302 train-loss: 0.0007460617962351535\n",
      "[LOG 20191027-17:50:19] epoch: 303 train-loss: 0.0007359889332292369\n",
      "[LOG 20191027-17:50:19] epoch: 304 train-loss: 0.0007260526381287491\n",
      "[LOG 20191027-17:50:20] epoch: 305 train-loss: 0.0007162565980252111\n",
      "[LOG 20191027-17:50:20] epoch: 306 train-loss: 0.0007066034231684171\n",
      "[LOG 20191027-17:50:20] epoch: 307 train-loss: 0.0006970958929741755\n",
      "[LOG 20191027-17:50:21] epoch: 308 train-loss: 0.0006877353516756557\n",
      "[LOG 20191027-17:50:21] epoch: 309 train-loss: 0.0006785244904676802\n",
      "[LOG 20191027-17:50:21] epoch: 310 train-loss: 0.0006694653266094974\n",
      "[LOG 20191027-17:50:22] epoch: 311 train-loss: 0.0006605589542232337\n",
      "[LOG 20191027-17:50:22] epoch: 312 train-loss: 0.0006518073496408761\n",
      "[LOG 20191027-17:50:22] epoch: 313 train-loss: 0.0006432112395486911\n",
      "[LOG 20191027-17:50:22] epoch: 314 train-loss: 0.0006347705784719437\n",
      "[LOG 20191027-17:50:23] epoch: 315 train-loss: 0.0006264877156354487\n",
      "[LOG 20191027-17:50:23] epoch: 316 train-loss: 0.0006183641389725381\n",
      "[LOG 20191027-17:50:23] epoch: 317 train-loss: 0.0006103991645431961\n",
      "[LOG 20191027-17:50:24] epoch: 318 train-loss: 0.0006025934098943253\n",
      "[LOG 20191027-17:50:24] epoch: 319 train-loss: 0.00059494748711586\n",
      "[LOG 20191027-17:50:24] epoch: 320 train-loss: 0.0005874633425264619\n",
      "[LOG 20191027-17:50:24] epoch: 320 new best train-loss: 0.0005874633425264619 found\n",
      "[LOG 20191027-17:50:25] epoch: 321 train-loss: 0.0005801395809612586\n",
      "[LOG 20191027-17:50:25] epoch: 322 train-loss: 0.0005729765925934771\n",
      "[LOG 20191027-17:50:25] epoch: 323 train-loss: 0.0005659735452354653\n",
      "[LOG 20191027-17:50:26] epoch: 324 train-loss: 0.0005591320423263824\n",
      "[LOG 20191027-17:50:26] epoch: 325 train-loss: 0.0005524517182493582\n",
      "[LOG 20191027-17:50:26] epoch: 326 train-loss: 0.0005459311860249727\n",
      "[LOG 20191027-17:50:27] epoch: 327 train-loss: 0.0005395712214522064\n",
      "[LOG 20191027-17:50:27] epoch: 328 train-loss: 0.0005333721292117843\n",
      "[LOG 20191027-17:50:27] epoch: 329 train-loss: 0.0005273332290016697\n",
      "[LOG 20191027-17:50:28] epoch: 330 train-loss: 0.0005214537213760195\n",
      "[LOG 20191027-17:50:28] epoch: 330 new best train-loss: 0.0005214537213760195 found\n",
      "[LOG 20191027-17:50:28] epoch: 331 train-loss: 0.0005157332880116883\n",
      "[LOG 20191027-17:50:28] epoch: 332 train-loss: 0.0005101719279991812\n",
      "[LOG 20191027-17:50:29] epoch: 333 train-loss: 0.0005047685226600152\n",
      "[LOG 20191027-17:50:29] epoch: 334 train-loss: 0.0004995224835511181\n",
      "[LOG 20191027-17:50:29] epoch: 335 train-loss: 0.0004944338525092462\n",
      "[LOG 20191027-17:50:30] epoch: 336 train-loss: 0.0004895017291346448\n",
      "[LOG 20191027-17:50:30] epoch: 337 train-loss: 0.0004847257114306558\n",
      "[LOG 20191027-17:50:30] epoch: 338 train-loss: 0.00048010513910412556\n",
      "[LOG 20191027-17:50:30] epoch: 339 train-loss: 0.0004756387716042809\n",
      "[LOG 20191027-17:50:31] epoch: 340 train-loss: 0.00047132624331425177\n",
      "[LOG 20191027-17:50:31] epoch: 340 new best train-loss: 0.00047132624331425177 found\n",
      "[LOG 20191027-17:50:31] epoch: 341 train-loss: 0.00046716628276044503\n",
      "[LOG 20191027-17:50:31] epoch: 342 train-loss: 0.00046315855342982104\n"
     ]
    },
    {
     "name": "stdout",
     "output_type": "stream",
     "text": [
      "[LOG 20191027-17:50:32] epoch: 343 train-loss: 0.0004593019657477271\n",
      "[LOG 20191027-17:50:32] epoch: 344 train-loss: 0.00045559525506178034\n",
      "[LOG 20191027-17:50:32] epoch: 345 train-loss: 0.0004520377169683343\n",
      "[LOG 20191027-17:50:33] epoch: 346 train-loss: 0.00044862821596325375\n",
      "[LOG 20191027-17:50:33] epoch: 347 train-loss: 0.00044536549739859765\n",
      "[LOG 20191027-17:50:33] epoch: 348 train-loss: 0.0004422481065375905\n",
      "[LOG 20191027-17:50:33] epoch: 349 train-loss: 0.0004392754185573722\n",
      "[LOG 20191027-17:50:34] epoch: 350 train-loss: 0.0004364461442492029\n",
      "[LOG 20191027-17:50:34] epoch: 350 new best train-loss: 0.0004364461442492029 found\n",
      "[LOG 20191027-17:50:34] epoch: 351 train-loss: 0.000433758382769156\n",
      "[LOG 20191027-17:50:34] epoch: 352 train-loss: 0.00043121108319610357\n",
      "[LOG 20191027-17:50:35] epoch: 353 train-loss: 0.00042880295632130583\n",
      "[LOG 20191027-17:50:35] epoch: 354 train-loss: 0.0004265323336767324\n",
      "[LOG 20191027-17:50:35] epoch: 355 train-loss: 0.0004243977655278286\n",
      "[LOG 20191027-17:50:36] epoch: 356 train-loss: 0.0004223974556225585\n",
      "[LOG 20191027-17:50:36] epoch: 357 train-loss: 0.00042053010474774055\n",
      "[LOG 20191027-17:50:36] epoch: 358 train-loss: 0.0004187938011455117\n",
      "[LOG 20191027-17:50:37] epoch: 359 train-loss: 0.0004171867622062564\n",
      "[LOG 20191027-17:50:37] epoch: 360 train-loss: 0.0004157073367423436\n",
      "[LOG 20191027-17:50:37] epoch: 360 new best train-loss: 0.0004157073367423436 found\n",
      "[LOG 20191027-17:50:37] epoch: 361 train-loss: 0.0004143535670664278\n",
      "[LOG 20191027-17:50:38] epoch: 362 train-loss: 0.000413123572798213\n",
      "[LOG 20191027-17:50:38] epoch: 363 train-loss: 0.00041201539261237485\n",
      "[LOG 20191027-17:50:38] epoch: 364 train-loss: 0.0004110270688215678\n",
      "[LOG 20191027-17:50:38] epoch: 365 train-loss: 0.00041015650913323043\n",
      "[LOG 20191027-17:50:39] epoch: 366 train-loss: 0.0004094016635463049\n",
      "[LOG 20191027-17:50:39] epoch: 367 train-loss: 0.00040876036928239046\n",
      "[LOG 20191027-17:50:39] epoch: 368 train-loss: 0.00040823040217219386\n",
      "[LOG 20191027-17:50:40] epoch: 369 train-loss: 0.00040780958170216763\n",
      "[LOG 20191027-17:50:40] epoch: 370 train-loss: 0.00040749550544205704\n",
      "[LOG 20191027-17:50:40] epoch: 370 new best train-loss: 0.00040749550544205704 found\n",
      "[LOG 20191027-17:50:40] epoch: 371 train-loss: 0.0004072860483574914\n",
      "[LOG 20191027-17:50:41] epoch: 372 train-loss: 0.00040717878664509044\n",
      "[LOG 20191027-17:50:41] epoch: 373 train-loss: 0.0004071714483870892\n",
      "[LOG 20191027-17:50:41] epoch: 374 train-loss: 0.000407261383770674\n",
      "[LOG 20191027-17:50:41] epoch: 375 train-loss: 0.00040744625539446133\n",
      "[LOG 20191027-17:50:42] epoch: 376 train-loss: 0.0004077236194461875\n",
      "[LOG 20191027-17:50:42] epoch: 377 train-loss: 0.0004080908356627333\n",
      "[LOG 20191027-17:50:42] epoch: 378 train-loss: 0.0004085452733306738\n",
      "[LOG 20191027-17:50:43] epoch: 379 train-loss: 0.0004090847587576718\n",
      "[LOG 20191027-17:50:43] epoch: 380 train-loss: 0.0004097064761481306\n",
      "[LOG 20191027-17:50:43] epoch: 381 train-loss: 0.0004104079653188819\n",
      "[LOG 20191027-17:50:44] epoch: 382 train-loss: 0.0004111864595870429\n",
      "[LOG 20191027-17:50:44] epoch: 383 train-loss: 0.00041203953196600196\n",
      "[LOG 20191027-17:50:44] epoch: 384 train-loss: 0.00041296402378065977\n",
      "[LOG 20191027-17:50:44] epoch: 385 train-loss: 0.00041395801827093237\n",
      "[LOG 20191027-17:50:45] epoch: 386 train-loss: 0.0004150184049649397\n",
      "[LOG 20191027-17:50:45] epoch: 387 train-loss: 0.00041614280235080514\n",
      "[LOG 20191027-17:50:45] epoch: 388 train-loss: 0.00041732830550245126\n",
      "[LOG 20191027-17:50:46] epoch: 389 train-loss: 0.0004185726565992809\n",
      "[LOG 20191027-17:50:46] epoch: 390 train-loss: 0.0004198730189273192\n",
      "[LOG 20191027-17:50:46] epoch: 391 train-loss: 0.00042122692912016646\n",
      "[LOG 20191027-17:50:47] epoch: 392 train-loss: 0.0004226312221362605\n",
      "[LOG 20191027-17:50:47] epoch: 393 train-loss: 0.00042408391573189874\n",
      "[LOG 20191027-17:50:47] epoch: 394 train-loss: 0.00042558230279610143\n",
      "[LOG 20191027-17:50:47] epoch: 395 train-loss: 0.0004271240022717393\n",
      "[LOG 20191027-17:50:48] epoch: 396 train-loss: 0.0004287060942260723\n",
      "[LOG 20191027-17:50:48] epoch: 397 train-loss: 0.0004303260448068613\n",
      "[LOG 20191027-17:50:48] epoch: 398 train-loss: 0.00043198179537284886\n",
      "[LOG 20191027-17:50:49] epoch: 399 train-loss: 0.0004336705651439843\n",
      "[LOG 20191027-17:50:49] epoch: 400 train-loss: 0.0004353897761575354\n",
      "[LOG 20191027-17:50:49] epoch: 401 train-loss: 0.00043713688319257926\n",
      "[LOG 20191027-17:50:50] epoch: 402 train-loss: 0.0004389098858155194\n",
      "[LOG 20191027-17:50:50] epoch: 403 train-loss: 0.0004407063247526821\n",
      "[LOG 20191027-17:50:50] epoch: 404 train-loss: 0.00044252392353882897\n",
      "[LOG 20191027-17:50:50] epoch: 405 train-loss: 0.0004443599009391619\n",
      "[LOG 20191027-17:50:51] epoch: 406 train-loss: 0.00044621248889598064\n",
      "[LOG 20191027-17:50:51] epoch: 407 train-loss: 0.00044807905214838684\n",
      "[LOG 20191027-17:50:51] epoch: 408 train-loss: 0.0004499579431467282\n",
      "[LOG 20191027-17:50:52] epoch: 409 train-loss: 0.00045184674536358216\n",
      "[LOG 20191027-17:50:52] epoch: 410 train-loss: 0.00045374270075626555\n",
      "[LOG 20191027-17:50:52] epoch: 411 train-loss: 0.000455643787063309\n",
      "[LOG 20191027-17:50:52] epoch: 412 train-loss: 0.00045754832308375626\n",
      "[LOG 20191027-17:50:53] epoch: 413 train-loss: 0.0004594543943312601\n",
      "[LOG 20191027-17:50:53] epoch: 414 train-loss: 0.0004613600376615068\n",
      "[LOG 20191027-17:50:53] epoch: 415 train-loss: 0.000463262396351638\n",
      "[LOG 20191027-17:50:54] epoch: 416 train-loss: 0.0004651602166632074\n",
      "[LOG 20191027-17:50:54] epoch: 417 train-loss: 0.0004670520274885348\n",
      "[LOG 20191027-17:50:54] epoch: 418 train-loss: 0.00046893595754227135\n",
      "[LOG 20191027-17:50:55] epoch: 419 train-loss: 0.0004708099536401278\n",
      "[LOG 20191027-17:50:55] epoch: 420 train-loss: 0.0004726724841930263\n",
      "[LOG 20191027-17:50:55] epoch: 421 train-loss: 0.000474522254535259\n",
      "[LOG 20191027-17:50:56] epoch: 422 train-loss: 0.0004763574947901361\n",
      "[LOG 20191027-17:50:56] epoch: 423 train-loss: 0.0004781764782819664\n",
      "[LOG 20191027-17:50:56] epoch: 424 train-loss: 0.0004799773159902543\n",
      "[LOG 20191027-17:50:57] epoch: 425 train-loss: 0.0004817595286112919\n",
      "[LOG 20191027-17:50:57] epoch: 426 train-loss: 0.00048352101794080227\n",
      "[LOG 20191027-17:50:57] epoch: 427 train-loss: 0.0004852609627050697\n",
      "[LOG 20191027-17:50:58] epoch: 428 train-loss: 0.0004869778031206806\n",
      "[LOG 20191027-17:50:58] epoch: 429 train-loss: 0.0004886702154180966\n",
      "[LOG 20191027-17:50:58] epoch: 430 train-loss: 0.0004903362532786559\n",
      "[LOG 20191027-17:50:58] epoch: 431 train-loss: 0.0004919748225802323\n",
      "[LOG 20191027-17:50:59] epoch: 432 train-loss: 0.0004935852439302835\n",
      "[LOG 20191027-17:50:59] epoch: 433 train-loss: 0.0004951649652866763\n",
      "[LOG 20191027-17:50:59] epoch: 434 train-loss: 0.0004967136828781804\n",
      "[LOG 20191027-17:51:00] epoch: 435 train-loss: 0.0004982303371434682\n",
      "[LOG 20191027-17:51:00] epoch: 436 train-loss: 0.0004997114883735776\n",
      "[LOG 20191027-17:51:00] epoch: 437 train-loss: 0.0005011566208850127\n",
      "[LOG 20191027-17:51:01] epoch: 438 train-loss: 0.0005025653035772848\n",
      "[LOG 20191027-17:51:01] epoch: 439 train-loss: 0.0005039365159973386\n",
      "[LOG 20191027-17:51:01] epoch: 440 train-loss: 0.0005052674796388601\n",
      "[LOG 20191027-17:51:02] epoch: 441 train-loss: 0.0005065575060143601\n",
      "[LOG 20191027-17:51:02] epoch: 442 train-loss: 0.0005078055964986561\n",
      "[LOG 20191027-17:51:02] epoch: 443 train-loss: 0.000509010689711431\n",
      "[LOG 20191027-17:51:02] epoch: 444 train-loss: 0.0005101705255583511\n",
      "[LOG 20191027-17:51:03] epoch: 445 train-loss: 0.0005112856924824882\n",
      "[LOG 20191027-17:51:03] epoch: 446 train-loss: 0.0005123571445437847\n",
      "[LOG 20191027-17:51:03] epoch: 447 train-loss: 0.0005133832682986395\n",
      "[LOG 20191027-17:51:04] epoch: 448 train-loss: 0.0005143624230186106\n",
      "[LOG 20191027-17:51:04] epoch: 449 train-loss: 0.0005152937237653532\n",
      "[LOG 20191027-17:51:04] epoch: 450 train-loss: 0.0005161793997103814\n",
      "[LOG 20191027-17:51:05] epoch: 451 train-loss: 0.0005170183649170212\n",
      "[LOG 20191027-17:51:05] epoch: 452 train-loss: 0.0005178096071176697\n",
      "[LOG 20191027-17:51:05] epoch: 453 train-loss: 0.0005185550489841262\n",
      "[LOG 20191027-17:51:06] epoch: 454 train-loss: 0.0005192548478589742\n",
      "[LOG 20191027-17:51:06] epoch: 455 train-loss: 0.0005199079614612856\n",
      "[LOG 20191027-17:51:06] epoch: 456 train-loss: 0.0005205179568292806\n",
      "[LOG 20191027-17:51:06] epoch: 457 train-loss: 0.0005210834506215178\n"
     ]
    },
    {
     "name": "stdout",
     "output_type": "stream",
     "text": [
      "[LOG 20191027-17:51:07] epoch: 458 train-loss: 0.0005216054414631799\n",
      "[LOG 20191027-17:51:07] epoch: 459 train-loss: 0.00052208581018931\n",
      "[LOG 20191027-17:51:07] epoch: 460 train-loss: 0.0005225238201091997\n",
      "[LOG 20191027-17:51:08] epoch: 461 train-loss: 0.0005229230910117622\n",
      "[LOG 20191027-17:51:08] epoch: 462 train-loss: 0.0005232816583884414\n",
      "[LOG 20191027-17:51:08] epoch: 463 train-loss: 0.0005236024762780289\n",
      "[LOG 20191027-17:51:09] epoch: 464 train-loss: 0.0005238856583673623\n",
      "[LOG 20191027-17:51:09] epoch: 465 train-loss: 0.0005241328653937671\n",
      "[LOG 20191027-17:51:09] epoch: 466 train-loss: 0.0005243442528808373\n",
      "[LOG 20191027-17:51:10] epoch: 467 train-loss: 0.0005245212614681805\n",
      "[LOG 20191027-17:51:10] epoch: 468 train-loss: 0.0005246643713689991\n",
      "[LOG 20191027-17:51:10] epoch: 469 train-loss: 0.0005247756098469836\n",
      "[LOG 20191027-17:51:11] epoch: 470 train-loss: 0.0005248550423857523\n",
      "[LOG 20191027-17:51:11] epoch: 471 train-loss: 0.0005249042806099169\n",
      "[LOG 20191027-17:51:11] epoch: 472 train-loss: 0.000524922383192461\n",
      "[LOG 20191027-17:51:11] epoch: 473 train-loss: 0.0005249119749350939\n",
      "[LOG 20191027-17:51:12] epoch: 474 train-loss: 0.00052487287484837\n",
      "[LOG 20191027-17:51:12] epoch: 475 train-loss: 0.0005248064526313101\n",
      "[LOG 20191027-17:51:12] epoch: 476 train-loss: 0.0005247121544016409\n",
      "[LOG 20191027-17:51:13] epoch: 477 train-loss: 0.0005245921638561413\n",
      "[LOG 20191027-17:51:13] epoch: 478 train-loss: 0.0005244456606305903\n",
      "[LOG 20191027-17:51:13] epoch: 479 train-loss: 0.0005242736679065274\n",
      "[LOG 20191027-17:51:14] epoch: 480 train-loss: 0.0005240752425379469\n",
      "[LOG 20191027-17:51:14] epoch: 481 train-loss: 0.000523852878359321\n",
      "[LOG 20191027-17:51:14] epoch: 482 train-loss: 0.0005236059696471784\n",
      "[LOG 20191027-17:51:15] epoch: 483 train-loss: 0.0005233353067524149\n",
      "[LOG 20191027-17:51:15] epoch: 484 train-loss: 0.0005230395963735646\n",
      "[LOG 20191027-17:51:15] epoch: 485 train-loss: 0.000522720330991433\n",
      "[LOG 20191027-17:51:16] epoch: 486 train-loss: 0.0005223769803706091\n",
      "[LOG 20191027-17:51:16] epoch: 487 train-loss: 0.0005220099355938146\n",
      "[LOG 20191027-17:51:16] epoch: 488 train-loss: 0.0005216182726144325\n",
      "[LOG 20191027-17:51:16] epoch: 489 train-loss: 0.0005212030864640838\n",
      "[LOG 20191027-17:51:17] epoch: 490 train-loss: 0.0005207638114370639\n",
      "[LOG 20191027-17:51:17] epoch: 491 train-loss: 0.0005203003693168284\n",
      "[LOG 20191027-17:51:17] epoch: 492 train-loss: 0.0005198123462832882\n",
      "[LOG 20191027-17:51:18] epoch: 493 train-loss: 0.0005192999469727511\n",
      "[LOG 20191027-17:51:18] epoch: 494 train-loss: 0.0005187626184124383\n",
      "[LOG 20191027-17:51:18] epoch: 495 train-loss: 0.0005181998067200766\n",
      "[LOG 20191027-17:51:19] epoch: 496 train-loss: 0.0005176114082132699\n",
      "[LOG 20191027-17:51:19] epoch: 497 train-loss: 0.0005169975802346016\n",
      "[LOG 20191027-17:51:19] epoch: 498 train-loss: 0.0005163578962310567\n",
      "[LOG 20191027-17:51:20] epoch: 499 train-loss: 0.0005156924280527164\n",
      "[LOG 20191027-17:51:20] epoch: 500 train-loss: 0.000515000269842858\n",
      "[LOG 20191027-17:51:20] epoch: 501 train-loss: 0.0005142817562955315\n",
      "[LOG 20191027-17:51:21] epoch: 502 train-loss: 0.0005135360361236962\n",
      "[LOG 20191027-17:51:21] epoch: 503 train-loss: 0.0005127636231918586\n",
      "[LOG 20191027-17:51:21] epoch: 504 train-loss: 0.0005119626985106152\n",
      "[LOG 20191027-17:51:22] epoch: 505 train-loss: 0.000511134450789541\n",
      "[LOG 20191027-17:51:22] epoch: 506 train-loss: 0.0005102772865939187\n",
      "[LOG 20191027-17:51:22] epoch: 507 train-loss: 0.0005093921372463228\n",
      "[LOG 20191027-17:51:22] epoch: 508 train-loss: 0.0005084774275019299\n",
      "[LOG 20191027-17:51:23] epoch: 509 train-loss: 0.0005075344588476582\n",
      "[LOG 20191027-17:51:23] epoch: 510 train-loss: 0.00050656144048844\n",
      "[LOG 20191027-17:51:23] epoch: 511 train-loss: 0.0005055601959611522\n",
      "[LOG 20191027-17:51:23] epoch: 512 train-loss: 0.0005045279176556505\n",
      "[LOG 20191027-17:51:24] epoch: 513 train-loss: 0.0005034662481193664\n",
      "[LOG 20191027-17:51:24] epoch: 514 train-loss: 0.0005023739577154629\n",
      "[LOG 20191027-17:51:24] epoch: 515 train-loss: 0.0005012507353967521\n",
      "[LOG 20191027-17:51:24] epoch: 516 train-loss: 0.000500097718941106\n",
      "[LOG 20191027-17:51:25] epoch: 517 train-loss: 0.0004989131248294143\n",
      "[LOG 20191027-17:51:25] epoch: 518 train-loss: 0.0004976987120244303\n",
      "[LOG 20191027-17:51:25] epoch: 519 train-loss: 0.0004964530035067583\n",
      "[LOG 20191027-17:51:26] epoch: 520 train-loss: 0.0004951778619215474\n",
      "[LOG 20191027-17:51:26] epoch: 521 train-loss: 0.0004938707725159475\n",
      "[LOG 20191027-17:51:26] epoch: 522 train-loss: 0.0004925337934764684\n",
      "[LOG 20191027-17:51:26] epoch: 523 train-loss: 0.0004911662772428826\n",
      "[LOG 20191027-17:51:27] epoch: 524 train-loss: 0.0004897682674709358\n",
      "[LOG 20191027-17:51:27] epoch: 525 train-loss: 0.000488340880110627\n",
      "[LOG 20191027-17:51:27] epoch: 526 train-loss: 0.00048688306924304925\n",
      "[LOG 20191027-17:51:27] epoch: 527 train-loss: 0.0004853969262512692\n",
      "[LOG 20191027-17:51:28] epoch: 528 train-loss: 0.0004838808645217796\n",
      "[LOG 20191027-17:51:28] epoch: 529 train-loss: 0.0004823367967219383\n",
      "[LOG 20191027-17:51:28] epoch: 530 train-loss: 0.00048076447819767054\n",
      "[LOG 20191027-17:51:29] epoch: 531 train-loss: 0.0004791643664248113\n",
      "[LOG 20191027-17:51:29] epoch: 532 train-loss: 0.0004775381762556208\n",
      "[LOG 20191027-17:51:29] epoch: 533 train-loss: 0.00047588385132257827\n",
      "[LOG 20191027-17:51:29] epoch: 534 train-loss: 0.0004742044652630284\n",
      "[LOG 20191027-17:51:30] epoch: 535 train-loss: 0.0004724992122646654\n",
      "[LOG 20191027-17:51:30] epoch: 536 train-loss: 0.0004707694201897539\n",
      "[LOG 20191027-17:51:30] epoch: 537 train-loss: 0.000469016631541308\n",
      "[LOG 20191027-17:51:31] epoch: 538 train-loss: 0.0004672392642532941\n",
      "[LOG 20191027-17:51:31] epoch: 539 train-loss: 0.00046544030601580744\n",
      "[LOG 20191027-17:51:31] epoch: 540 train-loss: 0.00046361892145796446\n",
      "[LOG 20191027-17:51:32] epoch: 541 train-loss: 0.0004617764666363655\n",
      "[LOG 20191027-17:51:32] epoch: 542 train-loss: 0.00045991436309122946\n",
      "[LOG 20191027-17:51:32] epoch: 543 train-loss: 0.00045803178363712505\n",
      "[LOG 20191027-17:51:32] epoch: 544 train-loss: 0.00045613157908519497\n",
      "[LOG 20191027-17:51:33] epoch: 545 train-loss: 0.00045421273534884676\n",
      "[LOG 20191027-17:51:33] epoch: 546 train-loss: 0.0004522768776951125\n",
      "[LOG 20191027-17:51:33] epoch: 547 train-loss: 0.000450325548172259\n",
      "[LOG 20191027-17:51:34] epoch: 548 train-loss: 0.0004483575999074674\n",
      "[LOG 20191027-17:51:34] epoch: 549 train-loss: 0.0004463762788873282\n",
      "[LOG 20191027-17:51:34] epoch: 550 train-loss: 0.00044438117947720457\n",
      "[LOG 20191027-17:51:35] epoch: 551 train-loss: 0.00044237242082090233\n",
      "[LOG 20191027-17:51:35] epoch: 552 train-loss: 0.00044035288237864734\n",
      "[LOG 20191027-17:51:35] epoch: 553 train-loss: 0.00043832115625264123\n",
      "[LOG 20191027-17:51:35] epoch: 554 train-loss: 0.0004362800214039453\n",
      "[LOG 20191027-17:51:36] epoch: 555 train-loss: 0.00043422970065876143\n",
      "[LOG 20191027-17:51:36] epoch: 556 train-loss: 0.000432169935265847\n",
      "[LOG 20191027-17:51:36] epoch: 557 train-loss: 0.0004301041544749751\n",
      "[LOG 20191027-17:51:37] epoch: 558 train-loss: 0.00042803132737390115\n",
      "[LOG 20191027-17:51:37] epoch: 559 train-loss: 0.0004259528341208352\n",
      "[LOG 20191027-17:51:37] epoch: 560 train-loss: 0.0004238705632815254\n",
      "[LOG 20191027-17:51:38] epoch: 561 train-loss: 0.00042178392368441564\n",
      "[LOG 20191027-17:51:38] epoch: 562 train-loss: 0.0004196948284516111\n",
      "[LOG 20191027-17:51:38] epoch: 563 train-loss: 0.00041760396106838016\n",
      "[LOG 20191027-17:51:38] epoch: 564 train-loss: 0.0004155113042543235\n",
      "[LOG 20191027-17:51:39] epoch: 565 train-loss: 0.00041341978476339136\n",
      "[LOG 20191027-17:51:39] epoch: 566 train-loss: 0.00041132887736239354\n",
      "[LOG 20191027-17:51:39] epoch: 567 train-loss: 0.0004092392746315454\n",
      "[LOG 20191027-17:51:40] epoch: 568 train-loss: 0.00040715316936257295\n",
      "[LOG 20191027-17:51:40] epoch: 569 train-loss: 0.0004050699826620985\n",
      "[LOG 20191027-17:51:40] epoch: 570 train-loss: 0.0004029910860481323\n",
      "[LOG 20191027-17:51:40] epoch: 570 new best train-loss: 0.0004029910860481323 found\n",
      "[LOG 20191027-17:51:40] epoch: 571 train-loss: 0.00040091768414640683\n",
      "[LOG 20191027-17:51:41] epoch: 572 train-loss: 0.00039885027308628196\n",
      "[LOG 20191027-17:51:41] epoch: 573 train-loss: 0.00039679034762230003\n",
      "[LOG 20191027-17:51:41] epoch: 574 train-loss: 0.0003947375730604108\n",
      "[LOG 20191027-17:51:42] epoch: 575 train-loss: 0.00039269295666599646\n"
     ]
    },
    {
     "name": "stdout",
     "output_type": "stream",
     "text": [
      "[LOG 20191027-17:51:42] epoch: 576 train-loss: 0.0003906591987288266\n",
      "[LOG 20191027-17:51:42] epoch: 577 train-loss: 0.00038863460076754563\n",
      "[LOG 20191027-17:51:42] epoch: 578 train-loss: 0.0003866209804073151\n",
      "[LOG 20191027-17:51:43] epoch: 579 train-loss: 0.00038461981057480443\n",
      "[LOG 20191027-17:51:43] epoch: 580 train-loss: 0.0003826300430773699\n",
      "[LOG 20191027-17:51:43] epoch: 580 new best train-loss: 0.0003826300430773699 found\n",
      "[LOG 20191027-17:51:43] epoch: 581 train-loss: 0.0003806537947639299\n",
      "[LOG 20191027-17:51:43] epoch: 582 train-loss: 0.00037869210700591793\n",
      "[LOG 20191027-17:51:44] epoch: 583 train-loss: 0.00037674395707654185\n",
      "[LOG 20191027-17:51:44] epoch: 584 train-loss: 0.00037481080880752415\n",
      "[LOG 20191027-17:51:44] epoch: 585 train-loss: 0.0003728941433109867\n",
      "[LOG 20191027-17:51:45] epoch: 586 train-loss: 0.0003709926249939599\n",
      "[LOG 20191027-17:51:45] epoch: 587 train-loss: 0.0003691078936753911\n",
      "[LOG 20191027-17:51:45] epoch: 588 train-loss: 0.00036724115125252865\n",
      "[LOG 20191027-17:51:45] epoch: 589 train-loss: 0.000365391717878083\n",
      "[LOG 20191027-17:51:46] epoch: 590 train-loss: 0.0003635609623415803\n",
      "[LOG 20191027-17:51:46] epoch: 590 new best train-loss: 0.0003635609623415803 found\n",
      "[LOG 20191027-17:51:46] epoch: 591 train-loss: 0.0003617491938712192\n",
      "[LOG 20191027-17:51:46] epoch: 592 train-loss: 0.00035995636017105426\n",
      "[LOG 20191027-17:51:46] epoch: 593 train-loss: 0.00035818396781905903\n",
      "[LOG 20191027-17:51:47] epoch: 594 train-loss: 0.00035643167666421505\n",
      "[LOG 20191027-17:51:47] epoch: 595 train-loss: 0.00035469903332341346\n",
      "[LOG 20191027-17:51:47] epoch: 596 train-loss: 0.0003529879818415793\n",
      "[LOG 20191027-17:51:47] epoch: 597 train-loss: 0.00035129872367178905\n",
      "[LOG 20191027-17:51:48] epoch: 598 train-loss: 0.0003496301833365578\n",
      "[LOG 20191027-17:51:48] epoch: 599 train-loss: 0.0003479840879663243\n",
      "[LOG 20191027-17:51:48] epoch: 600 train-loss: 0.0003463607095000043\n",
      "[LOG 20191027-17:51:48] epoch: 600 new best train-loss: 0.0003463607095000043 found\n",
      "[LOG 20191027-17:51:48] epoch: 601 train-loss: 0.00034475927463972766\n",
      "[LOG 20191027-17:51:49] epoch: 602 train-loss: 0.0003431804054798704\n",
      "[LOG 20191027-17:51:49] epoch: 603 train-loss: 0.0003416253045998019\n",
      "[LOG 20191027-17:51:49] epoch: 604 train-loss: 0.0003400928524115443\n",
      "[LOG 20191027-17:51:50] epoch: 605 train-loss: 0.00033858387996588135\n",
      "[LOG 20191027-17:51:50] epoch: 606 train-loss: 0.00033709867534525984\n",
      "[LOG 20191027-17:51:50] epoch: 607 train-loss: 0.00033563711258466356\n",
      "[LOG 20191027-17:51:50] epoch: 608 train-loss: 0.0003341996566632588\n",
      "[LOG 20191027-17:51:51] epoch: 609 train-loss: 0.00033278711975981423\n",
      "[LOG 20191027-17:51:51] epoch: 610 train-loss: 0.0003313982147119532\n",
      "[LOG 20191027-17:51:51] epoch: 610 new best train-loss: 0.0003313982147119532 found\n",
      "[LOG 20191027-17:51:51] epoch: 611 train-loss: 0.00033003306839418656\n",
      "[LOG 20191027-17:51:51] epoch: 612 train-loss: 0.00032869346864572435\n",
      "[LOG 20191027-17:51:52] epoch: 613 train-loss: 0.00032737820561123954\n",
      "[LOG 20191027-17:51:52] epoch: 614 train-loss: 0.00032608687070023734\n",
      "[LOG 20191027-17:51:52] epoch: 615 train-loss: 0.00032482064170835656\n",
      "[LOG 20191027-17:51:52] epoch: 616 train-loss: 0.0003235793947169441\n",
      "[LOG 20191027-17:51:53] epoch: 617 train-loss: 0.00032236250035566627\n",
      "[LOG 20191027-17:51:53] epoch: 618 train-loss: 0.0003211705775356677\n",
      "[LOG 20191027-17:51:53] epoch: 619 train-loss: 0.00032000345504457073\n",
      "[LOG 20191027-17:51:53] epoch: 620 train-loss: 0.0003188609189237468\n",
      "[LOG 20191027-17:51:53] epoch: 620 new best train-loss: 0.0003188609189237468 found\n",
      "[LOG 20191027-17:51:54] epoch: 621 train-loss: 0.0003177428995968512\n",
      "[LOG 20191027-17:51:54] epoch: 622 train-loss: 0.00031665020469517913\n",
      "[LOG 20191027-17:51:54] epoch: 623 train-loss: 0.0003155818978939351\n",
      "[LOG 20191027-17:51:55] epoch: 624 train-loss: 0.0003145378402678034\n",
      "[LOG 20191027-17:51:55] epoch: 625 train-loss: 0.00031351903089671396\n",
      "[LOG 20191027-17:51:55] epoch: 626 train-loss: 0.0003125247433217737\n",
      "[LOG 20191027-17:51:55] epoch: 627 train-loss: 0.0003115545946457132\n",
      "[LOG 20191027-17:51:56] epoch: 628 train-loss: 0.0003106088811364316\n",
      "[LOG 20191027-17:51:56] epoch: 629 train-loss: 0.0003096880864177365\n",
      "[LOG 20191027-17:51:56] epoch: 630 train-loss: 0.0003087911811689992\n",
      "[LOG 20191027-17:51:56] epoch: 630 new best train-loss: 0.0003087911811689992 found\n",
      "[LOG 20191027-17:51:56] epoch: 631 train-loss: 0.0003079183049976564\n",
      "[LOG 20191027-17:51:57] epoch: 632 train-loss: 0.0003070695493079256\n",
      "[LOG 20191027-17:51:57] epoch: 633 train-loss: 0.00030624478699792235\n",
      "[LOG 20191027-17:51:57] epoch: 634 train-loss: 0.00030544371702490025\n",
      "[LOG 20191027-17:51:57] epoch: 635 train-loss: 0.00030466663019979023\n",
      "[LOG 20191027-17:51:58] epoch: 636 train-loss: 0.0003039133921447501\n",
      "[LOG 20191027-17:51:58] epoch: 637 train-loss: 0.00030318328708744957\n",
      "[LOG 20191027-17:51:58] epoch: 638 train-loss: 0.0003024763532266661\n",
      "[LOG 20191027-17:51:58] epoch: 639 train-loss: 0.0003017929489033122\n",
      "[LOG 20191027-17:51:59] epoch: 640 train-loss: 0.0003011327787589835\n",
      "[LOG 20191027-17:51:59] epoch: 640 new best train-loss: 0.0003011327787589835 found\n",
      "[LOG 20191027-17:51:59] epoch: 641 train-loss: 0.0003004952855008014\n",
      "[LOG 20191027-17:51:59] epoch: 642 train-loss: 0.00029988034611960757\n",
      "[LOG 20191027-17:51:59] epoch: 643 train-loss: 0.0002992883862589224\n",
      "[LOG 20191027-17:52:00] epoch: 644 train-loss: 0.0002987188622682879\n",
      "[LOG 20191027-17:52:00] epoch: 645 train-loss: 0.00029817157565048547\n",
      "[LOG 20191027-17:52:00] epoch: 646 train-loss: 0.0002976465470965195\n",
      "[LOG 20191027-17:52:01] epoch: 647 train-loss: 0.0002971437795622478\n",
      "[LOG 20191027-17:52:01] epoch: 648 train-loss: 0.00029666255204574554\n",
      "[LOG 20191027-17:52:01] epoch: 649 train-loss: 0.0002962028831916541\n",
      "[LOG 20191027-17:52:01] epoch: 650 train-loss: 0.0002957649055588263\n",
      "[LOG 20191027-17:52:01] epoch: 650 new best train-loss: 0.0002957649055588263 found\n",
      "[LOG 20191027-17:52:02] epoch: 651 train-loss: 0.0002953482671728125\n",
      "[LOG 20191027-17:52:02] epoch: 652 train-loss: 0.0002949526754036924\n",
      "[LOG 20191027-17:52:02] epoch: 653 train-loss: 0.0002945778667253762\n",
      "[LOG 20191027-17:52:02] epoch: 654 train-loss: 0.0002942239495951071\n",
      "[LOG 20191027-17:52:03] epoch: 655 train-loss: 0.00029389065866780584\n",
      "[LOG 20191027-17:52:03] epoch: 656 train-loss: 0.00029357768858062627\n",
      "[LOG 20191027-17:52:03] epoch: 657 train-loss: 0.00029328484720281267\n",
      "[LOG 20191027-17:52:03] epoch: 658 train-loss: 0.0002930120701876149\n",
      "[LOG 20191027-17:52:04] epoch: 659 train-loss: 0.00029275906717884936\n",
      "[LOG 20191027-17:52:04] epoch: 660 train-loss: 0.00029252559806991485\n",
      "[LOG 20191027-17:52:04] epoch: 660 new best train-loss: 0.00029252559806991485 found\n",
      "[LOG 20191027-17:52:04] epoch: 661 train-loss: 0.00029231141820673656\n",
      "[LOG 20191027-17:52:04] epoch: 662 train-loss: 0.0002921165080351784\n",
      "[LOG 20191027-17:52:05] epoch: 663 train-loss: 0.00029194053649916896\n",
      "[LOG 20191027-17:52:05] epoch: 664 train-loss: 0.00029178325848988607\n",
      "[LOG 20191027-17:52:05] epoch: 665 train-loss: 0.0002916444659604167\n",
      "[LOG 20191027-17:52:06] epoch: 666 train-loss: 0.0002915240531820018\n",
      "[LOG 20191027-17:52:06] epoch: 667 train-loss: 0.0002914217143370479\n",
      "[LOG 20191027-17:52:06] epoch: 668 train-loss: 0.00029133721432117454\n",
      "[LOG 20191027-17:52:06] epoch: 669 train-loss: 0.0002912703353104007\n",
      "[LOG 20191027-17:52:07] epoch: 670 train-loss: 0.0002912209010901279\n",
      "[LOG 20191027-17:52:07] epoch: 670 new best train-loss: 0.0002912209010901279 found\n",
      "[LOG 20191027-17:52:07] epoch: 671 train-loss: 0.0002911886467700242\n",
      "[LOG 20191027-17:52:07] epoch: 672 train-loss: 0.00029117334838701936\n",
      "[LOG 20191027-17:52:08] epoch: 673 train-loss: 0.0002911747451435076\n",
      "[LOG 20191027-17:52:08] epoch: 674 train-loss: 0.0002911926542310539\n",
      "[LOG 20191027-17:52:08] epoch: 675 train-loss: 0.0002912268046202371\n",
      "[LOG 20191027-17:52:09] epoch: 676 train-loss: 0.0002912769416525407\n",
      "[LOG 20191027-17:52:09] epoch: 677 train-loss: 0.0002913429486852692\n",
      "[LOG 20191027-17:52:09] epoch: 678 train-loss: 0.0002914244726071047\n",
      "[LOG 20191027-17:52:10] epoch: 679 train-loss: 0.0002915212126026745\n",
      "[LOG 20191027-17:52:10] epoch: 680 train-loss: 0.0002916330404332257\n",
      "[LOG 20191027-17:52:10] epoch: 681 train-loss: 0.00029175965892136446\n"
     ]
    },
    {
     "name": "stdout",
     "output_type": "stream",
     "text": [
      "[LOG 20191027-17:52:11] epoch: 682 train-loss: 0.00029190092868702777\n",
      "[LOG 20191027-17:52:11] epoch: 683 train-loss: 0.00029205644568719435\n",
      "[LOG 20191027-17:52:11] epoch: 684 train-loss: 0.00029222603825473925\n",
      "[LOG 20191027-17:52:12] epoch: 685 train-loss: 0.0002924094521858933\n",
      "[LOG 20191027-17:52:12] epoch: 686 train-loss: 0.00029260647261253325\n",
      "[LOG 20191027-17:52:12] epoch: 687 train-loss: 0.0002928167027675954\n",
      "[LOG 20191027-17:52:13] epoch: 688 train-loss: 0.00029303983774298104\n",
      "[LOG 20191027-17:52:13] epoch: 689 train-loss: 0.0002932759080067626\n",
      "[LOG 20191027-17:52:13] epoch: 690 train-loss: 0.00029352471392485313\n",
      "[LOG 20191027-17:52:14] epoch: 691 train-loss: 0.0002937857211691153\n",
      "[LOG 20191027-17:52:14] epoch: 692 train-loss: 0.0002940585127362283\n",
      "[LOG 20191027-17:52:14] epoch: 693 train-loss: 0.0002943430949926551\n",
      "[LOG 20191027-17:52:15] epoch: 694 train-loss: 0.00029463931809914357\n",
      "[LOG 20191027-17:52:15] epoch: 695 train-loss: 0.0002949469683244388\n",
      "[LOG 20191027-17:52:15] epoch: 696 train-loss: 0.0002952655368062551\n",
      "[LOG 20191027-17:52:15] epoch: 697 train-loss: 0.00029559490985775483\n",
      "[LOG 20191027-17:52:16] epoch: 698 train-loss: 0.00029593473004752013\n",
      "[LOG 20191027-17:52:16] epoch: 699 train-loss: 0.0002962846006084874\n",
      "[LOG 20191027-17:52:16] epoch: 700 train-loss: 0.0002966445008496521\n",
      "[LOG 20191027-17:52:17] epoch: 701 train-loss: 0.0002970138077671436\n",
      "[LOG 20191027-17:52:17] epoch: 702 train-loss: 0.00029739264073214144\n",
      "[LOG 20191027-17:52:17] epoch: 703 train-loss: 0.0002977808048854058\n",
      "[LOG 20191027-17:52:18] epoch: 704 train-loss: 0.0002981780594382144\n",
      "[LOG 20191027-17:52:18] epoch: 705 train-loss: 0.00029858387620151916\n",
      "[LOG 20191027-17:52:18] epoch: 706 train-loss: 0.0002989977085690043\n",
      "[LOG 20191027-17:52:19] epoch: 707 train-loss: 0.0002994198164287809\n",
      "[LOG 20191027-17:52:19] epoch: 708 train-loss: 0.00029984982347741607\n",
      "[LOG 20191027-17:52:19] epoch: 709 train-loss: 0.0003002875521360693\n",
      "[LOG 20191027-17:52:20] epoch: 710 train-loss: 0.0003007325335602218\n",
      "[LOG 20191027-17:52:20] epoch: 711 train-loss: 0.0003011843325566588\n",
      "[LOG 20191027-17:52:20] epoch: 712 train-loss: 0.00030164316035552474\n",
      "[LOG 20191027-17:52:21] epoch: 713 train-loss: 0.0003021088991772558\n",
      "[LOG 20191027-17:52:21] epoch: 714 train-loss: 0.0003025810995040956\n",
      "[LOG 20191027-17:52:21] epoch: 715 train-loss: 0.000303059057387145\n",
      "[LOG 20191027-17:52:21] epoch: 716 train-loss: 0.00030354268687915464\n",
      "[LOG 20191027-17:52:22] epoch: 717 train-loss: 0.00030403226378439285\n",
      "[LOG 20191027-17:52:22] epoch: 718 train-loss: 0.00030452747569142957\n",
      "[LOG 20191027-17:52:22] epoch: 719 train-loss: 0.0003050279772196518\n",
      "[LOG 20191027-17:52:23] epoch: 720 train-loss: 0.0003055331389987259\n",
      "[LOG 20191027-17:52:23] epoch: 721 train-loss: 0.00030604282733293076\n",
      "[LOG 20191027-17:52:23] epoch: 722 train-loss: 0.0003065573694129853\n",
      "[LOG 20191027-17:52:24] epoch: 723 train-loss: 0.00030707663768225757\n",
      "[LOG 20191027-17:52:24] epoch: 724 train-loss: 0.0003076001080444257\n",
      "[LOG 20191027-17:52:24] epoch: 725 train-loss: 0.0003081272141116642\n",
      "[LOG 20191027-17:52:24] epoch: 726 train-loss: 0.0003086577607973595\n",
      "[LOG 20191027-17:52:25] epoch: 727 train-loss: 0.0003091921271334286\n",
      "[LOG 20191027-17:52:25] epoch: 728 train-loss: 0.00030973011371315806\n",
      "[LOG 20191027-17:52:25] epoch: 729 train-loss: 0.00031027135855765664\n",
      "[LOG 20191027-17:52:26] epoch: 730 train-loss: 0.0003108153257471713\n",
      "[LOG 20191027-17:52:26] epoch: 731 train-loss: 0.00031136210145632504\n",
      "[LOG 20191027-17:52:26] epoch: 732 train-loss: 0.0003119117914138769\n",
      "[LOG 20191027-17:52:27] epoch: 733 train-loss: 0.00031246401522366796\n",
      "[LOG 20191027-17:52:27] epoch: 734 train-loss: 0.0003130186537418922\n",
      "[LOG 20191027-17:52:27] epoch: 735 train-loss: 0.000313575034169844\n",
      "[LOG 20191027-17:52:28] epoch: 736 train-loss: 0.0003141330739708792\n",
      "[LOG 20191027-17:52:28] epoch: 737 train-loss: 0.0003146930914681434\n",
      "[LOG 20191027-17:52:28] epoch: 738 train-loss: 0.00031525516783403873\n",
      "[LOG 20191027-17:52:29] epoch: 739 train-loss: 0.0003158191170768987\n",
      "[LOG 20191027-17:52:29] epoch: 740 train-loss: 0.0003163837964166305\n",
      "[LOG 20191027-17:52:29] epoch: 741 train-loss: 0.0003169493784298538\n",
      "[LOG 20191027-17:52:30] epoch: 742 train-loss: 0.0003175160416049039\n",
      "[LOG 20191027-17:52:30] epoch: 743 train-loss: 0.00031808350649953354\n",
      "[LOG 20191027-17:52:30] epoch: 744 train-loss: 0.00031865165874478407\n",
      "[LOG 20191027-17:52:31] epoch: 745 train-loss: 0.00031922071161716303\n",
      "[LOG 20191027-17:52:31] epoch: 746 train-loss: 0.0003197895459834399\n",
      "[LOG 20191027-17:52:31] epoch: 747 train-loss: 0.0003203584510629298\n",
      "[LOG 20191027-17:52:31] epoch: 748 train-loss: 0.0003209275480458018\n",
      "[LOG 20191027-17:52:32] epoch: 749 train-loss: 0.00032149688149729627\n",
      "[LOG 20191027-17:52:32] epoch: 750 train-loss: 0.0003220657447400299\n",
      "[LOG 20191027-17:52:32] epoch: 751 train-loss: 0.00032263407024402113\n",
      "[LOG 20191027-17:52:33] epoch: 752 train-loss: 0.00032320083096237795\n",
      "[LOG 20191027-17:52:33] epoch: 753 train-loss: 0.0003237668424844742\n",
      "[LOG 20191027-17:52:33] epoch: 754 train-loss: 0.00032433194905934215\n",
      "[LOG 20191027-17:52:34] epoch: 755 train-loss: 0.00032489629143128695\n",
      "[LOG 20191027-17:52:34] epoch: 756 train-loss: 0.0003254595474118105\n",
      "[LOG 20191027-17:52:34] epoch: 757 train-loss: 0.0003260206110553554\n",
      "[LOG 20191027-17:52:34] epoch: 758 train-loss: 0.00032657973815730656\n",
      "[LOG 20191027-17:52:35] epoch: 759 train-loss: 0.00032713752989366185\n",
      "[LOG 20191027-17:52:35] epoch: 760 train-loss: 0.00032769356607786904\n",
      "[LOG 20191027-17:52:35] epoch: 761 train-loss: 0.0003282472812315973\n",
      "[LOG 20191027-17:52:36] epoch: 762 train-loss: 0.00032879910759220365\n",
      "[LOG 20191027-17:52:36] epoch: 763 train-loss: 0.0003293476645467308\n",
      "[LOG 20191027-17:52:36] epoch: 764 train-loss: 0.0003298938572697807\n",
      "[LOG 20191027-17:52:36] epoch: 765 train-loss: 0.0003304377901258704\n",
      "[LOG 20191027-17:52:37] epoch: 766 train-loss: 0.00033097971277129545\n",
      "[LOG 20191027-17:52:37] epoch: 767 train-loss: 0.0003315189294426091\n",
      "[LOG 20191027-17:52:37] epoch: 768 train-loss: 0.00033205524937329756\n",
      "[LOG 20191027-17:52:37] epoch: 769 train-loss: 0.0003325884722471528\n",
      "[LOG 20191027-17:52:38] epoch: 770 train-loss: 0.000333118635808205\n",
      "[LOG 20191027-17:52:38] epoch: 771 train-loss: 0.0003336461734306795\n",
      "[LOG 20191027-17:52:38] epoch: 772 train-loss: 0.0003341714341331681\n",
      "[LOG 20191027-17:52:39] epoch: 773 train-loss: 0.000334693948389031\n",
      "[LOG 20191027-17:52:39] epoch: 774 train-loss: 0.00033521263071634166\n",
      "[LOG 20191027-17:52:39] epoch: 775 train-loss: 0.00033572794268366124\n",
      "[LOG 20191027-17:52:40] epoch: 776 train-loss: 0.0003362404074778169\n",
      "[LOG 20191027-17:52:40] epoch: 777 train-loss: 0.0003367499325577228\n",
      "[LOG 20191027-17:52:40] epoch: 778 train-loss: 0.00033725685034369235\n",
      "[LOG 20191027-17:52:40] epoch: 779 train-loss: 0.00033776050099731947\n",
      "[LOG 20191027-17:52:41] epoch: 780 train-loss: 0.00033826026060523873\n",
      "[LOG 20191027-17:52:41] epoch: 781 train-loss: 0.000338756393375661\n",
      "[LOG 20191027-17:52:41] epoch: 782 train-loss: 0.00033924916601790756\n",
      "[LOG 20191027-17:52:41] epoch: 783 train-loss: 0.00033973880681514856\n",
      "[LOG 20191027-17:52:42] epoch: 784 train-loss: 0.00034022463205474196\n",
      "[LOG 20191027-17:52:42] epoch: 785 train-loss: 0.0003407071460514999\n",
      "[LOG 20191027-17:52:42] epoch: 786 train-loss: 0.0003411854552268778\n",
      "[LOG 20191027-17:52:42] epoch: 787 train-loss: 0.0003416590584492951\n",
      "[LOG 20191027-17:52:43] epoch: 788 train-loss: 0.00034212890750495717\n",
      "[LOG 20191027-17:52:43] epoch: 789 train-loss: 0.00034259519543411443\n",
      "[LOG 20191027-17:52:43] epoch: 790 train-loss: 0.000343057087093257\n",
      "[LOG 20191027-17:52:43] epoch: 791 train-loss: 0.0003435148560129164\n",
      "[LOG 20191027-17:52:44] epoch: 792 train-loss: 0.0003439681893269153\n",
      "[LOG 20191027-17:52:44] epoch: 793 train-loss: 0.0003444153367127001\n",
      "[LOG 20191027-17:52:44] epoch: 794 train-loss: 0.00034485776313886163\n",
      "[LOG 20191027-17:52:45] epoch: 795 train-loss: 0.0003452953328633157\n",
      "[LOG 20191027-17:52:45] epoch: 796 train-loss: 0.0003457277209690801\n",
      "[LOG 20191027-17:52:45] epoch: 797 train-loss: 0.0003461546482412814\n",
      "[LOG 20191027-17:52:45] epoch: 798 train-loss: 0.00034657630362744385\n",
      "[LOG 20191027-17:52:46] epoch: 799 train-loss: 0.0003469911191587016\n",
      "[LOG 20191027-17:52:46] epoch: 800 train-loss: 0.00034740006753963826\n"
     ]
    },
    {
     "name": "stdout",
     "output_type": "stream",
     "text": [
      "[LOG 20191027-17:52:46] epoch: 801 train-loss: 0.0003478033245301049\n",
      "[LOG 20191027-17:52:46] epoch: 802 train-loss: 0.000348200170265045\n",
      "[LOG 20191027-17:52:47] epoch: 803 train-loss: 0.0003485908398488391\n",
      "[LOG 20191027-17:52:47] epoch: 804 train-loss: 0.0003489747703042667\n",
      "[LOG 20191027-17:52:47] epoch: 805 train-loss: 0.0003493509643703874\n",
      "[LOG 20191027-17:52:47] epoch: 806 train-loss: 0.0003497193411021726\n",
      "[LOG 20191027-17:52:48] epoch: 807 train-loss: 0.0003500807156342489\n",
      "[LOG 20191027-17:52:48] epoch: 808 train-loss: 0.0003504348096612375\n",
      "[LOG 20191027-17:52:48] epoch: 809 train-loss: 0.00035078187011094997\n",
      "[LOG 20191027-17:52:48] epoch: 810 train-loss: 0.00035112120895064436\n",
      "[LOG 20191027-17:52:49] epoch: 811 train-loss: 0.0003514526019898767\n",
      "[LOG 20191027-17:52:49] epoch: 812 train-loss: 0.0003517748264130205\n",
      "[LOG 20191027-17:52:49] epoch: 813 train-loss: 0.0003520891600601317\n",
      "[LOG 20191027-17:52:50] epoch: 814 train-loss: 0.00035239515636931174\n",
      "[LOG 20191027-17:52:50] epoch: 815 train-loss: 0.00035269262434667326\n",
      "[LOG 20191027-17:52:50] epoch: 816 train-loss: 0.000352981747710146\n",
      "[LOG 20191027-17:52:50] epoch: 817 train-loss: 0.00035326228817211813\n",
      "[LOG 20191027-17:52:51] epoch: 818 train-loss: 0.00035353322982700774\n",
      "[LOG 20191027-17:52:51] epoch: 819 train-loss: 0.00035379443079364137\n",
      "[LOG 20191027-17:52:51] epoch: 820 train-loss: 0.00035404703794483794\n",
      "[LOG 20191027-17:52:51] epoch: 821 train-loss: 0.0003542906156326353\n",
      "[LOG 20191027-17:52:52] epoch: 822 train-loss: 0.0003545253034644702\n",
      "[LOG 20191027-17:52:52] epoch: 823 train-loss: 0.0003547507840266917\n",
      "[LOG 20191027-17:52:52] epoch: 824 train-loss: 0.0003549667421793856\n",
      "[LOG 20191027-17:52:52] epoch: 825 train-loss: 0.0003551718464223086\n",
      "[LOG 20191027-17:52:53] epoch: 826 train-loss: 0.0003553671349436627\n",
      "[LOG 20191027-17:52:53] epoch: 827 train-loss: 0.00035555304339141003\n",
      "[LOG 20191027-17:52:53] epoch: 828 train-loss: 0.0003557295044629427\n",
      "[LOG 20191027-17:52:53] epoch: 829 train-loss: 0.00035589629578680615\n",
      "[LOG 20191027-17:52:54] epoch: 830 train-loss: 0.0003560534805728821\n",
      "[LOG 20191027-17:52:54] epoch: 831 train-loss: 0.0003562005299500015\n",
      "[LOG 20191027-17:52:54] epoch: 832 train-loss: 0.00035633621973829577\n",
      "[LOG 20191027-17:52:54] epoch: 833 train-loss: 0.00035646133892441867\n",
      "[LOG 20191027-17:52:55] epoch: 834 train-loss: 0.00035657638181874063\n",
      "[LOG 20191027-17:52:55] epoch: 835 train-loss: 0.0003566809896256018\n",
      "[LOG 20191027-17:52:55] epoch: 836 train-loss: 0.0003567751382433926\n",
      "[LOG 20191027-17:52:55] epoch: 837 train-loss: 0.00035685886859937455\n",
      "[LOG 20191027-17:52:56] epoch: 838 train-loss: 0.00035693172003448126\n",
      "[LOG 20191027-17:52:56] epoch: 839 train-loss: 0.00035699287263923907\n",
      "[LOG 20191027-17:52:56] epoch: 840 train-loss: 0.0003570423855308036\n",
      "[LOG 20191027-17:52:57] epoch: 841 train-loss: 0.00035708089262698195\n",
      "[LOG 20191027-17:52:57] epoch: 842 train-loss: 0.00035710857355297776\n",
      "[LOG 20191027-17:52:57] epoch: 843 train-loss: 0.00035712513363250764\n",
      "[LOG 20191027-17:52:57] epoch: 844 train-loss: 0.0003571303736862319\n",
      "[LOG 20191027-17:52:58] epoch: 845 train-loss: 0.0003571244637896598\n",
      "[LOG 20191027-17:52:58] epoch: 846 train-loss: 0.00035710713382286485\n",
      "[LOG 20191027-17:52:58] epoch: 847 train-loss: 0.0003570771327758848\n",
      "[LOG 20191027-17:52:58] epoch: 848 train-loss: 0.0003570352446331526\n",
      "[LOG 20191027-17:52:59] epoch: 849 train-loss: 0.00035698170358955394\n",
      "[LOG 20191027-17:52:59] epoch: 850 train-loss: 0.00035691706852958305\n",
      "[LOG 20191027-17:52:59] epoch: 851 train-loss: 0.0003568410543266509\n",
      "[LOG 20191027-17:52:59] epoch: 852 train-loss: 0.00035675375283972244\n",
      "[LOG 20191027-17:53:00] epoch: 853 train-loss: 0.00035665496352521586\n",
      "[LOG 20191027-17:53:00] epoch: 854 train-loss: 0.0003565450197129394\n",
      "[LOG 20191027-17:53:00] epoch: 855 train-loss: 0.0003564225394256937\n",
      "[LOG 20191027-17:53:00] epoch: 856 train-loss: 0.0003562889769455069\n",
      "[LOG 20191027-17:53:01] epoch: 857 train-loss: 0.00035614423768493\n",
      "[LOG 20191027-17:53:01] epoch: 858 train-loss: 0.00035598850718088215\n",
      "[LOG 20191027-17:53:01] epoch: 859 train-loss: 0.00035582206282924744\n",
      "[LOG 20191027-17:53:01] epoch: 860 train-loss: 0.00035564544532462605\n",
      "[LOG 20191027-17:53:02] epoch: 861 train-loss: 0.00035545831406125217\n",
      "[LOG 20191027-17:53:02] epoch: 862 train-loss: 0.0003552606872290198\n",
      "[LOG 20191027-17:53:02] epoch: 863 train-loss: 0.00035505306186678354\n",
      "[LOG 20191027-17:53:02] epoch: 864 train-loss: 0.0003548345871422498\n",
      "[LOG 20191027-17:53:03] epoch: 865 train-loss: 0.0003546063085195783\n",
      "[LOG 20191027-17:53:03] epoch: 866 train-loss: 0.00035436907683106256\n",
      "[LOG 20191027-17:53:03] epoch: 867 train-loss: 0.00035412304760029656\n",
      "[LOG 20191027-17:53:04] epoch: 868 train-loss: 0.00035386815579840913\n",
      "[LOG 20191027-17:53:04] epoch: 869 train-loss: 0.0003536051003720786\n",
      "[LOG 20191027-17:53:04] epoch: 870 train-loss: 0.0003533339058776619\n",
      "[LOG 20191027-17:53:04] epoch: 871 train-loss: 0.0003530546891852282\n",
      "[LOG 20191027-17:53:05] epoch: 872 train-loss: 0.0003527671715346514\n",
      "[LOG 20191027-17:53:05] epoch: 873 train-loss: 0.00035247230380264227\n",
      "[LOG 20191027-17:53:05] epoch: 874 train-loss: 0.0003521705530147301\n",
      "[LOG 20191027-17:53:06] epoch: 875 train-loss: 0.0003518620719660248\n",
      "[LOG 20191027-17:53:06] epoch: 876 train-loss: 0.0003515470293677936\n",
      "[LOG 20191027-17:53:06] epoch: 877 train-loss: 0.000351225388385501\n",
      "[LOG 20191027-17:53:06] epoch: 878 train-loss: 0.0003508972920371889\n",
      "[LOG 20191027-17:53:07] epoch: 879 train-loss: 0.0003505630079416733\n",
      "[LOG 20191027-17:53:07] epoch: 880 train-loss: 0.00035022324459532683\n",
      "[LOG 20191027-17:53:07] epoch: 881 train-loss: 0.0003498786786622077\n",
      "[LOG 20191027-17:53:08] epoch: 882 train-loss: 0.00034952895316564536\n",
      "[LOG 20191027-17:53:08] epoch: 883 train-loss: 0.00034917431844405655\n",
      "[LOG 20191027-17:53:08] epoch: 884 train-loss: 0.00034881462738667324\n",
      "[LOG 20191027-17:53:09] epoch: 885 train-loss: 0.0003484504875359562\n",
      "[LOG 20191027-17:53:09] epoch: 886 train-loss: 0.00034808240343409125\n",
      "[LOG 20191027-17:53:09] epoch: 887 train-loss: 0.00034771051991810964\n",
      "[LOG 20191027-17:53:09] epoch: 888 train-loss: 0.0003473352587661793\n",
      "[LOG 20191027-17:53:10] epoch: 889 train-loss: 0.00034695697149800253\n",
      "[LOG 20191027-17:53:10] epoch: 890 train-loss: 0.0003465752743068151\n",
      "[LOG 20191027-17:53:10] epoch: 891 train-loss: 0.00034619075813679956\n",
      "[LOG 20191027-17:53:11] epoch: 892 train-loss: 0.0003458029575540422\n",
      "[LOG 20191027-17:53:11] epoch: 893 train-loss: 0.00034541281365818577\n",
      "[LOG 20191027-17:53:11] epoch: 894 train-loss: 0.00034502053517826425\n",
      "[LOG 20191027-17:53:11] epoch: 895 train-loss: 0.00034462633630027995\n",
      "[LOG 20191027-17:53:12] epoch: 896 train-loss: 0.0003442304821419384\n",
      "[LOG 20191027-17:53:12] epoch: 897 train-loss: 0.00034383337538201886\n",
      "[LOG 20191027-17:53:12] epoch: 898 train-loss: 0.00034343469883424405\n",
      "[LOG 20191027-17:53:13] epoch: 899 train-loss: 0.0003430347289850033\n",
      "[LOG 20191027-17:53:13] epoch: 900 train-loss: 0.00034263409565937764\n",
      "[LOG 20191027-17:53:13] epoch: 901 train-loss: 0.00034223288730572676\n",
      "[LOG 20191027-17:53:13] epoch: 902 train-loss: 0.000341831112109503\n",
      "[LOG 20191027-17:53:14] epoch: 903 train-loss: 0.00034142868048547825\n",
      "[LOG 20191027-17:53:14] epoch: 904 train-loss: 0.0003410255471862911\n",
      "[LOG 20191027-17:53:14] epoch: 905 train-loss: 0.0003406223379442963\n",
      "[LOG 20191027-17:53:15] epoch: 906 train-loss: 0.00034021922124338744\n",
      "[LOG 20191027-17:53:15] epoch: 907 train-loss: 0.00033981616206801846\n",
      "[LOG 20191027-17:53:15] epoch: 908 train-loss: 0.0003394134248537739\n",
      "[LOG 20191027-17:53:16] epoch: 909 train-loss: 0.0003390112212855456\n",
      "[LOG 20191027-17:53:16] epoch: 910 train-loss: 0.00033860941675811773\n",
      "[LOG 20191027-17:53:16] epoch: 911 train-loss: 0.0003382086017609254\n",
      "[LOG 20191027-17:53:17] epoch: 912 train-loss: 0.0003378084443284024\n",
      "[LOG 20191027-17:53:17] epoch: 913 train-loss: 0.00033740915887392475\n",
      "[LOG 20191027-17:53:17] epoch: 914 train-loss: 0.000337010933435522\n",
      "[LOG 20191027-17:53:18] epoch: 915 train-loss: 0.00033661394536466105\n",
      "[LOG 20191027-17:53:18] epoch: 916 train-loss: 0.0003362183415447362\n",
      "[LOG 20191027-17:53:18] epoch: 917 train-loss: 0.00033582402511456166\n",
      "[LOG 20191027-17:53:18] epoch: 918 train-loss: 0.0003354310413214989\n",
      "[LOG 20191027-17:53:19] epoch: 919 train-loss: 0.00033503947088320274\n"
     ]
    },
    {
     "name": "stdout",
     "output_type": "stream",
     "text": [
      "[LOG 20191027-17:53:19] epoch: 920 train-loss: 0.0003346494813740719\n",
      "[LOG 20191027-17:53:19] epoch: 921 train-loss: 0.000334261320404039\n",
      "[LOG 20191027-17:53:20] epoch: 922 train-loss: 0.000333874806528911\n",
      "[LOG 20191027-17:53:20] epoch: 923 train-loss: 0.0003334901471134799\n",
      "[LOG 20191027-17:53:20] epoch: 924 train-loss: 0.0003331072630317067\n",
      "[LOG 20191027-17:53:21] epoch: 925 train-loss: 0.00033272687687713187\n",
      "[LOG 20191027-17:53:21] epoch: 926 train-loss: 0.00033234869647458254\n",
      "[LOG 20191027-17:53:21] epoch: 927 train-loss: 0.00033197293510056625\n",
      "[LOG 20191027-17:53:21] epoch: 928 train-loss: 0.0003315993390060612\n",
      "[LOG 20191027-17:53:22] epoch: 929 train-loss: 0.0003312281926355354\n",
      "[LOG 20191027-17:53:22] epoch: 930 train-loss: 0.00033085945460697985\n",
      "[LOG 20191027-17:53:22] epoch: 931 train-loss: 0.0003304933277377131\n",
      "[LOG 20191027-17:53:23] epoch: 932 train-loss: 0.00033012992253134144\n",
      "[LOG 20191027-17:53:23] epoch: 933 train-loss: 0.00032976941270135285\n",
      "[LOG 20191027-17:53:23] epoch: 934 train-loss: 0.0003294122625447926\n",
      "[LOG 20191027-17:53:24] epoch: 935 train-loss: 0.0003290583990747109\n",
      "[LOG 20191027-17:53:24] epoch: 936 train-loss: 0.0003287078272933286\n",
      "[LOG 20191027-17:53:24] epoch: 937 train-loss: 0.000328360132925809\n",
      "[LOG 20191027-17:53:24] epoch: 938 train-loss: 0.00032801578367980255\n",
      "[LOG 20191027-17:53:25] epoch: 939 train-loss: 0.0003276749323504191\n",
      "[LOG 20191027-17:53:25] epoch: 940 train-loss: 0.0003273377863024507\n",
      "[LOG 20191027-17:53:25] epoch: 941 train-loss: 0.0003270041049745487\n",
      "[LOG 20191027-17:53:26] epoch: 942 train-loss: 0.00032667370533090434\n",
      "[LOG 20191027-17:53:26] epoch: 943 train-loss: 0.0003263469211560732\n",
      "[LOG 20191027-17:53:26] epoch: 944 train-loss: 0.000326023709249057\n",
      "[LOG 20191027-17:53:27] epoch: 945 train-loss: 0.0003257043088069622\n",
      "[LOG 20191027-17:53:27] epoch: 946 train-loss: 0.00032538882874177943\n",
      "[LOG 20191027-17:53:27] epoch: 947 train-loss: 0.00032507746436749585\n",
      "[LOG 20191027-17:53:28] epoch: 948 train-loss: 0.00032476992510055425\n",
      "[LOG 20191027-17:53:28] epoch: 949 train-loss: 0.00032446637828797975\n",
      "[LOG 20191027-17:53:28] epoch: 950 train-loss: 0.0003241668418922927\n",
      "[LOG 20191027-17:53:29] epoch: 951 train-loss: 0.00032387113833465264\n",
      "[LOG 20191027-17:53:29] epoch: 952 train-loss: 0.0003235791759834683\n",
      "[LOG 20191027-17:53:29] epoch: 953 train-loss: 0.0003232914179989166\n",
      "[LOG 20191027-17:53:30] epoch: 954 train-loss: 0.0003230079337299685\n",
      "[LOG 20191027-17:53:30] epoch: 955 train-loss: 0.00032272872954308696\n",
      "[LOG 20191027-17:53:30] epoch: 956 train-loss: 0.0003224537172172859\n",
      "[LOG 20191027-17:53:31] epoch: 957 train-loss: 0.0003221827566903812\n",
      "[LOG 20191027-17:53:31] epoch: 958 train-loss: 0.0003219157595140132\n",
      "[LOG 20191027-17:53:31] epoch: 959 train-loss: 0.00032165286415875016\n",
      "[LOG 20191027-17:53:31] epoch: 960 train-loss: 0.0003213939896795637\n",
      "[LOG 20191027-17:53:32] epoch: 961 train-loss: 0.00032113926363308565\n",
      "[LOG 20191027-17:53:32] epoch: 962 train-loss: 0.0003208890368568973\n",
      "[LOG 20191027-17:53:32] epoch: 963 train-loss: 0.00032064307265500247\n",
      "[LOG 20191027-17:53:33] epoch: 964 train-loss: 0.0003204008994543983\n",
      "[LOG 20191027-17:53:33] epoch: 965 train-loss: 0.00032016261980061245\n",
      "[LOG 20191027-17:53:33] epoch: 966 train-loss: 0.000319928375120071\n",
      "[LOG 20191027-17:53:34] epoch: 967 train-loss: 0.00031969831366041035\n",
      "[LOG 20191027-17:53:34] epoch: 968 train-loss: 0.00031947259412845597\n",
      "[LOG 20191027-17:53:34] epoch: 969 train-loss: 0.0003192507726907934\n",
      "[LOG 20191027-17:53:34] epoch: 970 train-loss: 0.0003190329259723512\n",
      "[LOG 20191027-17:53:35] epoch: 971 train-loss: 0.00031881910899755894\n",
      "[LOG 20191027-17:53:35] epoch: 972 train-loss: 0.00031860921626503114\n",
      "[LOG 20191027-17:53:35] epoch: 973 train-loss: 0.0003184035563208454\n",
      "[LOG 20191027-17:53:36] epoch: 974 train-loss: 0.00031820178128327825\n",
      "[LOG 20191027-17:53:36] epoch: 975 train-loss: 0.00031800397914594214\n",
      "[LOG 20191027-17:53:36] epoch: 976 train-loss: 0.0003178100159857422\n",
      "[LOG 20191027-17:53:37] epoch: 977 train-loss: 0.00031761980403643975\n",
      "[LOG 20191027-17:53:37] epoch: 978 train-loss: 0.0003174338444296154\n",
      "[LOG 20191027-17:53:37] epoch: 979 train-loss: 0.00031725181474939745\n",
      "[LOG 20191027-17:53:37] epoch: 980 train-loss: 0.00031707338985142997\n",
      "[LOG 20191027-17:53:38] epoch: 981 train-loss: 0.00031689880415797234\n",
      "[LOG 20191027-17:53:38] epoch: 982 train-loss: 0.00031672812838223763\n",
      "[LOG 20191027-17:53:38] epoch: 983 train-loss: 0.0003165614627960167\n",
      "[LOG 20191027-17:53:38] epoch: 984 train-loss: 0.00031639855774301395\n",
      "[LOG 20191027-17:53:39] epoch: 985 train-loss: 0.0003162392108606582\n",
      "[LOG 20191027-17:53:39] epoch: 986 train-loss: 0.000316083737743611\n",
      "[LOG 20191027-17:53:39] epoch: 987 train-loss: 0.00031593239896210434\n",
      "[LOG 20191027-17:53:39] epoch: 988 train-loss: 0.0003157845906116563\n",
      "[LOG 20191027-17:53:40] epoch: 989 train-loss: 0.00031564035202791274\n",
      "[LOG 20191027-17:53:40] epoch: 990 train-loss: 0.00031549980144518486\n",
      "[LOG 20191027-17:53:40] epoch: 991 train-loss: 0.0003153633310830628\n",
      "[LOG 20191027-17:53:41] epoch: 992 train-loss: 0.0003152305084768159\n",
      "[LOG 20191027-17:53:41] epoch: 993 train-loss: 0.0003151012435864686\n",
      "[LOG 20191027-17:53:41] epoch: 994 train-loss: 0.0003149757294522715\n",
      "[LOG 20191027-17:53:41] epoch: 995 train-loss: 0.0003148539767607872\n",
      "[LOG 20191027-17:53:42] epoch: 996 train-loss: 0.00031473571971218917\n",
      "[LOG 20191027-17:53:42] epoch: 997 train-loss: 0.00031462099127566034\n",
      "[LOG 20191027-17:53:42] epoch: 998 train-loss: 0.00031450983033209923\n",
      "[LOG 20191027-17:53:43] epoch: 999 train-loss: 0.00031440264206139545\n",
      "[LOG 20191027-17:53:43] epoch: 1000 train-loss: 0.00031429909677171963\n",
      "[LOG 20191027-17:53:43] epoch: 1001 train-loss: 0.00031419893434758706\n",
      "[LOG 20191027-17:53:43] epoch: 1002 train-loss: 0.0003141022523323045\n",
      "[LOG 20191027-17:53:44] epoch: 1003 train-loss: 0.0003140091714612936\n",
      "[LOG 20191027-17:53:44] epoch: 1004 train-loss: 0.0003139195164294506\n",
      "[LOG 20191027-17:53:44] epoch: 1005 train-loss: 0.00031383333202938957\n",
      "[LOG 20191027-17:53:44] epoch: 1006 train-loss: 0.0003137507255814853\n",
      "[LOG 20191027-17:53:45] epoch: 1007 train-loss: 0.0003136715772598109\n",
      "[LOG 20191027-17:53:45] epoch: 1008 train-loss: 0.00031359579179479624\n",
      "[LOG 20191027-17:53:45] epoch: 1009 train-loss: 0.0003135234489946015\n",
      "[LOG 20191027-17:53:45] epoch: 1010 train-loss: 0.00031345463935394946\n",
      "[LOG 20191027-17:53:46] epoch: 1011 train-loss: 0.0003133890502340364\n",
      "[LOG 20191027-17:53:46] epoch: 1012 train-loss: 0.0003133266679924418\n",
      "[LOG 20191027-17:53:46] epoch: 1013 train-loss: 0.0003132677022676944\n",
      "[LOG 20191027-17:53:46] epoch: 1014 train-loss: 0.00031321208689405466\n",
      "[LOG 20191027-17:53:47] epoch: 1015 train-loss: 0.0003131595772174478\n",
      "[LOG 20191027-17:53:47] epoch: 1016 train-loss: 0.000313110152092122\n",
      "[LOG 20191027-17:53:47] epoch: 1017 train-loss: 0.0003130639113351208\n",
      "[LOG 20191027-17:53:47] epoch: 1018 train-loss: 0.0003130207630874793\n",
      "[LOG 20191027-17:53:48] epoch: 1019 train-loss: 0.00031298057160711323\n",
      "[LOG 20191027-17:53:48] epoch: 1020 train-loss: 0.00031294356449507177\n",
      "[LOG 20191027-17:53:48] epoch: 1021 train-loss: 0.00031290967444874696\n",
      "[LOG 20191027-17:53:48] epoch: 1022 train-loss: 0.0003128785931494349\n",
      "[LOG 20191027-17:53:49] epoch: 1023 train-loss: 0.00031285033378480875\n",
      "[LOG 20191027-17:53:49] epoch: 1024 train-loss: 0.0003128250812096667\n",
      "[LOG 20191027-17:53:49] epoch: 1025 train-loss: 0.0003128025684873137\n",
      "[LOG 20191027-17:53:50] epoch: 1026 train-loss: 0.0003127827715161402\n",
      "[LOG 20191027-17:53:50] epoch: 1027 train-loss: 0.00031276579557015793\n",
      "[LOG 20191027-17:53:50] epoch: 1028 train-loss: 0.0003127514396510378\n",
      "[LOG 20191027-17:53:50] epoch: 1029 train-loss: 0.00031273965532818693\n",
      "[LOG 20191027-17:53:51] epoch: 1030 train-loss: 0.0003127306213173142\n",
      "[LOG 20191027-17:53:51] epoch: 1031 train-loss: 0.0003127241282072646\n",
      "[LOG 20191027-17:53:51] epoch: 1032 train-loss: 0.00031272006822291587\n",
      "[LOG 20191027-17:53:51] epoch: 1033 train-loss: 0.00031271856119019503\n",
      "[LOG 20191027-17:53:52] epoch: 1034 train-loss: 0.0003127194113403675\n",
      "[LOG 20191027-17:53:52] epoch: 1035 train-loss: 0.00031272256092051975\n",
      "[LOG 20191027-17:53:52] epoch: 1036 train-loss: 0.0003127280806438648\n",
      "[LOG 20191027-17:53:52] epoch: 1037 train-loss: 0.00031273590070668433\n"
     ]
    },
    {
     "name": "stdout",
     "output_type": "stream",
     "text": [
      "[LOG 20191027-17:53:53] epoch: 1038 train-loss: 0.0003127458303424646\n",
      "[LOG 20191027-17:53:53] epoch: 1039 train-loss: 0.0003127579773263278\n",
      "[LOG 20191027-17:53:53] epoch: 1040 train-loss: 0.0003127723746274569\n",
      "[LOG 20191027-17:53:53] epoch: 1041 train-loss: 0.0003127887168830057\n",
      "[LOG 20191027-17:53:54] epoch: 1042 train-loss: 0.0003128070525235671\n",
      "[LOG 20191027-17:53:54] epoch: 1043 train-loss: 0.00031282754343919805\n",
      "[LOG 20191027-17:53:54] epoch: 1044 train-loss: 0.0003128499315607769\n",
      "[LOG 20191027-17:53:55] epoch: 1045 train-loss: 0.0003128741327600437\n",
      "[LOG 20191027-17:53:55] epoch: 1046 train-loss: 0.000312900237076974\n",
      "[LOG 20191027-17:53:55] epoch: 1047 train-loss: 0.00031292813082473003\n",
      "[LOG 20191027-17:53:55] epoch: 1048 train-loss: 0.0003129578076368489\n",
      "[LOG 20191027-17:53:56] epoch: 1049 train-loss: 0.0003129892393189948\n",
      "[LOG 20191027-17:53:56] epoch: 1050 train-loss: 0.00031302232559937693\n",
      "[LOG 20191027-17:53:56] epoch: 1051 train-loss: 0.00031305697871175653\n",
      "[LOG 20191027-17:53:56] epoch: 1052 train-loss: 0.0003130932318526902\n",
      "[LOG 20191027-17:53:57] epoch: 1053 train-loss: 0.0003131310545541055\n",
      "[LOG 20191027-17:53:57] epoch: 1054 train-loss: 0.0003131702678729198\n",
      "[LOG 20191027-17:53:57] epoch: 1055 train-loss: 0.0003132109570742614\n",
      "[LOG 20191027-17:53:57] epoch: 1056 train-loss: 0.0003132531430765084\n",
      "[LOG 20191027-17:53:58] epoch: 1057 train-loss: 0.00031329659964285383\n",
      "[LOG 20191027-17:53:58] epoch: 1058 train-loss: 0.0003133413508749072\n",
      "[LOG 20191027-17:53:58] epoch: 1059 train-loss: 0.0003133874411105353\n",
      "[LOG 20191027-17:53:58] epoch: 1060 train-loss: 0.0003134347189188702\n",
      "[LOG 20191027-17:53:59] epoch: 1061 train-loss: 0.00031348312063528283\n",
      "[LOG 20191027-17:53:59] epoch: 1062 train-loss: 0.0003135327349355066\n",
      "[LOG 20191027-17:53:59] epoch: 1063 train-loss: 0.00031358346859633457\n",
      "[LOG 20191027-17:53:59] epoch: 1064 train-loss: 0.0003136352343062754\n",
      "[LOG 20191027-17:54:00] epoch: 1065 train-loss: 0.00031368806526188564\n",
      "[LOG 20191027-17:54:00] epoch: 1066 train-loss: 0.0003137419173526723\n",
      "[LOG 20191027-17:54:00] epoch: 1067 train-loss: 0.00031379666347675084\n",
      "[LOG 20191027-17:54:00] epoch: 1068 train-loss: 0.0003138523047709896\n",
      "[LOG 20191027-17:54:01] epoch: 1069 train-loss: 0.00031390888079840806\n",
      "[LOG 20191027-17:54:01] epoch: 1070 train-loss: 0.0003139662535431853\n",
      "[LOG 20191027-17:54:01] epoch: 1071 train-loss: 0.0003140243700272549\n",
      "[LOG 20191027-17:54:01] epoch: 1072 train-loss: 0.00031408330687554553\n",
      "[LOG 20191027-17:54:02] epoch: 1073 train-loss: 0.00031414294289788813\n",
      "[LOG 20191027-17:54:02] epoch: 1074 train-loss: 0.00031420324557984713\n",
      "[LOG 20191027-17:54:02] epoch: 1075 train-loss: 0.00031426422651748\n",
      "[LOG 20191027-17:54:03] epoch: 1076 train-loss: 0.00031432592481905886\n",
      "[LOG 20191027-17:54:03] epoch: 1077 train-loss: 0.0003143882067888626\n",
      "[LOG 20191027-17:54:03] epoch: 1078 train-loss: 0.00031445102945326653\n",
      "[LOG 20191027-17:54:03] epoch: 1079 train-loss: 0.0003145144519294263\n",
      "[LOG 20191027-17:54:04] epoch: 1080 train-loss: 0.000314578365532725\n",
      "[LOG 20191027-17:54:04] epoch: 1081 train-loss: 0.00031464271205550176\n",
      "[LOG 20191027-17:54:04] epoch: 1082 train-loss: 0.00031470750650441914\n",
      "[LOG 20191027-17:54:04] epoch: 1083 train-loss: 0.000314772771389471\n",
      "[LOG 20191027-17:54:05] epoch: 1084 train-loss: 0.00031483840962209797\n",
      "[LOG 20191027-17:54:05] epoch: 1085 train-loss: 0.00031490437527281756\n",
      "[LOG 20191027-17:54:05] epoch: 1086 train-loss: 0.0003149707292777748\n",
      "[LOG 20191027-17:54:05] epoch: 1087 train-loss: 0.0003150374384404131\n",
      "[LOG 20191027-17:54:06] epoch: 1088 train-loss: 0.00031510442568105645\n",
      "[LOG 20191027-17:54:06] epoch: 1089 train-loss: 0.0003151716953198047\n",
      "[LOG 20191027-17:54:06] epoch: 1090 train-loss: 0.00031523926895715704\n",
      "[LOG 20191027-17:54:06] epoch: 1091 train-loss: 0.0003153070485950593\n",
      "[LOG 20191027-17:54:07] epoch: 1092 train-loss: 0.0003153750133151334\n",
      "[LOG 20191027-17:54:07] epoch: 1093 train-loss: 0.0003154431499297061\n",
      "[LOG 20191027-17:54:07] epoch: 1094 train-loss: 0.00031551148936159734\n",
      "[LOG 20191027-17:54:07] epoch: 1095 train-loss: 0.0003155800015974819\n",
      "[LOG 20191027-17:54:08] epoch: 1096 train-loss: 0.0003156486161515204\n",
      "[LOG 20191027-17:54:08] epoch: 1097 train-loss: 0.0003157173216550291\n",
      "[LOG 20191027-17:54:08] epoch: 1098 train-loss: 0.00031578615494254336\n",
      "[LOG 20191027-17:54:08] epoch: 1099 train-loss: 0.00031585505098519207\n",
      "[LOG 20191027-17:54:09] epoch: 1100 train-loss: 0.0003159239715841977\n",
      "[LOG 20191027-17:54:09] epoch: 1101 train-loss: 0.0003159928726290673\n",
      "[LOG 20191027-17:54:09] epoch: 1102 train-loss: 0.00031606181232746167\n",
      "[LOG 20191027-17:54:09] epoch: 1103 train-loss: 0.0003161307265600044\n",
      "[LOG 20191027-17:54:10] epoch: 1104 train-loss: 0.0003161995819027652\n",
      "[LOG 20191027-17:54:10] epoch: 1105 train-loss: 0.0003162683576647396\n",
      "[LOG 20191027-17:54:10] epoch: 1106 train-loss: 0.0003163371009122784\n",
      "[LOG 20191027-17:54:10] epoch: 1107 train-loss: 0.0003164057268350007\n",
      "[LOG 20191027-17:54:11] epoch: 1108 train-loss: 0.0003164742208809912\n",
      "[LOG 20191027-17:54:11] epoch: 1109 train-loss: 0.0003165425050610793\n",
      "[LOG 20191027-17:54:11] epoch: 1110 train-loss: 0.000316610641675652\n",
      "[LOG 20191027-17:54:12] epoch: 1111 train-loss: 0.0003166786241308728\n",
      "[LOG 20191027-17:54:12] epoch: 1112 train-loss: 0.0003167464135458431\n",
      "[LOG 20191027-17:54:12] epoch: 1113 train-loss: 0.00031681395921623334\n",
      "[LOG 20191027-17:54:12] epoch: 1114 train-loss: 0.0003168812463627546\n",
      "[LOG 20191027-17:54:13] epoch: 1115 train-loss: 0.0003169483270539786\n",
      "[LOG 20191027-17:54:13] epoch: 1116 train-loss: 0.00031701514080850757\n",
      "[LOG 20191027-17:54:13] epoch: 1117 train-loss: 0.0003170816469264537\n",
      "[LOG 20191027-17:54:13] epoch: 1118 train-loss: 0.00031714782380731776\n",
      "[LOG 20191027-17:54:14] epoch: 1119 train-loss: 0.0003172136093780864\n",
      "[LOG 20191027-17:54:14] epoch: 1120 train-loss: 0.0003172790900407563\n",
      "[LOG 20191027-17:54:14] epoch: 1121 train-loss: 0.00031734419576423534\n",
      "[LOG 20191027-17:54:14] epoch: 1122 train-loss: 0.0003174089060848928\n",
      "[LOG 20191027-17:54:15] epoch: 1123 train-loss: 0.00031747319644637173\n",
      "[LOG 20191027-17:54:15] epoch: 1124 train-loss: 0.00031753706548443006\n",
      "[LOG 20191027-17:54:15] epoch: 1125 train-loss: 0.0003176005129716941\n",
      "[LOG 20191027-17:54:15] epoch: 1126 train-loss: 0.0003176634870669659\n",
      "[LOG 20191027-17:54:16] epoch: 1127 train-loss: 0.00031772601050761295\n",
      "[LOG 20191027-17:54:16] epoch: 1128 train-loss: 0.0003177880100793118\n",
      "[LOG 20191027-17:54:16] epoch: 1129 train-loss: 0.00031784949555913045\n",
      "[LOG 20191027-17:54:17] epoch: 1130 train-loss: 0.00031791052242624573\n",
      "[LOG 20191027-17:54:17] epoch: 1131 train-loss: 0.0003179710404310754\n",
      "[LOG 20191027-17:54:17] epoch: 1132 train-loss: 0.00031803102478988876\n",
      "[LOG 20191027-17:54:17] epoch: 1133 train-loss: 0.00031809050642550574\n",
      "[LOG 20191027-17:54:18] epoch: 1134 train-loss: 0.00031814946737540595\n",
      "[LOG 20191027-17:54:18] epoch: 1135 train-loss: 0.0003182079010457528\n",
      "[LOG 20191027-17:54:18] epoch: 1136 train-loss: 0.00031826582358007727\n",
      "[LOG 20191027-17:54:18] epoch: 1137 train-loss: 0.00031832321064939606\n",
      "[LOG 20191027-17:54:19] epoch: 1138 train-loss: 0.0003183800777151191\n",
      "[LOG 20191027-17:54:19] epoch: 1139 train-loss: 0.0003184364331900724\n",
      "[LOG 20191027-17:54:19] epoch: 1140 train-loss: 0.00031849228003011376\n",
      "[LOG 20191027-17:54:19] epoch: 1141 train-loss: 0.0003185476325597847\n",
      "[LOG 20191027-17:54:20] epoch: 1142 train-loss: 0.00031860250533100043\n",
      "[LOG 20191027-17:54:20] epoch: 1143 train-loss: 0.0003186568660566991\n",
      "[LOG 20191027-17:54:20] epoch: 1144 train-loss: 0.00031871072997091687\n",
      "[LOG 20191027-17:54:20] epoch: 1145 train-loss: 0.0003187640991200169\n",
      "[LOG 20191027-17:54:21] epoch: 1146 train-loss: 0.000318816942808553\n",
      "[LOG 20191027-17:54:21] epoch: 1147 train-loss: 0.00031886925808066735\n",
      "[LOG 20191027-17:54:21] epoch: 1148 train-loss: 0.00031892106085251726\n",
      "[LOG 20191027-17:54:22] epoch: 1149 train-loss: 0.0003189723950072221\n",
      "[LOG 20191027-17:54:22] epoch: 1150 train-loss: 0.0003190232475844823\n",
      "[LOG 20191027-17:54:22] epoch: 1151 train-loss: 0.00031907359925753553\n",
      "[LOG 20191027-17:54:22] epoch: 1152 train-loss: 0.000319123472991123\n",
      "[LOG 20191027-17:54:23] epoch: 1153 train-loss: 0.0003191728842466546\n",
      "[LOG 20191027-17:54:23] epoch: 1154 train-loss: 0.0003192218616732134\n"
     ]
    },
    {
     "name": "stdout",
     "output_type": "stream",
     "text": [
      "[LOG 20191027-17:54:23] epoch: 1155 train-loss: 0.0003192704045886785\n",
      "[LOG 20191027-17:54:23] epoch: 1156 train-loss: 0.00031931853777678043\n",
      "[LOG 20191027-17:54:24] epoch: 1157 train-loss: 0.0003193662130343\n",
      "[LOG 20191027-17:54:24] epoch: 1158 train-loss: 0.00031941344172992103\n",
      "[LOG 20191027-17:54:24] epoch: 1159 train-loss: 0.0003194601711129508\n",
      "[LOG 20191027-17:54:24] epoch: 1160 train-loss: 0.00031950643369782483\n",
      "[LOG 20191027-17:54:25] epoch: 1161 train-loss: 0.00031955227359503624\n",
      "[LOG 20191027-17:54:25] epoch: 1162 train-loss: 0.00031959768216438533\n",
      "[LOG 20191027-17:54:25] epoch: 1163 train-loss: 0.00031964262484507344\n",
      "[LOG 20191027-17:54:25] epoch: 1164 train-loss: 0.0003196871150521474\n",
      "[LOG 20191027-17:54:26] epoch: 1165 train-loss: 0.00031973117256711703\n",
      "[LOG 20191027-17:54:26] epoch: 1166 train-loss: 0.00031977478079170396\n",
      "[LOG 20191027-17:54:26] epoch: 1167 train-loss: 0.0003198179169885407\n",
      "[LOG 20191027-17:54:27] epoch: 1168 train-loss: 0.0003198605866145954\n",
      "[LOG 20191027-17:54:27] epoch: 1169 train-loss: 0.00031990278876037337\n",
      "[LOG 20191027-17:54:27] epoch: 1170 train-loss: 0.00031994453183870064\n",
      "[LOG 20191027-17:54:27] epoch: 1171 train-loss: 0.00031998581107473\n",
      "[LOG 20191027-17:54:28] epoch: 1172 train-loss: 0.00032002664352148713\n",
      "[LOG 20191027-17:54:28] epoch: 1173 train-loss: 0.0003200670164460462\n",
      "[LOG 20191027-17:54:28] epoch: 1174 train-loss: 0.0003201069553142588\n",
      "[LOG 20191027-17:54:28] epoch: 1175 train-loss: 0.0003201464314770419\n",
      "[LOG 20191027-17:54:29] epoch: 1176 train-loss: 0.00032018543333833804\n",
      "[LOG 20191027-17:54:29] epoch: 1177 train-loss: 0.000320223937933406\n",
      "[LOG 20191027-17:54:29] epoch: 1178 train-loss: 0.0003202619748208235\n",
      "[LOG 20191027-17:54:29] epoch: 1179 train-loss: 0.0003202995121682761\n",
      "[LOG 20191027-17:54:30] epoch: 1180 train-loss: 0.0003203365467925323\n",
      "[LOG 20191027-17:54:30] epoch: 1181 train-loss: 0.0003203731002940913\n",
      "[LOG 20191027-17:54:30] epoch: 1182 train-loss: 0.0003204091744919424\n",
      "[LOG 20191027-17:54:31] epoch: 1183 train-loss: 0.0003204447393727605\n",
      "[LOG 20191027-17:54:31] epoch: 1184 train-loss: 0.00032047979516391933\n",
      "[LOG 20191027-17:54:31] epoch: 1185 train-loss: 0.00032051438074631733\n",
      "[LOG 20191027-17:54:31] epoch: 1186 train-loss: 0.0003205484877071285\n",
      "[LOG 20191027-17:54:32] epoch: 1187 train-loss: 0.0003205821114988794\n",
      "[LOG 20191027-17:54:32] epoch: 1188 train-loss: 0.0003206152246093552\n",
      "[LOG 20191027-17:54:32] epoch: 1189 train-loss: 0.00032064783772511873\n",
      "[LOG 20191027-17:54:33] epoch: 1190 train-loss: 0.00032067996835394297\n",
      "[LOG 20191027-17:54:33] epoch: 1191 train-loss: 0.00032071159284896567\n",
      "[LOG 20191027-17:54:33] epoch: 1192 train-loss: 0.00032074270711746067\n",
      "[LOG 20191027-17:54:33] epoch: 1193 train-loss: 0.00032077332252811175\n",
      "[LOG 20191027-17:54:34] epoch: 1194 train-loss: 0.00032080345340546046\n",
      "[LOG 20191027-17:54:34] epoch: 1195 train-loss: 0.00032083309815789107\n",
      "[LOG 20191027-17:54:34] epoch: 1196 train-loss: 0.00032086225178318273\n",
      "[LOG 20191027-17:54:35] epoch: 1197 train-loss: 0.0003208908997294202\n",
      "[LOG 20191027-17:54:35] epoch: 1198 train-loss: 0.00032091903312903014\n",
      "[LOG 20191027-17:54:35] epoch: 1199 train-loss: 0.00032094666676130146\n",
      "[LOG 20191027-17:54:35] epoch: 1200 train-loss: 0.00032097381154017057\n",
      "[LOG 20191027-17:54:36] epoch: 1201 train-loss: 0.00032100045496008534\n",
      "[LOG 20191027-17:54:36] epoch: 1202 train-loss: 0.00032102660611599276\n",
      "[LOG 20191027-17:54:36] epoch: 1203 train-loss: 0.0003210522665995086\n",
      "[LOG 20191027-17:54:37] epoch: 1204 train-loss: 0.0003210774352737644\n",
      "[LOG 20191027-17:54:37] epoch: 1205 train-loss: 0.00032110210327118693\n",
      "[LOG 20191027-17:54:37] epoch: 1206 train-loss: 0.00032112627491187595\n",
      "[LOG 20191027-17:54:37] epoch: 1207 train-loss: 0.0003211499322333111\n",
      "[LOG 20191027-17:54:38] epoch: 1208 train-loss: 0.0003211730718248873\n",
      "[LOG 20191027-17:54:38] epoch: 1209 train-loss: 0.0003211956984614517\n",
      "[LOG 20191027-17:54:38] epoch: 1210 train-loss: 0.00032121781418936735\n",
      "[LOG 20191027-17:54:39] epoch: 1211 train-loss: 0.00032123941832651326\n",
      "[LOG 20191027-17:54:39] epoch: 1212 train-loss: 0.00032126051974046277\n",
      "[LOG 20191027-17:54:39] epoch: 1213 train-loss: 0.0003212810911463748\n",
      "[LOG 20191027-17:54:39] epoch: 1214 train-loss: 0.0003213011548268696\n",
      "[LOG 20191027-17:54:40] epoch: 1215 train-loss: 0.00032132072624335706\n",
      "[LOG 20191027-17:54:40] epoch: 1216 train-loss: 0.00032133982767845737\n",
      "[LOG 20191027-17:54:40] epoch: 1217 train-loss: 0.0003213584548120707\n",
      "[LOG 20191027-17:54:40] epoch: 1218 train-loss: 0.0003213765962755133\n",
      "[LOG 20191027-17:54:41] epoch: 1219 train-loss: 0.00032139422887667024\n",
      "[LOG 20191027-17:54:41] epoch: 1220 train-loss: 0.00032141137580765644\n",
      "[LOG 20191027-17:54:41] epoch: 1221 train-loss: 0.00032142802638190915\n",
      "[LOG 20191027-17:54:42] epoch: 1222 train-loss: 0.0003214441821910441\n",
      "[LOG 20191027-17:54:42] epoch: 1223 train-loss: 0.00032145984982889786\n",
      "[LOG 20191027-17:54:42] epoch: 1224 train-loss: 0.0003214749981452769\n",
      "[LOG 20191027-17:54:42] epoch: 1225 train-loss: 0.0003214896507870435\n",
      "[LOG 20191027-17:54:43] epoch: 1226 train-loss: 0.0003215038091184397\n",
      "[LOG 20191027-17:54:43] epoch: 1227 train-loss: 0.0003215174938304699\n",
      "[LOG 20191027-17:54:43] epoch: 1228 train-loss: 0.0003215306953734398\n",
      "[LOG 20191027-17:54:43] epoch: 1229 train-loss: 0.00032154341420209676\n",
      "[LOG 20191027-17:54:44] epoch: 1230 train-loss: 0.0003215556691884558\n",
      "[LOG 20191027-17:54:44] epoch: 1231 train-loss: 0.0003215674391867651\n",
      "[LOG 20191027-17:54:44] epoch: 1232 train-loss: 0.00032157873602045584\n",
      "[LOG 20191027-17:54:44] epoch: 1233 train-loss: 0.00032158955696104385\n",
      "[LOG 20191027-17:54:45] epoch: 1234 train-loss: 0.0003215999165604444\n",
      "[LOG 20191027-17:54:45] epoch: 1235 train-loss: 0.00032160981140805234\n",
      "[LOG 20191027-17:54:45] epoch: 1236 train-loss: 0.00032161924445972545\n",
      "[LOG 20191027-17:54:45] epoch: 1237 train-loss: 0.0003216282011635485\n",
      "[LOG 20191027-17:54:46] epoch: 1238 train-loss: 0.0003216366947071947\n",
      "[LOG 20191027-17:54:46] epoch: 1239 train-loss: 0.0003216447307750059\n",
      "[LOG 20191027-17:54:46] epoch: 1240 train-loss: 0.00032165230049940874\n",
      "[LOG 20191027-17:54:47] epoch: 1241 train-loss: 0.0003216594116111082\n",
      "[LOG 20191027-17:54:47] epoch: 1242 train-loss: 0.00032166607434191974\n",
      "[LOG 20191027-17:54:47] epoch: 1243 train-loss: 0.00032167228255275404\n",
      "[LOG 20191027-17:54:48] epoch: 1244 train-loss: 0.0003216780617094628\n",
      "[LOG 20191027-17:54:48] epoch: 1245 train-loss: 0.0003216834113572986\n",
      "[LOG 20191027-17:54:48] epoch: 1246 train-loss: 0.0003216883235381829\n",
      "[LOG 20191027-17:54:48] epoch: 1247 train-loss: 0.00032169283667826676\n",
      "[LOG 20191027-17:54:49] epoch: 1248 train-loss: 0.0003216969425920979\n",
      "[LOG 20191027-17:54:49] epoch: 1249 train-loss: 0.0003217006342310924\n",
      "[LOG 20191027-17:54:49] epoch: 1250 train-loss: 0.0003217039165974711\n",
      "[LOG 20191027-17:54:50] epoch: 1251 train-loss: 0.00032170680970011745\n",
      "[LOG 20191027-17:54:50] epoch: 1252 train-loss: 0.00032170931444852613\n",
      "[LOG 20191027-17:54:50] epoch: 1253 train-loss: 0.0003217114776816743\n",
      "[LOG 20191027-17:54:50] epoch: 1254 train-loss: 0.0003217132534700795\n",
      "[LOG 20191027-17:54:51] epoch: 1255 train-loss: 0.00032171463271879475\n",
      "[LOG 20191027-17:54:51] epoch: 1256 train-loss: 0.00032171564203054004\n",
      "[LOG 20191027-17:54:51] epoch: 1257 train-loss: 0.000321716289363394\n",
      "[LOG 20191027-17:54:52] epoch: 1258 train-loss: 0.0003217165851765458\n",
      "[LOG 20191027-17:54:52] epoch: 1259 train-loss: 0.0003217165228761587\n",
      "[LOG 20191027-17:54:52] epoch: 1260 train-loss: 0.0003217161051907169\n",
      "[LOG 20191027-17:54:52] epoch: 1261 train-loss: 0.00032171531802305253\n",
      "[LOG 20191027-17:54:53] epoch: 1262 train-loss: 0.00032171420843951637\n",
      "[LOG 20191027-17:54:53] epoch: 1263 train-loss: 0.0003217127673451614\n",
      "[LOG 20191027-17:54:53] epoch: 1264 train-loss: 0.0003217110061086714\n",
      "[LOG 20191027-17:54:53] epoch: 1265 train-loss: 0.0003217089370082249\n",
      "[LOG 20191027-17:54:54] epoch: 1266 train-loss: 0.0003217065325316071\n",
      "[LOG 20191027-17:54:54] epoch: 1267 train-loss: 0.00032170380768548057\n",
      "[LOG 20191027-17:54:54] epoch: 1268 train-loss: 0.0003217007702005503\n",
      "[LOG 20191027-17:54:55] epoch: 1269 train-loss: 0.00032169741803045326\n",
      "[LOG 20191027-17:54:55] epoch: 1270 train-loss: 0.0003216937518573104\n",
      "[LOG 20191027-17:54:55] epoch: 1271 train-loss: 0.0003216897819129372\n"
     ]
    },
    {
     "name": "stdout",
     "output_type": "stream",
     "text": [
      "[LOG 20191027-17:54:55] epoch: 1272 train-loss: 0.00032168551729228057\n",
      "[LOG 20191027-17:54:56] epoch: 1273 train-loss: 0.0003216809698187717\n",
      "[LOG 20191027-17:54:56] epoch: 1274 train-loss: 0.00032167615381695214\n",
      "[LOG 20191027-17:54:56] epoch: 1275 train-loss: 0.0003216710449578386\n",
      "[LOG 20191027-17:54:57] epoch: 1276 train-loss: 0.00032166566302294086\n",
      "[LOG 20191027-17:54:57] epoch: 1277 train-loss: 0.0003216600027826644\n",
      "[LOG 20191027-17:54:57] epoch: 1278 train-loss: 0.00032165407446882455\n",
      "[LOG 20191027-17:54:57] epoch: 1279 train-loss: 0.00032164789672606275\n",
      "[LOG 20191027-17:54:58] epoch: 1280 train-loss: 0.00032164145818569523\n",
      "[LOG 20191027-17:54:58] epoch: 1281 train-loss: 0.0003216347688521637\n",
      "[LOG 20191027-17:54:58] epoch: 1282 train-loss: 0.00032162780712496897\n",
      "[LOG 20191027-17:54:58] epoch: 1283 train-loss: 0.00032162058437279484\n",
      "[LOG 20191027-17:54:59] epoch: 1284 train-loss: 0.00032161313811229775\n",
      "[LOG 20191027-17:54:59] epoch: 1285 train-loss: 0.0003216054360564158\n",
      "[LOG 20191027-17:54:59] epoch: 1286 train-loss: 0.0003215974913928221\n",
      "[LOG 20191027-17:55:00] epoch: 1287 train-loss: 0.0003215893082142429\n",
      "[LOG 20191027-17:55:00] epoch: 1288 train-loss: 0.00032158089311451477\n",
      "[LOG 20191027-17:55:00] epoch: 1289 train-loss: 0.00032157223859030637\n",
      "[LOG 20191027-17:55:01] epoch: 1290 train-loss: 0.00032156333691091277\n",
      "[LOG 20191027-17:55:01] epoch: 1291 train-loss: 0.00032155420558410697\n",
      "[LOG 20191027-17:55:01] epoch: 1292 train-loss: 0.000321544845974131\n",
      "[LOG 20191027-17:55:02] epoch: 1293 train-loss: 0.00032153526080946904\n",
      "[LOG 20191027-17:55:02] epoch: 1294 train-loss: 0.00032152545509234187\n",
      "[LOG 20191027-17:55:02] epoch: 1295 train-loss: 0.00032151544633052254\n",
      "[LOG 20191027-17:55:02] epoch: 1296 train-loss: 0.00032150523247764795\n",
      "[LOG 20191027-17:55:03] epoch: 1297 train-loss: 0.0003214948173990706\n",
      "[LOG 20191027-17:55:03] epoch: 1298 train-loss: 0.0003214841945009539\n",
      "[LOG 20191027-17:55:03] epoch: 1299 train-loss: 0.0003214733628738031\n",
      "[LOG 20191027-17:55:03] epoch: 1300 train-loss: 0.0003214623272924655\n",
      "[LOG 20191027-17:55:04] epoch: 1301 train-loss: 0.000321451097534009\n",
      "[LOG 20191027-17:55:04] epoch: 1302 train-loss: 0.00032143965290742926\n",
      "[LOG 20191027-17:55:04] epoch: 1303 train-loss: 0.00032142800705514674\n",
      "[LOG 20191027-17:55:05] epoch: 1304 train-loss: 0.00032141616998160316\n",
      "[LOG 20191027-17:55:05] epoch: 1305 train-loss: 0.00032140414919012983\n",
      "[LOG 20191027-17:55:05] epoch: 1306 train-loss: 0.00032139196491698385\n",
      "[LOG 20191027-17:55:05] epoch: 1307 train-loss: 0.0003213796212548914\n",
      "[LOG 20191027-17:55:06] epoch: 1308 train-loss: 0.00032136710319718986\n",
      "[LOG 20191027-17:55:06] epoch: 1309 train-loss: 0.00032135440983438457\n",
      "[LOG 20191027-17:55:06] epoch: 1310 train-loss: 0.0003213415486698068\n",
      "[LOG 20191027-17:55:06] epoch: 1311 train-loss: 0.00032132852243194066\n",
      "[LOG 20191027-17:55:07] epoch: 1312 train-loss: 0.0003213153584056272\n",
      "[LOG 20191027-17:55:07] epoch: 1313 train-loss: 0.0003213020529528876\n",
      "[LOG 20191027-17:55:07] epoch: 1314 train-loss: 0.00032128860198099574\n",
      "[LOG 20191027-17:55:08] epoch: 1315 train-loss: 0.00032127500662681996\n",
      "[LOG 20191027-17:55:08] epoch: 1316 train-loss: 0.0003212612696188444\n",
      "[LOG 20191027-17:55:08] epoch: 1317 train-loss: 0.0003212473945950478\n",
      "[LOG 20191027-17:55:08] epoch: 1318 train-loss: 0.0003212333533610945\n",
      "[LOG 20191027-17:55:09] epoch: 1319 train-loss: 0.0003212191793409147\n",
      "[LOG 20191027-17:55:09] epoch: 1320 train-loss: 0.00032120488754117105\n",
      "[LOG 20191027-17:55:09] epoch: 1321 train-loss: 0.00032119047114065324\n",
      "[LOG 20191027-17:55:10] epoch: 1322 train-loss: 0.00032117594173541875\n",
      "[LOG 20191027-17:55:10] epoch: 1323 train-loss: 0.00032116128272718925\n",
      "[LOG 20191027-17:55:10] epoch: 1324 train-loss: 0.0003211465195818164\n",
      "[LOG 20191027-17:55:10] epoch: 1325 train-loss: 0.0003211316670785891\n",
      "[LOG 20191027-17:55:11] epoch: 1326 train-loss: 0.00032111671202983416\n",
      "[LOG 20191027-17:55:11] epoch: 1327 train-loss: 0.0003211016630757513\n",
      "[LOG 20191027-17:55:11] epoch: 1328 train-loss: 0.0003210865215805825\n",
      "[LOG 20191027-17:55:11] epoch: 1329 train-loss: 0.0003210712959571538\n",
      "[LOG 20191027-17:55:12] epoch: 1330 train-loss: 0.00032105598347698105\n",
      "[LOG 20191027-17:55:12] epoch: 1331 train-loss: 0.0003210405257050297\n",
      "[LOG 20191027-17:55:12] epoch: 1332 train-loss: 0.0003210249797120923\n",
      "[LOG 20191027-17:55:13] epoch: 1333 train-loss: 0.00032100936937240476\n",
      "[LOG 20191027-17:55:13] epoch: 1334 train-loss: 0.00032099369377647236\n",
      "[LOG 20191027-17:55:13] epoch: 1335 train-loss: 0.0003209779536064161\n",
      "[LOG 20191027-17:55:13] epoch: 1336 train-loss: 0.00032096214613375196\n",
      "[LOG 20191027-17:55:14] epoch: 1337 train-loss: 0.0003209462786344375\n",
      "[LOG 20191027-17:55:14] epoch: 1338 train-loss: 0.0003209303527000884\n",
      "[LOG 20191027-17:55:14] epoch: 1339 train-loss: 0.0003209143856111041\n",
      "[LOG 20191027-17:55:15] epoch: 1340 train-loss: 0.0003208983744116267\n",
      "[LOG 20191027-17:55:15] epoch: 1341 train-loss: 0.00032088234183902387\n",
      "[LOG 20191027-17:55:15] epoch: 1342 train-loss: 0.0003208662003544305\n",
      "[LOG 20191027-17:55:15] epoch: 1343 train-loss: 0.0003208499940683396\n",
      "[LOG 20191027-17:55:16] epoch: 1344 train-loss: 0.00032083376595437585\n",
      "[LOG 20191027-17:55:16] epoch: 1345 train-loss: 0.00032081751919577073\n",
      "[LOG 20191027-17:55:16] epoch: 1346 train-loss: 0.0003208012512914138\n",
      "[LOG 20191027-17:55:16] epoch: 1347 train-loss: 0.0003207849729278678\n",
      "[LOG 20191027-17:55:17] epoch: 1348 train-loss: 0.000320768691608464\n",
      "[LOG 20191027-17:55:17] epoch: 1349 train-loss: 0.0003207524268873385\n",
      "[LOG 20191027-17:55:17] epoch: 1350 train-loss: 0.0003207361719432811\n",
      "[LOG 20191027-17:55:18] epoch: 1351 train-loss: 0.00032071994860416453\n",
      "[LOG 20191027-17:55:18] epoch: 1352 train-loss: 0.0003207037425454473\n",
      "[LOG 20191027-17:55:18] epoch: 1353 train-loss: 0.00032068747123048524\n",
      "[LOG 20191027-17:55:18] epoch: 1354 train-loss: 0.0003206711912753235\n",
      "[LOG 20191027-17:55:19] epoch: 1355 train-loss: 0.00032065493951449753\n",
      "[LOG 20191027-17:55:19] epoch: 1356 train-loss: 0.0003206387143563916\n",
      "[LOG 20191027-17:55:19] epoch: 1357 train-loss: 0.0003206225228495896\n",
      "[LOG 20191027-17:55:20] epoch: 1358 train-loss: 0.00032060636340247584\n",
      "[LOG 20191027-17:55:20] epoch: 1359 train-loss: 0.0003205902426088869\n",
      "[LOG 20191027-17:55:20] epoch: 1360 train-loss: 0.0003205741556939756\n",
      "[LOG 20191027-17:55:20] epoch: 1361 train-loss: 0.0003205581090242049\n",
      "[LOG 20191027-17:55:21] epoch: 1362 train-loss: 0.0003205420923677593\n",
      "[LOG 20191027-17:55:21] epoch: 1363 train-loss: 0.00032052604046839406\n",
      "[LOG 20191027-17:55:21] epoch: 1364 train-loss: 0.0003205100301784114\n",
      "[LOG 20191027-17:55:21] epoch: 1365 train-loss: 0.0003204940710475057\n",
      "[LOG 20191027-17:55:22] epoch: 1366 train-loss: 0.0003204781742169871\n",
      "[LOG 20191027-17:55:22] epoch: 1367 train-loss: 0.00032046231831373007\n",
      "[LOG 20191027-17:55:22] epoch: 1368 train-loss: 0.0003204465137969237\n",
      "[LOG 20191027-17:55:22] epoch: 1369 train-loss: 0.000320430771125757\n",
      "[LOG 20191027-17:55:23] epoch: 1370 train-loss: 0.0003204150864348776\n",
      "[LOG 20191027-17:55:23] epoch: 1371 train-loss: 0.0003203994644991326\n",
      "[LOG 20191027-17:55:23] epoch: 1372 train-loss: 0.00032038382050814107\n",
      "[LOG 20191027-17:55:23] epoch: 1373 train-loss: 0.00032036822199188464\n",
      "[LOG 20191027-17:55:24] epoch: 1374 train-loss: 0.00032035268668551\n",
      "[LOG 20191027-17:55:24] epoch: 1375 train-loss: 0.00032033721504376444\n",
      "[LOG 20191027-17:55:24] epoch: 1376 train-loss: 0.00032032181047725317\n",
      "[LOG 20191027-17:55:24] epoch: 1377 train-loss: 0.00032030647753344965\n",
      "[LOG 20191027-17:55:25] epoch: 1378 train-loss: 0.00032029122235144314\n",
      "[LOG 20191027-17:55:25] epoch: 1379 train-loss: 0.00032027598626882536\n",
      "[LOG 20191027-17:55:25] epoch: 1380 train-loss: 0.000320260803846395\n",
      "[LOG 20191027-17:55:25] epoch: 1381 train-loss: 0.0003202457126008085\n",
      "[LOG 20191027-17:55:26] epoch: 1382 train-loss: 0.0003202307100309554\n",
      "[LOG 20191027-17:55:26] epoch: 1383 train-loss: 0.0003202157490704849\n",
      "[LOG 20191027-17:55:26] epoch: 1384 train-loss: 0.00032020084427131223\n",
      "[LOG 20191027-17:55:27] epoch: 1385 train-loss: 0.0003201860224635311\n",
      "[LOG 20191027-17:55:27] epoch: 1386 train-loss: 0.0003201712904683518\n",
      "[LOG 20191027-17:55:27] epoch: 1387 train-loss: 0.00032015660872275475\n",
      "[LOG 20191027-17:55:27] epoch: 1388 train-loss: 0.00032014200792218617\n"
     ]
    },
    {
     "name": "stdout",
     "output_type": "stream",
     "text": [
      "[LOG 20191027-17:55:28] epoch: 1389 train-loss: 0.0003201275178525975\n",
      "[LOG 20191027-17:55:28] epoch: 1390 train-loss: 0.00032011311577662127\n",
      "[LOG 20191027-17:55:28] epoch: 1391 train-loss: 0.0003200987666787114\n",
      "[LOG 20191027-17:55:28] epoch: 1392 train-loss: 0.0003200845046649192\n",
      "[LOG 20191027-17:55:29] epoch: 1393 train-loss: 0.0003200703465608967\n",
      "[LOG 20191027-17:55:29] epoch: 1394 train-loss: 0.0003200562841811916\n",
      "[LOG 20191027-17:55:29] epoch: 1395 train-loss: 0.00032004227659854223\n",
      "[LOG 20191027-17:55:30] epoch: 1396 train-loss: 0.0003200283649675839\n",
      "[LOG 20191027-17:55:30] epoch: 1397 train-loss: 0.00032001455019781133\n",
      "[LOG 20191027-17:55:30] epoch: 1398 train-loss: 0.00032000084638639237\n",
      "[LOG 20191027-17:55:30] epoch: 1399 train-loss: 0.0003199872037384921\n",
      "[LOG 20191027-17:55:31] epoch: 1400 train-loss: 0.000319973643627236\n",
      "[LOG 20191027-17:55:31] epoch: 1401 train-loss: 0.00031996018810787064\n",
      "[LOG 20191027-17:55:31] epoch: 1402 train-loss: 0.0003199468367256486\n",
      "[LOG 20191027-17:55:32] epoch: 1403 train-loss: 0.0003199335537829029\n",
      "[LOG 20191027-17:55:32] epoch: 1404 train-loss: 0.0003199203686108376\n",
      "[LOG 20191027-17:55:32] epoch: 1405 train-loss: 0.00031990730735742545\n",
      "[LOG 20191027-17:55:32] epoch: 1406 train-loss: 0.00031989435751711426\n",
      "[LOG 20191027-17:55:33] epoch: 1407 train-loss: 0.0003198814822553686\n",
      "[LOG 20191027-17:55:33] epoch: 1408 train-loss: 0.00031986873568712326\n",
      "[LOG 20191027-17:55:33] epoch: 1409 train-loss: 0.00031985611008167325\n",
      "[LOG 20191027-17:55:33] epoch: 1410 train-loss: 0.000319843565193878\n",
      "[LOG 20191027-17:55:34] epoch: 1411 train-loss: 0.000319831146271099\n",
      "[LOG 20191027-17:55:34] epoch: 1412 train-loss: 0.00031981887104848283\n",
      "[LOG 20191027-17:55:34] epoch: 1413 train-loss: 0.00031980674225451367\n",
      "[LOG 20191027-17:55:34] epoch: 1414 train-loss: 0.0003197947096396092\n",
      "[LOG 20191027-17:55:35] epoch: 1415 train-loss: 0.0003197828173142625\n",
      "[LOG 20191027-17:55:35] epoch: 1416 train-loss: 0.00031977105868463696\n",
      "[LOG 20191027-17:55:35] epoch: 1417 train-loss: 0.0003197594176072016\n",
      "[LOG 20191027-17:55:36] epoch: 1418 train-loss: 0.0003197478501988371\n",
      "[LOG 20191027-17:55:36] epoch: 1419 train-loss: 0.0003197364274001302\n",
      "[LOG 20191027-17:55:36] epoch: 1420 train-loss: 0.00031972516035239096\n",
      "[LOG 20191027-17:55:36] epoch: 1421 train-loss: 0.00031971396879271197\n",
      "[LOG 20191027-17:55:37] epoch: 1422 train-loss: 0.0003197029295733955\n",
      "[LOG 20191027-17:55:37] epoch: 1423 train-loss: 0.00031969203337212093\n",
      "[LOG 20191027-17:55:37] epoch: 1424 train-loss: 0.00031968125563253125\n",
      "[LOG 20191027-17:55:37] epoch: 1425 train-loss: 0.00031967060749593657\n",
      "[LOG 20191027-17:55:38] epoch: 1426 train-loss: 0.0003196601089712203\n",
      "[LOG 20191027-17:55:38] epoch: 1427 train-loss: 0.0003196497484623251\n",
      "[LOG 20191027-17:55:38] epoch: 1428 train-loss: 0.00031963947026270034\n",
      "[LOG 20191027-17:55:38] epoch: 1429 train-loss: 0.0003196293419023277\n",
      "[LOG 20191027-17:55:39] epoch: 1430 train-loss: 0.0003196193647454493\n",
      "[LOG 20191027-17:55:39] epoch: 1431 train-loss: 0.0003196095062776294\n",
      "[LOG 20191027-17:55:39] epoch: 1432 train-loss: 0.00031959981629370304\n",
      "[LOG 20191027-17:55:39] epoch: 1433 train-loss: 0.0003195902827428654\n",
      "[LOG 20191027-17:55:40] epoch: 1434 train-loss: 0.000319580851282808\n",
      "[LOG 20191027-17:55:40] epoch: 1435 train-loss: 0.0003195715623860451\n",
      "[LOG 20191027-17:55:40] epoch: 1436 train-loss: 0.0003195624619820592\n",
      "[LOG 20191027-17:55:41] epoch: 1437 train-loss: 0.00031955352051227237\n",
      "[LOG 20191027-17:55:41] epoch: 1438 train-loss: 0.0003195447038706334\n",
      "[LOG 20191027-17:55:41] epoch: 1439 train-loss: 0.00031953606821844005\n",
      "[LOG 20191027-17:55:41] epoch: 1440 train-loss: 0.0003195275855887303\n",
      "[LOG 20191027-17:55:42] epoch: 1441 train-loss: 0.00031951921391737415\n",
      "[LOG 20191027-17:55:42] epoch: 1442 train-loss: 0.0003195110070919327\n",
      "[LOG 20191027-17:55:42] epoch: 1443 train-loss: 0.00031950298648553144\n",
      "[LOG 20191027-17:55:42] epoch: 1444 train-loss: 0.00031949508365869406\n",
      "[LOG 20191027-17:55:43] epoch: 1445 train-loss: 0.0003194873604570603\n",
      "[LOG 20191027-17:55:43] epoch: 1446 train-loss: 0.00031947981256053026\n",
      "[LOG 20191027-17:55:43] epoch: 1447 train-loss: 0.00031947238335305883\n",
      "[LOG 20191027-17:55:43] epoch: 1448 train-loss: 0.0003194651394551329\n",
      "[LOG 20191027-17:55:44] epoch: 1449 train-loss: 0.00031945808814271004\n",
      "[LOG 20191027-17:55:44] epoch: 1450 train-loss: 0.0003194511209585471\n",
      "[LOG 20191027-17:55:44] epoch: 1451 train-loss: 0.00031944432430464076\n",
      "[LOG 20191027-17:55:44] epoch: 1452 train-loss: 0.0003194377204636112\n",
      "[LOG 20191027-17:55:45] epoch: 1453 train-loss: 0.00031943123758537695\n",
      "[LOG 20191027-17:55:45] epoch: 1454 train-loss: 0.00031942497366799216\n",
      "[LOG 20191027-17:55:45] epoch: 1455 train-loss: 0.000319418915978531\n",
      "[LOG 20191027-17:55:45] epoch: 1456 train-loss: 0.00031941298334459134\n",
      "[LOG 20191027-17:55:46] epoch: 1457 train-loss: 0.0003194072355654498\n",
      "[LOG 20191027-17:55:46] epoch: 1458 train-loss: 0.0003194016858287796\n",
      "[LOG 20191027-17:55:46] epoch: 1459 train-loss: 0.00031939623340804246\n",
      "[LOG 20191027-17:55:46] epoch: 1460 train-loss: 0.0003193909940364392\n",
      "[LOG 20191027-17:55:47] epoch: 1461 train-loss: 0.0003193859497514495\n",
      "[LOG 20191027-17:55:47] epoch: 1462 train-loss: 0.0003193810305219813\n",
      "[LOG 20191027-17:55:47] epoch: 1463 train-loss: 0.00031937631160872115\n",
      "[LOG 20191027-17:55:48] epoch: 1464 train-loss: 0.00031937170069795684\n",
      "[LOG 20191027-17:55:48] epoch: 1465 train-loss: 0.00031936724144543405\n",
      "[LOG 20191027-17:55:48] epoch: 1466 train-loss: 0.0003193630077475973\n",
      "[LOG 20191027-17:55:49] epoch: 1467 train-loss: 0.0003193589116108342\n",
      "[LOG 20191027-17:55:49] epoch: 1468 train-loss: 0.00031935500646795845\n",
      "[LOG 20191027-17:55:49] epoch: 1469 train-loss: 0.00031935131028149044\n",
      "[LOG 20191027-17:55:49] epoch: 1470 train-loss: 0.00031934773528519145\n",
      "[LOG 20191027-17:55:50] epoch: 1471 train-loss: 0.00031934436697156343\n",
      "[LOG 20191027-17:55:50] epoch: 1472 train-loss: 0.00031934120647747477\n",
      "[LOG 20191027-17:55:50] epoch: 1473 train-loss: 0.0003193381869550649\n",
      "[LOG 20191027-17:55:51] epoch: 1474 train-loss: 0.00031933538753037283\n",
      "[LOG 20191027-17:55:51] epoch: 1475 train-loss: 0.00031933272157402826\n",
      "[LOG 20191027-17:55:51] epoch: 1476 train-loss: 0.0003193302072759252\n",
      "[LOG 20191027-17:55:51] epoch: 1477 train-loss: 0.00031932790238897724\n",
      "[LOG 20191027-17:55:52] epoch: 1478 train-loss: 0.00031932573824633437\n",
      "[LOG 20191027-17:55:52] epoch: 1479 train-loss: 0.00031932377169141546\n",
      "[LOG 20191027-17:55:52] epoch: 1480 train-loss: 0.0003193219943113945\n",
      "[LOG 20191027-17:55:53] epoch: 1481 train-loss: 0.0003193203806404199\n",
      "[LOG 20191027-17:55:53] epoch: 1482 train-loss: 0.00031931901708048827\n",
      "[LOG 20191027-17:55:53] epoch: 1483 train-loss: 0.00031931782814353937\n",
      "[LOG 20191027-17:55:54] epoch: 1484 train-loss: 0.0003193168472535035\n",
      "[LOG 20191027-17:55:54] epoch: 1485 train-loss: 0.00031931605712998135\n",
      "[LOG 20191027-17:55:54] epoch: 1486 train-loss: 0.0003193153897882439\n",
      "[LOG 20191027-17:55:55] epoch: 1487 train-loss: 0.000319314933676651\n",
      "[LOG 20191027-17:55:55] epoch: 1488 train-loss: 0.00031931463013279426\n",
      "[LOG 20191027-17:55:56] epoch: 1489 train-loss: 0.00031931454986988683\n",
      "[LOG 20191027-17:55:56] epoch: 1490 train-loss: 0.0003193146806097502\n",
      "[LOG 20191027-17:55:56] epoch: 1491 train-loss: 0.00031931494800119253\n",
      "[LOG 20191027-17:55:56] epoch: 1492 train-loss: 0.00031931543753671576\n",
      "[LOG 20191027-17:55:57] epoch: 1493 train-loss: 0.00031931605508361827\n",
      "[LOG 20191027-17:55:57] epoch: 1494 train-loss: 0.0003193168622601661\n",
      "[LOG 20191027-17:55:57] epoch: 1495 train-loss: 0.000319317862022217\n",
      "[LOG 20191027-17:55:57] epoch: 1496 train-loss: 0.0003193190038928151\n",
      "[LOG 20191027-17:55:58] epoch: 1497 train-loss: 0.00031932039291859837\n",
      "[LOG 20191027-17:55:58] epoch: 1498 train-loss: 0.00031932195406625397\n",
      "[LOG 20191027-17:55:58] epoch: 1499 train-loss: 0.0003193237462255638\n",
      "[LOG 20191027-17:55:58] epoch: 1500 train-loss: 0.0003193257075508882\n",
      "[LOG 20191027-17:55:59] epoch: 1501 train-loss: 0.00031932786782817857\n",
      "[LOG 20191027-17:55:59] epoch: 1502 train-loss: 0.0003193302691215649\n",
      "[LOG 20191027-17:55:59] epoch: 1503 train-loss: 0.0003193328329871292\n",
      "[LOG 20191027-17:55:59] epoch: 1504 train-loss: 0.0003193356089923327\n",
      "[LOG 20191027-17:56:00] epoch: 1505 train-loss: 0.0003193385359736567\n"
     ]
    },
    {
     "name": "stdout",
     "output_type": "stream",
     "text": [
      "[LOG 20191027-17:56:00] epoch: 1506 train-loss: 0.0003193417192051129\n",
      "[LOG 20191027-17:56:00] epoch: 1507 train-loss: 0.0003193450850176305\n",
      "[LOG 20191027-17:56:01] epoch: 1508 train-loss: 0.0003193486734289763\n",
      "[LOG 20191027-17:56:01] epoch: 1509 train-loss: 0.0003193524421476468\n",
      "[LOG 20191027-17:56:01] epoch: 1510 train-loss: 0.0003193564143657568\n",
      "[LOG 20191027-17:56:01] epoch: 1511 train-loss: 0.0003193606282820838\n",
      "[LOG 20191027-17:56:02] epoch: 1512 train-loss: 0.00031936499794937845\n",
      "[LOG 20191027-17:56:02] epoch: 1513 train-loss: 0.00031936960704115336\n",
      "[LOG 20191027-17:56:02] epoch: 1514 train-loss: 0.00031937434982864943\n",
      "[LOG 20191027-17:56:02] epoch: 1515 train-loss: 0.00031937933454173617\n",
      "[LOG 20191027-17:56:03] epoch: 1516 train-loss: 0.00031938450956658926\n",
      "[LOG 20191027-17:56:03] epoch: 1517 train-loss: 0.00031938992992763815\n",
      "[LOG 20191027-17:56:03] epoch: 1518 train-loss: 0.00031939552422954876\n",
      "[LOG 20191027-17:56:03] epoch: 1519 train-loss: 0.00031940134567776113\n",
      "[LOG 20191027-17:56:04] epoch: 1520 train-loss: 0.00031940736198521336\n",
      "[LOG 20191027-17:56:04] epoch: 1521 train-loss: 0.0003194136293132033\n",
      "[LOG 20191027-17:56:04] epoch: 1522 train-loss: 0.0003194200492089294\n",
      "[LOG 20191027-17:56:05] epoch: 1523 train-loss: 0.0003194266807895474\n",
      "[LOG 20191027-17:56:05] epoch: 1524 train-loss: 0.0003194335306488938\n",
      "[LOG 20191027-17:56:05] epoch: 1525 train-loss: 0.0003194405885551532\n",
      "[LOG 20191027-17:56:05] epoch: 1526 train-loss: 0.00031944783063408977\n",
      "[LOG 20191027-17:56:06] epoch: 1527 train-loss: 0.0003194552755303448\n",
      "[LOG 20191027-17:56:06] epoch: 1528 train-loss: 0.0003194629173322028\n",
      "[LOG 20191027-17:56:06] epoch: 1529 train-loss: 0.00031947078878147295\n",
      "[LOG 20191027-17:56:06] epoch: 1530 train-loss: 0.00031947887282512966\n",
      "[LOG 20191027-17:56:07] epoch: 1531 train-loss: 0.00031948716173246794\n",
      "[LOG 20191027-17:56:07] epoch: 1532 train-loss: 0.0003194956473180355\n",
      "[LOG 20191027-17:56:07] epoch: 1533 train-loss: 0.00031950435482031025\n",
      "[LOG 20191027-17:56:07] epoch: 1534 train-loss: 0.00031951327127899276\n",
      "[LOG 20191027-17:56:08] epoch: 1535 train-loss: 0.00031952236827237357\n",
      "[LOG 20191027-17:56:08] epoch: 1536 train-loss: 0.0003195316262463166\n",
      "[LOG 20191027-17:56:08] epoch: 1537 train-loss: 0.0003195411195520137\n",
      "[LOG 20191027-17:56:09] epoch: 1538 train-loss: 0.0003195507936197828\n",
      "[LOG 20191027-17:56:09] epoch: 1539 train-loss: 0.00031956069847183244\n",
      "[LOG 20191027-17:56:09] epoch: 1540 train-loss: 0.0003195707281520299\n",
      "[LOG 20191027-17:56:09] epoch: 1541 train-loss: 0.0003195809069893585\n",
      "[LOG 20191027-17:56:10] epoch: 1542 train-loss: 0.00031959123862179695\n",
      "[LOG 20191027-17:56:10] epoch: 1543 train-loss: 0.000319601809451342\n",
      "[LOG 20191027-17:56:10] epoch: 1544 train-loss: 0.0003196125505837699\n",
      "[LOG 20191027-17:56:10] epoch: 1545 train-loss: 0.0003196235013547266\n",
      "[LOG 20191027-17:56:11] epoch: 1546 train-loss: 0.0003196346540335071\n",
      "[LOG 20191027-17:56:11] epoch: 1547 train-loss: 0.0003196459908849647\n",
      "[LOG 20191027-17:56:11] epoch: 1548 train-loss: 0.00031965752532414626\n",
      "[LOG 20191027-17:56:12] epoch: 1549 train-loss: 0.00031966921710591123\n",
      "[LOG 20191027-17:56:12] epoch: 1550 train-loss: 0.0003196811494490248\n",
      "[LOG 20191027-17:56:12] epoch: 1551 train-loss: 0.0003196932671016839\n",
      "[LOG 20191027-17:56:12] epoch: 1552 train-loss: 0.0003197055991677189\n",
      "[LOG 20191027-17:56:13] epoch: 1553 train-loss: 0.00031971812904885155\n",
      "[LOG 20191027-17:56:13] epoch: 1554 train-loss: 0.00031973084355740866\n",
      "[LOG 20191027-17:56:13] epoch: 1555 train-loss: 0.000319743805903272\n",
      "[LOG 20191027-17:56:14] epoch: 1556 train-loss: 0.00031975695151231776\n",
      "[LOG 20191027-17:56:14] epoch: 1557 train-loss: 0.00031977029766494525\n",
      "[LOG 20191027-17:56:14] epoch: 1558 train-loss: 0.00031978385868569603\n",
      "[LOG 20191027-17:56:14] epoch: 1559 train-loss: 0.0003197975643161044\n",
      "[LOG 20191027-17:56:15] epoch: 1560 train-loss: 0.0003198114920905937\n",
      "[LOG 20191027-17:56:15] epoch: 1561 train-loss: 0.00031982559494281304\n",
      "[LOG 20191027-17:56:15] epoch: 1562 train-loss: 0.0003198399062966928\n",
      "[LOG 20191027-17:56:16] epoch: 1563 train-loss: 0.00031985443524717994\n",
      "[LOG 20191027-17:56:16] epoch: 1564 train-loss: 0.0003198690901626833\n",
      "[LOG 20191027-17:56:16] epoch: 1565 train-loss: 0.00031988389923753857\n",
      "[LOG 20191027-17:56:16] epoch: 1566 train-loss: 0.0003198989431894006\n",
      "[LOG 20191027-17:56:17] epoch: 1567 train-loss: 0.00031991414994081424\n",
      "[LOG 20191027-17:56:17] epoch: 1568 train-loss: 0.0003199295870217611\n",
      "[LOG 20191027-17:56:17] epoch: 1569 train-loss: 0.000319945188721249\n",
      "[LOG 20191027-17:56:17] epoch: 1570 train-loss: 0.0003199609652710933\n",
      "[LOG 20191027-17:56:18] epoch: 1571 train-loss: 0.000319976933496946\n",
      "[LOG 20191027-17:56:18] epoch: 1572 train-loss: 0.0003199930970367859\n",
      "[LOG 20191027-17:56:18] epoch: 1573 train-loss: 0.00032000945111576584\n",
      "[LOG 20191027-17:56:18] epoch: 1574 train-loss: 0.0003200260125595378\n",
      "[LOG 20191027-17:56:19] epoch: 1575 train-loss: 0.00032004279296415916\n",
      "[LOG 20191027-17:56:19] epoch: 1576 train-loss: 0.00032005975936044706\n",
      "[LOG 20191027-17:56:19] epoch: 1577 train-loss: 0.00032007690833779634\n",
      "[LOG 20191027-17:56:19] epoch: 1578 train-loss: 0.00032009423739509657\n",
      "[LOG 20191027-17:56:20] epoch: 1579 train-loss: 0.0003201117310709378\n",
      "[LOG 20191027-17:56:20] epoch: 1580 train-loss: 0.0003201293550318951\n",
      "[LOG 20191027-17:56:20] epoch: 1581 train-loss: 0.0003201471342890727\n",
      "[LOG 20191027-17:56:20] epoch: 1582 train-loss: 0.00032016510226640094\n",
      "[LOG 20191027-17:56:21] epoch: 1583 train-loss: 0.0003201832234935864\n",
      "[LOG 20191027-17:56:21] epoch: 1584 train-loss: 0.00032020150524658675\n",
      "[LOG 20191027-17:56:21] epoch: 1585 train-loss: 0.0003202199889074109\n",
      "[LOG 20191027-17:56:22] epoch: 1586 train-loss: 0.00032023862763708166\n",
      "[LOG 20191027-17:56:22] epoch: 1587 train-loss: 0.00032025741893448867\n",
      "[LOG 20191027-17:56:22] epoch: 1588 train-loss: 0.00032027625684349914\n",
      "[LOG 20191027-17:56:23] epoch: 1589 train-loss: 0.00032029520548348955\n",
      "[LOG 20191027-17:56:23] epoch: 1590 train-loss: 0.00032031431555878953\n",
      "[LOG 20191027-17:56:23] epoch: 1591 train-loss: 0.0003203335986654565\n",
      "[LOG 20191027-17:56:24] epoch: 1592 train-loss: 0.00032035294543675263\n",
      "[LOG 20191027-17:56:24] epoch: 1593 train-loss: 0.0003203724002105446\n",
      "[LOG 20191027-17:56:24] epoch: 1594 train-loss: 0.00032039196389632707\n",
      "[LOG 20191027-17:56:24] epoch: 1595 train-loss: 0.00032041168424257194\n",
      "[LOG 20191027-17:56:25] epoch: 1596 train-loss: 0.0003204315112270706\n",
      "[LOG 20191027-17:56:25] epoch: 1597 train-loss: 0.0003204514664503222\n",
      "[LOG 20191027-17:56:25] epoch: 1598 train-loss: 0.00032047156628323137\n",
      "[LOG 20191027-17:56:25] epoch: 1599 train-loss: 0.0003204918064056983\n",
      "[LOG 20191027-17:56:26] epoch: 1600 train-loss: 0.00032051218795459135\n",
      "[LOG 20191027-17:56:26] epoch: 1601 train-loss: 0.0003205327077466791\n",
      "[LOG 20191027-17:56:26] epoch: 1602 train-loss: 0.000320553344408836\n",
      "[LOG 20191027-17:56:27] epoch: 1603 train-loss: 0.0003205740920293465\n",
      "[LOG 20191027-17:56:27] epoch: 1604 train-loss: 0.0003205949158200383\n",
      "[LOG 20191027-17:56:27] epoch: 1605 train-loss: 0.0003206158319244423\n",
      "[LOG 20191027-17:56:27] epoch: 1606 train-loss: 0.0003206368614883104\n",
      "[LOG 20191027-17:56:28] epoch: 1607 train-loss: 0.00032065800678537926\n",
      "[LOG 20191027-17:56:28] epoch: 1608 train-loss: 0.0003206792634955491\n",
      "[LOG 20191027-17:56:28] epoch: 1609 train-loss: 0.00032070063844003016\n",
      "[LOG 20191027-17:56:28] epoch: 1610 train-loss: 0.0003207221202501387\n",
      "[LOG 20191027-17:56:29] epoch: 1611 train-loss: 0.00032074369528345414\n",
      "[LOG 20191027-17:56:29] epoch: 1612 train-loss: 0.00032076535603664524\n",
      "[LOG 20191027-17:56:29] epoch: 1613 train-loss: 0.0003207870799997181\n",
      "[LOG 20191027-17:56:29] epoch: 1614 train-loss: 0.0003208088735391357\n",
      "[LOG 20191027-17:56:30] epoch: 1615 train-loss: 0.0003208307330169191\n",
      "[LOG 20191027-17:56:30] epoch: 1616 train-loss: 0.0003208526613889262\n",
      "[LOG 20191027-17:56:30] epoch: 1617 train-loss: 0.0003208746861673717\n",
      "[LOG 20191027-17:56:31] epoch: 1618 train-loss: 0.00032089676938085177\n",
      "[LOG 20191027-17:56:31] epoch: 1619 train-loss: 0.0003209188953405828\n",
      "[LOG 20191027-17:56:31] epoch: 1620 train-loss: 0.0003209410820090852\n",
      "[LOG 20191027-17:56:31] epoch: 1621 train-loss: 0.0003209633218830277\n",
      "[LOG 20191027-17:56:32] epoch: 1622 train-loss: 0.00032098557630888536\n"
     ]
    },
    {
     "name": "stdout",
     "output_type": "stream",
     "text": [
      "[LOG 20191027-17:56:32] epoch: 1623 train-loss: 0.0003210078864412935\n",
      "[LOG 20191027-17:56:32] epoch: 1624 train-loss: 0.000321030247505405\n",
      "[LOG 20191027-17:56:32] epoch: 1625 train-loss: 0.0003210526360817312\n",
      "[LOG 20191027-17:56:33] epoch: 1626 train-loss: 0.00032107503602674115\n",
      "[LOG 20191027-17:56:33] epoch: 1627 train-loss: 0.000321097433243267\n",
      "[LOG 20191027-17:56:33] epoch: 1628 train-loss: 0.0003211198709323071\n",
      "[LOG 20191027-17:56:33] epoch: 1629 train-loss: 0.00032114231066771026\n",
      "[LOG 20191027-17:56:34] epoch: 1630 train-loss: 0.00032116476768351276\n",
      "[LOG 20191027-17:56:34] epoch: 1631 train-loss: 0.0003211872422070883\n",
      "[LOG 20191027-17:56:34] epoch: 1632 train-loss: 0.0003212097099094535\n",
      "[LOG 20191027-17:56:35] epoch: 1633 train-loss: 0.00032123220171342837\n",
      "[LOG 20191027-17:56:35] epoch: 1634 train-loss: 0.0003212546889699297\n",
      "[LOG 20191027-17:56:35] epoch: 1635 train-loss: 0.0003212771709968365\n",
      "[LOG 20191027-17:56:35] epoch: 1636 train-loss: 0.00032129960732163454\n",
      "[LOG 20191027-17:56:36] epoch: 1637 train-loss: 0.00032132197543432994\n",
      "[LOG 20191027-17:56:36] epoch: 1638 train-loss: 0.0003213443105778424\n",
      "[LOG 20191027-17:56:36] epoch: 1639 train-loss: 0.0003213666157080297\n",
      "[LOG 20191027-17:56:37] epoch: 1640 train-loss: 0.00032138890287569666\n",
      "[LOG 20191027-17:56:37] epoch: 1641 train-loss: 0.0003214111604847858\n",
      "[LOG 20191027-17:56:37] epoch: 1642 train-loss: 0.0003214334128642804\n",
      "[LOG 20191027-17:56:37] epoch: 1643 train-loss: 0.0003214556040802563\n",
      "[LOG 20191027-17:56:38] epoch: 1644 train-loss: 0.00032147770707524614\n",
      "[LOG 20191027-17:56:38] epoch: 1645 train-loss: 0.00032149974913409096\n",
      "[LOG 20191027-17:56:38] epoch: 1646 train-loss: 0.0003215217222987121\n",
      "[LOG 20191027-17:56:39] epoch: 1647 train-loss: 0.00032154359837477386\n",
      "[LOG 20191027-17:56:39] epoch: 1648 train-loss: 0.0003215654053292383\n",
      "[LOG 20191027-17:56:39] epoch: 1649 train-loss: 0.00032158709882423864\n",
      "[LOG 20191027-17:56:39] epoch: 1650 train-loss: 0.00032160870864572644\n",
      "[LOG 20191027-17:56:40] epoch: 1651 train-loss: 0.00032163021455744456\n",
      "[LOG 20191027-17:56:40] epoch: 1652 train-loss: 0.00032165161633201933\n",
      "[LOG 20191027-17:56:40] epoch: 1653 train-loss: 0.0003216729153336928\n",
      "[LOG 20191027-17:56:41] epoch: 1654 train-loss: 0.00032169406813409296\n",
      "[LOG 20191027-17:56:41] epoch: 1655 train-loss: 0.0003217150349428266\n",
      "[LOG 20191027-17:56:41] epoch: 1656 train-loss: 0.00032173585555028694\n",
      "[LOG 20191027-17:56:41] epoch: 1657 train-loss: 0.000321756531320716\n",
      "[LOG 20191027-17:56:42] epoch: 1658 train-loss: 0.00032177700290958455\n",
      "[LOG 20191027-17:56:42] epoch: 1659 train-loss: 0.00032179724871639337\n",
      "[LOG 20191027-17:56:42] epoch: 1660 train-loss: 0.00032181735218728136\n",
      "[LOG 20191027-17:56:42] epoch: 1661 train-loss: 0.0003218373030904331\n",
      "[LOG 20191027-17:56:43] epoch: 1662 train-loss: 0.00032185710233534337\n",
      "[LOG 20191027-17:56:43] epoch: 1663 train-loss: 0.0003218767005819245\n",
      "[LOG 20191027-17:56:43] epoch: 1664 train-loss: 0.00032189612579713867\n",
      "[LOG 20191027-17:56:43] epoch: 1665 train-loss: 0.0003219153604732128\n",
      "[LOG 20191027-17:56:44] epoch: 1666 train-loss: 0.00032193438937611063\n",
      "[LOG 20191027-17:56:44] epoch: 1667 train-loss: 0.00032195317794503353\n",
      "[LOG 20191027-17:56:44] epoch: 1668 train-loss: 0.00032197170889958215\n",
      "[LOG 20191027-17:56:44] epoch: 1669 train-loss: 0.00032198999565480335\n",
      "[LOG 20191027-17:56:45] epoch: 1670 train-loss: 0.00032200808800553204\n",
      "[LOG 20191027-17:56:45] epoch: 1671 train-loss: 0.00032202592296926014\n",
      "[LOG 20191027-17:56:45] epoch: 1672 train-loss: 0.00032204350395659276\n",
      "[LOG 20191027-17:56:46] epoch: 1673 train-loss: 0.00032206085279540275\n",
      "[LOG 20191027-17:56:46] epoch: 1674 train-loss: 0.00032207793037741794\n",
      "[LOG 20191027-17:56:46] epoch: 1675 train-loss: 0.0003220947210138547\n",
      "[LOG 20191027-17:56:46] epoch: 1676 train-loss: 0.00032211121038017154\n",
      "[LOG 20191027-17:56:47] epoch: 1677 train-loss: 0.00032212742871706723\n",
      "[LOG 20191027-17:56:47] epoch: 1678 train-loss: 0.0003221432834834559\n",
      "[LOG 20191027-17:56:47] epoch: 1679 train-loss: 0.00032215883629760356\n",
      "[LOG 20191027-17:56:47] epoch: 1680 train-loss: 0.0003221740330445755\n",
      "[LOG 20191027-17:56:48] epoch: 1681 train-loss: 0.00032218884621215693\n",
      "[LOG 20191027-17:56:48] epoch: 1682 train-loss: 0.00032220334196608746\n",
      "[LOG 20191027-17:56:48] epoch: 1683 train-loss: 0.00032221748915617354\n",
      "[LOG 20191027-17:56:48] epoch: 1684 train-loss: 0.00032223124526353786\n",
      "[LOG 20191027-17:56:49] epoch: 1685 train-loss: 0.00032224465735453123\n",
      "[LOG 20191027-17:56:49] epoch: 1686 train-loss: 0.00032225764880422503\n",
      "[LOG 20191027-17:56:49] epoch: 1687 train-loss: 0.0003222702175662562\n",
      "[LOG 20191027-17:56:49] epoch: 1688 train-loss: 0.0003222823781925399\n",
      "[LOG 20191027-17:56:50] epoch: 1689 train-loss: 0.0003222940763407678\n",
      "[LOG 20191027-17:56:50] epoch: 1690 train-loss: 0.00032230536635324825\n",
      "[LOG 20191027-17:56:50] epoch: 1691 train-loss: 0.00032231617615252617\n",
      "[LOG 20191027-17:56:50] epoch: 1692 train-loss: 0.00032232649368779676\n",
      "[LOG 20191027-17:56:51] epoch: 1693 train-loss: 0.00032233631895906\n",
      "[LOG 20191027-17:56:51] epoch: 1694 train-loss: 0.00032234560831057024\n",
      "[LOG 20191027-17:56:51] epoch: 1695 train-loss: 0.0003223543781132321\n",
      "[LOG 20191027-17:56:51] epoch: 1696 train-loss: 0.00032236255879070086\n",
      "[LOG 20191027-17:56:52] epoch: 1697 train-loss: 0.00032237022469416843\n",
      "[LOG 20191027-17:56:52] epoch: 1698 train-loss: 0.00032237734853879374\n",
      "[LOG 20191027-17:56:52] epoch: 1699 train-loss: 0.0003223839376005344\n",
      "[LOG 20191027-17:56:52] epoch: 1700 train-loss: 0.00032238995913758117\n",
      "[LOG 20191027-17:56:53] epoch: 1701 train-loss: 0.0003223953706310567\n",
      "[LOG 20191027-17:56:53] epoch: 1702 train-loss: 0.00032240011842077365\n",
      "[LOG 20191027-17:56:53] epoch: 1703 train-loss: 0.0003224041495286656\n",
      "[LOG 20191027-17:56:53] epoch: 1704 train-loss: 0.00032240752193501976\n",
      "[LOG 20191027-17:56:54] epoch: 1705 train-loss: 0.0003224102481453883\n",
      "[LOG 20191027-17:56:54] epoch: 1706 train-loss: 0.00032241230064755655\n",
      "[LOG 20191027-17:56:54] epoch: 1707 train-loss: 0.00032241365624940954\n",
      "[LOG 20191027-17:56:54] epoch: 1708 train-loss: 0.0003224142778890382\n",
      "[LOG 20191027-17:56:55] epoch: 1709 train-loss: 0.00032241418125522614\n",
      "[LOG 20191027-17:56:55] epoch: 1710 train-loss: 0.0003224133067760704\n",
      "[LOG 20191027-17:56:55] epoch: 1711 train-loss: 0.00032241160511148337\n",
      "[LOG 20191027-17:56:55] epoch: 1712 train-loss: 0.00032240906716651807\n",
      "[LOG 20191027-17:56:56] epoch: 1713 train-loss: 0.00032240570271824254\n",
      "[LOG 20191027-17:56:56] epoch: 1714 train-loss: 0.0003224014512852591\n",
      "[LOG 20191027-17:56:56] epoch: 1715 train-loss: 0.00032239634992947686\n",
      "[LOG 20191027-17:56:56] epoch: 1716 train-loss: 0.00032239036022474465\n",
      "[LOG 20191027-17:56:57] epoch: 1717 train-loss: 0.0003223834949039883\n",
      "[LOG 20191027-17:56:57] epoch: 1718 train-loss: 0.0003223756730221794\n",
      "[LOG 20191027-17:56:57] epoch: 1719 train-loss: 0.0003223668770715449\n",
      "[LOG 20191027-17:56:57] epoch: 1720 train-loss: 0.0003223571141006687\n",
      "[LOG 20191027-17:56:58] epoch: 1721 train-loss: 0.0003223464104848972\n",
      "[LOG 20191027-17:56:58] epoch: 1722 train-loss: 0.00032233471756626386\n",
      "[LOG 20191027-17:56:58] epoch: 1723 train-loss: 0.0003223219164283364\n",
      "[LOG 20191027-17:56:59] epoch: 1724 train-loss: 0.00032230800434263074\n",
      "[LOG 20191027-17:56:59] epoch: 1725 train-loss: 0.00032229294811259024\n",
      "[LOG 20191027-17:56:59] epoch: 1726 train-loss: 0.00032227674728346756\n",
      "[LOG 20191027-17:56:59] epoch: 1727 train-loss: 0.00032225940299213107\n",
      "[LOG 20191027-17:57:00] epoch: 1728 train-loss: 0.0003222408936380816\n",
      "[LOG 20191027-17:57:00] epoch: 1729 train-loss: 0.0003222211644242634\n",
      "[LOG 20191027-17:57:00] epoch: 1730 train-loss: 0.0003222002055736084\n",
      "[LOG 20191027-17:57:00] epoch: 1731 train-loss: 0.00032217797570410767\n",
      "[LOG 20191027-17:57:01] epoch: 1732 train-loss: 0.00032215439773608523\n",
      "[LOG 20191027-17:57:01] epoch: 1733 train-loss: 0.00032212948417509324\n",
      "[LOG 20191027-17:57:01] epoch: 1734 train-loss: 0.0003221031379325723\n",
      "[LOG 20191027-17:57:01] epoch: 1735 train-loss: 0.0003220753787900321\n",
      "[LOG 20191027-17:57:02] epoch: 1736 train-loss: 0.0003220461926503049\n",
      "[LOG 20191027-17:57:02] epoch: 1737 train-loss: 0.00032201552198785066\n",
      "[LOG 20191027-17:57:02] epoch: 1738 train-loss: 0.0003219833267849026\n",
      "[LOG 20191027-17:57:02] epoch: 1739 train-loss: 0.000321949580211367\n"
     ]
    },
    {
     "name": "stdout",
     "output_type": "stream",
     "text": [
      "[LOG 20191027-17:57:03] epoch: 1740 train-loss: 0.00032191425520977646\n",
      "[LOG 20191027-17:57:03] epoch: 1741 train-loss: 0.0003218773963453714\n",
      "[LOG 20191027-17:57:03] epoch: 1742 train-loss: 0.00032183891198656056\n",
      "[LOG 20191027-17:57:03] epoch: 1743 train-loss: 0.00032179870618165296\n",
      "[LOG 20191027-17:57:04] epoch: 1744 train-loss: 0.00032175672254197707\n",
      "[LOG 20191027-17:57:04] epoch: 1745 train-loss: 0.00032171296970773255\n",
      "[LOG 20191027-17:57:04] epoch: 1746 train-loss: 0.0003216673876522691\n",
      "[LOG 20191027-17:57:04] epoch: 1747 train-loss: 0.0003216199872895231\n",
      "[LOG 20191027-17:57:05] epoch: 1748 train-loss: 0.0003215707001800183\n",
      "[LOG 20191027-17:57:05] epoch: 1749 train-loss: 0.0003215194838048774\n",
      "[LOG 20191027-17:57:05] epoch: 1750 train-loss: 0.00032146626745088724\n",
      "[LOG 20191027-17:57:05] epoch: 1751 train-loss: 0.0003214109967757395\n",
      "[LOG 20191027-17:57:06] epoch: 1752 train-loss: 0.000321353644494593\n",
      "[LOG 20191027-17:57:06] epoch: 1753 train-loss: 0.00032129417195392307\n",
      "[LOG 20191027-17:57:06] epoch: 1754 train-loss: 0.0003212325484582834\n",
      "[LOG 20191027-17:57:06] epoch: 1755 train-loss: 0.00032116873899212806\n",
      "[LOG 20191027-17:57:07] epoch: 1756 train-loss: 0.0003211027117231424\n",
      "[LOG 20191027-17:57:07] epoch: 1757 train-loss: 0.0003210344475519378\n",
      "[LOG 20191027-17:57:07] epoch: 1758 train-loss: 0.00032096387121782755\n",
      "[LOG 20191027-17:57:08] epoch: 1759 train-loss: 0.0003208909849945485\n",
      "[LOG 20191027-17:57:08] epoch: 1760 train-loss: 0.00032081572840070294\n",
      "[LOG 20191027-17:57:08] epoch: 1761 train-loss: 0.00032073806937660265\n",
      "[LOG 20191027-17:57:08] epoch: 1762 train-loss: 0.00032065794925983937\n",
      "[LOG 20191027-17:57:09] epoch: 1763 train-loss: 0.00032057534917839803\n",
      "[LOG 20191027-17:57:09] epoch: 1764 train-loss: 0.0003204901945537131\n",
      "[LOG 20191027-17:57:09] epoch: 1765 train-loss: 0.0003204024669685168\n",
      "[LOG 20191027-17:57:09] epoch: 1766 train-loss: 0.0003203121241313056\n",
      "[LOG 20191027-17:57:10] epoch: 1767 train-loss: 0.0003202190894171508\n",
      "[LOG 20191027-17:57:10] epoch: 1768 train-loss: 0.0003201234151219978\n",
      "[LOG 20191027-17:57:10] epoch: 1769 train-loss: 0.0003200250107511238\n",
      "[LOG 20191027-17:57:10] epoch: 1770 train-loss: 0.0003199238651632186\n",
      "[LOG 20191027-17:57:11] epoch: 1771 train-loss: 0.0003198198851350753\n",
      "[LOG 20191027-17:57:11] epoch: 1772 train-loss: 0.0003197130872649723\n",
      "[LOG 20191027-17:57:11] epoch: 1773 train-loss: 0.0003196033853782865\n",
      "[LOG 20191027-17:57:11] epoch: 1774 train-loss: 0.00031949077992976527\n",
      "[LOG 20191027-17:57:12] epoch: 1775 train-loss: 0.0003193751854269067\n",
      "[LOG 20191027-17:57:12] epoch: 1776 train-loss: 0.0003192565648078016\n",
      "[LOG 20191027-17:57:12] epoch: 1777 train-loss: 0.00031913488692225656\n",
      "[LOG 20191027-17:57:12] epoch: 1778 train-loss: 0.0003190100608208013\n",
      "[LOG 20191027-17:57:13] epoch: 1779 train-loss: 0.00031888199691820773\n",
      "[LOG 20191027-17:57:13] epoch: 1780 train-loss: 0.0003187506847552868\n",
      "[LOG 20191027-17:57:13] epoch: 1781 train-loss: 0.0003186160729455878\n",
      "[LOG 20191027-17:57:13] epoch: 1782 train-loss: 0.0003184780391620734\n",
      "[LOG 20191027-17:57:14] epoch: 1783 train-loss: 0.000318336576810907\n",
      "[LOG 20191027-17:57:14] epoch: 1784 train-loss: 0.0003181916515586636\n",
      "[LOG 20191027-17:57:14] epoch: 1785 train-loss: 0.0003180432379394915\n",
      "[LOG 20191027-17:57:14] epoch: 1786 train-loss: 0.000317891237727963\n",
      "[LOG 20191027-17:57:15] epoch: 1787 train-loss: 0.00031773556975167594\n",
      "[LOG 20191027-17:57:15] epoch: 1788 train-loss: 0.00031757612714500283\n",
      "[LOG 20191027-17:57:15] epoch: 1789 train-loss: 0.0003174128617047245\n",
      "[LOG 20191027-17:57:15] epoch: 1790 train-loss: 0.0003172457634263992\n",
      "[LOG 20191027-17:57:16] epoch: 1791 train-loss: 0.00031707477251075034\n",
      "[LOG 20191027-17:57:16] epoch: 1792 train-loss: 0.0003168998312048643\n",
      "[LOG 20191027-17:57:16] epoch: 1793 train-loss: 0.00031672083855482924\n",
      "[LOG 20191027-17:57:16] epoch: 1794 train-loss: 0.00031653775181439414\n",
      "[LOG 20191027-17:57:17] epoch: 1795 train-loss: 0.0003163505054999405\n",
      "[LOG 20191027-17:57:17] epoch: 1796 train-loss: 0.0003161590250329027\n",
      "[LOG 20191027-17:57:17] epoch: 1797 train-loss: 0.0003159632888127817\n",
      "[LOG 20191027-17:57:17] epoch: 1798 train-loss: 0.00031576328888149874\n",
      "[LOG 20191027-17:57:18] epoch: 1799 train-loss: 0.00031555894952361996\n",
      "[LOG 20191027-17:57:18] epoch: 1800 train-loss: 0.00031535019456896407\n",
      "[LOG 20191027-17:57:18] epoch: 1801 train-loss: 0.0003151370663090347\n",
      "[LOG 20191027-17:57:18] epoch: 1802 train-loss: 0.00031491957793150505\n",
      "[LOG 20191027-17:57:19] epoch: 1803 train-loss: 0.0003146977078358759\n",
      "[LOG 20191027-17:57:19] epoch: 1804 train-loss: 0.00031447140008822316\n",
      "[LOG 20191027-17:57:19] epoch: 1805 train-loss: 0.0003142406230836059\n",
      "[LOG 20191027-17:57:19] epoch: 1806 train-loss: 0.00031400533589476254\n",
      "[LOG 20191027-17:57:20] epoch: 1807 train-loss: 0.000313765587634407\n",
      "[LOG 20191027-17:57:20] epoch: 1808 train-loss: 0.00031352145128948905\n",
      "[LOG 20191027-17:57:20] epoch: 1809 train-loss: 0.00031327301007877395\n",
      "[LOG 20191027-17:57:20] epoch: 1810 train-loss: 0.00031302028196478204\n",
      "[LOG 20191027-17:57:21] epoch: 1811 train-loss: 0.00031276332583729527\n",
      "[LOG 20191027-17:57:21] epoch: 1812 train-loss: 0.00031250224606083066\n",
      "[LOG 20191027-17:57:21] epoch: 1813 train-loss: 0.00031223718406181433\n",
      "[LOG 20191027-17:57:21] epoch: 1814 train-loss: 0.00031196826694213087\n",
      "[LOG 20191027-17:57:22] epoch: 1815 train-loss: 0.0003116956554549688\n",
      "[LOG 20191027-17:57:22] epoch: 1816 train-loss: 0.00031141954650593107\n",
      "[LOG 20191027-17:57:22] epoch: 1817 train-loss: 0.00031114022090150684\n",
      "[LOG 20191027-17:57:23] epoch: 1818 train-loss: 0.00031085783007256396\n",
      "[LOG 20191027-17:57:23] epoch: 1819 train-loss: 0.0003105725641034951\n",
      "[LOG 20191027-17:57:23] epoch: 1820 train-loss: 0.00031028469607008446\n",
      "[LOG 20191027-17:57:23] epoch: 1821 train-loss: 0.00030999456885183463\n",
      "[LOG 20191027-17:57:24] epoch: 1822 train-loss: 0.0003097023925420217\n",
      "[LOG 20191027-17:57:24] epoch: 1823 train-loss: 0.0003094084495387506\n",
      "[LOG 20191027-17:57:24] epoch: 1824 train-loss: 0.0003091130886332394\n",
      "[LOG 20191027-17:57:24] epoch: 1825 train-loss: 0.00030881671909810393\n",
      "[LOG 20191027-17:57:25] epoch: 1826 train-loss: 0.0003085196440224536\n",
      "[LOG 20191027-17:57:25] epoch: 1827 train-loss: 0.00030822220378468046\n",
      "[LOG 20191027-17:57:25] epoch: 1828 train-loss: 0.0003079248251651734\n",
      "[LOG 20191027-17:57:25] epoch: 1829 train-loss: 0.0003076278644584818\n",
      "[LOG 20191027-17:57:26] epoch: 1830 train-loss: 0.00030733169364793866\n",
      "[LOG 20191027-17:57:26] epoch: 1831 train-loss: 0.00030703670540788153\n",
      "[LOG 20191027-17:57:26] epoch: 1832 train-loss: 0.0003067432837724482\n",
      "[LOG 20191027-17:57:26] epoch: 1833 train-loss: 0.0003064517600250838\n",
      "[LOG 20191027-17:57:27] epoch: 1834 train-loss: 0.000306162497963669\n",
      "[LOG 20191027-17:57:27] epoch: 1835 train-loss: 0.0003058759270970768\n",
      "[LOG 20191027-17:57:27] epoch: 1836 train-loss: 0.0003055923373267433\n",
      "[LOG 20191027-17:57:27] epoch: 1837 train-loss: 0.00030531202742167807\n",
      "[LOG 20191027-17:57:28] epoch: 1838 train-loss: 0.0003050353298021946\n",
      "[LOG 20191027-17:57:28] epoch: 1839 train-loss: 0.00030476260440082115\n",
      "[LOG 20191027-17:57:28] epoch: 1840 train-loss: 0.0003044940804102225\n",
      "[LOG 20191027-17:57:28] epoch: 1841 train-loss: 0.00030423005023294536\n",
      "[LOG 20191027-17:57:29] epoch: 1842 train-loss: 0.000303970739196302\n",
      "[LOG 20191027-17:57:29] epoch: 1843 train-loss: 0.000303716411053756\n",
      "[LOG 20191027-17:57:29] epoch: 1844 train-loss: 0.0003034672943158512\n",
      "[LOG 20191027-17:57:29] epoch: 1845 train-loss: 0.00030322354882628133\n",
      "[LOG 20191027-17:57:30] epoch: 1846 train-loss: 0.000302985368989539\n",
      "[LOG 20191027-17:57:30] epoch: 1847 train-loss: 0.00030275292760961747\n",
      "[LOG 20191027-17:57:30] epoch: 1848 train-loss: 0.0003025263274594181\n",
      "[LOG 20191027-17:57:30] epoch: 1849 train-loss: 0.0003023056819984049\n",
      "[LOG 20191027-17:57:31] epoch: 1850 train-loss: 0.00030209113333512505\n",
      "[LOG 20191027-17:57:31] epoch: 1851 train-loss: 0.00030188276014087023\n",
      "[LOG 20191027-17:57:31] epoch: 1852 train-loss: 0.0003016805951574497\n",
      "[LOG 20191027-17:57:32] epoch: 1853 train-loss: 0.00030148471682878153\n",
      "[LOG 20191027-17:57:32] epoch: 1854 train-loss: 0.00030129519655019976\n",
      "[LOG 20191027-17:57:32] epoch: 1855 train-loss: 0.00030111205524008255\n",
      "[LOG 20191027-17:57:32] epoch: 1856 train-loss: 0.0003009352633398521\n"
     ]
    },
    {
     "name": "stdout",
     "output_type": "stream",
     "text": [
      "[LOG 20191027-17:57:33] epoch: 1857 train-loss: 0.00030076486109464895\n",
      "[LOG 20191027-17:57:33] epoch: 1858 train-loss: 0.0003006008714692143\n",
      "[LOG 20191027-17:57:33] epoch: 1859 train-loss: 0.00030044324148548185\n",
      "[LOG 20191027-17:57:33] epoch: 1860 train-loss: 0.00030029194113012636\n",
      "[LOG 20191027-17:57:34] epoch: 1861 train-loss: 0.0003001469431183068\n",
      "[LOG 20191027-17:57:34] epoch: 1862 train-loss: 0.0003000082137987192\n",
      "[LOG 20191027-17:57:34] epoch: 1863 train-loss: 0.0002998757124714757\n",
      "[LOG 20191027-17:57:34] epoch: 1864 train-loss: 0.0002997493672864948\n",
      "[LOG 20191027-17:57:35] epoch: 1865 train-loss: 0.0002996291279941943\n",
      "[LOG 20191027-17:57:35] epoch: 1866 train-loss: 0.00029951493843327626\n",
      "[LOG 20191027-17:57:35] epoch: 1867 train-loss: 0.0002994067297095171\n",
      "[LOG 20191027-17:57:35] epoch: 1868 train-loss: 0.0002993044258801092\n",
      "[LOG 20191027-17:57:36] epoch: 1869 train-loss: 0.000299207925763767\n",
      "[LOG 20191027-17:57:36] epoch: 1870 train-loss: 0.0002991171613757615\n",
      "[LOG 20191027-17:57:36] epoch: 1871 train-loss: 0.0002990320463140961\n",
      "[LOG 20191027-17:57:36] epoch: 1872 train-loss: 0.00029895250327172107\n",
      "[LOG 20191027-17:57:37] epoch: 1873 train-loss: 0.0002988784394801769\n",
      "[LOG 20191027-17:57:37] epoch: 1874 train-loss: 0.0002988097471643414\n",
      "[LOG 20191027-17:57:37] epoch: 1875 train-loss: 0.0002987463353747444\n",
      "[LOG 20191027-17:57:37] epoch: 1876 train-loss: 0.0002986881313518097\n",
      "[LOG 20191027-17:57:38] epoch: 1877 train-loss: 0.00029863502618354687\n",
      "[LOG 20191027-17:57:38] epoch: 1878 train-loss: 0.000298586903454634\n",
      "[LOG 20191027-17:57:38] epoch: 1879 train-loss: 0.0002985436776725692\n",
      "[LOG 20191027-17:57:38] epoch: 1880 train-loss: 0.00029850524629182473\n",
      "[LOG 20191027-17:57:39] epoch: 1881 train-loss: 0.00029847150881323614\n",
      "[LOG 20191027-17:57:39] epoch: 1882 train-loss: 0.00029844236928511236\n",
      "[LOG 20191027-17:57:39] epoch: 1883 train-loss: 0.00029841772720828885\n",
      "[LOG 20191027-17:57:39] epoch: 1884 train-loss: 0.0002983974770813802\n",
      "[LOG 20191027-17:57:40] epoch: 1885 train-loss: 0.00029838151385774836\n",
      "[LOG 20191027-17:57:40] epoch: 1886 train-loss: 0.0002983697147556086\n",
      "[LOG 20191027-17:57:40] epoch: 1887 train-loss: 0.0002983619806400384\n",
      "[LOG 20191027-17:57:40] epoch: 1888 train-loss: 0.0002983582294291409\n",
      "[LOG 20191027-17:57:41] epoch: 1889 train-loss: 0.00029835834675395745\n",
      "[LOG 20191027-17:57:41] epoch: 1890 train-loss: 0.00029836219391654595\n",
      "[LOG 20191027-17:57:41] epoch: 1891 train-loss: 0.0002983696886076359\n",
      "[LOG 20191027-17:57:41] epoch: 1892 train-loss: 0.0002983807414693729\n",
      "[LOG 20191027-17:57:42] epoch: 1893 train-loss: 0.0002983952745125862\n",
      "[LOG 20191027-17:57:42] epoch: 1894 train-loss: 0.00029841314290024457\n",
      "[LOG 20191027-17:57:42] epoch: 1895 train-loss: 0.00029843428910680814\n",
      "[LOG 20191027-17:57:42] epoch: 1896 train-loss: 0.0002984585739795875\n",
      "[LOG 20191027-17:57:43] epoch: 1897 train-loss: 0.000298485875418919\n",
      "[LOG 20191027-17:57:43] epoch: 1898 train-loss: 0.00029851604972463974\n",
      "[LOG 20191027-17:57:43] epoch: 1899 train-loss: 0.00029854906301807205\n",
      "[LOG 20191027-17:57:43] epoch: 1900 train-loss: 0.00029858484390388185\n",
      "[LOG 20191027-17:57:44] epoch: 1901 train-loss: 0.00029862325141039037\n",
      "[LOG 20191027-17:57:44] epoch: 1902 train-loss: 0.00029866416275581287\n",
      "[LOG 20191027-17:57:44] epoch: 1903 train-loss: 0.0002987075311011722\n",
      "[LOG 20191027-17:57:45] epoch: 1904 train-loss: 0.0002987532368479151\n",
      "[LOG 20191027-17:57:45] epoch: 1905 train-loss: 0.00029880115948799357\n",
      "[LOG 20191027-17:57:45] epoch: 1906 train-loss: 0.00029885122739869985\n",
      "[LOG 20191027-17:57:45] epoch: 1907 train-loss: 0.0002989033537232899\n",
      "[LOG 20191027-17:57:46] epoch: 1908 train-loss: 0.0002989574657021876\n",
      "[LOG 20191027-17:57:46] epoch: 1909 train-loss: 0.0002990134619267337\n",
      "[LOG 20191027-17:57:46] epoch: 1910 train-loss: 0.0002990712271184748\n",
      "[LOG 20191027-17:57:46] epoch: 1911 train-loss: 0.0002991306398598681\n",
      "[LOG 20191027-17:57:47] epoch: 1912 train-loss: 0.0002991916478549683\n",
      "[LOG 20191027-17:57:47] epoch: 1913 train-loss: 0.00029925415401521605\n",
      "[LOG 20191027-17:57:47] epoch: 1914 train-loss: 0.00029931802532701113\n",
      "[LOG 20191027-17:57:47] epoch: 1915 train-loss: 0.0002993831747062359\n",
      "[LOG 20191027-17:57:48] epoch: 1916 train-loss: 0.00029944958782834874\n",
      "[LOG 20191027-17:57:48] epoch: 1917 train-loss: 0.00029951713759146514\n",
      "[LOG 20191027-17:57:48] epoch: 1918 train-loss: 0.00029958570007693197\n",
      "[LOG 20191027-17:57:48] epoch: 1919 train-loss: 0.00029965521116537275\n",
      "[LOG 20191027-17:57:49] epoch: 1920 train-loss: 0.0002997255771788332\n",
      "[LOG 20191027-17:57:49] epoch: 1921 train-loss: 0.0002997967173996585\n",
      "[LOG 20191027-17:57:49] epoch: 1922 train-loss: 0.00029986855679453583\n",
      "[LOG 20191027-17:57:49] epoch: 1923 train-loss: 0.0002999409734911751\n",
      "[LOG 20191027-17:57:50] epoch: 1924 train-loss: 0.0003000138613060699\n",
      "[LOG 20191027-17:57:50] epoch: 1925 train-loss: 0.0003000871129188454\n",
      "[LOG 20191027-17:57:50] epoch: 1926 train-loss: 0.00030016069149496616\n",
      "[LOG 20191027-17:57:50] epoch: 1927 train-loss: 0.0003002345085860725\n",
      "[LOG 20191027-17:57:51] epoch: 1928 train-loss: 0.0003003084616466367\n",
      "[LOG 20191027-17:57:51] epoch: 1929 train-loss: 0.00030038238310226006\n",
      "[LOG 20191027-17:57:51] epoch: 1930 train-loss: 0.0003004561788202409\n",
      "[LOG 20191027-17:57:51] epoch: 1931 train-loss: 0.00030052977058403485\n",
      "[LOG 20191027-17:57:52] epoch: 1932 train-loss: 0.0003006030681262928\n",
      "[LOG 20191027-17:57:52] epoch: 1933 train-loss: 0.0003006759873187548\n",
      "[LOG 20191027-17:57:52] epoch: 1934 train-loss: 0.0003007484342560929\n",
      "[LOG 20191027-17:57:52] epoch: 1935 train-loss: 0.0003008202663750126\n",
      "[LOG 20191027-17:57:53] epoch: 1936 train-loss: 0.00030089142182987416\n",
      "[LOG 20191027-17:57:53] epoch: 1937 train-loss: 0.0003009617498719308\n",
      "[LOG 20191027-17:57:53] epoch: 1938 train-loss: 0.0003010311679645383\n",
      "[LOG 20191027-17:57:53] epoch: 1939 train-loss: 0.000301099640182656\n",
      "[LOG 20191027-17:57:54] epoch: 1940 train-loss: 0.0003011670573869196\n",
      "[LOG 20191027-17:57:54] epoch: 1941 train-loss: 0.00030123320993880043\n",
      "[LOG 20191027-17:57:54] epoch: 1942 train-loss: 0.0003012980944276933\n",
      "[LOG 20191027-17:57:54] epoch: 1943 train-loss: 0.0003013615662439406\n",
      "[LOG 20191027-17:57:55] epoch: 1944 train-loss: 0.0003014235505816032\n",
      "[LOG 20191027-17:57:55] epoch: 1945 train-loss: 0.0003014838598573988\n",
      "[LOG 20191027-17:57:55] epoch: 1946 train-loss: 0.00030154242494973005\n",
      "[LOG 20191027-17:57:55] epoch: 1947 train-loss: 0.000301599090335003\n",
      "[LOG 20191027-17:57:56] epoch: 1948 train-loss: 0.0003016538096289878\n",
      "[LOG 20191027-17:57:56] epoch: 1949 train-loss: 0.0003017065484982595\n",
      "[LOG 20191027-17:57:56] epoch: 1950 train-loss: 0.0003017571887085069\n",
      "[LOG 20191027-17:57:56] epoch: 1951 train-loss: 0.0003018055397205899\n",
      "[LOG 20191027-17:57:57] epoch: 1952 train-loss: 0.0003018515506028052\n",
      "[LOG 20191027-17:57:57] epoch: 1953 train-loss: 0.00030189505696398555\n",
      "[LOG 20191027-17:57:57] epoch: 1954 train-loss: 0.0003019359835434443\n",
      "[LOG 20191027-17:57:57] epoch: 1955 train-loss: 0.0003019741986918234\n",
      "[LOG 20191027-17:57:58] epoch: 1956 train-loss: 0.0003020095880401641\n",
      "[LOG 20191027-17:57:58] epoch: 1957 train-loss: 0.0003020419974291144\n",
      "[LOG 20191027-17:57:58] epoch: 1958 train-loss: 0.00030207128384063253\n",
      "[LOG 20191027-17:57:59] epoch: 1959 train-loss: 0.00030209735450625885\n",
      "[LOG 20191027-17:57:59] epoch: 1960 train-loss: 0.00030212002548068995\n",
      "[LOG 20191027-17:57:59] epoch: 1961 train-loss: 0.0003021390764388343\n",
      "[LOG 20191027-17:57:59] epoch: 1962 train-loss: 0.0003021544557668676\n",
      "[LOG 20191027-17:58:00] epoch: 1963 train-loss: 0.00030216597542676027\n",
      "[LOG 20191027-17:58:00] epoch: 1964 train-loss: 0.00030217349694794393\n",
      "[LOG 20191027-17:58:00] epoch: 1965 train-loss: 0.00030217681637623173\n",
      "[LOG 20191027-17:58:00] epoch: 1966 train-loss: 0.0003021757315764262\n",
      "[LOG 20191027-17:58:01] epoch: 1967 train-loss: 0.00030217010976230085\n",
      "[LOG 20191027-17:58:01] epoch: 1968 train-loss: 0.00030215975266401074\n",
      "[LOG 20191027-17:58:01] epoch: 1969 train-loss: 0.00030214449543564115\n",
      "[LOG 20191027-17:58:01] epoch: 1970 train-loss: 0.0003021241172973532\n",
      "[LOG 20191027-17:58:02] epoch: 1971 train-loss: 0.0003020983788246667\n",
      "[LOG 20191027-17:58:02] epoch: 1972 train-loss: 0.00030206714404812374\n",
      "[LOG 20191027-17:58:02] epoch: 1973 train-loss: 0.00030203015830920776\n"
     ]
    },
    {
     "name": "stdout",
     "output_type": "stream",
     "text": [
      "[LOG 20191027-17:58:03] epoch: 1974 train-loss: 0.00030198725744412513\n",
      "[LOG 20191027-17:58:03] epoch: 1975 train-loss: 0.0003019382113507163\n",
      "[LOG 20191027-17:58:03] epoch: 1976 train-loss: 0.0003018828588210454\n",
      "[LOG 20191027-17:58:03] epoch: 1977 train-loss: 0.0003018210504706076\n",
      "[LOG 20191027-17:58:04] epoch: 1978 train-loss: 0.0003017526059920783\n",
      "[LOG 20191027-17:58:04] epoch: 1979 train-loss: 0.00030167731142682896\n",
      "[LOG 20191027-17:58:04] epoch: 1980 train-loss: 0.00030159499988258176\n",
      "[LOG 20191027-17:58:04] epoch: 1981 train-loss: 0.00030150548582241754\n",
      "[LOG 20191027-17:58:05] epoch: 1982 train-loss: 0.0003014085866652749\n",
      "[LOG 20191027-17:58:05] epoch: 1983 train-loss: 0.00030130406321404735\n",
      "[LOG 20191027-17:58:05] epoch: 1984 train-loss: 0.0003011919156961085\n",
      "[LOG 20191027-17:58:06] epoch: 1985 train-loss: 0.00030107214297458995\n",
      "[LOG 20191027-17:58:06] epoch: 1986 train-loss: 0.0003009446509167901\n",
      "[LOG 20191027-17:58:06] epoch: 1987 train-loss: 0.0003008094172400888\n",
      "[LOG 20191027-17:58:07] epoch: 1988 train-loss: 0.0003006664796885161\n",
      "[LOG 20191027-17:58:07] epoch: 1989 train-loss: 0.00030051585713408713\n",
      "[LOG 20191027-17:58:07] epoch: 1990 train-loss: 0.0003003576607625291\n",
      "[LOG 20191027-17:58:07] epoch: 1991 train-loss: 0.00030019199471098545\n",
      "[LOG 20191027-17:58:08] epoch: 1992 train-loss: 0.0003000190313287021\n",
      "[LOG 20191027-17:58:08] epoch: 1993 train-loss: 0.0002998390170887433\n",
      "[LOG 20191027-17:58:08] epoch: 1994 train-loss: 0.0002996522596276918\n",
      "[LOG 20191027-17:58:08] epoch: 1995 train-loss: 0.0002994590240632533\n",
      "[LOG 20191027-17:58:09] epoch: 1996 train-loss: 0.00029925963826826774\n",
      "[LOG 20191027-17:58:09] epoch: 1997 train-loss: 0.0002990544521708216\n",
      "[LOG 20191027-17:58:09] epoch: 1998 train-loss: 0.0002988439910041052\n",
      "[LOG 20191027-17:58:09] epoch: 1999 train-loss: 0.00029862869041608064\n"
     ]
    }
   ],
   "source": [
    "# init collection of training epoch losses\n",
    "train_epoch_losses = []\n",
    "\n",
    "# set the model in training mode\n",
    "lstm_model.train()\n",
    "\n",
    "# init the best loss\n",
    "best_loss = 100.00\n",
    "\n",
    "# iterate over epochs\n",
    "for epoch in range(0, num_epochs):\n",
    "\n",
    "    # init collection of mini-batch losses\n",
    "    train_mini_batch_losses = []\n",
    "            \n",
    "    # iterate over mini-batches\n",
    "    for sequence_batch, target_batch in dataloader:\n",
    "\n",
    "        # predict sequence output\n",
    "        prediction_batch = lstm_model(sequence_batch)\n",
    "\n",
    "        # calculate batch loss\n",
    "        batch_loss = loss_function(prediction_batch, target_batch)\n",
    "\n",
    "        # run backward gradient calculation\n",
    "        batch_loss.backward()\n",
    "\n",
    "        # update network parameters\n",
    "        optimizer.step()\n",
    "        \n",
    "        # collect mini-batch loss\n",
    "        train_mini_batch_losses.append(batch_loss.data.item())\n",
    "            \n",
    "    # determine mean min-batch loss of epoch\n",
    "    train_epoch_loss = np.mean(train_mini_batch_losses)\n",
    "    \n",
    "    # print epoch loss\n",
    "    now = dt.datetime.utcnow().strftime(\"%Y%m%d-%H:%M:%S\")\n",
    "    print('[LOG {}] epoch: {} train-loss: {}'.format(str(now), str(epoch), str(train_epoch_loss)))\n",
    "    \n",
    "    # determine mean min-batch loss of epoch\n",
    "    train_epoch_losses.append(train_epoch_loss)\n",
    "        \n",
    "    # print epoch and save models\n",
    "    if epoch % 10 == 0 and epoch > 0:\n",
    "        \n",
    "        # case: new best model trained\n",
    "        if train_epoch_loss < best_loss:\n",
    "                        \n",
    "            # store new best model\n",
    "            model_name = 'awsome_lstm_model_{}.pth'.format(str(epoch))\n",
    "            torch.save(lstm_model.state_dict(), os.path.join(\"./models\", model_name))\n",
    "            \n",
    "            # update best loss\n",
    "            best_loss = train_epoch_loss\n",
    "            \n",
    "            # print epoch loss\n",
    "            now = dt.datetime.utcnow().strftime(\"%Y%m%d-%H:%M:%S\")\n",
    "            print('[LOG {}] epoch: {} new best train-loss: {} found'.format(str(now), str(epoch), str(train_epoch_loss)))\n"
   ]
  },
  {
   "cell_type": "markdown",
   "metadata": {},
   "source": [
    "Upon successful training let's visualize and inspect the training loss per epoch:"
   ]
  },
  {
   "cell_type": "code",
   "execution_count": 41,
   "metadata": {},
   "outputs": [
    {
     "data": {
      "image/png": "[encoded data removed]",
      "text/plain": [
       "<Figure size 1080x360 with 1 Axes>"
      ]
     },
     "metadata": {
      "needs_background": "light"
     },
     "output_type": "display_data"
    }
   ],
   "source": [
    "# prepare plot\n",
    "fig = plt.figure()\n",
    "ax = fig.add_subplot(111)\n",
    "\n",
    "# add grid\n",
    "ax.grid(linestyle='dotted')\n",
    "\n",
    "# plot the training epochs vs. the epochs' prediction error\n",
    "ax.plot(np.array(range(1, len(train_epoch_losses)+1)), train_epoch_losses, label='epoch loss (blue)')\n",
    "\n",
    "# add axis legends\n",
    "ax.set_xlabel(\"[training epoch $e_i$]\", fontsize=10)\n",
    "ax.set_ylabel(\"[Prediction Error $\\mathcal{L}^{MSE}$]\", fontsize=10)\n",
    "\n",
    "# set plot legend\n",
    "plt.legend(loc=\"upper right\", numpoints=1, fancybox=True)\n",
    "\n",
    "# add plot title\n",
    "plt.title('Training Epochs $e_i$ vs. Prediction Error $L^{MSE}$', fontsize=10);"
   ]
  },
  {
   "cell_type": "markdown",
   "metadata": {},
   "source": [
    "Ok, fantastic. The training error is nicely going down. We could train the network a couple more epochs until the error converges. But let's stay with the 2'000 training epochs for now and continue with evaluating our trained model."
   ]
  },
  {
   "cell_type": "markdown",
   "metadata": {},
   "source": [
    "### 5. Evaluation of the Trained Neural Network Model"
   ]
  },
  {
   "cell_type": "markdown",
   "metadata": {},
   "source": [
    "In this section, we will conduct a visual comparison of the predicted daily returns to the actual ('true') daily returns. The comparison will encompass the daily returns of the in-sample time period as well as the returns of the out-of-sample time period."
   ]
  },
  {
   "cell_type": "markdown",
   "metadata": {},
   "source": [
    "#### 5.1. In-Sample Evaluation of the Trained Neural Network Model"
   ]
  },
  {
   "cell_type": "markdown",
   "metadata": {},
   "source": [
    "Before evaluating our model, let's load the best performing model or an already pre-trained model (as done below). Remember, that we stored a snapshot of the model after each training epoch to our local model directory. We will now load one of the (hopefully well-performing) snapshots saved. "
   ]
  },
  {
   "cell_type": "code",
   "execution_count": 42,
   "metadata": {},
   "outputs": [
    {
     "ename": "FileNotFoundError",
     "evalue": "[Errno 2] No such file or directory: './models/awsome_lstm_model_12250.pth'",
     "output_type": "error",
     "traceback": [
      "\u001b[0;31m---------------------------------------------------------------------------\u001b[0m",
      "\u001b[0;31mFileNotFoundError\u001b[0m                         Traceback (most recent call last)",
      "\u001b[0;32m<ipython-input-42-13dd905f628e>\u001b[0m in \u001b[0;36m<module>\u001b[0;34m\u001b[0m\n\u001b[1;32m      1\u001b[0m \u001b[0mmodel_name\u001b[0m \u001b[0;34m=\u001b[0m \u001b[0;34m'awsome_lstm_model_12250.pth'\u001b[0m\u001b[0;34m\u001b[0m\u001b[0;34m\u001b[0m\u001b[0m\n\u001b[0;32m----> 2\u001b[0;31m \u001b[0mlstm_model\u001b[0m\u001b[0;34m.\u001b[0m\u001b[0mload_state_dict\u001b[0m\u001b[0;34m(\u001b[0m\u001b[0mtorch\u001b[0m\u001b[0;34m.\u001b[0m\u001b[0mload\u001b[0m\u001b[0;34m(\u001b[0m\u001b[0mos\u001b[0m\u001b[0;34m.\u001b[0m\u001b[0mpath\u001b[0m\u001b[0;34m.\u001b[0m\u001b[0mjoin\u001b[0m\u001b[0;34m(\u001b[0m\u001b[0;34m\"./models\"\u001b[0m\u001b[0;34m,\u001b[0m \u001b[0mmodel_name\u001b[0m\u001b[0;34m)\u001b[0m\u001b[0;34m)\u001b[0m\u001b[0;34m)\u001b[0m\u001b[0;34m\u001b[0m\u001b[0;34m\u001b[0m\u001b[0m\n\u001b[0m",
      "\u001b[0;32m/usr/local/lib/python3.7/site-packages/torch/serialization.py\u001b[0m in \u001b[0;36mload\u001b[0;34m(f, map_location, pickle_module, **pickle_load_args)\u001b[0m\n\u001b[1;32m    379\u001b[0m             \u001b[0;34m(\u001b[0m\u001b[0msys\u001b[0m\u001b[0;34m.\u001b[0m\u001b[0mversion_info\u001b[0m\u001b[0;34m[\u001b[0m\u001b[0;36m0\u001b[0m\u001b[0;34m]\u001b[0m \u001b[0;34m==\u001b[0m \u001b[0;36m2\u001b[0m \u001b[0;32mand\u001b[0m \u001b[0misinstance\u001b[0m\u001b[0;34m(\u001b[0m\u001b[0mf\u001b[0m\u001b[0;34m,\u001b[0m \u001b[0municode\u001b[0m\u001b[0;34m)\u001b[0m\u001b[0;34m)\u001b[0m\u001b[0;34m:\u001b[0m\u001b[0;34m\u001b[0m\u001b[0;34m\u001b[0m\u001b[0m\n\u001b[1;32m    380\u001b[0m         \u001b[0mnew_fd\u001b[0m \u001b[0;34m=\u001b[0m \u001b[0;32mTrue\u001b[0m\u001b[0;34m\u001b[0m\u001b[0;34m\u001b[0m\u001b[0m\n\u001b[0;32m--> 381\u001b[0;31m         \u001b[0mf\u001b[0m \u001b[0;34m=\u001b[0m \u001b[0mopen\u001b[0m\u001b[0;34m(\u001b[0m\u001b[0mf\u001b[0m\u001b[0;34m,\u001b[0m \u001b[0;34m'rb'\u001b[0m\u001b[0;34m)\u001b[0m\u001b[0;34m\u001b[0m\u001b[0;34m\u001b[0m\u001b[0m\n\u001b[0m\u001b[1;32m    382\u001b[0m     \u001b[0;32melif\u001b[0m \u001b[0;34m(\u001b[0m\u001b[0msys\u001b[0m\u001b[0;34m.\u001b[0m\u001b[0mversion_info\u001b[0m\u001b[0;34m[\u001b[0m\u001b[0;36m0\u001b[0m\u001b[0;34m]\u001b[0m \u001b[0;34m==\u001b[0m \u001b[0;36m3\u001b[0m \u001b[0;32mand\u001b[0m \u001b[0misinstance\u001b[0m\u001b[0;34m(\u001b[0m\u001b[0mf\u001b[0m\u001b[0;34m,\u001b[0m \u001b[0mpathlib\u001b[0m\u001b[0;34m.\u001b[0m\u001b[0mPath\u001b[0m\u001b[0;34m)\u001b[0m\u001b[0;34m)\u001b[0m\u001b[0;34m:\u001b[0m\u001b[0;34m\u001b[0m\u001b[0;34m\u001b[0m\u001b[0m\n\u001b[1;32m    383\u001b[0m         \u001b[0mnew_fd\u001b[0m \u001b[0;34m=\u001b[0m \u001b[0;32mTrue\u001b[0m\u001b[0;34m\u001b[0m\u001b[0;34m\u001b[0m\u001b[0m\n",
      "\u001b[0;31mFileNotFoundError\u001b[0m: [Errno 2] No such file or directory: './models/awsome_lstm_model_12250.pth'"
     ]
    }
   ],
   "source": [
    "model_name = 'awsome_lstm_model_12250.pth'\n",
    "lstm_model.load_state_dict(torch.load(os.path.join(\"./models\", model_name)))"
   ]
  },
  {
   "cell_type": "markdown",
   "metadata": {},
   "source": [
    "Let's inspect if the model was loaded successfully: "
   ]
  },
  {
   "cell_type": "code",
   "execution_count": null,
   "metadata": {},
   "outputs": [],
   "source": [
    "# set model in evaluation mode\n",
    "lstm_model.eval()"
   ]
  },
  {
   "cell_type": "markdown",
   "metadata": {},
   "source": [
    "Determine predictions of the in-sample population of sequences:"
   ]
  },
  {
   "cell_type": "code",
   "execution_count": null,
   "metadata": {},
   "outputs": [],
   "source": [
    "# don't calculate gradients\n",
    "with torch.no_grad():\n",
    "\n",
    "    # predict sequence output\n",
    "    predictions = lstm_model(train_sequences_input)\n",
    "\n",
    "    # collect prediction batch results\n",
    "    predictions_list = predictions.detach().numpy()[:, -1].tolist()\n",
    "\n",
    "    # collect target batch results\n",
    "    targets_list = train_sequences_target.numpy()[:, -1].tolist()"
   ]
  },
  {
   "cell_type": "markdown",
   "metadata": {},
   "source": [
    "Plot the lstm neural network in-sample predictions vs. the actual \"ground-truth\" adjusted daily returns:"
   ]
  },
  {
   "cell_type": "code",
   "execution_count": null,
   "metadata": {},
   "outputs": [],
   "source": [
    "# plot the prediction results\n",
    "plt.style.use('seaborn')\n",
    "plt.rcParams['figure.figsize'] = [15, 5]\n",
    "\n",
    "fig = plt.figure()\n",
    "ax = fig.add_subplot(111)\n",
    "\n",
    "ax.plot(pd.to_datetime(stock_data.index).values[0:train_sequences.shape[0],], targets_list, color='C1', label='groundtruth (green)')\n",
    "ax.plot(pd.to_datetime(stock_data.index).values[0:train_sequences.shape[0],], predictions_list, color='C0', label='predictions (blue)')\n",
    "\n",
    "# set y-axis limits\n",
    "ax.set_xlim(pd.to_datetime(stock_data.index).values[0], pd.to_datetime(stock_data.index).values[train_sequences.shape[0]])\n",
    "\n",
    "# set plot legend\n",
    "plt.legend(loc=\"lower right\", numpoints=1, fancybox=True)\n",
    "\n",
    "plt.title('LSTM NN In-Sample Prediction vs. Ground-Truth Market Prices', fontsize=10)\n",
    "plt.xlabel('[time]', fontsize=8)\n",
    "plt.ylabel('[market price]', fontsize=8)\n",
    "plt.xticks(fontsize=8)\n",
    "plt.yticks(fontsize=8)"
   ]
  },
  {
   "cell_type": "markdown",
   "metadata": {},
   "source": [
    "#### 5.2. Out-of-Sample Evaluation of the Trained Neural Network Model"
   ]
  },
  {
   "cell_type": "markdown",
   "metadata": {},
   "source": [
    "Determine predictions of the out-of-sample population of sequences:"
   ]
  },
  {
   "cell_type": "code",
   "execution_count": null,
   "metadata": {},
   "outputs": [],
   "source": [
    "# don't calculate gradients\n",
    "with torch.no_grad():\n",
    "\n",
    "    # predict sequence output\n",
    "    predictions = lstm_model(valid_sequences_input)\n",
    "\n",
    "    # collect prediction batch results\n",
    "    predictions_list = predictions.detach().numpy()[:, -1].tolist()\n",
    "\n",
    "    # collect target batch results\n",
    "    targets_list = valid_sequences_target.numpy()[:, -1].tolist()"
   ]
  },
  {
   "cell_type": "markdown",
   "metadata": {},
   "source": [
    "Plot the lstm neural network out-of-sample predictions vs. the actual \"ground-truth\" adjusted daily returns:"
   ]
  },
  {
   "cell_type": "code",
   "execution_count": null,
   "metadata": {},
   "outputs": [],
   "source": [
    "# plot the prediction results\n",
    "plt.style.use('seaborn')\n",
    "plt.rcParams['figure.figsize'] = [15, 5]\n",
    "\n",
    "fig = plt.figure()\n",
    "ax = fig.add_subplot(111)\n",
    "\n",
    "ax.plot(pd.to_datetime(stock_data.index).values[train_sequences.shape[0]:train_sequences.shape[0]+valid_sequences.shape[0],], targets_list, color='C1', label='groundtruth (green)')\n",
    "ax.plot(pd.to_datetime(stock_data.index).values[train_sequences.shape[0]:train_sequences.shape[0]+valid_sequences.shape[0],], predictions_list, color='C0', label='predictions (blue)')\n",
    "\n",
    "# set y-axis limits\n",
    "ax.set_xlim(pd.to_datetime(stock_data.index).values[train_sequences.shape[0]], pd.to_datetime(stock_data.index).values[train_sequences.shape[0]+valid_sequences.shape[0]])\n",
    "#ax.set_ylim(0.0, 1.0)\n",
    "\n",
    "# set plot legend\n",
    "plt.legend(loc=\"lower right\", numpoints=1, fancybox=True)\n",
    "\n",
    "plt.title('LSTM NN Out-of-Sample Prediction vs. Ground-Truth Market Prices', fontsize=10)\n",
    "plt.xlabel('[time]', fontsize=8)\n",
    "plt.ylabel('[market price]', fontsize=8)\n",
    "plt.xticks(fontsize=8)\n",
    "plt.yticks(fontsize=8)"
   ]
  },
  {
   "cell_type": "markdown",
   "metadata": {},
   "source": [
    "### 6. Backtest of the Trained Neural Network Model"
   ]
  },
  {
   "cell_type": "markdown",
   "metadata": {},
   "source": [
    "In this section, we will backtest the python `bt` library. Python `bt` is a flexible, backtest framework that can be used to test quantitative trading strategies. In general, backtesting is the process of testing a strategy over a given data set (more details about the `bt` library can be found via: https://pmorissette.github.io/bt/). \n",
    "\n",
    "In order to test the predictions derived from the LSTM model we will view its predictions as trade signals. Thereby, we will interpret any positive future return prediction $r_{t+1} > 0.0$ of a sequence $s$ as a \"long\" (buy) signal. Likewise, we will interpret any negative future return prediction $r_{t+1} < 0.0$ of a sequence $s$ as a \"short\" (sell) signal."
   ]
  },
  {
   "cell_type": "markdown",
   "metadata": {},
   "source": [
    "#### 6.1. LSTM Trading Signal Preparation"
   ]
  },
  {
   "cell_type": "markdown",
   "metadata": {},
   "source": [
    "Let's start by converting the out-of-sample model predictions into a trading signal as described above. Therefore, we first convert the obtained predictions into a Pandas data frame:"
   ]
  },
  {
   "cell_type": "code",
   "execution_count": null,
   "metadata": {},
   "outputs": [],
   "source": [
    "stock_daily_predictions = pd.DataFrame(predictions_list, columns=['PREDICTIONS'])\n",
    "stock_daily_predictions = stock_daily_predictions.set_index(pd.to_datetime(stock_data.index).values[train_sequences.shape[0]:train_sequences.shape[0]+valid_sequences.shape[0],])"
   ]
  },
  {
   "cell_type": "markdown",
   "metadata": {},
   "source": [
    "Furthermore, let's briefly ensure the successful conversion by inspecting the top 5 rows of the predictions:"
   ]
  },
  {
   "cell_type": "code",
   "execution_count": null,
   "metadata": {},
   "outputs": [],
   "source": [
    "stock_daily_predictions.head(10)"
   ]
  },
  {
   "cell_type": "markdown",
   "metadata": {},
   "source": [
    "Now, let's derive a trading signal from the converted predictions. As already described, we will generate the trading signal $\\phi$ according to the following function:"
   ]
  },
  {
   "cell_type": "markdown",
   "metadata": {},
   "source": [
    "<center>\n",
    "$\n",
    "\\\\\n",
    "\\phi(\\hat{r}_{t+1})=\n",
    "\\begin{cases}\n",
    "1.0, & for & \\hat{r}_{t+1} > 0.0\\\\\n",
    "-1.0, & for & \\hat{r}_{t+1} < 0.0\\\\\n",
    "\\end{cases}\n",
    "$\n",
    "</center>"
   ]
  },
  {
   "cell_type": "markdown",
   "metadata": {},
   "source": [
    "where $\\hat{r}_{t+1}$ denotes a by the model predicted future return at time $t+1$."
   ]
  },
  {
   "cell_type": "code",
   "execution_count": null,
   "metadata": {},
   "outputs": [],
   "source": [
    "signal_data = pd.DataFrame(np.where(stock_daily_predictions['PREDICTIONS'] > 0.0, 1.0, -1.0), columns=['SIGNAL'])\n",
    "signal_data = signal_data.set_index(pd.to_datetime(stock_data.index).values[train_sequences.shape[0]:train_sequences.shape[0]+valid_sequences.shape[0],])"
   ]
  },
  {
   "cell_type": "markdown",
   "metadata": {},
   "source": [
    "Let's inspect the top 5 rows of the prepared trading signals:"
   ]
  },
  {
   "cell_type": "code",
   "execution_count": null,
   "metadata": {},
   "outputs": [],
   "source": [
    "signal_data.head(5)"
   ]
  },
  {
   "cell_type": "markdown",
   "metadata": {},
   "source": [
    "#### 6.2. Stock Market Data Preperation"
   ]
  },
  {
   "cell_type": "markdown",
   "metadata": {},
   "source": [
    "Now, let's prepare the daily adjusted closing prices so that they can be utilized in the backtest:"
   ]
  },
  {
   "cell_type": "code",
   "execution_count": null,
   "metadata": {},
   "outputs": [],
   "source": [
    "stock_market_data = pd.DataFrame(stock_data['Adj. Close'])\n",
    "stock_market_data = stock_market_data.rename(columns={'Adj. Close': 'PRICE'})\n",
    "stock_market_data = stock_market_data.set_index(pd.to_datetime(stock_data.index))"
   ]
  },
  {
   "cell_type": "markdown",
   "metadata": {},
   "source": [
    "Let's inspect the top 5 rows of the prepared adjusted closing prices:"
   ]
  },
  {
   "cell_type": "code",
   "execution_count": null,
   "metadata": {},
   "outputs": [],
   "source": [
    "stock_market_data.head(5)"
   ]
  },
  {
   "cell_type": "markdown",
   "metadata": {},
   "source": [
    "Sub-sample the prepared daily adjusted closing prices to the out-of-sample time period:"
   ]
  },
  {
   "cell_type": "code",
   "execution_count": null,
   "metadata": {},
   "outputs": [],
   "source": [
    "stock_market_data = stock_market_data[stock_market_data.index >= stock_daily_predictions.index[0]]\n",
    "stock_market_data = stock_market_data[stock_market_data.index <= stock_daily_predictions.index[-1]]"
   ]
  },
  {
   "cell_type": "markdown",
   "metadata": {},
   "source": [
    "Visualize the out-of-sample daily adjusted closing prices:"
   ]
  },
  {
   "cell_type": "code",
   "execution_count": null,
   "metadata": {},
   "outputs": [],
   "source": [
    "plt.rcParams['figure.figsize'] = [15, 5]\n",
    "fig = plt.figure()\n",
    "ax = fig.add_subplot(111)\n",
    "\n",
    "ax.plot(stock_market_data['PRICE'], color='#9b59b6')\n",
    "\n",
    "for tick in ax.get_xticklabels():\n",
    "    tick.set_rotation(45)\n",
    "    \n",
    "# set axis labels\n",
    "ax.set_xlabel('[time]', fontsize=10)\n",
    "#ax.set_xlim(pd.to_datetime(stock_market_data.index).values[train_sequences.shape[0]], pd.to_datetime(stock_data.index).values[train_sequences.shape[0]+valid_sequences.shape[0]])\n",
    "ax.set_ylabel('[equity %]', fontsize=10)\n",
    "\n",
    "for tick in ax.get_xticklabels():\n",
    "    tick.set_rotation(45)\n",
    "\n",
    "# set axis labels\n",
    "ax.set_xlabel('[time]', fontsize=10)\n",
    "ax.set_xlim([stock_market_data.index[0], stock_market_data.index[-1]])\n",
    "ax.set_ylabel('[adj. closing price]', fontsize=10)\n",
    "\n",
    "# set plot title\n",
    "plt.title('International Business Machines Corporation (IBM) - Daily Historical Stock Closing Prices', fontsize=10)"
   ]
  },
  {
   "cell_type": "markdown",
   "metadata": {},
   "source": [
    "Let's calculate our potential gained return by the application of a simple \"buy and hold\" strategy:"
   ]
  },
  {
   "cell_type": "code",
   "execution_count": null,
   "metadata": {},
   "outputs": [],
   "source": [
    "np.abs(stock_market_data.iloc[0]['PRICE'] - stock_market_data.iloc[-1]['PRICE']) / stock_market_data.iloc[0]['PRICE']"
   ]
  },
  {
   "cell_type": "markdown",
   "metadata": {},
   "source": [
    "#### 6.3. Backtest Preparation"
   ]
  },
  {
   "cell_type": "markdown",
   "metadata": {},
   "source": [
    "Implement the \"Moving Average\" trading strategy:"
   ]
  },
  {
   "cell_type": "code",
   "execution_count": null,
   "metadata": {},
   "outputs": [],
   "source": [
    "class LSTMStrategy(bt.Algo):\n",
    "    \n",
    "    def __init__(self, signals):\n",
    "        \n",
    "        # set class signals\n",
    "        self.signals = signals\n",
    "        \n",
    "    def __call__(self, target):\n",
    "        \n",
    "        if target.now in self.signals.index[1:]:\n",
    "            \n",
    "            # get actual signal\n",
    "            signal = self.signals.ix[target.now]\n",
    "            \n",
    "            # set target weights according to signal\n",
    "            target.temp['weights'] = dict(PRICE=signal)\n",
    "            \n",
    "        # return True since we want to move on to the next timestep\n",
    "        return True"
   ]
  },
  {
   "cell_type": "markdown",
   "metadata": {},
   "source": [
    "Initialize our LSTM based trading strategy:"
   ]
  },
  {
   "cell_type": "code",
   "execution_count": null,
   "metadata": {},
   "outputs": [],
   "source": [
    "lstm_strategy = bt.Strategy('lstm', [bt.algos.SelectAll(), LSTMStrategy(signal_data['SIGNAL']), bt.algos.Rebalance()])"
   ]
  },
  {
   "cell_type": "markdown",
   "metadata": {},
   "source": [
    "Initialize the backtest of our LSTM based trading strategy using the strategy and prepared market data:"
   ]
  },
  {
   "cell_type": "code",
   "execution_count": null,
   "metadata": {},
   "outputs": [],
   "source": [
    "backtest_lstm = bt.Backtest(strategy=lstm_strategy, data=stock_market_data, name='stock_lstm_backtest')"
   ]
  },
  {
   "cell_type": "markdown",
   "metadata": {},
   "source": [
    "In addition, let's also prepare a backtest of a \"baseline\" buy-and-hold trading strategy for comparison purposes. Our buy-and-hold strategy sends a \"long\" (+1.0) signal at each time step of the out-of-sample time frame: "
   ]
  },
  {
   "cell_type": "code",
   "execution_count": null,
   "metadata": {},
   "outputs": [],
   "source": [
    "signal_data_base = signal_data.copy(deep=True) \n",
    "signal_data_base['SIGNAL'] = 1.0"
   ]
  },
  {
   "cell_type": "markdown",
   "metadata": {},
   "source": [
    "Init the buy-and-hold (\"base\") strategy as well as the corresponding backtest:"
   ]
  },
  {
   "cell_type": "code",
   "execution_count": null,
   "metadata": {},
   "outputs": [],
   "source": [
    "base_strategy = bt.Strategy('base', [bt.algos.SelectAll(), LSTMStrategy(signal_data_base['SIGNAL']), bt.algos.Rebalance()])\n",
    "backtest_base = bt.Backtest(strategy=base_strategy, data=stock_market_data, name='stock_base_backtest')"
   ]
  },
  {
   "cell_type": "markdown",
   "metadata": {},
   "source": [
    "#### 6.4. Running the Backtest and Evaluate Results"
   ]
  },
  {
   "cell_type": "markdown",
   "metadata": {},
   "source": [
    "Run the backtest for both trading strategies: "
   ]
  },
  {
   "cell_type": "code",
   "execution_count": null,
   "metadata": {},
   "outputs": [],
   "source": [
    "backtest_results = bt.run(backtest_lstm, backtest_base)"
   ]
  },
  {
   "cell_type": "markdown",
   "metadata": {},
   "source": [
    "Inspect the individual backtest results and performance measures:"
   ]
  },
  {
   "cell_type": "code",
   "execution_count": null,
   "metadata": {},
   "outputs": [],
   "source": [
    "backtest_results.display()"
   ]
  },
  {
   "cell_type": "markdown",
   "metadata": {},
   "source": [
    "Collect the LSTM trading strategy backtest details:"
   ]
  },
  {
   "cell_type": "code",
   "execution_count": null,
   "metadata": {},
   "outputs": [],
   "source": [
    "backtest_lstm_details = backtest_lstm.strategy.data\n",
    "backtest_lstm_details.columns = ['% EQUITY', 'EQUITY', 'CASH', 'FEES']"
   ]
  },
  {
   "cell_type": "markdown",
   "metadata": {},
   "source": [
    "Inspect the LSTM trading strategy backtest details:"
   ]
  },
  {
   "cell_type": "code",
   "execution_count": null,
   "metadata": {},
   "outputs": [],
   "source": [
    "backtest_lstm_details.head(10)"
   ]
  },
  {
   "cell_type": "markdown",
   "metadata": {},
   "source": [
    "Collect the \"buy-and-hold\" trading strategy backtest details:"
   ]
  },
  {
   "cell_type": "code",
   "execution_count": null,
   "metadata": {},
   "outputs": [],
   "source": [
    "backtest_base_details = backtest_base.strategy.data\n",
    "backtest_base_details.columns = ['% EQUITY', 'EQUITY', 'CASH', 'FEES']"
   ]
  },
  {
   "cell_type": "markdown",
   "metadata": {},
   "source": [
    "Inspect the \"buy-and-hold\" trading strategy backtest details:"
   ]
  },
  {
   "cell_type": "code",
   "execution_count": null,
   "metadata": {},
   "outputs": [],
   "source": [
    "backtest_base_details.head(10)"
   ]
  },
  {
   "cell_type": "markdown",
   "metadata": {},
   "source": [
    "Visualize the equity progression of both strategies over time:"
   ]
  },
  {
   "cell_type": "code",
   "execution_count": null,
   "metadata": {},
   "outputs": [],
   "source": [
    "plt.rcParams['figure.figsize'] = [15, 5]\n",
    "fig = plt.figure()\n",
    "ax = fig.add_subplot(111)\n",
    "\n",
    "ax.plot(backtest_lstm_details['% EQUITY'], color='C1',lw=1.0, label='lstm strategy (green)')\n",
    "ax.plot(backtest_base_details['% EQUITY'], color='C2',lw=1.0, label='base strategy (red)')\n",
    "\n",
    "for tick in ax.get_xticklabels():\n",
    "    tick.set_rotation(45)\n",
    "    \n",
    "# set axis labels\n",
    "ax.set_xlabel('[time]', fontsize=10)\n",
    "ax.set_xlim(pd.to_datetime(stock_data.index).values[train_sequences.shape[0]], pd.to_datetime(stock_data.index).values[train_sequences.shape[0]+valid_sequences.shape[0]])\n",
    "ax.set_ylabel('[equity %]', fontsize=10)\n",
    "\n",
    "# set plot legend\n",
    "plt.legend(loc=\"upper right\", numpoints=1, fancybox=True)\n",
    "\n",
    "# set plot title\n",
    "plt.title('International Business Machines Corporation (IBM) - Backtest % Equity Progression', fontsize=10)"
   ]
  },
  {
   "cell_type": "markdown",
   "metadata": {},
   "source": [
    "### Exercises:"
   ]
  },
  {
   "cell_type": "markdown",
   "metadata": {},
   "source": [
    "We recommend you to try the following exercises as part of the lab:\n",
    "\n",
    "**1. Evaluation of Shallow vs. Deep RNN Models.**\n",
    "\n",
    "> Download the daily adjusted closing prices of the IBM stock within the time frame starting from 01/01/1990 until 05/31/2019. In addition to the architecture of the lab notebook, evaluate further (more shallow as well as more deep) RNN architectures by (1) either re-moving/adding layers of LSTM cells and/or (2) increasing/decreasing the dimensionality of the LSTM cells hidden state. Train your model (using architectures you selected) for at least 20'000 training epochs but keep the following parameters unchanged (a) sequence length: 5 time-steps (days) and (b) train vs. test fraction: 0.9.\n",
    "\n",
    "> Analyze the prediction performance of the trained models in terms of training time and prediction accuracy. Furthermore, backtest the out-of-sample signals predicted by each of your models and evaluate them in terms of total return and equity progression. Which of your architecture results in the best performing model, and why?"
   ]
  },
  {
   "cell_type": "code",
   "execution_count": null,
   "metadata": {},
   "outputs": [],
   "source": [
    "# ***************************************************\n",
    "# INSERT YOUR CODE HERE\n",
    "# ***************************************************"
   ]
  },
  {
   "cell_type": "markdown",
   "metadata": {},
   "source": [
    "**2. Training and Evaluation of Models Learned from Additional Stocks.**\n",
    "\n",
    "> Download the daily adjusted closing prices of at least two additional stocks (e.g., Alphabet, Deutsche Bank) within the time frame starting from 01/01/1990 until 05/31/2017. Pls. select two stocks that you are interested in to investigate ( e.g. stocks that you may occasionally trade yourself). Learn an ’optimal’ RNN model of both stocks and backtest their corresponding trade signals by following the approach outlined in the lab notebook regarding the IBM stock. Pls. keep the train vs. test dataset fraction fixed to 0.9, all other parameters of the data preparation and model training can be changed.\n",
    "\n",
    "> Analyse the performance of the learned models in terms of their prediction accuracy as well as their out-of-sample backtest performance (e. g. the total return and equity progression). What architectures and corresponding training parameters result in the best performing models?"
   ]
  },
  {
   "cell_type": "code",
   "execution_count": null,
   "metadata": {},
   "outputs": [],
   "source": [
    "# ***************************************************\n",
    "# INSERT YOUR CODE HERE\n",
    "# ***************************************************"
   ]
  },
  {
   "cell_type": "markdown",
   "metadata": {},
   "source": [
    "**3. Training and Evaluation of Models Learned from Augmented Data.**\n",
    "\n",
    "> In the prior exercises, we used the historical daily adjusted returns of a single stock to learn a model that can predict the stocks’ future adjusted closing price (log- return) movement. However, one of the advantages of NN’s lies in their capability to learn a model from multiple sources of input data.\n",
    "For each of the two stocks (’target stocks’) that you selected in exercise 2. learn an ’optimal’ RNN model using the daily returns as a target label. However, before training your models augment the training data of each stock by the return sequences of at least three additional stocks. The additional stocks, used for data augmentation, should exhibit a high correlation to the historical adjusted closing prices of the target stock price movement you aim to model.\n",
    "\n",
    "> Analyse the performance of the learned models in terms of their prediction accuracy as well as their out-of-sample backtest performance (e. g. the total return and equity progression). Do you observe an improvement of the trained model in terms of out-of-sample backtest performance comparison to exercise 1.?"
   ]
  },
  {
   "cell_type": "code",
   "execution_count": null,
   "metadata": {},
   "outputs": [],
   "source": [
    "# ***************************************************\n",
    "# INSERT YOUR CODE HERE\n",
    "# ***************************************************"
   ]
  },
  {
   "cell_type": "markdown",
   "metadata": {},
   "source": [
    "### Lab Summary:"
   ]
  },
  {
   "cell_type": "markdown",
   "metadata": {},
   "source": [
    "In this seventh lab, a step by step introduction into **design, implementation, training and evaluation** of a LSTM neural network based trading strategy is presented. \n",
    "\n",
    "The strategy trades a specific financial instrument based on its historical adjusted daily market prices. The degree of success of the implemented strategy is evaluated based in its backtest performance with particular focus on (1) the strategy's **total return** as well as (2) its **equity progression** over time. \n",
    "\n",
    "The code provided in this lab provides a blueprint for the development and testing of more complex trading strategies."
   ]
  },
  {
   "cell_type": "markdown",
   "metadata": {},
   "source": [
    "You may want to execute the content of your lab outside of the Jupyter notebook environment, e.g. on a compute node or a server. The cell below converts the lab notebook into a standalone and executable python script. Pls. note that to convert the notebook, you need to install Python's **nbconvert** library and its extensions:"
   ]
  },
  {
   "cell_type": "code",
   "execution_count": null,
   "metadata": {},
   "outputs": [],
   "source": [
    "# installing the nbconvert library\n",
    "!pip install nbconvert\n",
    "!pip install jupyter_contrib_nbextensions"
   ]
  },
  {
   "cell_type": "markdown",
   "metadata": {},
   "source": [
    "Let's now convert the Jupyter notebook into a plain Python script:"
   ]
  },
  {
   "cell_type": "code",
   "execution_count": null,
   "metadata": {},
   "outputs": [],
   "source": [
    "!jupyter nbconvert --to script cfds_lab_08.ipynb"
   ]
  }
 ],
 "metadata": {
  "kernelspec": {
   "display_name": "Python 3",
   "language": "python",
   "name": "python3"
  },
  "language_info": {
   "codemirror_mode": {
    "name": "ipython",
    "version": 3
   },
   "file_extension": ".py",
   "mimetype": "text/x-python",
   "name": "python",
   "nbconvert_exporter": "python",
   "pygments_lexer": "ipython3",
   "version": "3.7.4"
  },
  "toc": {
   "base_numbering": 1,
   "nav_menu": {},
   "number_sections": false,
   "sideBar": true,
   "skip_h1_title": false,
   "title_cell": "Table of Contents",
   "title_sidebar": "Contents",
   "toc_cell": false,
   "toc_position": {
    "height": "calc(100% - 180px)",
    "left": "10px",
    "top": "150px",
    "width": "181.27499389648438px"
   },
   "toc_section_display": true,
   "toc_window_display": true
  }
 },
 "nbformat": 4,
 "nbformat_minor": 2
}
